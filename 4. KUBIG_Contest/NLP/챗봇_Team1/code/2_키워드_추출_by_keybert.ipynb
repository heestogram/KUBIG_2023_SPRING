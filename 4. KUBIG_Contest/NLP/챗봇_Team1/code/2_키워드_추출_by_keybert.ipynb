{
  "nbformat": 4,
  "nbformat_minor": 0,
  "metadata": {
    "colab": {
      "provenance": []
    },
    "kernelspec": {
      "name": "python3",
      "display_name": "Python 3"
    },
    "language_info": {
      "name": "python"
    }
  },
  "cells": [
    {
      "cell_type": "markdown",
      "source": [
        "# 데이터 불러오기"
      ],
      "metadata": {
        "id": "lN3-cJgxz7FY"
      }
    },
    {
      "cell_type": "code",
      "execution_count": null,
      "metadata": {
        "colab": {
          "base_uri": "https://localhost:8080/"
        },
        "id": "QLwpEywwy55J",
        "outputId": "c45bb9ef-21a9-4b00-d469-37da9731d515"
      },
      "outputs": [
        {
          "output_type": "stream",
          "name": "stdout",
          "text": [
            "Mounted at /content/drive\n"
          ]
        }
      ],
      "source": [
        "from google.colab import drive\n",
        "drive.mount('/content/drive')"
      ]
    },
    {
      "cell_type": "code",
      "source": [
        "import pandas as pd"
      ],
      "metadata": {
        "id": "5RG9SAtoy8dk"
      },
      "execution_count": null,
      "outputs": []
    },
    {
      "cell_type": "code",
      "source": [
        "review=pd.read_csv('/content/drive/MyDrive/perfume_info.csv')"
      ],
      "metadata": {
        "id": "82_2Wp6sy-fS"
      },
      "execution_count": null,
      "outputs": []
    },
    {
      "cell_type": "code",
      "source": [
        "review"
      ],
      "metadata": {
        "colab": {
          "base_uri": "https://localhost:8080/",
          "height": 423
        },
        "id": "MIWSKopVzauI",
        "outputId": "73b95ac2-a8ae-44fa-e645-5c82784e0207"
      },
      "execution_count": null,
      "outputs": [
        {
          "output_type": "execute_result",
          "data": {
            "text/plain": [
              "     Unnamed: 0                                             review  \\\n",
              "0             0  skin get strawberry jelly candies. nostalgic p...   \n",
              "1             1  first sprayed boozy warm apple pie lasted seco...   \n",
              "2             2  way masculine cant seem sell bottle... anyone ...   \n",
              "3             3  dry smoky sweet woods. feel like time ive smel...   \n",
              "4             4  would love smell someone else unfortunately go...   \n",
              "..          ...                                                ...   \n",
              "139         139  love original interlude better version. rounde...   \n",
              "140         140  softly spiced plum slightly powdery florals. s...   \n",
              "141         141  bit masculine considered unisex true sense fra...   \n",
              "142         142  sweet dont detect note separately. try future....   \n",
              "143         143  creamy jasmine floral scent expect name vanill...   \n",
              "\n",
              "                       name                     brand  \n",
              "0        Baccarat Rouge 540  Maison Francis Kurkdjian  \n",
              "1             Angels' Share                 By Kilian  \n",
              "2           Tobacco Vanille                  Tom Ford  \n",
              "3          By the Fireplace    Maison Martin Margiela  \n",
              "4               Lost Cherry                  Tom Ford  \n",
              "..                      ...                       ...  \n",
              "139    Interlude Black Iris                   Amouage  \n",
              "140        Feminité du Bois              Serge Lutens  \n",
              "141                 Halfeti              Penhaligon's  \n",
              "142         Fève Délicieuse                      Dior  \n",
              "143  Utopia Vanilla Coco 21         Kayali Fragrances  \n",
              "\n",
              "[144 rows x 4 columns]"
            ],
            "text/html": [
              "\n",
              "  <div id=\"df-e23d4648-e3c9-42fb-8ccd-fdf434b6bda7\">\n",
              "    <div class=\"colab-df-container\">\n",
              "      <div>\n",
              "<style scoped>\n",
              "    .dataframe tbody tr th:only-of-type {\n",
              "        vertical-align: middle;\n",
              "    }\n",
              "\n",
              "    .dataframe tbody tr th {\n",
              "        vertical-align: top;\n",
              "    }\n",
              "\n",
              "    .dataframe thead th {\n",
              "        text-align: right;\n",
              "    }\n",
              "</style>\n",
              "<table border=\"1\" class=\"dataframe\">\n",
              "  <thead>\n",
              "    <tr style=\"text-align: right;\">\n",
              "      <th></th>\n",
              "      <th>Unnamed: 0</th>\n",
              "      <th>review</th>\n",
              "      <th>name</th>\n",
              "      <th>brand</th>\n",
              "    </tr>\n",
              "  </thead>\n",
              "  <tbody>\n",
              "    <tr>\n",
              "      <th>0</th>\n",
              "      <td>0</td>\n",
              "      <td>skin get strawberry jelly candies. nostalgic p...</td>\n",
              "      <td>Baccarat Rouge 540</td>\n",
              "      <td>Maison Francis Kurkdjian</td>\n",
              "    </tr>\n",
              "    <tr>\n",
              "      <th>1</th>\n",
              "      <td>1</td>\n",
              "      <td>first sprayed boozy warm apple pie lasted seco...</td>\n",
              "      <td>Angels' Share</td>\n",
              "      <td>By Kilian</td>\n",
              "    </tr>\n",
              "    <tr>\n",
              "      <th>2</th>\n",
              "      <td>2</td>\n",
              "      <td>way masculine cant seem sell bottle... anyone ...</td>\n",
              "      <td>Tobacco Vanille</td>\n",
              "      <td>Tom Ford</td>\n",
              "    </tr>\n",
              "    <tr>\n",
              "      <th>3</th>\n",
              "      <td>3</td>\n",
              "      <td>dry smoky sweet woods. feel like time ive smel...</td>\n",
              "      <td>By the Fireplace</td>\n",
              "      <td>Maison Martin Margiela</td>\n",
              "    </tr>\n",
              "    <tr>\n",
              "      <th>4</th>\n",
              "      <td>4</td>\n",
              "      <td>would love smell someone else unfortunately go...</td>\n",
              "      <td>Lost Cherry</td>\n",
              "      <td>Tom Ford</td>\n",
              "    </tr>\n",
              "    <tr>\n",
              "      <th>...</th>\n",
              "      <td>...</td>\n",
              "      <td>...</td>\n",
              "      <td>...</td>\n",
              "      <td>...</td>\n",
              "    </tr>\n",
              "    <tr>\n",
              "      <th>139</th>\n",
              "      <td>139</td>\n",
              "      <td>love original interlude better version. rounde...</td>\n",
              "      <td>Interlude Black Iris</td>\n",
              "      <td>Amouage</td>\n",
              "    </tr>\n",
              "    <tr>\n",
              "      <th>140</th>\n",
              "      <td>140</td>\n",
              "      <td>softly spiced plum slightly powdery florals. s...</td>\n",
              "      <td>Feminité du Bois</td>\n",
              "      <td>Serge Lutens</td>\n",
              "    </tr>\n",
              "    <tr>\n",
              "      <th>141</th>\n",
              "      <td>141</td>\n",
              "      <td>bit masculine considered unisex true sense fra...</td>\n",
              "      <td>Halfeti</td>\n",
              "      <td>Penhaligon's</td>\n",
              "    </tr>\n",
              "    <tr>\n",
              "      <th>142</th>\n",
              "      <td>142</td>\n",
              "      <td>sweet dont detect note separately. try future....</td>\n",
              "      <td>Fève Délicieuse</td>\n",
              "      <td>Dior</td>\n",
              "    </tr>\n",
              "    <tr>\n",
              "      <th>143</th>\n",
              "      <td>143</td>\n",
              "      <td>creamy jasmine floral scent expect name vanill...</td>\n",
              "      <td>Utopia Vanilla Coco 21</td>\n",
              "      <td>Kayali Fragrances</td>\n",
              "    </tr>\n",
              "  </tbody>\n",
              "</table>\n",
              "<p>144 rows × 4 columns</p>\n",
              "</div>\n",
              "      <button class=\"colab-df-convert\" onclick=\"convertToInteractive('df-e23d4648-e3c9-42fb-8ccd-fdf434b6bda7')\"\n",
              "              title=\"Convert this dataframe to an interactive table.\"\n",
              "              style=\"display:none;\">\n",
              "        \n",
              "  <svg xmlns=\"http://www.w3.org/2000/svg\" height=\"24px\"viewBox=\"0 0 24 24\"\n",
              "       width=\"24px\">\n",
              "    <path d=\"M0 0h24v24H0V0z\" fill=\"none\"/>\n",
              "    <path d=\"M18.56 5.44l.94 2.06.94-2.06 2.06-.94-2.06-.94-.94-2.06-.94 2.06-2.06.94zm-11 1L8.5 8.5l.94-2.06 2.06-.94-2.06-.94L8.5 2.5l-.94 2.06-2.06.94zm10 10l.94 2.06.94-2.06 2.06-.94-2.06-.94-.94-2.06-.94 2.06-2.06.94z\"/><path d=\"M17.41 7.96l-1.37-1.37c-.4-.4-.92-.59-1.43-.59-.52 0-1.04.2-1.43.59L10.3 9.45l-7.72 7.72c-.78.78-.78 2.05 0 2.83L4 21.41c.39.39.9.59 1.41.59.51 0 1.02-.2 1.41-.59l7.78-7.78 2.81-2.81c.8-.78.8-2.07 0-2.86zM5.41 20L4 18.59l7.72-7.72 1.47 1.35L5.41 20z\"/>\n",
              "  </svg>\n",
              "      </button>\n",
              "      \n",
              "  <style>\n",
              "    .colab-df-container {\n",
              "      display:flex;\n",
              "      flex-wrap:wrap;\n",
              "      gap: 12px;\n",
              "    }\n",
              "\n",
              "    .colab-df-convert {\n",
              "      background-color: #E8F0FE;\n",
              "      border: none;\n",
              "      border-radius: 50%;\n",
              "      cursor: pointer;\n",
              "      display: none;\n",
              "      fill: #1967D2;\n",
              "      height: 32px;\n",
              "      padding: 0 0 0 0;\n",
              "      width: 32px;\n",
              "    }\n",
              "\n",
              "    .colab-df-convert:hover {\n",
              "      background-color: #E2EBFA;\n",
              "      box-shadow: 0px 1px 2px rgba(60, 64, 67, 0.3), 0px 1px 3px 1px rgba(60, 64, 67, 0.15);\n",
              "      fill: #174EA6;\n",
              "    }\n",
              "\n",
              "    [theme=dark] .colab-df-convert {\n",
              "      background-color: #3B4455;\n",
              "      fill: #D2E3FC;\n",
              "    }\n",
              "\n",
              "    [theme=dark] .colab-df-convert:hover {\n",
              "      background-color: #434B5C;\n",
              "      box-shadow: 0px 1px 3px 1px rgba(0, 0, 0, 0.15);\n",
              "      filter: drop-shadow(0px 1px 2px rgba(0, 0, 0, 0.3));\n",
              "      fill: #FFFFFF;\n",
              "    }\n",
              "  </style>\n",
              "\n",
              "      <script>\n",
              "        const buttonEl =\n",
              "          document.querySelector('#df-e23d4648-e3c9-42fb-8ccd-fdf434b6bda7 button.colab-df-convert');\n",
              "        buttonEl.style.display =\n",
              "          google.colab.kernel.accessAllowed ? 'block' : 'none';\n",
              "\n",
              "        async function convertToInteractive(key) {\n",
              "          const element = document.querySelector('#df-e23d4648-e3c9-42fb-8ccd-fdf434b6bda7');\n",
              "          const dataTable =\n",
              "            await google.colab.kernel.invokeFunction('convertToInteractive',\n",
              "                                                     [key], {});\n",
              "          if (!dataTable) return;\n",
              "\n",
              "          const docLinkHtml = 'Like what you see? Visit the ' +\n",
              "            '<a target=\"_blank\" href=https://colab.research.google.com/notebooks/data_table.ipynb>data table notebook</a>'\n",
              "            + ' to learn more about interactive tables.';\n",
              "          element.innerHTML = '';\n",
              "          dataTable['output_type'] = 'display_data';\n",
              "          await google.colab.output.renderOutput(dataTable, element);\n",
              "          const docLink = document.createElement('div');\n",
              "          docLink.innerHTML = docLinkHtml;\n",
              "          element.appendChild(docLink);\n",
              "        }\n",
              "      </script>\n",
              "    </div>\n",
              "  </div>\n",
              "  "
            ]
          },
          "metadata": {},
          "execution_count": 6
        }
      ]
    },
    {
      "cell_type": "markdown",
      "source": [
        "# keybert"
      ],
      "metadata": {
        "id": "Rrv0edjnz-Sx"
      }
    },
    {
      "cell_type": "code",
      "source": [
        "!pip install keybert"
      ],
      "metadata": {
        "id": "zIoHAZ2-zeWf"
      },
      "execution_count": null,
      "outputs": []
    },
    {
      "cell_type": "code",
      "source": [
        "from keybert import KeyBERT\n",
        "kw_extractor = KeyBERT('distilbert-base-nli-mean-tokens')"
      ],
      "metadata": {
        "id": "V51Rgozv2qoR"
      },
      "execution_count": null,
      "outputs": []
    },
    {
      "cell_type": "code",
      "source": [
        "# keyword 추출하는 함수\n",
        "def make_keyword(text):\n",
        "  keywords = kw_extractor.extract_keywords(text, use_mmr = True, top_n=20)\n",
        "  keyword = pd.DataFrame(keywords, columns=['keyword', 'weight'])\n",
        "  return keyword"
      ],
      "metadata": {
        "id": "EEaIhZQ90_a5"
      },
      "execution_count": null,
      "outputs": []
    },
    {
      "cell_type": "code",
      "source": [
        "# keyword 데이터프레임에 넣는 함수\n",
        "def input_keyword(i):\n",
        "  df = make_keyword(review['review'][i])\n",
        "  df = df[df['weight']>=0.2]\n",
        "  keyword = []\n",
        "  for j in range(0,len(df['keyword'])):\n",
        "    keyword.append(df['keyword'][j])\n",
        "  review['keyword'][i]=keyword\n",
        "  print(keyword)"
      ],
      "metadata": {
        "id": "fJ-yCl3R8ryk"
      },
      "execution_count": null,
      "outputs": []
    },
    {
      "cell_type": "code",
      "source": [
        "from tqdm import tqdm\n",
        "import time"
      ],
      "metadata": {
        "id": "vpvvsCAl_fO-"
      },
      "execution_count": null,
      "outputs": []
    },
    {
      "cell_type": "code",
      "source": [
        "for i in tqdm(range(0,len(review['review']))):\n",
        "  input_keyword(i)"
      ],
      "metadata": {
        "colab": {
          "base_uri": "https://localhost:8080/"
        },
        "id": "NVwwtSOA_HXZ",
        "outputId": "80b8bc87-9510-495e-e47e-79be9f8dce2a"
      },
      "execution_count": null,
      "outputs": [
        {
          "output_type": "stream",
          "name": "stderr",
          "text": [
            "  0%|          | 0/144 [00:00<?, ?it/s]<ipython-input-37-0265454a78df>:8: SettingWithCopyWarning: \n",
            "A value is trying to be set on a copy of a slice from a DataFrame\n",
            "\n",
            "See the caveats in the documentation: https://pandas.pydata.org/pandas-docs/stable/user_guide/indexing.html#returning-a-view-versus-a-copy\n",
            "  review['keyword'][i]=keyword\n",
            "  1%|          | 1/144 [00:58<2:18:15, 58.01s/it]"
          ]
        },
        {
          "output_type": "stream",
          "name": "stdout",
          "text": [
            "['vanilla', 'sugarsweet', 'strawberry', 'creamier', 'strawberries', 'lemonade', 'hazelnut', 'popcorn', 'tea', 'britney', 'intoxicating', 'gastronomy']\n"
          ]
        },
        {
          "output_type": "stream",
          "name": "stderr",
          "text": [
            "<ipython-input-37-0265454a78df>:8: SettingWithCopyWarning: \n",
            "A value is trying to be set on a copy of a slice from a DataFrame\n",
            "\n",
            "See the caveats in the documentation: https://pandas.pydata.org/pandas-docs/stable/user_guide/indexing.html#returning-a-view-versus-a-copy\n",
            "  review['keyword'][i]=keyword\n",
            "\r  1%|▏         | 2/144 [01:46<2:03:50, 52.33s/it]"
          ]
        },
        {
          "output_type": "stream",
          "name": "stdout",
          "text": [
            "['cinnamony', 'buttercream', 'vanilla', 'apples', 'fruity', 'cognac', 'tea', 'marshmallow', 'starbucks', 'toothpaste', 'prettiest', 'intoxicated']\n"
          ]
        },
        {
          "output_type": "stream",
          "name": "stderr",
          "text": [
            "<ipython-input-37-0265454a78df>:8: SettingWithCopyWarning: \n",
            "A value is trying to be set on a copy of a slice from a DataFrame\n",
            "\n",
            "See the caveats in the documentation: https://pandas.pydata.org/pandas-docs/stable/user_guide/indexing.html#returning-a-view-versus-a-copy\n",
            "  review['keyword'][i]=keyword\n",
            "\r  2%|▏         | 3/144 [02:36<2:01:07, 51.54s/it]"
          ]
        },
        {
          "output_type": "stream",
          "name": "stdout",
          "text": [
            "['hazelnut_kitty', 'vanilla', 'honeyberry', 'cinnamon', 'tea', 'cognac', 'cupcake', 'fragrancebuy', 'cigar']\n"
          ]
        },
        {
          "output_type": "stream",
          "name": "stderr",
          "text": [
            "<ipython-input-37-0265454a78df>:8: SettingWithCopyWarning: \n",
            "A value is trying to be set on a copy of a slice from a DataFrame\n",
            "\n",
            "See the caveats in the documentation: https://pandas.pydata.org/pandas-docs/stable/user_guide/indexing.html#returning-a-view-versus-a-copy\n",
            "  review['keyword'][i]=keyword\n",
            "\r  3%|▎         | 4/144 [03:21<1:53:21, 48.58s/it]"
          ]
        },
        {
          "output_type": "stream",
          "name": "stdout",
          "text": [
            "['vanilla', 'tea', 'marshmellows', 'peppercorn', 'juniper', 'citrus', 'rihanna', 'maple', 'whiskey', 'scentwise', 'starbucks', 'campfire', 'opium', 'woodcutter', 'resinous']\n"
          ]
        },
        {
          "output_type": "stream",
          "name": "stderr",
          "text": [
            "<ipython-input-37-0265454a78df>:8: SettingWithCopyWarning: \n",
            "A value is trying to be set on a copy of a slice from a DataFrame\n",
            "\n",
            "See the caveats in the documentation: https://pandas.pydata.org/pandas-docs/stable/user_guide/indexing.html#returning-a-view-versus-a-copy\n",
            "  review['keyword'][i]=keyword\n",
            "\r  3%|▎         | 5/144 [04:12<1:55:20, 49.79s/it]"
          ]
        },
        {
          "output_type": "stream",
          "name": "stdout",
          "text": [
            "['perfume', 'cinnamon', 'roses', 'vanilla', 'fruity', 'tea', 'lovefest', 'mango', 'vampire', 'buttery', 'intoxicated', 'gucci']\n"
          ]
        },
        {
          "output_type": "stream",
          "name": "stderr",
          "text": [
            "<ipython-input-37-0265454a78df>:8: SettingWithCopyWarning: \n",
            "A value is trying to be set on a copy of a slice from a DataFrame\n",
            "\n",
            "See the caveats in the documentation: https://pandas.pydata.org/pandas-docs/stable/user_guide/indexing.html#returning-a-view-versus-a-copy\n",
            "  review['keyword'][i]=keyword\n",
            "\r  4%|▍         | 6/144 [05:05<1:56:37, 50.71s/it]"
          ]
        },
        {
          "output_type": "stream",
          "name": "stdout",
          "text": [
            "['vanilla', 'cinnamon', 'tea', 'creamier', 'perfumerysamples', 'prada', 'christmasy', 'wine']\n"
          ]
        },
        {
          "output_type": "stream",
          "name": "stderr",
          "text": [
            "<ipython-input-37-0265454a78df>:8: SettingWithCopyWarning: \n",
            "A value is trying to be set on a copy of a slice from a DataFrame\n",
            "\n",
            "See the caveats in the documentation: https://pandas.pydata.org/pandas-docs/stable/user_guide/indexing.html#returning-a-view-versus-a-copy\n",
            "  review['keyword'][i]=keyword\n",
            "\r  5%|▍         | 7/144 [05:53<1:53:52, 49.88s/it]"
          ]
        },
        {
          "output_type": "stream",
          "name": "stdout",
          "text": [
            "['perfumes', 'intoxicating', 'gucci', 'cigar', 'buttery', 'ferrari', 'cheapest']\n"
          ]
        },
        {
          "output_type": "stream",
          "name": "stderr",
          "text": [
            "<ipython-input-37-0265454a78df>:8: SettingWithCopyWarning: \n",
            "A value is trying to be set on a copy of a slice from a DataFrame\n",
            "\n",
            "See the caveats in the documentation: https://pandas.pydata.org/pandas-docs/stable/user_guide/indexing.html#returning-a-view-versus-a-copy\n",
            "  review['keyword'][i]=keyword\n",
            "\r  6%|▌         | 8/144 [06:19<1:36:01, 42.37s/it]"
          ]
        },
        {
          "output_type": "stream",
          "name": "stdout",
          "text": [
            "['vanilla', 'citrusy', 'texasfreedom', 'creamier', 'soapy']\n"
          ]
        },
        {
          "output_type": "stream",
          "name": "stderr",
          "text": [
            "<ipython-input-37-0265454a78df>:8: SettingWithCopyWarning: \n",
            "A value is trying to be set on a copy of a slice from a DataFrame\n",
            "\n",
            "See the caveats in the documentation: https://pandas.pydata.org/pandas-docs/stable/user_guide/indexing.html#returning-a-view-versus-a-copy\n",
            "  review['keyword'][i]=keyword\n",
            "\r  6%|▋         | 9/144 [07:02<1:35:49, 42.59s/it]"
          ]
        },
        {
          "output_type": "stream",
          "name": "stdout",
          "text": [
            "['sunscreen', 'intoxicating', 'cinnamon', 'lipsticky', 'creamier', 'sexiest', 'citrus']\n"
          ]
        },
        {
          "output_type": "stream",
          "name": "stderr",
          "text": [
            "<ipython-input-37-0265454a78df>:8: SettingWithCopyWarning: \n",
            "A value is trying to be set on a copy of a slice from a DataFrame\n",
            "\n",
            "See the caveats in the documentation: https://pandas.pydata.org/pandas-docs/stable/user_guide/indexing.html#returning-a-view-versus-a-copy\n",
            "  review['keyword'][i]=keyword\n",
            "\r  7%|▋         | 10/144 [07:24<1:20:38, 36.11s/it]"
          ]
        },
        {
          "output_type": "stream",
          "name": "stdout",
          "text": [
            "[]\n"
          ]
        },
        {
          "output_type": "stream",
          "name": "stderr",
          "text": [
            "<ipython-input-37-0265454a78df>:8: SettingWithCopyWarning: \n",
            "A value is trying to be set on a copy of a slice from a DataFrame\n",
            "\n",
            "See the caveats in the documentation: https://pandas.pydata.org/pandas-docs/stable/user_guide/indexing.html#returning-a-view-versus-a-copy\n",
            "  review['keyword'][i]=keyword\n",
            "\r  8%|▊         | 11/144 [08:15<1:29:52, 40.54s/it]"
          ]
        },
        {
          "output_type": "stream",
          "name": "stdout",
          "text": [
            "['lemonade', 'grapefruit', 'perfumepixie', 'aftershave', 'pineapples', 'tea', 'creamier', 'gucci']\n"
          ]
        },
        {
          "output_type": "stream",
          "name": "stderr",
          "text": [
            "<ipython-input-37-0265454a78df>:8: SettingWithCopyWarning: \n",
            "A value is trying to be set on a copy of a slice from a DataFrame\n",
            "\n",
            "See the caveats in the documentation: https://pandas.pydata.org/pandas-docs/stable/user_guide/indexing.html#returning-a-view-versus-a-copy\n",
            "  review['keyword'][i]=keyword\n",
            "\r  8%|▊         | 12/144 [09:09<1:38:42, 44.87s/it]"
          ]
        },
        {
          "output_type": "stream",
          "name": "stdout",
          "text": [
            "['cinnamony', 'fragrancelord', 'citrus', 'watermelon', 'cigar', 'spices', 'kebab', 'bacon']\n"
          ]
        },
        {
          "output_type": "stream",
          "name": "stderr",
          "text": [
            "<ipython-input-37-0265454a78df>:8: SettingWithCopyWarning: \n",
            "A value is trying to be set on a copy of a slice from a DataFrame\n",
            "\n",
            "See the caveats in the documentation: https://pandas.pydata.org/pandas-docs/stable/user_guide/indexing.html#returning-a-view-versus-a-copy\n",
            "  review['keyword'][i]=keyword\n",
            "\r  9%|▉         | 13/144 [10:03<1:43:51, 47.57s/it]"
          ]
        },
        {
          "output_type": "stream",
          "name": "stdout",
          "text": [
            "['vanillaesque', 'intoxicating', 'tea', 'perfume', 'wine', 'aftershave', 'wealthy', 'sunscreen', 'cookies', 'popcorn', 'medicine']\n"
          ]
        },
        {
          "output_type": "stream",
          "name": "stderr",
          "text": [
            "<ipython-input-37-0265454a78df>:8: SettingWithCopyWarning: \n",
            "A value is trying to be set on a copy of a slice from a DataFrame\n",
            "\n",
            "See the caveats in the documentation: https://pandas.pydata.org/pandas-docs/stable/user_guide/indexing.html#returning-a-view-versus-a-copy\n",
            "  review['keyword'][i]=keyword\n",
            "\r 10%|▉         | 14/144 [11:07<1:54:00, 52.62s/it]"
          ]
        },
        {
          "output_type": "stream",
          "name": "stdout",
          "text": [
            "['vanilla', 'creamier', 'tea', 'pineapple', 'peppermint']\n"
          ]
        },
        {
          "output_type": "stream",
          "name": "stderr",
          "text": [
            "<ipython-input-37-0265454a78df>:8: SettingWithCopyWarning: \n",
            "A value is trying to be set on a copy of a slice from a DataFrame\n",
            "\n",
            "See the caveats in the documentation: https://pandas.pydata.org/pandas-docs/stable/user_guide/indexing.html#returning-a-view-versus-a-copy\n",
            "  review['keyword'][i]=keyword\n",
            "\r 10%|█         | 15/144 [11:49<1:46:09, 49.38s/it]"
          ]
        },
        {
          "output_type": "stream",
          "name": "stdout",
          "text": [
            "['vanilla', 'cinnamon', 'chocolatey', 'blueberry', 'lovefest', 'cookies', 'citrus', 'wine', 'heartcatcher', 'prada', 'soapy', 'intoxicated']\n"
          ]
        },
        {
          "output_type": "stream",
          "name": "stderr",
          "text": [
            "<ipython-input-37-0265454a78df>:8: SettingWithCopyWarning: \n",
            "A value is trying to be set on a copy of a slice from a DataFrame\n",
            "\n",
            "See the caveats in the documentation: https://pandas.pydata.org/pandas-docs/stable/user_guide/indexing.html#returning-a-view-versus-a-copy\n",
            "  review['keyword'][i]=keyword\n",
            "\r 11%|█         | 16/144 [12:35<1:43:15, 48.40s/it]"
          ]
        },
        {
          "output_type": "stream",
          "name": "stdout",
          "text": [
            "['soapiest', 'grapefruit', 'perfume', 'sunscreen', 'tea', 'shampoo', 'coconuts']\n"
          ]
        },
        {
          "output_type": "stream",
          "name": "stderr",
          "text": [
            "<ipython-input-37-0265454a78df>:8: SettingWithCopyWarning: \n",
            "A value is trying to be set on a copy of a slice from a DataFrame\n",
            "\n",
            "See the caveats in the documentation: https://pandas.pydata.org/pandas-docs/stable/user_guide/indexing.html#returning-a-view-versus-a-copy\n",
            "  review['keyword'][i]=keyword\n",
            "\r 12%|█▏        | 17/144 [13:25<1:43:13, 48.77s/it]"
          ]
        },
        {
          "output_type": "stream",
          "name": "stdout",
          "text": [
            "['vanilla', 'lemoncake', 'caramel', 'creamiest', 'cheesecake', 'gingerbread', 'fragrancebuy', 'milkfood', 'tea', 'roses', 'pineapple', 'flavorful', 'kerosene', 'intoxicated']\n"
          ]
        },
        {
          "output_type": "stream",
          "name": "stderr",
          "text": [
            "<ipython-input-37-0265454a78df>:8: SettingWithCopyWarning: \n",
            "A value is trying to be set on a copy of a slice from a DataFrame\n",
            "\n",
            "See the caveats in the documentation: https://pandas.pydata.org/pandas-docs/stable/user_guide/indexing.html#returning-a-view-versus-a-copy\n",
            "  review['keyword'][i]=keyword\n",
            "\r 12%|█▎        | 18/144 [14:14<1:42:33, 48.84s/it]"
          ]
        },
        {
          "output_type": "stream",
          "name": "stdout",
          "text": [
            "['pineapple', 'grapefruit']\n"
          ]
        },
        {
          "output_type": "stream",
          "name": "stderr",
          "text": [
            "<ipython-input-37-0265454a78df>:8: SettingWithCopyWarning: \n",
            "A value is trying to be set on a copy of a slice from a DataFrame\n",
            "\n",
            "See the caveats in the documentation: https://pandas.pydata.org/pandas-docs/stable/user_guide/indexing.html#returning-a-view-versus-a-copy\n",
            "  review['keyword'][i]=keyword\n",
            "\r 13%|█▎        | 19/144 [15:00<1:40:01, 48.01s/it]"
          ]
        },
        {
          "output_type": "stream",
          "name": "stdout",
          "text": [
            "['roses', 'starbucks', 'tea', 'aromatherapy', 'lipsticky', 'cinnamon', 'vanilla', 'cheesecake', 'citrusy', 'raspberry', 'wine', 'donuts', 'beans']\n"
          ]
        },
        {
          "output_type": "stream",
          "name": "stderr",
          "text": [
            "<ipython-input-37-0265454a78df>:8: SettingWithCopyWarning: \n",
            "A value is trying to be set on a copy of a slice from a DataFrame\n",
            "\n",
            "See the caveats in the documentation: https://pandas.pydata.org/pandas-docs/stable/user_guide/indexing.html#returning-a-view-versus-a-copy\n",
            "  review['keyword'][i]=keyword\n",
            "\r 14%|█▍        | 20/144 [15:55<1:43:25, 50.04s/it]"
          ]
        },
        {
          "output_type": "stream",
          "name": "stdout",
          "text": [
            "['soapiness', 'lemonade', 'lipstick', 'vanilla', 'sunscreen', 'tea', 'grapefruit', 'pineapple']\n"
          ]
        },
        {
          "output_type": "stream",
          "name": "stderr",
          "text": [
            "<ipython-input-37-0265454a78df>:8: SettingWithCopyWarning: \n",
            "A value is trying to be set on a copy of a slice from a DataFrame\n",
            "\n",
            "See the caveats in the documentation: https://pandas.pydata.org/pandas-docs/stable/user_guide/indexing.html#returning-a-view-versus-a-copy\n",
            "  review['keyword'][i]=keyword\n",
            "\r 15%|█▍        | 21/144 [16:44<1:42:14, 49.87s/it]"
          ]
        },
        {
          "output_type": "stream",
          "name": "stdout",
          "text": [
            "['vampire', 'chocolates', 'cognac', 'cinnamon', 'butterscotch', 'sugary', 'popcorn', 'vodka', 'cigar', 'millionaire', 'steak', 'starbucks', 'marshmallow']\n"
          ]
        },
        {
          "output_type": "stream",
          "name": "stderr",
          "text": [
            "<ipython-input-37-0265454a78df>:8: SettingWithCopyWarning: \n",
            "A value is trying to be set on a copy of a slice from a DataFrame\n",
            "\n",
            "See the caveats in the documentation: https://pandas.pydata.org/pandas-docs/stable/user_guide/indexing.html#returning-a-view-versus-a-copy\n",
            "  review['keyword'][i]=keyword\n",
            "\r 15%|█▌        | 22/144 [17:31<1:39:27, 48.91s/it]"
          ]
        },
        {
          "output_type": "stream",
          "name": "stdout",
          "text": [
            "['vanilla', 'strawberries', 'cinnamon', 'grapefruit', 'bubblegum', 'cherrycardinal', 'lipstick', 'champagne', 'hotdog']\n"
          ]
        },
        {
          "output_type": "stream",
          "name": "stderr",
          "text": [
            "<ipython-input-37-0265454a78df>:8: SettingWithCopyWarning: \n",
            "A value is trying to be set on a copy of a slice from a DataFrame\n",
            "\n",
            "See the caveats in the documentation: https://pandas.pydata.org/pandas-docs/stable/user_guide/indexing.html#returning-a-view-versus-a-copy\n",
            "  review['keyword'][i]=keyword\n",
            "\r 16%|█▌        | 23/144 [18:39<1:50:05, 54.59s/it]"
          ]
        },
        {
          "output_type": "stream",
          "name": "stdout",
          "text": [
            "['intoxicating', 'sunscreen', 'aftershave', 'lipstick']\n"
          ]
        },
        {
          "output_type": "stream",
          "name": "stderr",
          "text": [
            "<ipython-input-37-0265454a78df>:8: SettingWithCopyWarning: \n",
            "A value is trying to be set on a copy of a slice from a DataFrame\n",
            "\n",
            "See the caveats in the documentation: https://pandas.pydata.org/pandas-docs/stable/user_guide/indexing.html#returning-a-view-versus-a-copy\n",
            "  review['keyword'][i]=keyword\n",
            "\r 17%|█▋        | 24/144 [19:37<1:51:10, 55.58s/it]"
          ]
        },
        {
          "output_type": "stream",
          "name": "stdout",
          "text": [
            "['cheeseburger', 'marsmellows', 'citrusy', 'creaminess', 'vegan', 'salad', 'vinegary']\n"
          ]
        },
        {
          "output_type": "stream",
          "name": "stderr",
          "text": [
            "<ipython-input-37-0265454a78df>:8: SettingWithCopyWarning: \n",
            "A value is trying to be set on a copy of a slice from a DataFrame\n",
            "\n",
            "See the caveats in the documentation: https://pandas.pydata.org/pandas-docs/stable/user_guide/indexing.html#returning-a-view-versus-a-copy\n",
            "  review['keyword'][i]=keyword\n",
            "\r 17%|█▋        | 25/144 [20:21<1:43:39, 52.26s/it]"
          ]
        },
        {
          "output_type": "stream",
          "name": "stdout",
          "text": [
            "['vanilla', 'hazelnut', 'butterscotch', 'tea', 'cinnamon', 'roses', 'cookies', 'perfume', 'citrusy', 'soapy', 'gucci', 'wine', 'juniper', 'angelic', 'christmassy', 'ambergris']\n"
          ]
        },
        {
          "output_type": "stream",
          "name": "stderr",
          "text": [
            "<ipython-input-37-0265454a78df>:8: SettingWithCopyWarning: \n",
            "A value is trying to be set on a copy of a slice from a DataFrame\n",
            "\n",
            "See the caveats in the documentation: https://pandas.pydata.org/pandas-docs/stable/user_guide/indexing.html#returning-a-view-versus-a-copy\n",
            "  review['keyword'][i]=keyword\n",
            "\r 18%|█▊        | 26/144 [21:12<1:41:36, 51.66s/it]"
          ]
        },
        {
          "output_type": "stream",
          "name": "stdout",
          "text": [
            "['aftershave', 'intoxicating', 'pizza', 'gucci', 'buttery']\n"
          ]
        },
        {
          "output_type": "stream",
          "name": "stderr",
          "text": [
            "<ipython-input-37-0265454a78df>:8: SettingWithCopyWarning: \n",
            "A value is trying to be set on a copy of a slice from a DataFrame\n",
            "\n",
            "See the caveats in the documentation: https://pandas.pydata.org/pandas-docs/stable/user_guide/indexing.html#returning-a-view-versus-a-copy\n",
            "  review['keyword'][i]=keyword\n",
            "\r 19%|█▉        | 27/144 [22:02<1:39:41, 51.13s/it]"
          ]
        },
        {
          "output_type": "stream",
          "name": "stdout",
          "text": [
            "['cinnamon', 'raspberry', 'cigar', 'toothache', 'intoxicating', 'aromatherapy', 'lipstick', 'bubblegum', 'vodka']\n"
          ]
        },
        {
          "output_type": "stream",
          "name": "stderr",
          "text": [
            "<ipython-input-37-0265454a78df>:8: SettingWithCopyWarning: \n",
            "A value is trying to be set on a copy of a slice from a DataFrame\n",
            "\n",
            "See the caveats in the documentation: https://pandas.pydata.org/pandas-docs/stable/user_guide/indexing.html#returning-a-view-versus-a-copy\n",
            "  review['keyword'][i]=keyword\n",
            "\r 19%|█▉        | 28/144 [22:50<1:37:28, 50.42s/it]"
          ]
        },
        {
          "output_type": "stream",
          "name": "stdout",
          "text": [
            "['roses', 'perfumer', 'cookies', 'cognac', 'tea', 'vanilla', 'starbucks', 'pineapple', 'blueberry', 'cashmere']\n"
          ]
        },
        {
          "output_type": "stream",
          "name": "stderr",
          "text": [
            "<ipython-input-37-0265454a78df>:8: SettingWithCopyWarning: \n",
            "A value is trying to be set on a copy of a slice from a DataFrame\n",
            "\n",
            "See the caveats in the documentation: https://pandas.pydata.org/pandas-docs/stable/user_guide/indexing.html#returning-a-view-versus-a-copy\n",
            "  review['keyword'][i]=keyword\n",
            "\r 20%|██        | 29/144 [23:47<1:40:17, 52.32s/it]"
          ]
        },
        {
          "output_type": "stream",
          "name": "stdout",
          "text": [
            "['yogurt', 'cannabis', 'magician', 'zombie', 'spicebomb', 'ghostwriter', 'hairspray', 'microwave']\n"
          ]
        },
        {
          "output_type": "stream",
          "name": "stderr",
          "text": [
            "<ipython-input-37-0265454a78df>:8: SettingWithCopyWarning: \n",
            "A value is trying to be set on a copy of a slice from a DataFrame\n",
            "\n",
            "See the caveats in the documentation: https://pandas.pydata.org/pandas-docs/stable/user_guide/indexing.html#returning-a-view-versus-a-copy\n",
            "  review['keyword'][i]=keyword\n",
            "\r 21%|██        | 30/144 [24:51<1:46:02, 55.81s/it]"
          ]
        },
        {
          "output_type": "stream",
          "name": "stdout",
          "text": [
            "['cinnamony', 'vanilla', 'milkshake', 'lipstick', 'tea', 'gucci', 'sexiest', 'wine', 'popcorn', 'luxe_cologne_reviews', 'bacon']\n"
          ]
        },
        {
          "output_type": "stream",
          "name": "stderr",
          "text": [
            "<ipython-input-37-0265454a78df>:8: SettingWithCopyWarning: \n",
            "A value is trying to be set on a copy of a slice from a DataFrame\n",
            "\n",
            "See the caveats in the documentation: https://pandas.pydata.org/pandas-docs/stable/user_guide/indexing.html#returning-a-view-versus-a-copy\n",
            "  review['keyword'][i]=keyword\n",
            "\r 22%|██▏       | 31/144 [25:44<1:43:47, 55.11s/it]"
          ]
        },
        {
          "output_type": "stream",
          "name": "stdout",
          "text": [
            "['vanilla', 'cinnamon', 'tea', 'perfumes', 'velvety', 'fruity', 'creamier', 'cake', 'pineapple', 'whiskey', 'aftershave', 'chanel', 'seduction', 'intoxicated', 'prada', 'mushrooms', 'stardom', 'party']\n"
          ]
        },
        {
          "output_type": "stream",
          "name": "stderr",
          "text": [
            "<ipython-input-37-0265454a78df>:8: SettingWithCopyWarning: \n",
            "A value is trying to be set on a copy of a slice from a DataFrame\n",
            "\n",
            "See the caveats in the documentation: https://pandas.pydata.org/pandas-docs/stable/user_guide/indexing.html#returning-a-view-versus-a-copy\n",
            "  review['keyword'][i]=keyword\n",
            "\r 22%|██▏       | 32/144 [26:36<1:40:54, 54.06s/it]"
          ]
        },
        {
          "output_type": "stream",
          "name": "stdout",
          "text": [
            "['sunscreeny', 'soapiness', 'honeysuckle', 'citrusy', 'lipstick', 'creamiest', 'sundae', 'milkshake', 'orchid', 'bistro', 'gay', 'august']\n"
          ]
        },
        {
          "output_type": "stream",
          "name": "stderr",
          "text": [
            "<ipython-input-37-0265454a78df>:8: SettingWithCopyWarning: \n",
            "A value is trying to be set on a copy of a slice from a DataFrame\n",
            "\n",
            "See the caveats in the documentation: https://pandas.pydata.org/pandas-docs/stable/user_guide/indexing.html#returning-a-view-versus-a-copy\n",
            "  review['keyword'][i]=keyword\n",
            "\r 23%|██▎       | 33/144 [27:21<1:34:43, 51.21s/it]"
          ]
        },
        {
          "output_type": "stream",
          "name": "stdout",
          "text": [
            "['vanillaesque', 'grapefruit', 'lemonade', 'aromatherapy', 'creamier', 'tea']\n"
          ]
        },
        {
          "output_type": "stream",
          "name": "stderr",
          "text": [
            "<ipython-input-37-0265454a78df>:8: SettingWithCopyWarning: \n",
            "A value is trying to be set on a copy of a slice from a DataFrame\n",
            "\n",
            "See the caveats in the documentation: https://pandas.pydata.org/pandas-docs/stable/user_guide/indexing.html#returning-a-view-versus-a-copy\n",
            "  review['keyword'][i]=keyword\n",
            "\r 24%|██▎       | 34/144 [28:38<1:48:15, 59.05s/it]"
          ]
        },
        {
          "output_type": "stream",
          "name": "stdout",
          "text": [
            "['marijuana', 'cinnamon', 'druggy', 'firewood', 'raspberry', 'garlic', 'tea', 'allergy', 'dracula', 'lipstick', 'voodoo', 'deforestation']\n"
          ]
        },
        {
          "output_type": "stream",
          "name": "stderr",
          "text": [
            "<ipython-input-37-0265454a78df>:8: SettingWithCopyWarning: \n",
            "A value is trying to be set on a copy of a slice from a DataFrame\n",
            "\n",
            "See the caveats in the documentation: https://pandas.pydata.org/pandas-docs/stable/user_guide/indexing.html#returning-a-view-versus-a-copy\n",
            "  review['keyword'][i]=keyword\n",
            "\r 24%|██▍       | 35/144 [29:29<1:43:06, 56.76s/it]"
          ]
        },
        {
          "output_type": "stream",
          "name": "stdout",
          "text": [
            "['caramel', 'cinnamony', 'cookies', 'chocolate', 'vanilla', 'sweetmeats', 'cognac', 'tea', 'creaminess', 'lipstick', 'coconutmilky', 'apple', 'fairytale', 'sunscreen', 'angelic']\n"
          ]
        },
        {
          "output_type": "stream",
          "name": "stderr",
          "text": [
            "<ipython-input-37-0265454a78df>:8: SettingWithCopyWarning: \n",
            "A value is trying to be set on a copy of a slice from a DataFrame\n",
            "\n",
            "See the caveats in the documentation: https://pandas.pydata.org/pandas-docs/stable/user_guide/indexing.html#returning-a-view-versus-a-copy\n",
            "  review['keyword'][i]=keyword\n",
            "\r 25%|██▌       | 36/144 [30:33<1:46:06, 58.95s/it]"
          ]
        },
        {
          "output_type": "stream",
          "name": "stdout",
          "text": [
            "['perfumey', 'cinnamon', 'aftershave', 'cigar', 'whiskey', 'buttery', 'sunscreen', 'intoxicated', 'kitten', 'juniper', 'prettiest', 'jazz']\n"
          ]
        },
        {
          "output_type": "stream",
          "name": "stderr",
          "text": [
            "<ipython-input-37-0265454a78df>:8: SettingWithCopyWarning: \n",
            "A value is trying to be set on a copy of a slice from a DataFrame\n",
            "\n",
            "See the caveats in the documentation: https://pandas.pydata.org/pandas-docs/stable/user_guide/indexing.html#returning-a-view-versus-a-copy\n",
            "  review['keyword'][i]=keyword\n",
            "\r 26%|██▌       | 37/144 [31:23<1:40:09, 56.16s/it]"
          ]
        },
        {
          "output_type": "stream",
          "name": "stdout",
          "text": [
            "['peaches', 'vanilla', 'raspberry', 'cinnamon', 'syrupy', 'milkshake', 'champagne', 'lipstick', 'tea', 'cognac', 'gummy', 'bieber', 'intoxicating', 'gucci', 'angelnova', 'whiskey']\n"
          ]
        },
        {
          "output_type": "stream",
          "name": "stderr",
          "text": [
            "<ipython-input-37-0265454a78df>:8: SettingWithCopyWarning: \n",
            "A value is trying to be set on a copy of a slice from a DataFrame\n",
            "\n",
            "See the caveats in the documentation: https://pandas.pydata.org/pandas-docs/stable/user_guide/indexing.html#returning-a-view-versus-a-copy\n",
            "  review['keyword'][i]=keyword\n",
            "\r 26%|██▋       | 38/144 [32:08<1:33:06, 52.70s/it]"
          ]
        },
        {
          "output_type": "stream",
          "name": "stdout",
          "text": [
            "['tea', 'milkshake', 'caramel', 'peppermint', 'gingerbread', 'perfumey', 'creaminess', 'marshmallowy', 'starbucks', 'sushi', 'vegan']\n"
          ]
        },
        {
          "output_type": "stream",
          "name": "stderr",
          "text": [
            "<ipython-input-37-0265454a78df>:8: SettingWithCopyWarning: \n",
            "A value is trying to be set on a copy of a slice from a DataFrame\n",
            "\n",
            "See the caveats in the documentation: https://pandas.pydata.org/pandas-docs/stable/user_guide/indexing.html#returning-a-view-versus-a-copy\n",
            "  review['keyword'][i]=keyword\n",
            "\r 27%|██▋       | 39/144 [33:02<1:33:06, 53.21s/it]"
          ]
        },
        {
          "output_type": "stream",
          "name": "stdout",
          "text": [
            "['watermelon', 'citrus', 'apricot', 'tea', 'fruity', 'creaminess', 'sunscreen', 'bananas', 'orchid', 'salad', 'gucci', 'picnic', 'bridal']\n"
          ]
        },
        {
          "output_type": "stream",
          "name": "stderr",
          "text": [
            "<ipython-input-37-0265454a78df>:8: SettingWithCopyWarning: \n",
            "A value is trying to be set on a copy of a slice from a DataFrame\n",
            "\n",
            "See the caveats in the documentation: https://pandas.pydata.org/pandas-docs/stable/user_guide/indexing.html#returning-a-view-versus-a-copy\n",
            "  review['keyword'][i]=keyword\n",
            "\r 28%|██▊       | 40/144 [33:29<1:18:45, 45.43s/it]"
          ]
        },
        {
          "output_type": "stream",
          "name": "stdout",
          "text": [
            "['scorpionbitch', 'peppery', 'sunscreeny', 'cocaine', 'vanilla', 'lamborghini', 'citrus', 'overpriced', 'headache', 'ferrari', 'diaper', 'heliotropine']\n"
          ]
        },
        {
          "output_type": "stream",
          "name": "stderr",
          "text": [
            "<ipython-input-37-0265454a78df>:8: SettingWithCopyWarning: \n",
            "A value is trying to be set on a copy of a slice from a DataFrame\n",
            "\n",
            "See the caveats in the documentation: https://pandas.pydata.org/pandas-docs/stable/user_guide/indexing.html#returning-a-view-versus-a-copy\n",
            "  review['keyword'][i]=keyword\n",
            "\r 28%|██▊       | 41/144 [33:54<1:07:26, 39.28s/it]"
          ]
        },
        {
          "output_type": "stream",
          "name": "stdout",
          "text": [
            "['tea', 'perfumey', 'creamier', 'milkshake', 'starbucks', 'caramel']\n"
          ]
        },
        {
          "output_type": "stream",
          "name": "stderr",
          "text": [
            "<ipython-input-37-0265454a78df>:8: SettingWithCopyWarning: \n",
            "A value is trying to be set on a copy of a slice from a DataFrame\n",
            "\n",
            "See the caveats in the documentation: https://pandas.pydata.org/pandas-docs/stable/user_guide/indexing.html#returning-a-view-versus-a-copy\n",
            "  review['keyword'][i]=keyword\n",
            "\r 29%|██▉       | 42/144 [34:41<1:10:28, 41.46s/it]"
          ]
        },
        {
          "output_type": "stream",
          "name": "stdout",
          "text": [
            "['peppercorn', 'citrusy', 'tea', 'raspberry', 'creaminess', 'marshmallowy', 'orchid', 'shampoo', 'cheapest']\n"
          ]
        },
        {
          "output_type": "stream",
          "name": "stderr",
          "text": [
            "<ipython-input-37-0265454a78df>:8: SettingWithCopyWarning: \n",
            "A value is trying to be set on a copy of a slice from a DataFrame\n",
            "\n",
            "See the caveats in the documentation: https://pandas.pydata.org/pandas-docs/stable/user_guide/indexing.html#returning-a-view-versus-a-copy\n",
            "  review['keyword'][i]=keyword\n",
            "\r 30%|██▉       | 43/144 [35:37<1:17:25, 46.00s/it]"
          ]
        },
        {
          "output_type": "stream",
          "name": "stdout",
          "text": [
            "['vanilla', 'tea', 'pineapple', 'spicebomb', 'platinum', 'marshmallow']\n"
          ]
        },
        {
          "output_type": "stream",
          "name": "stderr",
          "text": [
            "<ipython-input-37-0265454a78df>:8: SettingWithCopyWarning: \n",
            "A value is trying to be set on a copy of a slice from a DataFrame\n",
            "\n",
            "See the caveats in the documentation: https://pandas.pydata.org/pandas-docs/stable/user_guide/indexing.html#returning-a-view-versus-a-copy\n",
            "  review['keyword'][i]=keyword\n",
            "\r 31%|███       | 44/144 [36:30<1:19:57, 47.97s/it]"
          ]
        },
        {
          "output_type": "stream",
          "name": "stdout",
          "text": [
            "['mangoes', 'grapefruit', 'citrusy', 'sugary', 'watermelon', 'cinnamon', 'roses', 'herbal', 'coffee']\n"
          ]
        },
        {
          "output_type": "stream",
          "name": "stderr",
          "text": [
            "<ipython-input-37-0265454a78df>:8: SettingWithCopyWarning: \n",
            "A value is trying to be set on a copy of a slice from a DataFrame\n",
            "\n",
            "See the caveats in the documentation: https://pandas.pydata.org/pandas-docs/stable/user_guide/indexing.html#returning-a-view-versus-a-copy\n",
            "  review['keyword'][i]=keyword\n",
            "\r 31%|███▏      | 45/144 [37:19<1:19:48, 48.37s/it]"
          ]
        },
        {
          "output_type": "stream",
          "name": "stdout",
          "text": [
            "['cinnamon', 'chocolatey', 'buttercream', 'hazelnuts', 'vanilla', 'cookies', 'cognac', 'citrusy', 'pancakes', 'cornflakes', 'oily', 'popcorn']\n"
          ]
        },
        {
          "output_type": "stream",
          "name": "stderr",
          "text": [
            "<ipython-input-37-0265454a78df>:8: SettingWithCopyWarning: \n",
            "A value is trying to be set on a copy of a slice from a DataFrame\n",
            "\n",
            "See the caveats in the documentation: https://pandas.pydata.org/pandas-docs/stable/user_guide/indexing.html#returning-a-view-versus-a-copy\n",
            "  review['keyword'][i]=keyword\n",
            "\r 32%|███▏      | 46/144 [38:05<1:17:26, 47.41s/it]"
          ]
        },
        {
          "output_type": "stream",
          "name": "stdout",
          "text": [
            "['citrusiness', 'soapier', 'vanilla', 'platinum', 'overdose', 'skywalker', 'beetroot']\n"
          ]
        },
        {
          "output_type": "stream",
          "name": "stderr",
          "text": [
            "<ipython-input-37-0265454a78df>:8: SettingWithCopyWarning: \n",
            "A value is trying to be set on a copy of a slice from a DataFrame\n",
            "\n",
            "See the caveats in the documentation: https://pandas.pydata.org/pandas-docs/stable/user_guide/indexing.html#returning-a-view-versus-a-copy\n",
            "  review['keyword'][i]=keyword\n",
            "\r 33%|███▎      | 47/144 [38:55<1:18:19, 48.45s/it]"
          ]
        },
        {
          "output_type": "stream",
          "name": "stdout",
          "text": [
            "['cinnamon', 'perfume', 'vanilla', 'creamier', 'fruity', 'tea', 'champagne', 'lemonade', 'soapy', 'gucci', 'tequila', 'sexiest', 'ambergris', 'juniper', 'wildflowers', 'nirvana', 'cactus']\n"
          ]
        },
        {
          "output_type": "stream",
          "name": "stderr",
          "text": [
            "<ipython-input-37-0265454a78df>:8: SettingWithCopyWarning: \n",
            "A value is trying to be set on a copy of a slice from a DataFrame\n",
            "\n",
            "See the caveats in the documentation: https://pandas.pydata.org/pandas-docs/stable/user_guide/indexing.html#returning-a-view-versus-a-copy\n",
            "  review['keyword'][i]=keyword\n",
            "\r 33%|███▎      | 48/144 [40:05<1:27:42, 54.81s/it]"
          ]
        },
        {
          "output_type": "stream",
          "name": "stdout",
          "text": [
            "['cinnamon', 'tea', 'syrupy', 'magickal', 'ambers', 'grapefruit', 'opium', 'intoxicating', 'oakmoss', 'platinum', 'armani', 'orchid']\n"
          ]
        },
        {
          "output_type": "stream",
          "name": "stderr",
          "text": [
            "<ipython-input-37-0265454a78df>:8: SettingWithCopyWarning: \n",
            "A value is trying to be set on a copy of a slice from a DataFrame\n",
            "\n",
            "See the caveats in the documentation: https://pandas.pydata.org/pandas-docs/stable/user_guide/indexing.html#returning-a-view-versus-a-copy\n",
            "  review['keyword'][i]=keyword\n",
            "\r 34%|███▍      | 49/144 [40:50<1:22:14, 51.94s/it]"
          ]
        },
        {
          "output_type": "stream",
          "name": "stdout",
          "text": [
            "['lemonade', 'perfumery', 'grapefruit', 'cupcakey', 'apricot', 'tea', 'ketchup', 'vanilla', 'shampoo', 'creamiest', 'intoxicating', 'peppery']\n"
          ]
        },
        {
          "output_type": "stream",
          "name": "stderr",
          "text": [
            "<ipython-input-37-0265454a78df>:8: SettingWithCopyWarning: \n",
            "A value is trying to be set on a copy of a slice from a DataFrame\n",
            "\n",
            "See the caveats in the documentation: https://pandas.pydata.org/pandas-docs/stable/user_guide/indexing.html#returning-a-view-versus-a-copy\n",
            "  review['keyword'][i]=keyword\n",
            "\r 35%|███▍      | 50/144 [41:49<1:24:39, 54.03s/it]"
          ]
        },
        {
          "output_type": "stream",
          "name": "stdout",
          "text": [
            "['citrusy', 'soapiness', 'vanilla', 'tea', 'whiskey', 'woodiness', 'resinous', 'sexiest', 'rosewood']\n"
          ]
        },
        {
          "output_type": "stream",
          "name": "stderr",
          "text": [
            "<ipython-input-37-0265454a78df>:8: SettingWithCopyWarning: \n",
            "A value is trying to be set on a copy of a slice from a DataFrame\n",
            "\n",
            "See the caveats in the documentation: https://pandas.pydata.org/pandas-docs/stable/user_guide/indexing.html#returning-a-view-versus-a-copy\n",
            "  review['keyword'][i]=keyword\n",
            "\r 35%|███▌      | 51/144 [42:39<1:21:35, 52.64s/it]"
          ]
        },
        {
          "output_type": "stream",
          "name": "stdout",
          "text": [
            "['soapy', 'sunscreen', 'perfume', 'creaminess', 'intoxicating', 'peppermint', 'vanilla', 'cupcakes', 'allergy', 'selfridges', 'angelic', 'bestseller', 'antihistamine', 'popcorn', 'ambergris']\n"
          ]
        },
        {
          "output_type": "stream",
          "name": "stderr",
          "text": [
            "<ipython-input-37-0265454a78df>:8: SettingWithCopyWarning: \n",
            "A value is trying to be set on a copy of a slice from a DataFrame\n",
            "\n",
            "See the caveats in the documentation: https://pandas.pydata.org/pandas-docs/stable/user_guide/indexing.html#returning-a-view-versus-a-copy\n",
            "  review['keyword'][i]=keyword\n",
            "\r 36%|███▌      | 52/144 [43:22<1:16:19, 49.77s/it]"
          ]
        },
        {
          "output_type": "stream",
          "name": "stdout",
          "text": [
            "[]\n"
          ]
        },
        {
          "output_type": "stream",
          "name": "stderr",
          "text": [
            "<ipython-input-37-0265454a78df>:8: SettingWithCopyWarning: \n",
            "A value is trying to be set on a copy of a slice from a DataFrame\n",
            "\n",
            "See the caveats in the documentation: https://pandas.pydata.org/pandas-docs/stable/user_guide/indexing.html#returning-a-view-versus-a-copy\n",
            "  review['keyword'][i]=keyword\n",
            "\r 37%|███▋      | 53/144 [44:16<1:17:41, 51.22s/it]"
          ]
        },
        {
          "output_type": "stream",
          "name": "stdout",
          "text": [
            "['roses', 'bridal', 'lipstick', 'vanilla', 'tea', 'spicebombs', 'sexiest', 'champagne', 'ladylovesperfumes', 'citrus', 'fairy', 'kitten', 'shampoo']\n"
          ]
        },
        {
          "output_type": "stream",
          "name": "stderr",
          "text": [
            "<ipython-input-37-0265454a78df>:8: SettingWithCopyWarning: \n",
            "A value is trying to be set on a copy of a slice from a DataFrame\n",
            "\n",
            "See the caveats in the documentation: https://pandas.pydata.org/pandas-docs/stable/user_guide/indexing.html#returning-a-view-versus-a-copy\n",
            "  review['keyword'][i]=keyword\n",
            "\r 38%|███▊      | 54/144 [45:21<1:22:55, 55.28s/it]"
          ]
        },
        {
          "output_type": "stream",
          "name": "stdout",
          "text": [
            "['caramelic', 'vodka', 'funkiest', 'tasty', 'syrupy', 'gucci', 'tea', 'perfume', 'pineapple', 'popcorn']\n"
          ]
        },
        {
          "output_type": "stream",
          "name": "stderr",
          "text": [
            "<ipython-input-37-0265454a78df>:8: SettingWithCopyWarning: \n",
            "A value is trying to be set on a copy of a slice from a DataFrame\n",
            "\n",
            "See the caveats in the documentation: https://pandas.pydata.org/pandas-docs/stable/user_guide/indexing.html#returning-a-view-versus-a-copy\n",
            "  review['keyword'][i]=keyword\n",
            "\r 38%|███▊      | 55/144 [46:01<1:15:16, 50.74s/it]"
          ]
        },
        {
          "output_type": "stream",
          "name": "stdout",
          "text": [
            "['soapiness', 'aromatherapy', 'tea', 'vanilla', 'hyatt', 'aftershave', 'sunscreen', 'citrusy', 'jasmine']\n"
          ]
        },
        {
          "output_type": "stream",
          "name": "stderr",
          "text": [
            "<ipython-input-37-0265454a78df>:8: SettingWithCopyWarning: \n",
            "A value is trying to be set on a copy of a slice from a DataFrame\n",
            "\n",
            "See the caveats in the documentation: https://pandas.pydata.org/pandas-docs/stable/user_guide/indexing.html#returning-a-view-versus-a-copy\n",
            "  review['keyword'][i]=keyword\n",
            "\r 39%|███▉      | 56/144 [47:00<1:17:59, 53.17s/it]"
          ]
        },
        {
          "output_type": "stream",
          "name": "stdout",
          "text": [
            "['cinnamon', 'cognac', 'gucci', 'luxe_cologne_reviews', 'sexiest', 'blueberry']\n"
          ]
        },
        {
          "output_type": "stream",
          "name": "stderr",
          "text": [
            "<ipython-input-37-0265454a78df>:8: SettingWithCopyWarning: \n",
            "A value is trying to be set on a copy of a slice from a DataFrame\n",
            "\n",
            "See the caveats in the documentation: https://pandas.pydata.org/pandas-docs/stable/user_guide/indexing.html#returning-a-view-versus-a-copy\n",
            "  review['keyword'][i]=keyword\n",
            "\r 40%|███▉      | 57/144 [48:15<1:26:45, 59.83s/it]"
          ]
        },
        {
          "output_type": "stream",
          "name": "stdout",
          "text": [
            "['liquorice', 'gucci', 'stripper', 'tea', 'pineapple', 'toothpaste', 'bubblegum', 'sexiest', 'oilperfumery']\n"
          ]
        },
        {
          "output_type": "stream",
          "name": "stderr",
          "text": [
            "<ipython-input-37-0265454a78df>:8: SettingWithCopyWarning: \n",
            "A value is trying to be set on a copy of a slice from a DataFrame\n",
            "\n",
            "See the caveats in the documentation: https://pandas.pydata.org/pandas-docs/stable/user_guide/indexing.html#returning-a-view-versus-a-copy\n",
            "  review['keyword'][i]=keyword\n",
            "\r 40%|████      | 58/144 [48:56<1:17:34, 54.12s/it]"
          ]
        },
        {
          "output_type": "stream",
          "name": "stdout",
          "text": [
            "['cocoamallow', 'vanilla', 'milkshake', 'cookies', 'roses', 'cake', 'starbucks', 'prada']\n"
          ]
        },
        {
          "output_type": "stream",
          "name": "stderr",
          "text": [
            "<ipython-input-37-0265454a78df>:8: SettingWithCopyWarning: \n",
            "A value is trying to be set on a copy of a slice from a DataFrame\n",
            "\n",
            "See the caveats in the documentation: https://pandas.pydata.org/pandas-docs/stable/user_guide/indexing.html#returning-a-view-versus-a-copy\n",
            "  review['keyword'][i]=keyword\n",
            "\r 41%|████      | 59/144 [49:48<1:15:30, 53.29s/it]"
          ]
        },
        {
          "output_type": "stream",
          "name": "stdout",
          "text": [
            "['lemonade', 'vanilla', 'porridge', 'tea', 'soapy']\n"
          ]
        },
        {
          "output_type": "stream",
          "name": "stderr",
          "text": [
            "<ipython-input-37-0265454a78df>:8: SettingWithCopyWarning: \n",
            "A value is trying to be set on a copy of a slice from a DataFrame\n",
            "\n",
            "See the caveats in the documentation: https://pandas.pydata.org/pandas-docs/stable/user_guide/indexing.html#returning-a-view-versus-a-copy\n",
            "  review['keyword'][i]=keyword\n",
            "\r 42%|████▏     | 60/144 [50:40<1:14:11, 52.99s/it]"
          ]
        },
        {
          "output_type": "stream",
          "name": "stdout",
          "text": [
            "['soapier', 'lipstick', 'aftershaves', 'tea', 'pineapple', 'garlic', 'lemonade', 'wine', 'medicine', 'ambergris']\n"
          ]
        },
        {
          "output_type": "stream",
          "name": "stderr",
          "text": [
            "<ipython-input-37-0265454a78df>:8: SettingWithCopyWarning: \n",
            "A value is trying to be set on a copy of a slice from a DataFrame\n",
            "\n",
            "See the caveats in the documentation: https://pandas.pydata.org/pandas-docs/stable/user_guide/indexing.html#returning-a-view-versus-a-copy\n",
            "  review['keyword'][i]=keyword\n",
            "\r 42%|████▏     | 61/144 [51:30<1:12:12, 52.20s/it]"
          ]
        },
        {
          "output_type": "stream",
          "name": "stdout",
          "text": [
            "['vanillascent', 'perfumey', 'cinnamon', 'sugarbomb', 'tea', 'citrusy', 'lipstick', 'cupcake', 'marshmallow', 'juniper', 'maple', 'spices', 'alcoholic', 'florabotanica']\n"
          ]
        },
        {
          "output_type": "stream",
          "name": "stderr",
          "text": [
            "<ipython-input-37-0265454a78df>:8: SettingWithCopyWarning: \n",
            "A value is trying to be set on a copy of a slice from a DataFrame\n",
            "\n",
            "See the caveats in the documentation: https://pandas.pydata.org/pandas-docs/stable/user_guide/indexing.html#returning-a-view-versus-a-copy\n",
            "  review['keyword'][i]=keyword\n",
            "\r 43%|████▎     | 62/144 [52:24<1:12:09, 52.80s/it]"
          ]
        },
        {
          "output_type": "stream",
          "name": "stdout",
          "text": [
            "['kerosene', 'perfumey', 'peppercorn', 'gucci', 'buttery', 'cognac', 'vegetarian', 'cigar', 'juniper']\n"
          ]
        },
        {
          "output_type": "stream",
          "name": "stderr",
          "text": [
            "<ipython-input-37-0265454a78df>:8: SettingWithCopyWarning: \n",
            "A value is trying to be set on a copy of a slice from a DataFrame\n",
            "\n",
            "See the caveats in the documentation: https://pandas.pydata.org/pandas-docs/stable/user_guide/indexing.html#returning-a-view-versus-a-copy\n",
            "  review['keyword'][i]=keyword\n",
            "\r 44%|████▍     | 63/144 [53:05<1:06:15, 49.08s/it]"
          ]
        },
        {
          "output_type": "stream",
          "name": "stdout",
          "text": [
            "['strawberries', 'strawberry', 'grapefruit', 'vanilla', 'apples', 'caramel', 'cinnamon', 'perfumey', 'lovefest', 'creamier', 'lollipop', 'champagne', 'britney']\n"
          ]
        },
        {
          "output_type": "stream",
          "name": "stderr",
          "text": [
            "<ipython-input-37-0265454a78df>:8: SettingWithCopyWarning: \n",
            "A value is trying to be set on a copy of a slice from a DataFrame\n",
            "\n",
            "See the caveats in the documentation: https://pandas.pydata.org/pandas-docs/stable/user_guide/indexing.html#returning-a-view-versus-a-copy\n",
            "  review['keyword'][i]=keyword\n",
            "\r 44%|████▍     | 64/144 [53:56<1:06:17, 49.72s/it]"
          ]
        },
        {
          "output_type": "stream",
          "name": "stdout",
          "text": [
            "['yogurt', 'vanilla']\n"
          ]
        },
        {
          "output_type": "stream",
          "name": "stderr",
          "text": [
            "<ipython-input-37-0265454a78df>:8: SettingWithCopyWarning: \n",
            "A value is trying to be set on a copy of a slice from a DataFrame\n",
            "\n",
            "See the caveats in the documentation: https://pandas.pydata.org/pandas-docs/stable/user_guide/indexing.html#returning-a-view-versus-a-copy\n",
            "  review['keyword'][i]=keyword\n",
            "\r 45%|████▌     | 65/144 [54:40<1:03:06, 47.93s/it]"
          ]
        },
        {
          "output_type": "stream",
          "name": "stdout",
          "text": [
            "['sugary', 'vanilla', 'honeysuckle', 'perfumery', 'tea', 'champagne', 'watermelon', 'citrus', 'sushi', 'addictiv', 'gucci', 'soda', 'detergent']\n"
          ]
        },
        {
          "output_type": "stream",
          "name": "stderr",
          "text": [
            "<ipython-input-37-0265454a78df>:8: SettingWithCopyWarning: \n",
            "A value is trying to be set on a copy of a slice from a DataFrame\n",
            "\n",
            "See the caveats in the documentation: https://pandas.pydata.org/pandas-docs/stable/user_guide/indexing.html#returning-a-view-versus-a-copy\n",
            "  review['keyword'][i]=keyword\n",
            "\r 46%|████▌     | 66/144 [55:35<1:05:00, 50.01s/it]"
          ]
        },
        {
          "output_type": "stream",
          "name": "stdout",
          "text": [
            "['grapefruit', 'fruity', 'vanilla', 'platinum', 'soapiness', 'herbal', 'cocktail', 'intoxicated', 'wealthy', 'spring']\n"
          ]
        },
        {
          "output_type": "stream",
          "name": "stderr",
          "text": [
            "<ipython-input-37-0265454a78df>:8: SettingWithCopyWarning: \n",
            "A value is trying to be set on a copy of a slice from a DataFrame\n",
            "\n",
            "See the caveats in the documentation: https://pandas.pydata.org/pandas-docs/stable/user_guide/indexing.html#returning-a-view-versus-a-copy\n",
            "  review['keyword'][i]=keyword\n",
            "\r 47%|████▋     | 67/144 [56:26<1:04:43, 50.43s/it]"
          ]
        },
        {
          "output_type": "stream",
          "name": "stdout",
          "text": [
            "['perfumey', 'opium', 'intoxicaring']\n"
          ]
        },
        {
          "output_type": "stream",
          "name": "stderr",
          "text": [
            "<ipython-input-37-0265454a78df>:8: SettingWithCopyWarning: \n",
            "A value is trying to be set on a copy of a slice from a DataFrame\n",
            "\n",
            "See the caveats in the documentation: https://pandas.pydata.org/pandas-docs/stable/user_guide/indexing.html#returning-a-view-versus-a-copy\n",
            "  review['keyword'][i]=keyword\n",
            "\r 47%|████▋     | 68/144 [57:14<1:02:51, 49.63s/it]"
          ]
        },
        {
          "output_type": "stream",
          "name": "stdout",
          "text": [
            "['cinnamony', 'cookies', 'milkshake', 'gingerbread', 'liquorice', 'lipstick', 'avocado', 'snickerdoodle', 'kerosene', 'bacon']\n"
          ]
        },
        {
          "output_type": "stream",
          "name": "stderr",
          "text": [
            "<ipython-input-37-0265454a78df>:8: SettingWithCopyWarning: \n",
            "A value is trying to be set on a copy of a slice from a DataFrame\n",
            "\n",
            "See the caveats in the documentation: https://pandas.pydata.org/pandas-docs/stable/user_guide/indexing.html#returning-a-view-versus-a-copy\n",
            "  review['keyword'][i]=keyword\n",
            "\r 48%|████▊     | 69/144 [58:09<1:04:15, 51.40s/it]"
          ]
        },
        {
          "output_type": "stream",
          "name": "stdout",
          "text": [
            "['peaches', 'vanilla', 'tea', 'pineapple', 'milkshake', 'perfumey', 'witchcraft', 'cheesecake', 'starbucks', 'britney']\n"
          ]
        },
        {
          "output_type": "stream",
          "name": "stderr",
          "text": [
            "<ipython-input-37-0265454a78df>:8: SettingWithCopyWarning: \n",
            "A value is trying to be set on a copy of a slice from a DataFrame\n",
            "\n",
            "See the caveats in the documentation: https://pandas.pydata.org/pandas-docs/stable/user_guide/indexing.html#returning-a-view-versus-a-copy\n",
            "  review['keyword'][i]=keyword\n",
            "\r 49%|████▊     | 70/144 [58:47<58:08, 47.14s/it]  "
          ]
        },
        {
          "output_type": "stream",
          "name": "stdout",
          "text": [
            "['tea', 'pancakes', 'roses', 'housewife', 'kitten', 'starbucks', 'bodywash']\n"
          ]
        },
        {
          "output_type": "stream",
          "name": "stderr",
          "text": [
            "<ipython-input-37-0265454a78df>:8: SettingWithCopyWarning: \n",
            "A value is trying to be set on a copy of a slice from a DataFrame\n",
            "\n",
            "See the caveats in the documentation: https://pandas.pydata.org/pandas-docs/stable/user_guide/indexing.html#returning-a-view-versus-a-copy\n",
            "  review['keyword'][i]=keyword\n",
            "\r 49%|████▉     | 71/144 [59:32<56:40, 46.58s/it]"
          ]
        },
        {
          "output_type": "stream",
          "name": "stdout",
          "text": [
            "['cinnamon', 'bubblegum', 'raspberry', 'vanilla', 'creaminess', 'rihanna']\n"
          ]
        },
        {
          "output_type": "stream",
          "name": "stderr",
          "text": [
            "<ipython-input-37-0265454a78df>:8: SettingWithCopyWarning: \n",
            "A value is trying to be set on a copy of a slice from a DataFrame\n",
            "\n",
            "See the caveats in the documentation: https://pandas.pydata.org/pandas-docs/stable/user_guide/indexing.html#returning-a-view-versus-a-copy\n",
            "  review['keyword'][i]=keyword\n",
            "\r 50%|█████     | 72/144 [1:00:34<1:01:20, 51.12s/it]"
          ]
        },
        {
          "output_type": "stream",
          "name": "stdout",
          "text": [
            "['perfumey', 'teacup', 'shampoo', 'aftershave', 'strawberry', 'intoxicating', 'allergy', 'gucci', 'suncream', 'toothpaste', 'fairytale', 'biscuit', 'juniper', 'iphone']\n"
          ]
        },
        {
          "output_type": "stream",
          "name": "stderr",
          "text": [
            "<ipython-input-37-0265454a78df>:8: SettingWithCopyWarning: \n",
            "A value is trying to be set on a copy of a slice from a DataFrame\n",
            "\n",
            "See the caveats in the documentation: https://pandas.pydata.org/pandas-docs/stable/user_guide/indexing.html#returning-a-view-versus-a-copy\n",
            "  review['keyword'][i]=keyword\n",
            "\r 51%|█████     | 73/144 [1:01:29<1:01:53, 52.30s/it]"
          ]
        },
        {
          "output_type": "stream",
          "name": "stdout",
          "text": [
            "['perfumey', 'soapy']\n"
          ]
        },
        {
          "output_type": "stream",
          "name": "stderr",
          "text": [
            "<ipython-input-37-0265454a78df>:8: SettingWithCopyWarning: \n",
            "A value is trying to be set on a copy of a slice from a DataFrame\n",
            "\n",
            "See the caveats in the documentation: https://pandas.pydata.org/pandas-docs/stable/user_guide/indexing.html#returning-a-view-versus-a-copy\n",
            "  review['keyword'][i]=keyword\n",
            "\r 51%|█████▏    | 74/144 [1:02:21<1:00:53, 52.19s/it]"
          ]
        },
        {
          "output_type": "stream",
          "name": "stdout",
          "text": [
            "['lemonade', 'vanillacarmelco', 'grapefruit', 'pineapple', 'soapiness', 'mango', 'creamier', 'tea', 'coconuty', 'yeasty', 'suncream']\n"
          ]
        },
        {
          "output_type": "stream",
          "name": "stderr",
          "text": [
            "<ipython-input-37-0265454a78df>:8: SettingWithCopyWarning: \n",
            "A value is trying to be set on a copy of a slice from a DataFrame\n",
            "\n",
            "See the caveats in the documentation: https://pandas.pydata.org/pandas-docs/stable/user_guide/indexing.html#returning-a-view-versus-a-copy\n",
            "  review['keyword'][i]=keyword\n",
            "\r 52%|█████▏    | 75/144 [1:03:09<58:41, 51.04s/it]  "
          ]
        },
        {
          "output_type": "stream",
          "name": "stdout",
          "text": [
            "['intoxicating', 'champagne', 'grapefruit', 'vanilla', 'fruitiness', 'creamsicle', 'yogurt', 'wealthy', 'aromatherapy', 'hedonist', 'lotion']\n"
          ]
        },
        {
          "output_type": "stream",
          "name": "stderr",
          "text": [
            "<ipython-input-37-0265454a78df>:8: SettingWithCopyWarning: \n",
            "A value is trying to be set on a copy of a slice from a DataFrame\n",
            "\n",
            "See the caveats in the documentation: https://pandas.pydata.org/pandas-docs/stable/user_guide/indexing.html#returning-a-view-versus-a-copy\n",
            "  review['keyword'][i]=keyword\n",
            "\r 53%|█████▎    | 76/144 [1:03:58<57:06, 50.39s/it]"
          ]
        },
        {
          "output_type": "stream",
          "name": "stdout",
          "text": [
            "['vanilla', 'creamier', 'tea', 'lipstick', 'aromatherapy', 'peppermint', 'soapy', 'gummies', 'sexiest', 'starbucks', 'toothpaste']\n"
          ]
        },
        {
          "output_type": "stream",
          "name": "stderr",
          "text": [
            "<ipython-input-37-0265454a78df>:8: SettingWithCopyWarning: \n",
            "A value is trying to be set on a copy of a slice from a DataFrame\n",
            "\n",
            "See the caveats in the documentation: https://pandas.pydata.org/pandas-docs/stable/user_guide/indexing.html#returning-a-view-versus-a-copy\n",
            "  review['keyword'][i]=keyword\n",
            "\r 53%|█████▎    | 77/144 [1:04:52<57:43, 51.69s/it]"
          ]
        },
        {
          "output_type": "stream",
          "name": "stdout",
          "text": [
            "['lemonade', 'aromatherapy', 'grapefruit', 'gucci', 'aftershave', 'tangerine', 'vanilla', 'lipstick', 'tequila']\n"
          ]
        },
        {
          "output_type": "stream",
          "name": "stderr",
          "text": [
            "<ipython-input-37-0265454a78df>:8: SettingWithCopyWarning: \n",
            "A value is trying to be set on a copy of a slice from a DataFrame\n",
            "\n",
            "See the caveats in the documentation: https://pandas.pydata.org/pandas-docs/stable/user_guide/indexing.html#returning-a-view-versus-a-copy\n",
            "  review['keyword'][i]=keyword\n",
            "\r 54%|█████▍    | 78/144 [1:05:57<1:01:07, 55.57s/it]"
          ]
        },
        {
          "output_type": "stream",
          "name": "stdout",
          "text": [
            "['roses', 'perfume', 'tea', 'cognac', 'gingerbread', 'vanilla', 'gucci', 'catwoman', 'prada', 'vampire']\n"
          ]
        },
        {
          "output_type": "stream",
          "name": "stderr",
          "text": [
            "<ipython-input-37-0265454a78df>:8: SettingWithCopyWarning: \n",
            "A value is trying to be set on a copy of a slice from a DataFrame\n",
            "\n",
            "See the caveats in the documentation: https://pandas.pydata.org/pandas-docs/stable/user_guide/indexing.html#returning-a-view-versus-a-copy\n",
            "  review['keyword'][i]=keyword\n",
            "\r 55%|█████▍    | 79/144 [1:06:48<58:50, 54.31s/it]  "
          ]
        },
        {
          "output_type": "stream",
          "name": "stdout",
          "text": [
            "['cinnamony', 'vanilla', 'gingerbread', 'tea', 'cognac', 'apricot', 'porridge', 'applesauce', 'whiskey', 'diabetes', 'snobbery', 'methoxydibenzoylmethane']\n"
          ]
        },
        {
          "output_type": "stream",
          "name": "stderr",
          "text": [
            "<ipython-input-37-0265454a78df>:8: SettingWithCopyWarning: \n",
            "A value is trying to be set on a copy of a slice from a DataFrame\n",
            "\n",
            "See the caveats in the documentation: https://pandas.pydata.org/pandas-docs/stable/user_guide/indexing.html#returning-a-view-versus-a-copy\n",
            "  review['keyword'][i]=keyword\n",
            "\r 56%|█████▌    | 80/144 [1:07:34<55:12, 51.75s/it]"
          ]
        },
        {
          "output_type": "stream",
          "name": "stdout",
          "text": [
            "['vanillaish', 'lipstick', 'cocaine', 'intoxicating', 'tuxedo']\n"
          ]
        },
        {
          "output_type": "stream",
          "name": "stderr",
          "text": [
            "<ipython-input-37-0265454a78df>:8: SettingWithCopyWarning: \n",
            "A value is trying to be set on a copy of a slice from a DataFrame\n",
            "\n",
            "See the caveats in the documentation: https://pandas.pydata.org/pandas-docs/stable/user_guide/indexing.html#returning-a-view-versus-a-copy\n",
            "  review['keyword'][i]=keyword\n",
            "\r 56%|█████▋    | 81/144 [1:08:39<58:19, 55.54s/it]"
          ]
        },
        {
          "output_type": "stream",
          "name": "stdout",
          "text": [
            "['raspberries', 'vanilla', 'cinnamon', 'perfumery', 'tea', 'gucci', 'handbag', 'coffee', 'ambergris', 'prada', 'apple', 'whiskey', 'woodiness', 'christmas', 'intoxicating']\n"
          ]
        },
        {
          "output_type": "stream",
          "name": "stderr",
          "text": [
            "<ipython-input-37-0265454a78df>:8: SettingWithCopyWarning: \n",
            "A value is trying to be set on a copy of a slice from a DataFrame\n",
            "\n",
            "See the caveats in the documentation: https://pandas.pydata.org/pandas-docs/stable/user_guide/indexing.html#returning-a-view-versus-a-copy\n",
            "  review['keyword'][i]=keyword\n",
            "\r 57%|█████▋    | 82/144 [1:09:23<54:05, 52.34s/it]"
          ]
        },
        {
          "output_type": "stream",
          "name": "stdout",
          "text": [
            "['ripeblueberry', 'blueberries', 'vanilla', 'pineapple', 'lemonade', 'perfumey', 'tea', 'mango', 'buttery', 'poundcake', 'orchid']\n"
          ]
        },
        {
          "output_type": "stream",
          "name": "stderr",
          "text": [
            "<ipython-input-37-0265454a78df>:8: SettingWithCopyWarning: \n",
            "A value is trying to be set on a copy of a slice from a DataFrame\n",
            "\n",
            "See the caveats in the documentation: https://pandas.pydata.org/pandas-docs/stable/user_guide/indexing.html#returning-a-view-versus-a-copy\n",
            "  review['keyword'][i]=keyword\n",
            "\r 58%|█████▊    | 83/144 [1:10:11<51:38, 50.79s/it]"
          ]
        },
        {
          "output_type": "stream",
          "name": "stdout",
          "text": [
            "['tea', 'vanilla', 'aromatherapy', 'spicebombs', 'cognac', 'citrus']\n"
          ]
        },
        {
          "output_type": "stream",
          "name": "stderr",
          "text": [
            "<ipython-input-37-0265454a78df>:8: SettingWithCopyWarning: \n",
            "A value is trying to be set on a copy of a slice from a DataFrame\n",
            "\n",
            "See the caveats in the documentation: https://pandas.pydata.org/pandas-docs/stable/user_guide/indexing.html#returning-a-view-versus-a-copy\n",
            "  review['keyword'][i]=keyword\n",
            "\r 58%|█████▊    | 84/144 [1:11:02<51:05, 51.09s/it]"
          ]
        },
        {
          "output_type": "stream",
          "name": "stdout",
          "text": [
            "['sugariness', 'buttery', 'almondmilk', 'fruity', 'fragrantica', 'raspberry', 'lipstick', 'soapy', 'sunscreen', 'rihannas', 'marshmallows', 'wine', 'beans', 'catwalk', 'magic']\n"
          ]
        },
        {
          "output_type": "stream",
          "name": "stderr",
          "text": [
            "<ipython-input-37-0265454a78df>:8: SettingWithCopyWarning: \n",
            "A value is trying to be set on a copy of a slice from a DataFrame\n",
            "\n",
            "See the caveats in the documentation: https://pandas.pydata.org/pandas-docs/stable/user_guide/indexing.html#returning-a-view-versus-a-copy\n",
            "  review['keyword'][i]=keyword\n",
            "\r 59%|█████▉    | 85/144 [1:11:49<48:55, 49.75s/it]"
          ]
        },
        {
          "output_type": "stream",
          "name": "stdout",
          "text": [
            "['cinnamony', 'tea', 'roses', 'cognac', 'popcorn', 'lovefest', 'vodka', 'toothpastey', 'rootbeery', 'banana', 'shortcake']\n"
          ]
        },
        {
          "output_type": "stream",
          "name": "stderr",
          "text": [
            "<ipython-input-37-0265454a78df>:8: SettingWithCopyWarning: \n",
            "A value is trying to be set on a copy of a slice from a DataFrame\n",
            "\n",
            "See the caveats in the documentation: https://pandas.pydata.org/pandas-docs/stable/user_guide/indexing.html#returning-a-view-versus-a-copy\n",
            "  review['keyword'][i]=keyword\n",
            "\r 60%|█████▉    | 86/144 [1:12:39<48:12, 49.87s/it]"
          ]
        },
        {
          "output_type": "stream",
          "name": "stdout",
          "text": [
            "['cinnamon', 'vanilla', 'tea', 'lipstick', 'roses', 'buttery', 'opium', 'fruitchollis', 'soapy', 'insecticide']\n"
          ]
        },
        {
          "output_type": "stream",
          "name": "stderr",
          "text": [
            "<ipython-input-37-0265454a78df>:8: SettingWithCopyWarning: \n",
            "A value is trying to be set on a copy of a slice from a DataFrame\n",
            "\n",
            "See the caveats in the documentation: https://pandas.pydata.org/pandas-docs/stable/user_guide/indexing.html#returning-a-view-versus-a-copy\n",
            "  review['keyword'][i]=keyword\n",
            "\r 60%|██████    | 87/144 [1:13:27<46:47, 49.26s/it]"
          ]
        },
        {
          "output_type": "stream",
          "name": "stdout",
          "text": [
            "['cinnamon', 'aftershave', 'bach', 'pineapple', 'millionaire']\n"
          ]
        },
        {
          "output_type": "stream",
          "name": "stderr",
          "text": [
            "<ipython-input-37-0265454a78df>:8: SettingWithCopyWarning: \n",
            "A value is trying to be set on a copy of a slice from a DataFrame\n",
            "\n",
            "See the caveats in the documentation: https://pandas.pydata.org/pandas-docs/stable/user_guide/indexing.html#returning-a-view-versus-a-copy\n",
            "  review['keyword'][i]=keyword\n",
            "\r 61%|██████    | 88/144 [1:14:22<47:32, 50.93s/it]"
          ]
        },
        {
          "output_type": "stream",
          "name": "stdout",
          "text": [
            "['tea', 'aromatherapy', 'roses', 'honeysuckle', 'herbal', 'creamier', 'hazelnut', 'citrusy', 'wine', 'juniper', 'woodiness', 'shampoo', 'gucci', 'sunscreen', 'whiskey', 'fingernail', 'dracula']\n"
          ]
        },
        {
          "output_type": "stream",
          "name": "stderr",
          "text": [
            "<ipython-input-37-0265454a78df>:8: SettingWithCopyWarning: \n",
            "A value is trying to be set on a copy of a slice from a DataFrame\n",
            "\n",
            "See the caveats in the documentation: https://pandas.pydata.org/pandas-docs/stable/user_guide/indexing.html#returning-a-view-versus-a-copy\n",
            "  review['keyword'][i]=keyword\n",
            "\r 62%|██████▏   | 89/144 [1:15:21<48:48, 53.25s/it]"
          ]
        },
        {
          "output_type": "stream",
          "name": "stdout",
          "text": [
            "['cocainey', 'cinnamon', 'strawberries', 'rap', 'gucci', 'lipstick', 'beethoven', 'whiskey', 'velvety']\n"
          ]
        },
        {
          "output_type": "stream",
          "name": "stderr",
          "text": [
            "<ipython-input-37-0265454a78df>:8: SettingWithCopyWarning: \n",
            "A value is trying to be set on a copy of a slice from a DataFrame\n",
            "\n",
            "See the caveats in the documentation: https://pandas.pydata.org/pandas-docs/stable/user_guide/indexing.html#returning-a-view-versus-a-copy\n",
            "  review['keyword'][i]=keyword\n",
            "\r 62%|██████▎   | 90/144 [1:16:24<50:44, 56.39s/it]"
          ]
        },
        {
          "output_type": "stream",
          "name": "stdout",
          "text": [
            "['vanilla', 'gucci', 'tea', 'raspberry', 'whiskey', 'sexiest', 'lipstick', 'tuxedo', 'cucumber']\n"
          ]
        },
        {
          "output_type": "stream",
          "name": "stderr",
          "text": [
            "<ipython-input-37-0265454a78df>:8: SettingWithCopyWarning: \n",
            "A value is trying to be set on a copy of a slice from a DataFrame\n",
            "\n",
            "See the caveats in the documentation: https://pandas.pydata.org/pandas-docs/stable/user_guide/indexing.html#returning-a-view-versus-a-copy\n",
            "  review['keyword'][i]=keyword\n",
            "\r 63%|██████▎   | 91/144 [1:17:08<46:31, 52.67s/it]"
          ]
        },
        {
          "output_type": "stream",
          "name": "stdout",
          "text": [
            "['overlysweetbakerycupcakepowderedsugar', 'vanilla', 'cinnamon', 'cupcake', 'caramel', 'perfume', 'cognac', 'tea', 'witchcraft', 'cakeshop', 'oily', 'starbucks', 'heartburn', 'whiskey', 'rosewood', 'tuxedo']\n"
          ]
        },
        {
          "output_type": "stream",
          "name": "stderr",
          "text": [
            "<ipython-input-37-0265454a78df>:8: SettingWithCopyWarning: \n",
            "A value is trying to be set on a copy of a slice from a DataFrame\n",
            "\n",
            "See the caveats in the documentation: https://pandas.pydata.org/pandas-docs/stable/user_guide/indexing.html#returning-a-view-versus-a-copy\n",
            "  review['keyword'][i]=keyword\n",
            "\r 64%|██████▍   | 92/144 [1:17:48<42:14, 48.74s/it]"
          ]
        },
        {
          "output_type": "stream",
          "name": "stdout",
          "text": [
            "['sunscreeny', 'vanilla', 'soapy', 'yogurt', 'roses', 'lipstick', 'citrus', 'rihanna', 'beachwalk', 'tanning', 'mermaid']\n"
          ]
        },
        {
          "output_type": "stream",
          "name": "stderr",
          "text": [
            "<ipython-input-37-0265454a78df>:8: SettingWithCopyWarning: \n",
            "A value is trying to be set on a copy of a slice from a DataFrame\n",
            "\n",
            "See the caveats in the documentation: https://pandas.pydata.org/pandas-docs/stable/user_guide/indexing.html#returning-a-view-versus-a-copy\n",
            "  review['keyword'][i]=keyword\n",
            "\r 65%|██████▍   | 93/144 [1:18:36<41:10, 48.44s/it]"
          ]
        },
        {
          "output_type": "stream",
          "name": "stdout",
          "text": [
            "['lemonade', 'coconutesque', 'cinnamon', 'millionaire', 'summerish']\n"
          ]
        },
        {
          "output_type": "stream",
          "name": "stderr",
          "text": [
            "<ipython-input-37-0265454a78df>:8: SettingWithCopyWarning: \n",
            "A value is trying to be set on a copy of a slice from a DataFrame\n",
            "\n",
            "See the caveats in the documentation: https://pandas.pydata.org/pandas-docs/stable/user_guide/indexing.html#returning-a-view-versus-a-copy\n",
            "  review['keyword'][i]=keyword\n",
            "\r 65%|██████▌   | 94/144 [1:19:22<39:53, 47.87s/it]"
          ]
        },
        {
          "output_type": "stream",
          "name": "stdout",
          "text": [
            "['perfumey', 'tea', 'bookworm', 'chocolate', 'medicated', 'peppercorn', 'christmas', 'librarian', 'memoir']\n"
          ]
        },
        {
          "output_type": "stream",
          "name": "stderr",
          "text": [
            "<ipython-input-37-0265454a78df>:8: SettingWithCopyWarning: \n",
            "A value is trying to be set on a copy of a slice from a DataFrame\n",
            "\n",
            "See the caveats in the documentation: https://pandas.pydata.org/pandas-docs/stable/user_guide/indexing.html#returning-a-view-versus-a-copy\n",
            "  review['keyword'][i]=keyword\n",
            "\r 66%|██████▌   | 95/144 [1:20:18<41:01, 50.24s/it]"
          ]
        },
        {
          "output_type": "stream",
          "name": "stdout",
          "text": [
            "['tea', 'lemonade', 'grapefruit', 'perfume', 'creaminess', 'starbucks']\n"
          ]
        },
        {
          "output_type": "stream",
          "name": "stderr",
          "text": [
            "<ipython-input-37-0265454a78df>:8: SettingWithCopyWarning: \n",
            "A value is trying to be set on a copy of a slice from a DataFrame\n",
            "\n",
            "See the caveats in the documentation: https://pandas.pydata.org/pandas-docs/stable/user_guide/indexing.html#returning-a-view-versus-a-copy\n",
            "  review['keyword'][i]=keyword\n",
            "\r 67%|██████▋   | 96/144 [1:21:08<40:11, 50.24s/it]"
          ]
        },
        {
          "output_type": "stream",
          "name": "stdout",
          "text": [
            "['roses', 'lemonade', 'tea', 'peppermint', 'herbalness', 'perfumerie', 'grapefruit', 'shampoo', 'sunscreen', 'vanilla', 'salad']\n"
          ]
        },
        {
          "output_type": "stream",
          "name": "stderr",
          "text": [
            "<ipython-input-37-0265454a78df>:8: SettingWithCopyWarning: \n",
            "A value is trying to be set on a copy of a slice from a DataFrame\n",
            "\n",
            "See the caveats in the documentation: https://pandas.pydata.org/pandas-docs/stable/user_guide/indexing.html#returning-a-view-versus-a-copy\n",
            "  review['keyword'][i]=keyword\n",
            "\r 67%|██████▋   | 97/144 [1:21:29<32:31, 41.52s/it]"
          ]
        },
        {
          "output_type": "stream",
          "name": "stdout",
          "text": [
            "['vanilla', 'cinnamon', 'tea', 'peppercorn', 'whiskey', 'fragrancenet', 'lipstick', 'kerosene', 'fragrant', 'cake', 'resinous']\n"
          ]
        },
        {
          "output_type": "stream",
          "name": "stderr",
          "text": [
            "<ipython-input-37-0265454a78df>:8: SettingWithCopyWarning: \n",
            "A value is trying to be set on a copy of a slice from a DataFrame\n",
            "\n",
            "See the caveats in the documentation: https://pandas.pydata.org/pandas-docs/stable/user_guide/indexing.html#returning-a-view-versus-a-copy\n",
            "  review['keyword'][i]=keyword\n",
            "\r 68%|██████▊   | 98/144 [1:22:16<32:57, 42.99s/it]"
          ]
        },
        {
          "output_type": "stream",
          "name": "stdout",
          "text": [
            "['grapefruit', 'tea', 'perfume', 'liquorice', 'gingerbread', 'aftershave', 'vampire', 'syrupy']\n"
          ]
        },
        {
          "output_type": "stream",
          "name": "stderr",
          "text": [
            "<ipython-input-37-0265454a78df>:8: SettingWithCopyWarning: \n",
            "A value is trying to be set on a copy of a slice from a DataFrame\n",
            "\n",
            "See the caveats in the documentation: https://pandas.pydata.org/pandas-docs/stable/user_guide/indexing.html#returning-a-view-versus-a-copy\n",
            "  review['keyword'][i]=keyword\n",
            "\r 69%|██████▉   | 99/144 [1:23:06<33:58, 45.30s/it]"
          ]
        },
        {
          "output_type": "stream",
          "name": "stdout",
          "text": [
            "['vanilla', 'grapefruit', 'tea', 'cinnamon', 'platinum', 'citrusy', 'soapy']\n"
          ]
        },
        {
          "output_type": "stream",
          "name": "stderr",
          "text": [
            "<ipython-input-37-0265454a78df>:8: SettingWithCopyWarning: \n",
            "A value is trying to be set on a copy of a slice from a DataFrame\n",
            "\n",
            "See the caveats in the documentation: https://pandas.pydata.org/pandas-docs/stable/user_guide/indexing.html#returning-a-view-versus-a-copy\n",
            "  review['keyword'][i]=keyword\n",
            "\r 69%|██████▉   | 100/144 [1:23:58<34:41, 47.31s/it]"
          ]
        },
        {
          "output_type": "stream",
          "name": "stdout",
          "text": [
            "['vanilla', 'cinnamon', 'strawberries', 'milkshake', 'apricot', 'lemony']\n"
          ]
        },
        {
          "output_type": "stream",
          "name": "stderr",
          "text": [
            "<ipython-input-37-0265454a78df>:8: SettingWithCopyWarning: \n",
            "A value is trying to be set on a copy of a slice from a DataFrame\n",
            "\n",
            "See the caveats in the documentation: https://pandas.pydata.org/pandas-docs/stable/user_guide/indexing.html#returning-a-view-versus-a-copy\n",
            "  review['keyword'][i]=keyword\n",
            "\r 70%|███████   | 101/144 [1:25:02<37:22, 52.15s/it]"
          ]
        },
        {
          "output_type": "stream",
          "name": "stdout",
          "text": [
            "['soapiness', 'cinnamon', 'aromatherapy', 'vanilla', 'intoxicating', 'butterscotch', 'beeswax', 'citrus', 'soda', 'gucci', 'favorite', 'saleswoman']\n"
          ]
        },
        {
          "output_type": "stream",
          "name": "stderr",
          "text": [
            "<ipython-input-37-0265454a78df>:8: SettingWithCopyWarning: \n",
            "A value is trying to be set on a copy of a slice from a DataFrame\n",
            "\n",
            "See the caveats in the documentation: https://pandas.pydata.org/pandas-docs/stable/user_guide/indexing.html#returning-a-view-versus-a-copy\n",
            "  review['keyword'][i]=keyword\n",
            "\r 71%|███████   | 102/144 [1:26:00<37:47, 53.99s/it]"
          ]
        },
        {
          "output_type": "stream",
          "name": "stdout",
          "text": [
            "['cinnamonroll', 'vegan', 'lemonade']\n"
          ]
        },
        {
          "output_type": "stream",
          "name": "stderr",
          "text": [
            "<ipython-input-37-0265454a78df>:8: SettingWithCopyWarning: \n",
            "A value is trying to be set on a copy of a slice from a DataFrame\n",
            "\n",
            "See the caveats in the documentation: https://pandas.pydata.org/pandas-docs/stable/user_guide/indexing.html#returning-a-view-versus-a-copy\n",
            "  review['keyword'][i]=keyword\n",
            "\r 72%|███████▏  | 103/144 [1:27:13<40:46, 59.66s/it]"
          ]
        },
        {
          "output_type": "stream",
          "name": "stdout",
          "text": [
            "['chocolate', 'sexiest', 'cthulhu', 'godzilla', 'aftershave', 'smartdust', 'grapefruit', 'mermaid', 'ambermax', 'juggernaut', 'tequila', 'rosebush', 'tsunami', 'cologne', 'burglar']\n"
          ]
        },
        {
          "output_type": "stream",
          "name": "stderr",
          "text": [
            "<ipython-input-37-0265454a78df>:8: SettingWithCopyWarning: \n",
            "A value is trying to be set on a copy of a slice from a DataFrame\n",
            "\n",
            "See the caveats in the documentation: https://pandas.pydata.org/pandas-docs/stable/user_guide/indexing.html#returning-a-view-versus-a-copy\n",
            "  review['keyword'][i]=keyword\n",
            "\r 72%|███████▏  | 104/144 [1:27:51<35:29, 53.23s/it]"
          ]
        },
        {
          "output_type": "stream",
          "name": "stdout",
          "text": [
            "['apples', 'cinnamon', 'pineapple', 'vanilla', 'cognac', 'tea', 'coffee']\n"
          ]
        },
        {
          "output_type": "stream",
          "name": "stderr",
          "text": [
            "<ipython-input-37-0265454a78df>:8: SettingWithCopyWarning: \n",
            "A value is trying to be set on a copy of a slice from a DataFrame\n",
            "\n",
            "See the caveats in the documentation: https://pandas.pydata.org/pandas-docs/stable/user_guide/indexing.html#returning-a-view-versus-a-copy\n",
            "  review['keyword'][i]=keyword\n",
            "\r 73%|███████▎  | 105/144 [1:28:39<33:27, 51.49s/it]"
          ]
        },
        {
          "output_type": "stream",
          "name": "stdout",
          "text": [
            "['citrus', 'fruitier', 'soapiness', 'vanilla', 'peachy', 'lipstick', 'cupcake', 'tea', 'cocktail', 'bubblegumy', 'rihannas', 'ambergris', 'coffee', 'toothache', 'june', 'summertime']\n"
          ]
        },
        {
          "output_type": "stream",
          "name": "stderr",
          "text": [
            "<ipython-input-37-0265454a78df>:8: SettingWithCopyWarning: \n",
            "A value is trying to be set on a copy of a slice from a DataFrame\n",
            "\n",
            "See the caveats in the documentation: https://pandas.pydata.org/pandas-docs/stable/user_guide/indexing.html#returning-a-view-versus-a-copy\n",
            "  review['keyword'][i]=keyword\n",
            "\r 74%|███████▎  | 106/144 [1:29:28<32:14, 50.90s/it]"
          ]
        },
        {
          "output_type": "stream",
          "name": "stdout",
          "text": [
            "['vanilla', 'godzilla', 'liquorice', 'sexxxy', 'intoxicating', 'citrus', 'bubblegummy', 'cigar']\n"
          ]
        },
        {
          "output_type": "stream",
          "name": "stderr",
          "text": [
            "<ipython-input-37-0265454a78df>:8: SettingWithCopyWarning: \n",
            "A value is trying to be set on a copy of a slice from a DataFrame\n",
            "\n",
            "See the caveats in the documentation: https://pandas.pydata.org/pandas-docs/stable/user_guide/indexing.html#returning-a-view-versus-a-copy\n",
            "  review['keyword'][i]=keyword\n",
            "\r 74%|███████▍  | 107/144 [1:30:19<31:22, 50.88s/it]"
          ]
        },
        {
          "output_type": "stream",
          "name": "stdout",
          "text": [
            "['cinnamon', 'starbucks', 'marijuana', 'gingerbread', 'rihanna', 'tea', 'caffeine', 'kerosene', 'beans', 'intoxicated']\n"
          ]
        },
        {
          "output_type": "stream",
          "name": "stderr",
          "text": [
            "<ipython-input-37-0265454a78df>:8: SettingWithCopyWarning: \n",
            "A value is trying to be set on a copy of a slice from a DataFrame\n",
            "\n",
            "See the caveats in the documentation: https://pandas.pydata.org/pandas-docs/stable/user_guide/indexing.html#returning-a-view-versus-a-copy\n",
            "  review['keyword'][i]=keyword\n",
            "\r 75%|███████▌  | 108/144 [1:31:16<31:40, 52.79s/it]"
          ]
        },
        {
          "output_type": "stream",
          "name": "stdout",
          "text": [
            "['cinnamony', 'beeswax', 'tea', 'raspberries', 'dracula']\n"
          ]
        },
        {
          "output_type": "stream",
          "name": "stderr",
          "text": [
            "<ipython-input-37-0265454a78df>:8: SettingWithCopyWarning: \n",
            "A value is trying to be set on a copy of a slice from a DataFrame\n",
            "\n",
            "See the caveats in the documentation: https://pandas.pydata.org/pandas-docs/stable/user_guide/indexing.html#returning-a-view-versus-a-copy\n",
            "  review['keyword'][i]=keyword\n",
            "\r 76%|███████▌  | 109/144 [1:32:02<29:36, 50.77s/it]"
          ]
        },
        {
          "output_type": "stream",
          "name": "stdout",
          "text": [
            "['fragrancebuy', 'lemonade', 'medicinal', 'creamier', 'tea', 'spices', 'cinnamon', 'amaretto', 'cheapest', 'maceration', 'gucci', 'mandarin', 'cigar', 'shaving']\n"
          ]
        },
        {
          "output_type": "stream",
          "name": "stderr",
          "text": [
            "<ipython-input-37-0265454a78df>:8: SettingWithCopyWarning: \n",
            "A value is trying to be set on a copy of a slice from a DataFrame\n",
            "\n",
            "See the caveats in the documentation: https://pandas.pydata.org/pandas-docs/stable/user_guide/indexing.html#returning-a-view-versus-a-copy\n",
            "  review['keyword'][i]=keyword\n",
            "\r 76%|███████▋  | 110/144 [1:32:40<26:35, 46.93s/it]"
          ]
        },
        {
          "output_type": "stream",
          "name": "stdout",
          "text": [
            "['vanilla', 'cupcake', 'caramel', 'gingerbread', 'pineapple', 'bubblegum', 'christmasy', 'kitten', 'perfumers']\n"
          ]
        },
        {
          "output_type": "stream",
          "name": "stderr",
          "text": [
            "<ipython-input-37-0265454a78df>:8: SettingWithCopyWarning: \n",
            "A value is trying to be set on a copy of a slice from a DataFrame\n",
            "\n",
            "See the caveats in the documentation: https://pandas.pydata.org/pandas-docs/stable/user_guide/indexing.html#returning-a-view-versus-a-copy\n",
            "  review['keyword'][i]=keyword\n",
            "\r 77%|███████▋  | 111/144 [1:33:15<23:42, 43.12s/it]"
          ]
        },
        {
          "output_type": "stream",
          "name": "stdout",
          "text": [
            "['hazelnut', 'vanilla', 'cookies', 'tea', 'citrus', 'buttery', 'creamiest', 'milkiness', 'coconuttty', 'perfumery', 'bubblegum', 'marshmallows', 'cheese', 'breastfeeding']\n"
          ]
        },
        {
          "output_type": "stream",
          "name": "stderr",
          "text": [
            "<ipython-input-37-0265454a78df>:8: SettingWithCopyWarning: \n",
            "A value is trying to be set on a copy of a slice from a DataFrame\n",
            "\n",
            "See the caveats in the documentation: https://pandas.pydata.org/pandas-docs/stable/user_guide/indexing.html#returning-a-view-versus-a-copy\n",
            "  review['keyword'][i]=keyword\n",
            "\r 78%|███████▊  | 112/144 [1:33:39<19:57, 37.41s/it]"
          ]
        },
        {
          "output_type": "stream",
          "name": "stdout",
          "text": [
            "['creamier', 'cinnamon', 'vanilla', 'cheese', 'apple', 'fruity', 'pie', 'cake', 'grocery', 'amaretto', 'wine', 'cigars', 'amberlicious']\n"
          ]
        },
        {
          "output_type": "stream",
          "name": "stderr",
          "text": [
            "<ipython-input-37-0265454a78df>:8: SettingWithCopyWarning: \n",
            "A value is trying to be set on a copy of a slice from a DataFrame\n",
            "\n",
            "See the caveats in the documentation: https://pandas.pydata.org/pandas-docs/stable/user_guide/indexing.html#returning-a-view-versus-a-copy\n",
            "  review['keyword'][i]=keyword\n",
            "\r 78%|███████▊  | 113/144 [1:34:19<19:46, 38.27s/it]"
          ]
        },
        {
          "output_type": "stream",
          "name": "stdout",
          "text": [
            "['lemonade', 'vanilla', 'teabags', 'perfumey', 'caramel', 'creamier', 'gucci', 'aromatherapy', 'tuxedo', 'jazzy']\n"
          ]
        },
        {
          "output_type": "stream",
          "name": "stderr",
          "text": [
            "<ipython-input-37-0265454a78df>:8: SettingWithCopyWarning: \n",
            "A value is trying to be set on a copy of a slice from a DataFrame\n",
            "\n",
            "See the caveats in the documentation: https://pandas.pydata.org/pandas-docs/stable/user_guide/indexing.html#returning-a-view-versus-a-copy\n",
            "  review['keyword'][i]=keyword\n",
            "\r 79%|███████▉  | 114/144 [1:35:02<19:53, 39.79s/it]"
          ]
        },
        {
          "output_type": "stream",
          "name": "stdout",
          "text": [
            "['perfumey', 'lemonade', 'vanilla', 'lipstick', 'peach', 'tea', 'apples', 'shampoo', 'sunscreen', 'soda']\n"
          ]
        },
        {
          "output_type": "stream",
          "name": "stderr",
          "text": [
            "<ipython-input-37-0265454a78df>:8: SettingWithCopyWarning: \n",
            "A value is trying to be set on a copy of a slice from a DataFrame\n",
            "\n",
            "See the caveats in the documentation: https://pandas.pydata.org/pandas-docs/stable/user_guide/indexing.html#returning-a-view-versus-a-copy\n",
            "  review['keyword'][i]=keyword\n",
            "\r 80%|███████▉  | 115/144 [1:35:52<20:38, 42.70s/it]"
          ]
        },
        {
          "output_type": "stream",
          "name": "stdout",
          "text": [
            "['aftershave', 'cinnamon', 'buttery', 'cognac', 'beeswax', 'diabetic', 'maceration', 'citrus']\n"
          ]
        },
        {
          "output_type": "stream",
          "name": "stderr",
          "text": [
            "<ipython-input-37-0265454a78df>:8: SettingWithCopyWarning: \n",
            "A value is trying to be set on a copy of a slice from a DataFrame\n",
            "\n",
            "See the caveats in the documentation: https://pandas.pydata.org/pandas-docs/stable/user_guide/indexing.html#returning-a-view-versus-a-copy\n",
            "  review['keyword'][i]=keyword\n",
            "\r 81%|████████  | 116/144 [1:36:29<19:10, 41.08s/it]"
          ]
        },
        {
          "output_type": "stream",
          "name": "stdout",
          "text": [
            "['mangos', 'citrusy', 'perfumey', 'vanilla', 'creamier', 'syrupy', 'tea', 'passionfruit', 'champagne', 'porridge']\n"
          ]
        },
        {
          "output_type": "stream",
          "name": "stderr",
          "text": [
            "<ipython-input-37-0265454a78df>:8: SettingWithCopyWarning: \n",
            "A value is trying to be set on a copy of a slice from a DataFrame\n",
            "\n",
            "See the caveats in the documentation: https://pandas.pydata.org/pandas-docs/stable/user_guide/indexing.html#returning-a-view-versus-a-copy\n",
            "  review['keyword'][i]=keyword\n",
            "\r 81%|████████▏ | 117/144 [1:36:50<15:46, 35.06s/it]"
          ]
        },
        {
          "output_type": "stream",
          "name": "stdout",
          "text": [
            "[]\n"
          ]
        },
        {
          "output_type": "stream",
          "name": "stderr",
          "text": [
            "<ipython-input-37-0265454a78df>:8: SettingWithCopyWarning: \n",
            "A value is trying to be set on a copy of a slice from a DataFrame\n",
            "\n",
            "See the caveats in the documentation: https://pandas.pydata.org/pandas-docs/stable/user_guide/indexing.html#returning-a-view-versus-a-copy\n",
            "  review['keyword'][i]=keyword\n",
            "\r 82%|████████▏ | 118/144 [1:37:46<17:50, 41.19s/it]"
          ]
        },
        {
          "output_type": "stream",
          "name": "stdout",
          "text": [
            "['creamier', 'lipstick', 'sugarbombs', 'baroquebookwyrm', 'christmas', 'marshmellows', 'birch', 'alcoholic']\n"
          ]
        },
        {
          "output_type": "stream",
          "name": "stderr",
          "text": [
            "<ipython-input-37-0265454a78df>:8: SettingWithCopyWarning: \n",
            "A value is trying to be set on a copy of a slice from a DataFrame\n",
            "\n",
            "See the caveats in the documentation: https://pandas.pydata.org/pandas-docs/stable/user_guide/indexing.html#returning-a-view-versus-a-copy\n",
            "  review['keyword'][i]=keyword\n",
            "\r 83%|████████▎ | 119/144 [1:38:36<18:19, 43.98s/it]"
          ]
        },
        {
          "output_type": "stream",
          "name": "stdout",
          "text": [
            "['starbucks', 'caramely', 'tea', 'roses', 'whiskey', 'wine', 'kerosene', 'opium', 'beautybomb', 'caffe']\n"
          ]
        },
        {
          "output_type": "stream",
          "name": "stderr",
          "text": [
            "<ipython-input-37-0265454a78df>:8: SettingWithCopyWarning: \n",
            "A value is trying to be set on a copy of a slice from a DataFrame\n",
            "\n",
            "See the caveats in the documentation: https://pandas.pydata.org/pandas-docs/stable/user_guide/indexing.html#returning-a-view-versus-a-copy\n",
            "  review['keyword'][i]=keyword\n",
            "\r 83%|████████▎ | 120/144 [1:38:57<14:48, 37.00s/it]"
          ]
        },
        {
          "output_type": "stream",
          "name": "stdout",
          "text": [
            "['perfumey', 'toothpaste', 'aftershave', 'detergent', 'grapefruit', 'addictive', 'prada', 'powdery']\n"
          ]
        },
        {
          "output_type": "stream",
          "name": "stderr",
          "text": [
            "<ipython-input-37-0265454a78df>:8: SettingWithCopyWarning: \n",
            "A value is trying to be set on a copy of a slice from a DataFrame\n",
            "\n",
            "See the caveats in the documentation: https://pandas.pydata.org/pandas-docs/stable/user_guide/indexing.html#returning-a-view-versus-a-copy\n",
            "  review['keyword'][i]=keyword\n",
            "\r 84%|████████▍ | 121/144 [1:39:19<12:28, 32.52s/it]"
          ]
        },
        {
          "output_type": "stream",
          "name": "stdout",
          "text": [
            "['sunscreeny', 'citrusy', 'perfume', 'buttery', 'vanilla', 'suncream', 'cheapest', 'orchid', 'gucci']\n"
          ]
        },
        {
          "output_type": "stream",
          "name": "stderr",
          "text": [
            "<ipython-input-37-0265454a78df>:8: SettingWithCopyWarning: \n",
            "A value is trying to be set on a copy of a slice from a DataFrame\n",
            "\n",
            "See the caveats in the documentation: https://pandas.pydata.org/pandas-docs/stable/user_guide/indexing.html#returning-a-view-versus-a-copy\n",
            "  review['keyword'][i]=keyword\n",
            "\r 85%|████████▍ | 122/144 [1:40:00<12:54, 35.20s/it]"
          ]
        },
        {
          "output_type": "stream",
          "name": "stdout",
          "text": [
            "['perfumery', 'vanilla', 'lipsticky', 'prada', 'creamiest', 'peppercorn', 'ambergris', 'chanel', 'intoxicating']\n"
          ]
        },
        {
          "output_type": "stream",
          "name": "stderr",
          "text": [
            "<ipython-input-37-0265454a78df>:8: SettingWithCopyWarning: \n",
            "A value is trying to be set on a copy of a slice from a DataFrame\n",
            "\n",
            "See the caveats in the documentation: https://pandas.pydata.org/pandas-docs/stable/user_guide/indexing.html#returning-a-view-versus-a-copy\n",
            "  review['keyword'][i]=keyword\n",
            "\r 85%|████████▌ | 123/144 [1:40:48<13:41, 39.10s/it]"
          ]
        },
        {
          "output_type": "stream",
          "name": "stdout",
          "text": [
            "['cinnamony', 'cupcake']\n"
          ]
        },
        {
          "output_type": "stream",
          "name": "stderr",
          "text": [
            "<ipython-input-37-0265454a78df>:8: SettingWithCopyWarning: \n",
            "A value is trying to be set on a copy of a slice from a DataFrame\n",
            "\n",
            "See the caveats in the documentation: https://pandas.pydata.org/pandas-docs/stable/user_guide/indexing.html#returning-a-view-versus-a-copy\n",
            "  review['keyword'][i]=keyword\n",
            "\r 86%|████████▌ | 124/144 [1:41:39<14:11, 42.59s/it]"
          ]
        },
        {
          "output_type": "stream",
          "name": "stdout",
          "text": [
            "['vanilla', 'perfumer', 'vampire', 'creamier', 'ladylovesperfumes', 'vegan', 'stripper', 'sexiest', 'gingerbread', 'aftershave']\n"
          ]
        },
        {
          "output_type": "stream",
          "name": "stderr",
          "text": [
            "<ipython-input-37-0265454a78df>:8: SettingWithCopyWarning: \n",
            "A value is trying to be set on a copy of a slice from a DataFrame\n",
            "\n",
            "See the caveats in the documentation: https://pandas.pydata.org/pandas-docs/stable/user_guide/indexing.html#returning-a-view-versus-a-copy\n",
            "  review['keyword'][i]=keyword\n",
            "\r 87%|████████▋ | 125/144 [1:42:30<14:14, 44.98s/it]"
          ]
        },
        {
          "output_type": "stream",
          "name": "stdout",
          "text": [
            "['cinnamony', 'hazelnut', 'citrusy', 'tea', 'cognac', 'aftershave', 'apples', 'candles', 'lovefest', 'intoxicating', 'whiskey']\n"
          ]
        },
        {
          "output_type": "stream",
          "name": "stderr",
          "text": [
            "<ipython-input-37-0265454a78df>:8: SettingWithCopyWarning: \n",
            "A value is trying to be set on a copy of a slice from a DataFrame\n",
            "\n",
            "See the caveats in the documentation: https://pandas.pydata.org/pandas-docs/stable/user_guide/indexing.html#returning-a-view-versus-a-copy\n",
            "  review['keyword'][i]=keyword\n",
            "\r 88%|████████▊ | 126/144 [1:43:17<13:39, 45.53s/it]"
          ]
        },
        {
          "output_type": "stream",
          "name": "stdout",
          "text": [
            "['sharkleberry', 'lipstick', 'vanilla', 'britney', 'bridal', 'grapejuice', 'vampire', 'cupcake', 'liquorice', 'mermaidshimmer', 'coachella', 'stripper', 'barbie']\n"
          ]
        },
        {
          "output_type": "stream",
          "name": "stderr",
          "text": [
            "<ipython-input-37-0265454a78df>:8: SettingWithCopyWarning: \n",
            "A value is trying to be set on a copy of a slice from a DataFrame\n",
            "\n",
            "See the caveats in the documentation: https://pandas.pydata.org/pandas-docs/stable/user_guide/indexing.html#returning-a-view-versus-a-copy\n",
            "  review['keyword'][i]=keyword\n",
            "\r 88%|████████▊ | 127/144 [1:44:03<12:56, 45.66s/it]"
          ]
        },
        {
          "output_type": "stream",
          "name": "stdout",
          "text": [
            "['milkshake', 'tea', 'creamier', 'perfumey', 'vanilla', 'starbucks', 'guccis', 'chocolates', 'marshmallow', 'opium', 'citric']\n"
          ]
        },
        {
          "output_type": "stream",
          "name": "stderr",
          "text": [
            "<ipython-input-37-0265454a78df>:8: SettingWithCopyWarning: \n",
            "A value is trying to be set on a copy of a slice from a DataFrame\n",
            "\n",
            "See the caveats in the documentation: https://pandas.pydata.org/pandas-docs/stable/user_guide/indexing.html#returning-a-view-versus-a-copy\n",
            "  review['keyword'][i]=keyword\n",
            "\r 89%|████████▉ | 128/144 [1:45:00<13:08, 49.31s/it]"
          ]
        },
        {
          "output_type": "stream",
          "name": "stdout",
          "text": [
            "['vanilla', 'beeswax', 'cinnamon', 'liquorice', 'creamiest', 'cupcakes', 'gingerbread', 'citrusy', 'lipstick', 'fairytale', 'kerosene', 'herbalist', 'sunscreen']\n"
          ]
        },
        {
          "output_type": "stream",
          "name": "stderr",
          "text": [
            "<ipython-input-37-0265454a78df>:8: SettingWithCopyWarning: \n",
            "A value is trying to be set on a copy of a slice from a DataFrame\n",
            "\n",
            "See the caveats in the documentation: https://pandas.pydata.org/pandas-docs/stable/user_guide/indexing.html#returning-a-view-versus-a-copy\n",
            "  review['keyword'][i]=keyword\n",
            "\r 90%|████████▉ | 129/144 [1:45:51<12:25, 49.69s/it]"
          ]
        },
        {
          "output_type": "stream",
          "name": "stdout",
          "text": [
            "['pinkberries', 'citrusy', 'creamier', 'perfume', 'peppercorn', 'liquorice', 'herbalness', 'cinnamon', 'tea', 'coffee']\n"
          ]
        },
        {
          "output_type": "stream",
          "name": "stderr",
          "text": [
            "<ipython-input-37-0265454a78df>:8: SettingWithCopyWarning: \n",
            "A value is trying to be set on a copy of a slice from a DataFrame\n",
            "\n",
            "See the caveats in the documentation: https://pandas.pydata.org/pandas-docs/stable/user_guide/indexing.html#returning-a-view-versus-a-copy\n",
            "  review['keyword'][i]=keyword\n",
            "\r 90%|█████████ | 130/144 [1:46:35<11:10, 47.89s/it]"
          ]
        },
        {
          "output_type": "stream",
          "name": "stdout",
          "text": [
            "['cinnamon', 'lipstick', 'rihanna', 'marshmallowy', 'bubblegum', 'diabetes', 'soapy', 'popcorn']\n"
          ]
        },
        {
          "output_type": "stream",
          "name": "stderr",
          "text": [
            "<ipython-input-37-0265454a78df>:8: SettingWithCopyWarning: \n",
            "A value is trying to be set on a copy of a slice from a DataFrame\n",
            "\n",
            "See the caveats in the documentation: https://pandas.pydata.org/pandas-docs/stable/user_guide/indexing.html#returning-a-view-versus-a-copy\n",
            "  review['keyword'][i]=keyword\n",
            "\r 91%|█████████ | 131/144 [1:47:40<11:29, 53.07s/it]"
          ]
        },
        {
          "output_type": "stream",
          "name": "stdout",
          "text": [
            "['perfumey', 'beeswax', 'hazelnut', 'cupcake', 'chocolatey', 'champagne', 'beyonce', 'aftershave', 'tuxedo', 'vampiric']\n"
          ]
        },
        {
          "output_type": "stream",
          "name": "stderr",
          "text": [
            "<ipython-input-37-0265454a78df>:8: SettingWithCopyWarning: \n",
            "A value is trying to be set on a copy of a slice from a DataFrame\n",
            "\n",
            "See the caveats in the documentation: https://pandas.pydata.org/pandas-docs/stable/user_guide/indexing.html#returning-a-view-versus-a-copy\n",
            "  review['keyword'][i]=keyword\n",
            "\r 92%|█████████▏| 132/144 [1:48:35<10:44, 53.74s/it]"
          ]
        },
        {
          "output_type": "stream",
          "name": "stdout",
          "text": [
            "['watermelon', 'tuna', 'gucci', 'lipsticky', 'citruses', 'cinnamon']\n"
          ]
        },
        {
          "output_type": "stream",
          "name": "stderr",
          "text": [
            "<ipython-input-37-0265454a78df>:8: SettingWithCopyWarning: \n",
            "A value is trying to be set on a copy of a slice from a DataFrame\n",
            "\n",
            "See the caveats in the documentation: https://pandas.pydata.org/pandas-docs/stable/user_guide/indexing.html#returning-a-view-versus-a-copy\n",
            "  review['keyword'][i]=keyword\n",
            "\r 92%|█████████▏| 133/144 [1:49:34<10:09, 55.39s/it]"
          ]
        },
        {
          "output_type": "stream",
          "name": "stdout",
          "text": [
            "['supermodel', 'vanillas', 'cinnamon', 'cognac', 'chocolatey', 'lipstick', 'vogue', 'bestseller', 'cupcake', 'intoxicating', 'angelique', 'christmassy']\n"
          ]
        },
        {
          "output_type": "stream",
          "name": "stderr",
          "text": [
            "<ipython-input-37-0265454a78df>:8: SettingWithCopyWarning: \n",
            "A value is trying to be set on a copy of a slice from a DataFrame\n",
            "\n",
            "See the caveats in the documentation: https://pandas.pydata.org/pandas-docs/stable/user_guide/indexing.html#returning-a-view-versus-a-copy\n",
            "  review['keyword'][i]=keyword\n",
            "\r 93%|█████████▎| 134/144 [1:50:36<09:34, 57.42s/it]"
          ]
        },
        {
          "output_type": "stream",
          "name": "stdout",
          "text": [
            "['peppercorn', 'cinnamon', 'gucci', 'lipstick', 'creamier', 'tea', 'popcorn', 'bubblegum', 'intoxicated']\n"
          ]
        },
        {
          "output_type": "stream",
          "name": "stderr",
          "text": [
            "<ipython-input-37-0265454a78df>:8: SettingWithCopyWarning: \n",
            "A value is trying to be set on a copy of a slice from a DataFrame\n",
            "\n",
            "See the caveats in the documentation: https://pandas.pydata.org/pandas-docs/stable/user_guide/indexing.html#returning-a-view-versus-a-copy\n",
            "  review['keyword'][i]=keyword\n",
            "\r 94%|█████████▍| 135/144 [1:51:45<09:05, 60.66s/it]"
          ]
        },
        {
          "output_type": "stream",
          "name": "stdout",
          "text": [
            "['lemontree', 'mango', 'grape', 'vanilla', 'juniper', 'fruity', 'tea', 'perfumes', 'gucci', 'toothpaste', 'sunscreen', 'ambergris']\n"
          ]
        },
        {
          "output_type": "stream",
          "name": "stderr",
          "text": [
            "<ipython-input-37-0265454a78df>:8: SettingWithCopyWarning: \n",
            "A value is trying to be set on a copy of a slice from a DataFrame\n",
            "\n",
            "See the caveats in the documentation: https://pandas.pydata.org/pandas-docs/stable/user_guide/indexing.html#returning-a-view-versus-a-copy\n",
            "  review['keyword'][i]=keyword\n",
            "\r 94%|█████████▍| 136/144 [1:52:49<08:14, 61.76s/it]"
          ]
        },
        {
          "output_type": "stream",
          "name": "stdout",
          "text": [
            "['milkshake', 'soapier', 'cognac', 'citrusy', 'vanilla', 'herbal', 'cupcake', 'sunscreen', 'cola', 'cannabis', 'bubblegum', 'tuxedo']\n"
          ]
        },
        {
          "output_type": "stream",
          "name": "stderr",
          "text": [
            "<ipython-input-37-0265454a78df>:8: SettingWithCopyWarning: \n",
            "A value is trying to be set on a copy of a slice from a DataFrame\n",
            "\n",
            "See the caveats in the documentation: https://pandas.pydata.org/pandas-docs/stable/user_guide/indexing.html#returning-a-view-versus-a-copy\n",
            "  review['keyword'][i]=keyword\n",
            "\r 95%|█████████▌| 137/144 [1:53:25<06:18, 54.02s/it]"
          ]
        },
        {
          "output_type": "stream",
          "name": "stdout",
          "text": [
            "['strawberry', 'strawberries', 'raspberry', 'vanilla', 'cinnamon', 'syrupy', 'perfumey', 'gay', 'opium']\n"
          ]
        },
        {
          "output_type": "stream",
          "name": "stderr",
          "text": [
            "<ipython-input-37-0265454a78df>:8: SettingWithCopyWarning: \n",
            "A value is trying to be set on a copy of a slice from a DataFrame\n",
            "\n",
            "See the caveats in the documentation: https://pandas.pydata.org/pandas-docs/stable/user_guide/indexing.html#returning-a-view-versus-a-copy\n",
            "  review['keyword'][i]=keyword\n",
            "\r 96%|█████████▌| 138/144 [1:54:01<04:51, 48.57s/it]"
          ]
        },
        {
          "output_type": "stream",
          "name": "stdout",
          "text": [
            "['vanilla', 'grapefruit', 'cinnamon', 'pineapple']\n"
          ]
        },
        {
          "output_type": "stream",
          "name": "stderr",
          "text": [
            "<ipython-input-37-0265454a78df>:8: SettingWithCopyWarning: \n",
            "A value is trying to be set on a copy of a slice from a DataFrame\n",
            "\n",
            "See the caveats in the documentation: https://pandas.pydata.org/pandas-docs/stable/user_guide/indexing.html#returning-a-view-versus-a-copy\n",
            "  review['keyword'][i]=keyword\n",
            "\r 97%|█████████▋| 139/144 [1:54:46<03:57, 47.56s/it]"
          ]
        },
        {
          "output_type": "stream",
          "name": "stdout",
          "text": [
            "['perfumey', 'vanilla', 'citrus', 'spices', 'buttery', 'milkshake', 'sunscreen', 'marshmallowy', 'juniper', 'gastronomy', 'paranormal', 'medicine', 'tequila']\n"
          ]
        },
        {
          "output_type": "stream",
          "name": "stderr",
          "text": [
            "<ipython-input-37-0265454a78df>:8: SettingWithCopyWarning: \n",
            "A value is trying to be set on a copy of a slice from a DataFrame\n",
            "\n",
            "See the caveats in the documentation: https://pandas.pydata.org/pandas-docs/stable/user_guide/indexing.html#returning-a-view-versus-a-copy\n",
            "  review['keyword'][i]=keyword\n",
            "\r 97%|█████████▋| 140/144 [1:55:49<03:28, 52.19s/it]"
          ]
        },
        {
          "output_type": "stream",
          "name": "stdout",
          "text": [
            "['lipsticky', 'intoxicating', 'wealthy', 'gucci', 'friendlier', 'demonic', 'tea', 'remastered', 'citrus', 'cucumber']\n"
          ]
        },
        {
          "output_type": "stream",
          "name": "stderr",
          "text": [
            "<ipython-input-37-0265454a78df>:8: SettingWithCopyWarning: \n",
            "A value is trying to be set on a copy of a slice from a DataFrame\n",
            "\n",
            "See the caveats in the documentation: https://pandas.pydata.org/pandas-docs/stable/user_guide/indexing.html#returning-a-view-versus-a-copy\n",
            "  review['keyword'][i]=keyword\n",
            "\r 98%|█████████▊| 141/144 [1:56:57<02:50, 56.96s/it]"
          ]
        },
        {
          "output_type": "stream",
          "name": "stdout",
          "text": [
            "['perfumey', 'vanilla', 'cinnamon', 'beeswax', 'teacup', 'syrupy', 'lilac', 'citrus', 'buttery', 'cognac', 'lollipop', 'loveliest', 'cedarwood', 'christmas']\n"
          ]
        },
        {
          "output_type": "stream",
          "name": "stderr",
          "text": [
            "<ipython-input-37-0265454a78df>:8: SettingWithCopyWarning: \n",
            "A value is trying to be set on a copy of a slice from a DataFrame\n",
            "\n",
            "See the caveats in the documentation: https://pandas.pydata.org/pandas-docs/stable/user_guide/indexing.html#returning-a-view-versus-a-copy\n",
            "  review['keyword'][i]=keyword\n",
            "\r 99%|█████████▊| 142/144 [1:57:57<01:55, 57.71s/it]"
          ]
        },
        {
          "output_type": "stream",
          "name": "stdout",
          "text": [
            "['grapefruit', 'perfume', 'vanilla', 'tea', 'cinnamony', 'lipstick', 'hazelnut', 'liquorice', 'fruity', 'sagebrush', 'jasmine', 'aftershave', 'toothpaste']\n"
          ]
        },
        {
          "output_type": "stream",
          "name": "stderr",
          "text": [
            "<ipython-input-37-0265454a78df>:8: SettingWithCopyWarning: \n",
            "A value is trying to be set on a copy of a slice from a DataFrame\n",
            "\n",
            "See the caveats in the documentation: https://pandas.pydata.org/pandas-docs/stable/user_guide/indexing.html#returning-a-view-versus-a-copy\n",
            "  review['keyword'][i]=keyword\n",
            "\r 99%|█████████▉| 143/144 [1:58:53<00:57, 57.39s/it]"
          ]
        },
        {
          "output_type": "stream",
          "name": "stdout",
          "text": [
            "['caramely', 'vanilla', 'lipstick', 'tea', 'citrus', 'butter', 'fairytale']\n"
          ]
        },
        {
          "output_type": "stream",
          "name": "stderr",
          "text": [
            "<ipython-input-37-0265454a78df>:8: SettingWithCopyWarning: \n",
            "A value is trying to be set on a copy of a slice from a DataFrame\n",
            "\n",
            "See the caveats in the documentation: https://pandas.pydata.org/pandas-docs/stable/user_guide/indexing.html#returning-a-view-versus-a-copy\n",
            "  review['keyword'][i]=keyword\n",
            "100%|██████████| 144/144 [1:59:43<00:00, 49.89s/it]"
          ]
        },
        {
          "output_type": "stream",
          "name": "stdout",
          "text": [
            "['vanilla', 'butteriness', 'tea', 'coconutiness', 'cupcake']\n"
          ]
        },
        {
          "output_type": "stream",
          "name": "stderr",
          "text": [
            "\n"
          ]
        }
      ]
    },
    {
      "cell_type": "code",
      "source": [
        "review"
      ],
      "metadata": {
        "colab": {
          "base_uri": "https://localhost:8080/",
          "height": 423
        },
        "id": "q8U5dVqW20zP",
        "outputId": "950f4a48-d915-4e59-e1f4-dae4fb029acb"
      },
      "execution_count": null,
      "outputs": [
        {
          "output_type": "execute_result",
          "data": {
            "text/plain": [
              "     Unnamed: 0                                             review  \\\n",
              "0             0  skin get strawberry jelly candies. nostalgic p...   \n",
              "1             1  first sprayed boozy warm apple pie lasted seco...   \n",
              "2             2  way masculine cant seem sell bottle... anyone ...   \n",
              "3             3  dry smoky sweet woods. feel like time ive smel...   \n",
              "4             4  would love smell someone else unfortunately go...   \n",
              "..          ...                                                ...   \n",
              "139         139  love original interlude better version. rounde...   \n",
              "140         140  softly spiced plum slightly powdery florals. s...   \n",
              "141         141  bit masculine considered unisex true sense fra...   \n",
              "142         142  sweet dont detect note separately. try future....   \n",
              "143         143  creamy jasmine floral scent expect name vanill...   \n",
              "\n",
              "                       name                     brand  \\\n",
              "0        Baccarat Rouge 540  Maison Francis Kurkdjian   \n",
              "1             Angels' Share                 By Kilian   \n",
              "2           Tobacco Vanille                  Tom Ford   \n",
              "3          By the Fireplace    Maison Martin Margiela   \n",
              "4               Lost Cherry                  Tom Ford   \n",
              "..                      ...                       ...   \n",
              "139    Interlude Black Iris                   Amouage   \n",
              "140        Feminité du Bois              Serge Lutens   \n",
              "141                 Halfeti              Penhaligon's   \n",
              "142         Fève Délicieuse                      Dior   \n",
              "143  Utopia Vanilla Coco 21         Kayali Fragrances   \n",
              "\n",
              "                                               keyword  \n",
              "0    [vanilla, sugarsweet, strawberry, creamier, st...  \n",
              "1    [cinnamony, buttercream, vanilla, apples, frui...  \n",
              "2    [hazelnut_kitty, vanilla, honeyberry, cinnamon...  \n",
              "3    [vanilla, tea, marshmellows, peppercorn, junip...  \n",
              "4    [perfume, cinnamon, roses, vanilla, fruity, te...  \n",
              "..                                                 ...  \n",
              "139  [lipsticky, intoxicating, wealthy, gucci, frie...  \n",
              "140  [perfumey, vanilla, cinnamon, beeswax, teacup,...  \n",
              "141  [grapefruit, perfume, vanilla, tea, cinnamony,...  \n",
              "142  [caramely, vanilla, lipstick, tea, citrus, but...  \n",
              "143  [vanilla, butteriness, tea, coconutiness, cupc...  \n",
              "\n",
              "[144 rows x 5 columns]"
            ],
            "text/html": [
              "\n",
              "  <div id=\"df-2de05660-0eb8-4d2b-929a-e3430e12fa35\">\n",
              "    <div class=\"colab-df-container\">\n",
              "      <div>\n",
              "<style scoped>\n",
              "    .dataframe tbody tr th:only-of-type {\n",
              "        vertical-align: middle;\n",
              "    }\n",
              "\n",
              "    .dataframe tbody tr th {\n",
              "        vertical-align: top;\n",
              "    }\n",
              "\n",
              "    .dataframe thead th {\n",
              "        text-align: right;\n",
              "    }\n",
              "</style>\n",
              "<table border=\"1\" class=\"dataframe\">\n",
              "  <thead>\n",
              "    <tr style=\"text-align: right;\">\n",
              "      <th></th>\n",
              "      <th>Unnamed: 0</th>\n",
              "      <th>review</th>\n",
              "      <th>name</th>\n",
              "      <th>brand</th>\n",
              "      <th>keyword</th>\n",
              "    </tr>\n",
              "  </thead>\n",
              "  <tbody>\n",
              "    <tr>\n",
              "      <th>0</th>\n",
              "      <td>0</td>\n",
              "      <td>skin get strawberry jelly candies. nostalgic p...</td>\n",
              "      <td>Baccarat Rouge 540</td>\n",
              "      <td>Maison Francis Kurkdjian</td>\n",
              "      <td>[vanilla, sugarsweet, strawberry, creamier, st...</td>\n",
              "    </tr>\n",
              "    <tr>\n",
              "      <th>1</th>\n",
              "      <td>1</td>\n",
              "      <td>first sprayed boozy warm apple pie lasted seco...</td>\n",
              "      <td>Angels' Share</td>\n",
              "      <td>By Kilian</td>\n",
              "      <td>[cinnamony, buttercream, vanilla, apples, frui...</td>\n",
              "    </tr>\n",
              "    <tr>\n",
              "      <th>2</th>\n",
              "      <td>2</td>\n",
              "      <td>way masculine cant seem sell bottle... anyone ...</td>\n",
              "      <td>Tobacco Vanille</td>\n",
              "      <td>Tom Ford</td>\n",
              "      <td>[hazelnut_kitty, vanilla, honeyberry, cinnamon...</td>\n",
              "    </tr>\n",
              "    <tr>\n",
              "      <th>3</th>\n",
              "      <td>3</td>\n",
              "      <td>dry smoky sweet woods. feel like time ive smel...</td>\n",
              "      <td>By the Fireplace</td>\n",
              "      <td>Maison Martin Margiela</td>\n",
              "      <td>[vanilla, tea, marshmellows, peppercorn, junip...</td>\n",
              "    </tr>\n",
              "    <tr>\n",
              "      <th>4</th>\n",
              "      <td>4</td>\n",
              "      <td>would love smell someone else unfortunately go...</td>\n",
              "      <td>Lost Cherry</td>\n",
              "      <td>Tom Ford</td>\n",
              "      <td>[perfume, cinnamon, roses, vanilla, fruity, te...</td>\n",
              "    </tr>\n",
              "    <tr>\n",
              "      <th>...</th>\n",
              "      <td>...</td>\n",
              "      <td>...</td>\n",
              "      <td>...</td>\n",
              "      <td>...</td>\n",
              "      <td>...</td>\n",
              "    </tr>\n",
              "    <tr>\n",
              "      <th>139</th>\n",
              "      <td>139</td>\n",
              "      <td>love original interlude better version. rounde...</td>\n",
              "      <td>Interlude Black Iris</td>\n",
              "      <td>Amouage</td>\n",
              "      <td>[lipsticky, intoxicating, wealthy, gucci, frie...</td>\n",
              "    </tr>\n",
              "    <tr>\n",
              "      <th>140</th>\n",
              "      <td>140</td>\n",
              "      <td>softly spiced plum slightly powdery florals. s...</td>\n",
              "      <td>Feminité du Bois</td>\n",
              "      <td>Serge Lutens</td>\n",
              "      <td>[perfumey, vanilla, cinnamon, beeswax, teacup,...</td>\n",
              "    </tr>\n",
              "    <tr>\n",
              "      <th>141</th>\n",
              "      <td>141</td>\n",
              "      <td>bit masculine considered unisex true sense fra...</td>\n",
              "      <td>Halfeti</td>\n",
              "      <td>Penhaligon's</td>\n",
              "      <td>[grapefruit, perfume, vanilla, tea, cinnamony,...</td>\n",
              "    </tr>\n",
              "    <tr>\n",
              "      <th>142</th>\n",
              "      <td>142</td>\n",
              "      <td>sweet dont detect note separately. try future....</td>\n",
              "      <td>Fève Délicieuse</td>\n",
              "      <td>Dior</td>\n",
              "      <td>[caramely, vanilla, lipstick, tea, citrus, but...</td>\n",
              "    </tr>\n",
              "    <tr>\n",
              "      <th>143</th>\n",
              "      <td>143</td>\n",
              "      <td>creamy jasmine floral scent expect name vanill...</td>\n",
              "      <td>Utopia Vanilla Coco 21</td>\n",
              "      <td>Kayali Fragrances</td>\n",
              "      <td>[vanilla, butteriness, tea, coconutiness, cupc...</td>\n",
              "    </tr>\n",
              "  </tbody>\n",
              "</table>\n",
              "<p>144 rows × 5 columns</p>\n",
              "</div>\n",
              "      <button class=\"colab-df-convert\" onclick=\"convertToInteractive('df-2de05660-0eb8-4d2b-929a-e3430e12fa35')\"\n",
              "              title=\"Convert this dataframe to an interactive table.\"\n",
              "              style=\"display:none;\">\n",
              "        \n",
              "  <svg xmlns=\"http://www.w3.org/2000/svg\" height=\"24px\"viewBox=\"0 0 24 24\"\n",
              "       width=\"24px\">\n",
              "    <path d=\"M0 0h24v24H0V0z\" fill=\"none\"/>\n",
              "    <path d=\"M18.56 5.44l.94 2.06.94-2.06 2.06-.94-2.06-.94-.94-2.06-.94 2.06-2.06.94zm-11 1L8.5 8.5l.94-2.06 2.06-.94-2.06-.94L8.5 2.5l-.94 2.06-2.06.94zm10 10l.94 2.06.94-2.06 2.06-.94-2.06-.94-.94-2.06-.94 2.06-2.06.94z\"/><path d=\"M17.41 7.96l-1.37-1.37c-.4-.4-.92-.59-1.43-.59-.52 0-1.04.2-1.43.59L10.3 9.45l-7.72 7.72c-.78.78-.78 2.05 0 2.83L4 21.41c.39.39.9.59 1.41.59.51 0 1.02-.2 1.41-.59l7.78-7.78 2.81-2.81c.8-.78.8-2.07 0-2.86zM5.41 20L4 18.59l7.72-7.72 1.47 1.35L5.41 20z\"/>\n",
              "  </svg>\n",
              "      </button>\n",
              "      \n",
              "  <style>\n",
              "    .colab-df-container {\n",
              "      display:flex;\n",
              "      flex-wrap:wrap;\n",
              "      gap: 12px;\n",
              "    }\n",
              "\n",
              "    .colab-df-convert {\n",
              "      background-color: #E8F0FE;\n",
              "      border: none;\n",
              "      border-radius: 50%;\n",
              "      cursor: pointer;\n",
              "      display: none;\n",
              "      fill: #1967D2;\n",
              "      height: 32px;\n",
              "      padding: 0 0 0 0;\n",
              "      width: 32px;\n",
              "    }\n",
              "\n",
              "    .colab-df-convert:hover {\n",
              "      background-color: #E2EBFA;\n",
              "      box-shadow: 0px 1px 2px rgba(60, 64, 67, 0.3), 0px 1px 3px 1px rgba(60, 64, 67, 0.15);\n",
              "      fill: #174EA6;\n",
              "    }\n",
              "\n",
              "    [theme=dark] .colab-df-convert {\n",
              "      background-color: #3B4455;\n",
              "      fill: #D2E3FC;\n",
              "    }\n",
              "\n",
              "    [theme=dark] .colab-df-convert:hover {\n",
              "      background-color: #434B5C;\n",
              "      box-shadow: 0px 1px 3px 1px rgba(0, 0, 0, 0.15);\n",
              "      filter: drop-shadow(0px 1px 2px rgba(0, 0, 0, 0.3));\n",
              "      fill: #FFFFFF;\n",
              "    }\n",
              "  </style>\n",
              "\n",
              "      <script>\n",
              "        const buttonEl =\n",
              "          document.querySelector('#df-2de05660-0eb8-4d2b-929a-e3430e12fa35 button.colab-df-convert');\n",
              "        buttonEl.style.display =\n",
              "          google.colab.kernel.accessAllowed ? 'block' : 'none';\n",
              "\n",
              "        async function convertToInteractive(key) {\n",
              "          const element = document.querySelector('#df-2de05660-0eb8-4d2b-929a-e3430e12fa35');\n",
              "          const dataTable =\n",
              "            await google.colab.kernel.invokeFunction('convertToInteractive',\n",
              "                                                     [key], {});\n",
              "          if (!dataTable) return;\n",
              "\n",
              "          const docLinkHtml = 'Like what you see? Visit the ' +\n",
              "            '<a target=\"_blank\" href=https://colab.research.google.com/notebooks/data_table.ipynb>data table notebook</a>'\n",
              "            + ' to learn more about interactive tables.';\n",
              "          element.innerHTML = '';\n",
              "          dataTable['output_type'] = 'display_data';\n",
              "          await google.colab.output.renderOutput(dataTable, element);\n",
              "          const docLink = document.createElement('div');\n",
              "          docLink.innerHTML = docLinkHtml;\n",
              "          element.appendChild(docLink);\n",
              "        }\n",
              "      </script>\n",
              "    </div>\n",
              "  </div>\n",
              "  "
            ]
          },
          "metadata": {},
          "execution_count": 46
        }
      ]
    },
    {
      "cell_type": "code",
      "source": [
        "review.to_csv(path_or_buf='/content/drive/MyDrive/review.csv')"
      ],
      "metadata": {
        "id": "KmmbrXRCPWuz"
      },
      "execution_count": null,
      "outputs": []
    },
    {
      "cell_type": "code",
      "source": [
        "review"
      ],
      "metadata": {
        "colab": {
          "base_uri": "https://localhost:8080/",
          "height": 423
        },
        "id": "ZRy0mbkZlQMH",
        "outputId": "b60de43a-1214-4c6b-a66d-9816ca765dfe"
      },
      "execution_count": null,
      "outputs": [
        {
          "output_type": "execute_result",
          "data": {
            "text/plain": [
              "     Unnamed: 0                                             review  \\\n",
              "0             0  skin get strawberry jelly candies. nostalgic p...   \n",
              "1             1  first sprayed boozy warm apple pie lasted seco...   \n",
              "2             2  way masculine cant seem sell bottle... anyone ...   \n",
              "3             3  dry smoky sweet woods. feel like time ive smel...   \n",
              "4             4  would love smell someone else unfortunately go...   \n",
              "..          ...                                                ...   \n",
              "139         139  love original interlude better version. rounde...   \n",
              "140         140  softly spiced plum slightly powdery florals. s...   \n",
              "141         141  bit masculine considered unisex true sense fra...   \n",
              "142         142  sweet dont detect note separately. try future....   \n",
              "143         143  creamy jasmine floral scent expect name vanill...   \n",
              "\n",
              "                       name                     brand  \\\n",
              "0        Baccarat Rouge 540  Maison Francis Kurkdjian   \n",
              "1             Angels' Share                 By Kilian   \n",
              "2           Tobacco Vanille                  Tom Ford   \n",
              "3          By the Fireplace    Maison Martin Margiela   \n",
              "4               Lost Cherry                  Tom Ford   \n",
              "..                      ...                       ...   \n",
              "139    Interlude Black Iris                   Amouage   \n",
              "140        Feminité du Bois              Serge Lutens   \n",
              "141                 Halfeti              Penhaligon's   \n",
              "142         Fève Délicieuse                      Dior   \n",
              "143  Utopia Vanilla Coco 21         Kayali Fragrances   \n",
              "\n",
              "                                               keyword  \n",
              "0    [vanilla, sugarsweet, strawberry, creamier, st...  \n",
              "1    [cinnamony, buttercream, vanilla, apples, frui...  \n",
              "2    [hazelnut_kitty, vanilla, honeyberry, cinnamon...  \n",
              "3    [vanilla, tea, marshmellows, peppercorn, junip...  \n",
              "4    [perfume, cinnamon, roses, vanilla, fruity, te...  \n",
              "..                                                 ...  \n",
              "139  [lipsticky, intoxicating, wealthy, gucci, frie...  \n",
              "140  [perfumey, vanilla, cinnamon, beeswax, teacup,...  \n",
              "141  [grapefruit, perfume, vanilla, tea, cinnamony,...  \n",
              "142  [caramely, vanilla, lipstick, tea, citrus, but...  \n",
              "143  [vanilla, butteriness, tea, coconutiness, cupc...  \n",
              "\n",
              "[144 rows x 5 columns]"
            ],
            "text/html": [
              "\n",
              "  <div id=\"df-ec47293c-a21e-43a6-a51b-521e23b28c84\">\n",
              "    <div class=\"colab-df-container\">\n",
              "      <div>\n",
              "<style scoped>\n",
              "    .dataframe tbody tr th:only-of-type {\n",
              "        vertical-align: middle;\n",
              "    }\n",
              "\n",
              "    .dataframe tbody tr th {\n",
              "        vertical-align: top;\n",
              "    }\n",
              "\n",
              "    .dataframe thead th {\n",
              "        text-align: right;\n",
              "    }\n",
              "</style>\n",
              "<table border=\"1\" class=\"dataframe\">\n",
              "  <thead>\n",
              "    <tr style=\"text-align: right;\">\n",
              "      <th></th>\n",
              "      <th>Unnamed: 0</th>\n",
              "      <th>review</th>\n",
              "      <th>name</th>\n",
              "      <th>brand</th>\n",
              "      <th>keyword</th>\n",
              "    </tr>\n",
              "  </thead>\n",
              "  <tbody>\n",
              "    <tr>\n",
              "      <th>0</th>\n",
              "      <td>0</td>\n",
              "      <td>skin get strawberry jelly candies. nostalgic p...</td>\n",
              "      <td>Baccarat Rouge 540</td>\n",
              "      <td>Maison Francis Kurkdjian</td>\n",
              "      <td>[vanilla, sugarsweet, strawberry, creamier, st...</td>\n",
              "    </tr>\n",
              "    <tr>\n",
              "      <th>1</th>\n",
              "      <td>1</td>\n",
              "      <td>first sprayed boozy warm apple pie lasted seco...</td>\n",
              "      <td>Angels' Share</td>\n",
              "      <td>By Kilian</td>\n",
              "      <td>[cinnamony, buttercream, vanilla, apples, frui...</td>\n",
              "    </tr>\n",
              "    <tr>\n",
              "      <th>2</th>\n",
              "      <td>2</td>\n",
              "      <td>way masculine cant seem sell bottle... anyone ...</td>\n",
              "      <td>Tobacco Vanille</td>\n",
              "      <td>Tom Ford</td>\n",
              "      <td>[hazelnut_kitty, vanilla, honeyberry, cinnamon...</td>\n",
              "    </tr>\n",
              "    <tr>\n",
              "      <th>3</th>\n",
              "      <td>3</td>\n",
              "      <td>dry smoky sweet woods. feel like time ive smel...</td>\n",
              "      <td>By the Fireplace</td>\n",
              "      <td>Maison Martin Margiela</td>\n",
              "      <td>[vanilla, tea, marshmellows, peppercorn, junip...</td>\n",
              "    </tr>\n",
              "    <tr>\n",
              "      <th>4</th>\n",
              "      <td>4</td>\n",
              "      <td>would love smell someone else unfortunately go...</td>\n",
              "      <td>Lost Cherry</td>\n",
              "      <td>Tom Ford</td>\n",
              "      <td>[perfume, cinnamon, roses, vanilla, fruity, te...</td>\n",
              "    </tr>\n",
              "    <tr>\n",
              "      <th>...</th>\n",
              "      <td>...</td>\n",
              "      <td>...</td>\n",
              "      <td>...</td>\n",
              "      <td>...</td>\n",
              "      <td>...</td>\n",
              "    </tr>\n",
              "    <tr>\n",
              "      <th>139</th>\n",
              "      <td>139</td>\n",
              "      <td>love original interlude better version. rounde...</td>\n",
              "      <td>Interlude Black Iris</td>\n",
              "      <td>Amouage</td>\n",
              "      <td>[lipsticky, intoxicating, wealthy, gucci, frie...</td>\n",
              "    </tr>\n",
              "    <tr>\n",
              "      <th>140</th>\n",
              "      <td>140</td>\n",
              "      <td>softly spiced plum slightly powdery florals. s...</td>\n",
              "      <td>Feminité du Bois</td>\n",
              "      <td>Serge Lutens</td>\n",
              "      <td>[perfumey, vanilla, cinnamon, beeswax, teacup,...</td>\n",
              "    </tr>\n",
              "    <tr>\n",
              "      <th>141</th>\n",
              "      <td>141</td>\n",
              "      <td>bit masculine considered unisex true sense fra...</td>\n",
              "      <td>Halfeti</td>\n",
              "      <td>Penhaligon's</td>\n",
              "      <td>[grapefruit, perfume, vanilla, tea, cinnamony,...</td>\n",
              "    </tr>\n",
              "    <tr>\n",
              "      <th>142</th>\n",
              "      <td>142</td>\n",
              "      <td>sweet dont detect note separately. try future....</td>\n",
              "      <td>Fève Délicieuse</td>\n",
              "      <td>Dior</td>\n",
              "      <td>[caramely, vanilla, lipstick, tea, citrus, but...</td>\n",
              "    </tr>\n",
              "    <tr>\n",
              "      <th>143</th>\n",
              "      <td>143</td>\n",
              "      <td>creamy jasmine floral scent expect name vanill...</td>\n",
              "      <td>Utopia Vanilla Coco 21</td>\n",
              "      <td>Kayali Fragrances</td>\n",
              "      <td>[vanilla, butteriness, tea, coconutiness, cupc...</td>\n",
              "    </tr>\n",
              "  </tbody>\n",
              "</table>\n",
              "<p>144 rows × 5 columns</p>\n",
              "</div>\n",
              "      <button class=\"colab-df-convert\" onclick=\"convertToInteractive('df-ec47293c-a21e-43a6-a51b-521e23b28c84')\"\n",
              "              title=\"Convert this dataframe to an interactive table.\"\n",
              "              style=\"display:none;\">\n",
              "        \n",
              "  <svg xmlns=\"http://www.w3.org/2000/svg\" height=\"24px\"viewBox=\"0 0 24 24\"\n",
              "       width=\"24px\">\n",
              "    <path d=\"M0 0h24v24H0V0z\" fill=\"none\"/>\n",
              "    <path d=\"M18.56 5.44l.94 2.06.94-2.06 2.06-.94-2.06-.94-.94-2.06-.94 2.06-2.06.94zm-11 1L8.5 8.5l.94-2.06 2.06-.94-2.06-.94L8.5 2.5l-.94 2.06-2.06.94zm10 10l.94 2.06.94-2.06 2.06-.94-2.06-.94-.94-2.06-.94 2.06-2.06.94z\"/><path d=\"M17.41 7.96l-1.37-1.37c-.4-.4-.92-.59-1.43-.59-.52 0-1.04.2-1.43.59L10.3 9.45l-7.72 7.72c-.78.78-.78 2.05 0 2.83L4 21.41c.39.39.9.59 1.41.59.51 0 1.02-.2 1.41-.59l7.78-7.78 2.81-2.81c.8-.78.8-2.07 0-2.86zM5.41 20L4 18.59l7.72-7.72 1.47 1.35L5.41 20z\"/>\n",
              "  </svg>\n",
              "      </button>\n",
              "      \n",
              "  <style>\n",
              "    .colab-df-container {\n",
              "      display:flex;\n",
              "      flex-wrap:wrap;\n",
              "      gap: 12px;\n",
              "    }\n",
              "\n",
              "    .colab-df-convert {\n",
              "      background-color: #E8F0FE;\n",
              "      border: none;\n",
              "      border-radius: 50%;\n",
              "      cursor: pointer;\n",
              "      display: none;\n",
              "      fill: #1967D2;\n",
              "      height: 32px;\n",
              "      padding: 0 0 0 0;\n",
              "      width: 32px;\n",
              "    }\n",
              "\n",
              "    .colab-df-convert:hover {\n",
              "      background-color: #E2EBFA;\n",
              "      box-shadow: 0px 1px 2px rgba(60, 64, 67, 0.3), 0px 1px 3px 1px rgba(60, 64, 67, 0.15);\n",
              "      fill: #174EA6;\n",
              "    }\n",
              "\n",
              "    [theme=dark] .colab-df-convert {\n",
              "      background-color: #3B4455;\n",
              "      fill: #D2E3FC;\n",
              "    }\n",
              "\n",
              "    [theme=dark] .colab-df-convert:hover {\n",
              "      background-color: #434B5C;\n",
              "      box-shadow: 0px 1px 3px 1px rgba(0, 0, 0, 0.15);\n",
              "      filter: drop-shadow(0px 1px 2px rgba(0, 0, 0, 0.3));\n",
              "      fill: #FFFFFF;\n",
              "    }\n",
              "  </style>\n",
              "\n",
              "      <script>\n",
              "        const buttonEl =\n",
              "          document.querySelector('#df-ec47293c-a21e-43a6-a51b-521e23b28c84 button.colab-df-convert');\n",
              "        buttonEl.style.display =\n",
              "          google.colab.kernel.accessAllowed ? 'block' : 'none';\n",
              "\n",
              "        async function convertToInteractive(key) {\n",
              "          const element = document.querySelector('#df-ec47293c-a21e-43a6-a51b-521e23b28c84');\n",
              "          const dataTable =\n",
              "            await google.colab.kernel.invokeFunction('convertToInteractive',\n",
              "                                                     [key], {});\n",
              "          if (!dataTable) return;\n",
              "\n",
              "          const docLinkHtml = 'Like what you see? Visit the ' +\n",
              "            '<a target=\"_blank\" href=https://colab.research.google.com/notebooks/data_table.ipynb>data table notebook</a>'\n",
              "            + ' to learn more about interactive tables.';\n",
              "          element.innerHTML = '';\n",
              "          dataTable['output_type'] = 'display_data';\n",
              "          await google.colab.output.renderOutput(dataTable, element);\n",
              "          const docLink = document.createElement('div');\n",
              "          docLink.innerHTML = docLinkHtml;\n",
              "          element.appendChild(docLink);\n",
              "        }\n",
              "      </script>\n",
              "    </div>\n",
              "  </div>\n",
              "  "
            ]
          },
          "metadata": {},
          "execution_count": 48
        }
      ]
    }
  ]
}