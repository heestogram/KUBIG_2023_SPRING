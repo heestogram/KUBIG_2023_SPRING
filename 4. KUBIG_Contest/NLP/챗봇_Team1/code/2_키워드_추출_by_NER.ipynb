{
  "nbformat": 4,
  "nbformat_minor": 0,
  "metadata": {
    "colab": {
      "provenance": []
    },
    "kernelspec": {
      "name": "python3",
      "display_name": "Python 3"
    },
    "language_info": {
      "name": "python"
    }
  },
  "cells": [
    {
      "cell_type": "code",
      "execution_count": 1,
      "metadata": {
        "colab": {
          "base_uri": "https://localhost:8080/"
        },
        "id": "-8QkK8gPBz-W",
        "outputId": "69d95e4a-ac18-429f-d07c-6d0f2c651360"
      },
      "outputs": [
        {
          "output_type": "stream",
          "name": "stdout",
          "text": [
            "\u001b[?25l     \u001b[90m━━━━━━━━━━━━━━━━━━━━━━━━━━━━━━━━━━━━━━━━\u001b[0m \u001b[32m0.0/6.7 MB\u001b[0m \u001b[31m?\u001b[0m eta \u001b[36m-:--:--\u001b[0m\r\u001b[2K     \u001b[91m━━\u001b[0m\u001b[91m╸\u001b[0m\u001b[90m━━━━━━━━━━━━━━━━━━━━━━━━━━━━━━━━━━━━━\u001b[0m \u001b[32m0.5/6.7 MB\u001b[0m \u001b[31m14.5 MB/s\u001b[0m eta \u001b[36m0:00:01\u001b[0m\r\u001b[2K     \u001b[91m━━━━━━━━━━━━━━━\u001b[0m\u001b[90m╺\u001b[0m\u001b[90m━━━━━━━━━━━━━━━━━━━━━━━━\u001b[0m \u001b[32m2.5/6.7 MB\u001b[0m \u001b[31m36.4 MB/s\u001b[0m eta \u001b[36m0:00:01\u001b[0m\r\u001b[2K     \u001b[91m━━━━━━━━━━━━━━━━━━━━━━━━━━━━━━━━━\u001b[0m\u001b[90m╺\u001b[0m\u001b[90m━━━━━━\u001b[0m \u001b[32m5.6/6.7 MB\u001b[0m \u001b[31m50.0 MB/s\u001b[0m eta \u001b[36m0:00:01\u001b[0m\r\u001b[2K     \u001b[91m━━━━━━━━━━━━━━━━━━━━━━━━━━━━━━━━━━━━━━━\u001b[0m\u001b[91m╸\u001b[0m \u001b[32m6.7/6.7 MB\u001b[0m \u001b[31m50.3 MB/s\u001b[0m eta \u001b[36m0:00:01\u001b[0m\r\u001b[2K     \u001b[91m━━━━━━━━━━━━━━━━━━━━━━━━━━━━━━━━━━━━━━━\u001b[0m\u001b[91m╸\u001b[0m \u001b[32m6.7/6.7 MB\u001b[0m \u001b[31m50.3 MB/s\u001b[0m eta \u001b[36m0:00:01\u001b[0m\r\u001b[2K     \u001b[90m━━━━━━━━━━━━━━━━━━━━━━━━━━━━━━━━━━━━━━━━\u001b[0m \u001b[32m6.7/6.7 MB\u001b[0m \u001b[31m30.0 MB/s\u001b[0m eta \u001b[36m0:00:00\u001b[0m\n",
            "\u001b[?25h\u001b[31mERROR: pip's dependency resolver does not currently take into account all the packages that are installed. This behaviour is the source of the following dependency conflicts.\n",
            "en-core-web-sm 3.4.1 requires spacy<3.5.0,>=3.4.0, but you have spacy 3.5.0 which is incompatible.\u001b[0m\u001b[31m\n",
            "\u001b[0m"
          ]
        }
      ],
      "source": [
        "!pip install -U spacy -q"
      ]
    },
    {
      "cell_type": "code",
      "source": [
        "!python -m spacy info"
      ],
      "metadata": {
        "colab": {
          "base_uri": "https://localhost:8080/"
        },
        "id": "9XOko5FnNONp",
        "outputId": "1ad3d244-50b5-4f4c-fdf7-4d989f409dcd"
      },
      "execution_count": 2,
      "outputs": [
        {
          "output_type": "stream",
          "name": "stdout",
          "text": [
            "/usr/local/lib/python3.8/dist-packages/torch/cuda/__init__.py:497: UserWarning: Can't initialize NVML\n",
            "  warnings.warn(\"Can't initialize NVML\")\n",
            "2023-02-26 10:51:37.622239: I tensorflow/core/platform/cpu_feature_guard.cc:193] This TensorFlow binary is optimized with oneAPI Deep Neural Network Library (oneDNN) to use the following CPU instructions in performance-critical operations:  AVX2 FMA\n",
            "To enable them in other operations, rebuild TensorFlow with the appropriate compiler flags.\n",
            "2023-02-26 10:51:39.308760: W tensorflow/compiler/xla/stream_executor/platform/default/dso_loader.cc:64] Could not load dynamic library 'libnvinfer.so.7'; dlerror: libnvinfer.so.7: cannot open shared object file: No such file or directory; LD_LIBRARY_PATH: /usr/local/nvidia/lib:/usr/local/nvidia/lib64\n",
            "2023-02-26 10:51:39.308901: W tensorflow/compiler/xla/stream_executor/platform/default/dso_loader.cc:64] Could not load dynamic library 'libnvinfer_plugin.so.7'; dlerror: libnvinfer_plugin.so.7: cannot open shared object file: No such file or directory; LD_LIBRARY_PATH: /usr/local/nvidia/lib:/usr/local/nvidia/lib64\n",
            "2023-02-26 10:51:39.308928: W tensorflow/compiler/tf2tensorrt/utils/py_utils.cc:38] TF-TRT Warning: Cannot dlopen some TensorRT libraries. If you would like to use Nvidia GPU with TensorRT, please make sure the missing libraries mentioned above are installed properly.\n",
            "2023-02-26 10:51:43.513616: E tensorflow/compiler/xla/stream_executor/cuda/cuda_driver.cc:267] failed call to cuInit: CUDA_ERROR_NO_DEVICE: no CUDA-capable device is detected\n",
            "/usr/local/lib/python3.8/dist-packages/spacy/util.py:877: UserWarning: [W095] Model 'en_core_web_sm' (3.4.1) was trained with spaCy v3.4 and may not be 100% compatible with the current version (3.5.0). If you see errors or degraded performance, download a newer compatible model or retrain your custom model with the current spaCy version. For more details and available updates, run: python -m spacy validate\n",
            "  warnings.warn(warn_msg)\n",
            "\u001b[1m\n",
            "============================== Info about spaCy ==============================\u001b[0m\n",
            "\n",
            "spaCy version    3.5.0                         \n",
            "Location         /usr/local/lib/python3.8/dist-packages/spacy\n",
            "Platform         Linux-5.10.147+-x86_64-with-glibc2.29\n",
            "Python version   3.8.10                        \n",
            "Pipelines        en_core_web_sm (3.4.1)        \n",
            "\n"
          ]
        }
      ]
    },
    {
      "cell_type": "code",
      "source": [
        "import json\n",
        "\n",
        "from google.colab import drive\n",
        "drive.mount('/content/drive')\n",
        "\n",
        "import pandas as pd\n",
        "import numpy as np"
      ],
      "metadata": {
        "colab": {
          "base_uri": "https://localhost:8080/"
        },
        "id": "jNEadDchNQvI",
        "outputId": "1b76ea58-fb17-4dd6-8a4c-50d7d418afb4"
      },
      "execution_count": 3,
      "outputs": [
        {
          "output_type": "stream",
          "name": "stdout",
          "text": [
            "Mounted at /content/drive\n"
          ]
        }
      ]
    },
    {
      "cell_type": "code",
      "source": [
        "csv_path = '/content/drive/MyDrive/23SS_NLP/perfume_info.csv'\n",
        "file_path = '/content/drive/MyDrive/23SS_NLP/annot_try2.json'\n",
        "file_path_val = '/content/drive/MyDrive/23SS_NLP/annot_val.json'\n",
        "txt_path = '/content/drive/MyDrive/23SS_NLP/text_for_labeling_fragrance.txt'\n",
        "\n",
        "data = pd.read_csv(csv_path).iloc[:,1:4]\n",
        "\n",
        "f = open(file_path, encoding='UTF-8')\n",
        "annotation_data_train = json.loads(f.read())\n",
        "\n",
        "d = open(file_path_val, encoding='UTF-8')\n",
        "annotation_data_val = json.loads(d.read())"
      ],
      "metadata": {
        "id": "HIimdleqNUpp"
      },
      "execution_count": 4,
      "outputs": []
    },
    {
      "cell_type": "code",
      "source": [
        "data.head()"
      ],
      "metadata": {
        "colab": {
          "base_uri": "https://localhost:8080/",
          "height": 206
        },
        "id": "Hv6VLi9xPI5o",
        "outputId": "33aa9326-ddc5-4335-945e-fcdbcb4333f8"
      },
      "execution_count": 5,
      "outputs": [
        {
          "output_type": "execute_result",
          "data": {
            "text/plain": [
              "                                              review                name  \\\n",
              "0  skin get strawberry jelly candies. nostalgic p...  Baccarat Rouge 540   \n",
              "1  first sprayed boozy warm apple pie lasted seco...       Angels' Share   \n",
              "2  way masculine cant seem sell bottle... anyone ...     Tobacco Vanille   \n",
              "3  dry smoky sweet woods. feel like time ive smel...    By the Fireplace   \n",
              "4  would love smell someone else unfortunately go...         Lost Cherry   \n",
              "\n",
              "                      brand  \n",
              "0  Maison Francis Kurkdjian  \n",
              "1                 By Kilian  \n",
              "2                  Tom Ford  \n",
              "3    Maison Martin Margiela  \n",
              "4                  Tom Ford  "
            ],
            "text/html": [
              "\n",
              "  <div id=\"df-05df8f85-2385-40a4-a09c-21fe70399878\">\n",
              "    <div class=\"colab-df-container\">\n",
              "      <div>\n",
              "<style scoped>\n",
              "    .dataframe tbody tr th:only-of-type {\n",
              "        vertical-align: middle;\n",
              "    }\n",
              "\n",
              "    .dataframe tbody tr th {\n",
              "        vertical-align: top;\n",
              "    }\n",
              "\n",
              "    .dataframe thead th {\n",
              "        text-align: right;\n",
              "    }\n",
              "</style>\n",
              "<table border=\"1\" class=\"dataframe\">\n",
              "  <thead>\n",
              "    <tr style=\"text-align: right;\">\n",
              "      <th></th>\n",
              "      <th>review</th>\n",
              "      <th>name</th>\n",
              "      <th>brand</th>\n",
              "    </tr>\n",
              "  </thead>\n",
              "  <tbody>\n",
              "    <tr>\n",
              "      <th>0</th>\n",
              "      <td>skin get strawberry jelly candies. nostalgic p...</td>\n",
              "      <td>Baccarat Rouge 540</td>\n",
              "      <td>Maison Francis Kurkdjian</td>\n",
              "    </tr>\n",
              "    <tr>\n",
              "      <th>1</th>\n",
              "      <td>first sprayed boozy warm apple pie lasted seco...</td>\n",
              "      <td>Angels' Share</td>\n",
              "      <td>By Kilian</td>\n",
              "    </tr>\n",
              "    <tr>\n",
              "      <th>2</th>\n",
              "      <td>way masculine cant seem sell bottle... anyone ...</td>\n",
              "      <td>Tobacco Vanille</td>\n",
              "      <td>Tom Ford</td>\n",
              "    </tr>\n",
              "    <tr>\n",
              "      <th>3</th>\n",
              "      <td>dry smoky sweet woods. feel like time ive smel...</td>\n",
              "      <td>By the Fireplace</td>\n",
              "      <td>Maison Martin Margiela</td>\n",
              "    </tr>\n",
              "    <tr>\n",
              "      <th>4</th>\n",
              "      <td>would love smell someone else unfortunately go...</td>\n",
              "      <td>Lost Cherry</td>\n",
              "      <td>Tom Ford</td>\n",
              "    </tr>\n",
              "  </tbody>\n",
              "</table>\n",
              "</div>\n",
              "      <button class=\"colab-df-convert\" onclick=\"convertToInteractive('df-05df8f85-2385-40a4-a09c-21fe70399878')\"\n",
              "              title=\"Convert this dataframe to an interactive table.\"\n",
              "              style=\"display:none;\">\n",
              "        \n",
              "  <svg xmlns=\"http://www.w3.org/2000/svg\" height=\"24px\"viewBox=\"0 0 24 24\"\n",
              "       width=\"24px\">\n",
              "    <path d=\"M0 0h24v24H0V0z\" fill=\"none\"/>\n",
              "    <path d=\"M18.56 5.44l.94 2.06.94-2.06 2.06-.94-2.06-.94-.94-2.06-.94 2.06-2.06.94zm-11 1L8.5 8.5l.94-2.06 2.06-.94-2.06-.94L8.5 2.5l-.94 2.06-2.06.94zm10 10l.94 2.06.94-2.06 2.06-.94-2.06-.94-.94-2.06-.94 2.06-2.06.94z\"/><path d=\"M17.41 7.96l-1.37-1.37c-.4-.4-.92-.59-1.43-.59-.52 0-1.04.2-1.43.59L10.3 9.45l-7.72 7.72c-.78.78-.78 2.05 0 2.83L4 21.41c.39.39.9.59 1.41.59.51 0 1.02-.2 1.41-.59l7.78-7.78 2.81-2.81c.8-.78.8-2.07 0-2.86zM5.41 20L4 18.59l7.72-7.72 1.47 1.35L5.41 20z\"/>\n",
              "  </svg>\n",
              "      </button>\n",
              "      \n",
              "  <style>\n",
              "    .colab-df-container {\n",
              "      display:flex;\n",
              "      flex-wrap:wrap;\n",
              "      gap: 12px;\n",
              "    }\n",
              "\n",
              "    .colab-df-convert {\n",
              "      background-color: #E8F0FE;\n",
              "      border: none;\n",
              "      border-radius: 50%;\n",
              "      cursor: pointer;\n",
              "      display: none;\n",
              "      fill: #1967D2;\n",
              "      height: 32px;\n",
              "      padding: 0 0 0 0;\n",
              "      width: 32px;\n",
              "    }\n",
              "\n",
              "    .colab-df-convert:hover {\n",
              "      background-color: #E2EBFA;\n",
              "      box-shadow: 0px 1px 2px rgba(60, 64, 67, 0.3), 0px 1px 3px 1px rgba(60, 64, 67, 0.15);\n",
              "      fill: #174EA6;\n",
              "    }\n",
              "\n",
              "    [theme=dark] .colab-df-convert {\n",
              "      background-color: #3B4455;\n",
              "      fill: #D2E3FC;\n",
              "    }\n",
              "\n",
              "    [theme=dark] .colab-df-convert:hover {\n",
              "      background-color: #434B5C;\n",
              "      box-shadow: 0px 1px 3px 1px rgba(0, 0, 0, 0.15);\n",
              "      filter: drop-shadow(0px 1px 2px rgba(0, 0, 0, 0.3));\n",
              "      fill: #FFFFFF;\n",
              "    }\n",
              "  </style>\n",
              "\n",
              "      <script>\n",
              "        const buttonEl =\n",
              "          document.querySelector('#df-05df8f85-2385-40a4-a09c-21fe70399878 button.colab-df-convert');\n",
              "        buttonEl.style.display =\n",
              "          google.colab.kernel.accessAllowed ? 'block' : 'none';\n",
              "\n",
              "        async function convertToInteractive(key) {\n",
              "          const element = document.querySelector('#df-05df8f85-2385-40a4-a09c-21fe70399878');\n",
              "          const dataTable =\n",
              "            await google.colab.kernel.invokeFunction('convertToInteractive',\n",
              "                                                     [key], {});\n",
              "          if (!dataTable) return;\n",
              "\n",
              "          const docLinkHtml = 'Like what you see? Visit the ' +\n",
              "            '<a target=\"_blank\" href=https://colab.research.google.com/notebooks/data_table.ipynb>data table notebook</a>'\n",
              "            + ' to learn more about interactive tables.';\n",
              "          element.innerHTML = '';\n",
              "          dataTable['output_type'] = 'display_data';\n",
              "          await google.colab.output.renderOutput(dataTable, element);\n",
              "          const docLink = document.createElement('div');\n",
              "          docLink.innerHTML = docLinkHtml;\n",
              "          element.appendChild(docLink);\n",
              "        }\n",
              "      </script>\n",
              "    </div>\n",
              "  </div>\n",
              "  "
            ]
          },
          "metadata": {},
          "execution_count": 5
        }
      ]
    },
    {
      "cell_type": "code",
      "source": [
        "data.info()"
      ],
      "metadata": {
        "colab": {
          "base_uri": "https://localhost:8080/"
        },
        "id": "ff3gZ1-mPuy5",
        "outputId": "30dc293c-b3d7-40cb-c695-38d04c4bdc4f"
      },
      "execution_count": 6,
      "outputs": [
        {
          "output_type": "stream",
          "name": "stdout",
          "text": [
            "<class 'pandas.core.frame.DataFrame'>\n",
            "RangeIndex: 144 entries, 0 to 143\n",
            "Data columns (total 3 columns):\n",
            " #   Column  Non-Null Count  Dtype \n",
            "---  ------  --------------  ----- \n",
            " 0   review  144 non-null    object\n",
            " 1   name    144 non-null    object\n",
            " 2   brand   144 non-null    object\n",
            "dtypes: object(3)\n",
            "memory usage: 3.5+ KB\n"
          ]
        }
      ]
    },
    {
      "cell_type": "code",
      "source": [
        "data.review[0]"
      ],
      "metadata": {
        "colab": {
          "base_uri": "https://localhost:8080/",
          "height": 91
        },
        "id": "3DgJquXwjW7L",
        "outputId": "c8392a36-d07c-4d46-dffb-6e2fd08309ea"
      },
      "execution_count": 7,
      "outputs": [
        {
          "output_type": "execute_result",
          "data": {
            "text/plain": [
              "'skin get strawberry jelly candies. nostalgic pretty know smelt though popular still really like decide feel this. love fresh yet warm sweet something singe nostril forget hype forget cloud comparison forget tiktok forget world second admit perfume truly unique masterpiece. nose like smell period. smell like nearly every flight attendant since . lovely chic somewhat saturated marketplace. ew price even ew. honestly longest time thought anyone smelled like wearing lalique soleil finally able try figure getting hand tester. nearly identical soleil bit crisp citrusy base tone basically complete dupe. anyone like want smell similar tenth price lalique soleil scent botox filled designer clothed basic rotten souled woman driving range rovers. keep far away hahahah bought social medium right . month get olfactory fatigue thinking overhyping one month closet killing everyone street strong nice bossy every occasion every day . nice nose trip dentist room saffron plantation really old place old tree floor sweet sexy expecting sth unique bad worth soooooo overhyped overpriced get sth better cheaper price tried like really did. concede smell like nothing else market. unfortunately find deeply unpleasant. saffron. good paella pasta chi vruocculi arriminati bad perfumery. never understand hype. adore baccarat glassware though. finished sample tell br door heaven me. heaven yet. knew liked wanted went extract better still yet. read review someone strong recommended trajan. love trajan everything br edp extract missing. much better still journey testing good reviewed dupe br . fun trip agree ashbud. curious spent sample. straight gate smell like sweaty cumin vanilla. dry bandage gauze. projection silage annoyingly strong. get hype. canadian apologizes profusely sorry somebody mentioned burning cr br l e totally agree. unisex id say lean feminine side. definitely something wear cold nights. overall like see mass appeal. think perfume like heaven bottle. versions. one extrait quite different love differently. think lean towards feminine side sillage last day me. finally got around smelling tried bunch supposed dupe versions. much lighter expected. warm woody. overall...its fine honestly prefer perfume share similar dna. appreciate og started all. favorite fragrance ever. pick one scent wear rest life would absolutely one. br perfect unisex fragrance enjoy sweet warm spicy scent. nose smell like caramelized orange slice candy green woods. reference usually gourmand lover favorite wood fragrance cedar. wear one perfume rest life it. either love hate it. part fell love it. remain objective making judgment criticism principle criticism constructive must addressed perfumer modify formula. site one share principle passion perfume apart analysis constructive opinion dont give damn mood want justify disagreement. everyone also wear sauvage elixir dior nobody complains dont dont like it. bacarat rouge making apocalyptic screenplay. unpopular opinion ambroxan fragrance. thought oh special smelled escentric molecule molecule day thought baccarat rouge. last long time skin noted final impression lingers hour hour hour fir resin smell like mould. appreciate complex scent evolves burnt sugar saffron mix literally hour top mould kick in. really understand hype. even smell like perfume rather smell like bad hospital old spice mix. doesnt go away. afraid outrageous price make desirable. good marketing bad product. one colleague would wear perfume greeted scent perfume killing scent. loathed it. much strong handle would always get sick. dont know whats hype know lot people spend lot money get dont understand why. sprayed arm three day ago although took bath shower still here. pillow still smell like it. started cotton candy sweet sharp. perfume like staying forever. based hype super excited try smell nice skin. immediately spraying cotton candy heavy woody notes. hour still fairly sweet confusing. agree dentist office smell. smell bad work me. looking amber scent grand soir much preferable absolute favorite. wish price point reasonable ml bottle. funny story put going bed partner legit fight said smelled like biscuit made hungry small bottle br smell like cotton candy burning sugar me. like cheapie young girl would wear club. smell much note listed fragrantica. say smell dentist office please share contact dentist office smell awful cotton candy like one skin love br eau de parfum everybody know it. many love it. collection always. layer many niche perfume especially aventus beast mode there. smell like glass sugar water. also smell like leather woman bag. woman fragrance. bad fragrance dont like it. friend said smell quite similar ariana grande cloud. smell make nauseous af bought regular extrait. extrait lean masculine smell note version. regular one come across salty ocean water smelling sometimes turn body oder smell never able smell cotton candy light sweet smell this.. smell people smell like pineapple juice salt smell lovely bf tester paper keep getting whiff something particular sweet note make think spoiling fruit moment dentist office others first impression smell like strawberries. issue hate strawberries. smell longer period time get confusing bit addictive. brain doesnt fully understand smell fresh earthy woody bit metallic time. wouldnt call head turner first whiff smell basic. definitely wouldnt buy full bottle prefer simple clean cut fragrances. acidula tobacco vanille alien no. exactly easy nose either those. come entitled act like people around adapt please personal taste. share opinion juice leave that. dentist office one hippest swankiest place city. chair soft velvety comfy. floor marble. lighting dim soft music playing background. unfortunately still dentist office. fragnance good like fragnance made. also french armenian proud one fragnance sweet me. also mix floral fragnances like ldbs delina. turn masculine skin would mix sweet floral scent. besides best buy till dont think ive ever smelled repulsive perfume before. like mixture smell get nan house mixed something medicinal. still smell even though washed changed clothes. completely threw today vibe. . tried sample luckyscent incredibly sweet. think would prefer bandage smell others describing. see others would love think cute gave motivational speech baccarat. baccarat u keep u baby ur queen si really giving motivational speech perfume remind br forget hater queen king let hater bring smell like torching top cr br l e smoke rise sugar caramelization. dont care everyone wearing still manages become unique everyones skin smell like bandaids. girlfriend smell same. bandaids. hard pas one. smell like computer ai tried recreate sugar smelled like. smell like box bandaids bag cotton candy got left hot car together melted. smelt much better paper. skin smell like watered hand cream. wish liked me. personally one favorite cologne tried since cologne beginning little bit weird putting smell around second smell like cotton candy forest absolutely love everything cologne price quite large money recommend purchase . feel like everyone smell like one similar perfume dupes. bad smell nice people became common smell. make difference baccarat rouge zara dupe smelled people . hype worth it. smell like celebrity perfume smell like hand sanitizer extremally strong one. absolutely love cozy christmas scent year. perfect winter every occasion. last long time skin forever clothes. sillage also great. best thing although strong long lasting never suffocates people around me. family member sensitive smell one never bothered them. review site people hate fragrance cannot afford. think wrong look review scent easy confuse comment heck smell polite manner compliment. also someone especially office setting say smell room away likely compliment. please people get hint think whether someone enjoy scent highly individualized. like smell unisex musky spicy expensive. however smell sweetness. great longevity. something keep sniffing. wear extrait still couldnt smell self.but people around getting beautiful sweet whiff me.a co worker even said tracked staff room scent trail longevity whole day compliment sillage huge hospital antiseptic cleanliness underlying sweetness. smell like zara fragrance. insanely sweet. disgusting strong plastic artifical undertone find unpleasant like ariana grande cloud. also smell fruit listed. impressed legend. cant smell anything. musty cloying amber. almost plastic y. all. overhyped. used really love scent smell client constantly pre pandemic. sure happened make nauseatingly ill. find lingers long whatever room applied definitely plus longevity appreciate it. wonder ever liked dry changed sweetness fragrance hit immediate yuck reaction me. unfortunately tried every version dupe smell like nope. hate every one. medicinal bandaid quality plus sweet amber smell unpleasant nose. also seeps skin like glue unfortunately. one rare people want fragrance fade hours. much hype around fragrance ready disappointed turn unoriginal im totally okay it. love this. sweet resinous amber truly decadent warm saffron sparkle add unmistakable air luxury confidence. reminds caramelized top perfect creme brulee torched perfection melted sugar warm sweet sticky rich. real treat. unfortunately one people anosmic baccarat rouge edp extrait. everyone around smell except love frag. tried many dupe simply cut it. puzzle even thinking burberry ariana cloud similar frag fam literally nothing common. defo something getting original form. nothing else compares. originally love scent owning ariana grande cloud would recommend cloud anyone interested. cloud slightly sweeter whole heck lot cheaper. however find cloud young smelling baccarat great alternative lean slightly spicier greater musk influence. never fail get compliment wear scent get hate. amazing love nobody wear live.. master piece burnt sugar done weird feminine way dont hate dont love really worth hype. could imagine woman would smell great though something extraordinary. oh performance lacking price least lack skin know hype point price tag about. literally showered stuff occasion market parfumerie literally barely could smell thing. maybe skin extremely disappointed bought blind. getting it. literally signature scent upper middle class wasp karen darrens. work retail smelled briney as scent seems like every man woman child. expensive doesnt mean good. mfk better scent dont understand make one iconic ambroxan note overplayed point. nauseating hype honestly say idea popular spray today smell thing. initially spray get lovely caramel type smell fade quickly skin. work today get odd whiff waft air gone second. opinion waste money. dont know hype about. okay definitely worth pricey figure. sample wore day try out. hated me. others smell nice doesnt wow me. honest pretty diappointed fragrance. smell really artificial dont know since offering house dont share quality. think try feel like sprayed close skin got xmas. love it. got mine today. literally exactly like cloud skin. love though. cloud skin isnt sweet woody. baccarat rouge note. im complaining. perfume like jam lately. love sample one also cloud... feel like smell identical dont understand all... cause look notes... theyre different yet smell performance smell like luxury personified owner perfume would probably love hate relationship one. unashamedly love woody floral combination make universal sexy genders. hater gonna hate. yeah typical floral fruity vanilla perfume. baccarat skillfully crafted potion take wearer journey. perfume experience continues haunt fascinate owners. exactly cloud. smell like mall. care mall. mall. would appear everyone fallen hype guess scent rich compelling lovely amber salty note touch sweetness auric jasmine normally dislike work perfume . signature go perfume year round. always choose cant decide wanna wear. sweet smell like brown sugar never get medicinal chemical smell like reviewer said. get nose blind sometime short scent remains even shower washing hand logevity insane. scent always make feel cozy pleasant. . oz bottle sale. . check ig page. goodgoddamnscents love fragrance work well tropical climate also. one downfall slight medicinal note peep enough dislike though. also longevity cost point disappointing wish discovered changed formula reading lot review saying longevity lot stronger year ago. still lovely enough signature scent though dont smell latex rubber one find sweet generally kind boring. see liked popular expensive. overrated overdone scent latex gloves. disturbing metallic smell. feel like ive smelt even release unique. balsamic sweet jasmine pine trees. perfume fill room little go long way. baccarat rouge lived hype me. feminine showstopper mouth watering make people go insane. funny thing first time smelling made go omg smell like mall absolutely smell air every time go shopping lol cant understand hype fragrance. cant stand it. cant even stand people wearing this. first time smelled br cousin put wrist right nose even smell anything. two type fragheads a. wear perfume others mind going nose blind long others think smell good b. wear perfume love keep smelling perfume throughout day br group b perfumery. shocking people. making believe smth new something unique rich. oh not. terrible perfume ive smelled far. ever decide go based review better go sniff bottle cap enough. cloyingly sweet start bit smoky bit aromatic lot synthetic. great sillage assume thats reason hype perfume get otherwise dont get it. one overwhelmed fir resin tower everything else. widely used industrial cleaner hence doctor office vibe. first came novelty kinda felt cool dust settled find cold distant. go different aesthetic now. question. bought mine reputable department store manila. mine batch code doesnt seem code bottom bottle. normal duped extrait great. safe blind buy pricey. highly recommend using mfk website excellent sample service try first. smell medicinal artificial me. really wanted like dont. way strong me. balanced enough. dark. new fruity mossy amber wood fragrance like burberry best. dark dank. crisp clean. cloud give headache. truly unique divine dont detect sweet note one unlike similar fragrance cloud burberry her. like okay prefer scent citrus floral notes. appreciate uniqueness one. love potent long lasting. st time wearing. got positive negative compliment. idea fragrance hyped maybe nose bc seems gonna whole world. sweet sugary amber fragrance. beautiful tested time whenever visit boutique ask maybe nose used scent let give another chance every fucking time like wtf expensive bc nothing crazy beautiful. anyways find overpriced overrated overhyped fragrance nice thing bottle. fell love first sniff...its amazing. smelled test strip mall kept sniffing way home ordered mfk site. choose sample fragrances. see one people obsessed dont like it. personally love lol ....its great last day totally worth money love much ordered body oil....which body oil smell great nice extension scent along light shimmer. sometimes pair mfk sol de janeiro beija flor body cream.....though sit well body cream add extra punch want noticed. also saw someone mention mixing mfk gentle fluidity did....both sit nice alone together become quite power couple def nice pairing one polarizing scent ive ever worn ive gotten strawberry candy dentist office comparisons. dont get much fir cedar woodiness. people correct go anosmic quickly stick light hand plan wear last day clothes. scent popular personally would never wear daytime good introduction maison sad concede me. love scent profile love dupe second time ordered set sample directly mfk edp extrait . first time ordered decided wasnt jam chalked broken nose due covid sold lot mercari. past summer went chicago smelled everywhere. fall went crowded touristy location would catch whiff stuff. made crave it. decided order sample mfk give another go. ive two week testing paper strip skin. still love smell air like many others cant really smell myself. paper strip feel like beautiful scent fill whole room. skin hardly detect doesnt smell way want smell. maybe others doesnt me. wear fragrance enjoyment anyone elses. finicky perfume idk. could doesnt work chemistry. im bummed. better smell extrait version pressing nose wrist weirdly end smelling like inside vcr iykyk. br masterpiece full stop. think ill happy cloud burberry although really dont smell similar br especially offer scent profile crave form actually enjoy hours. fact much affordable added bonus. small bottle this. lotion oil. hoping bath gel come out. hype well first perfume last long time get compliment smell prettier. something addictive br . clue is. want cover completely head toe. addictive. something it. explain. ask too. diabetic dry skin. body soak fragrances. hit hard stuff fragrant myself. sprays. more. stay others different level. get please do. really think everyone. bff like me. others complimented. different everyone. get sample try it. this. do. addictive scent. expensive yes. overpriced probably so. oh goodness fantastic hype real. self proclaimed perfume addict. finished maybe scent own. chanel no. dg light blue intense maybe one more. bottle finished repurchased. try it. really think disappointed. baccarat rouge like triple promise cant keep gigantic ahead projection marketing. interested got bottle expensive. great fan value concept pay extra extra mile walked service provider production. got different sample noticed source sample never sample smell different based storage issue handler. br like cloud cant missed ignored hoover around people applied dull. pull attention towards depth nothing surface promise. grounding scent anywhere found. incredibly linear border utter boredom. see proudness carrier enormous projection product telling flat first excitement. sure true lover concept scent tell you... bottle design typography price delight carrier exciting scent ever able to. hey maybe nose still learning. cup tea. street all. maybe compromised sample... ill try recovery however flying comment section trajan electimuss got attention dive it. maybe one deeper br ...which isnt difficult though. new world scent good nose great inside still learning right word it. stay weirdest thing. truly love scent smell air sillage directly skin. like disappears skin hovers it. annoying. composed become cloud around wearer benefit people dont know. concept one enjoy. truth told like dupe better original. actually smell skin damn nigh identical. mention cheaper thats personal choice bearing baccarat rouge itself. maison francis kurkdjian baccarat rouge scent say ive got questionable morality lot disposable income. wear youll ready take world least take small country . perfect fragrance want smell like success dont mind hint deceit corruption. beware wearing scent may result spontaneous yacht theft international espionage. go ahead indulge little decadence know deserve it. nice evil gorgeous warm fragrance. surprised sweet ambery marshmallowy note radiates top fragrance. fragrance soft feminine yet prevents falling flat masculine full bodied base note support jasmine saffron. curvaceous rounded quality thank amberwood ambergris that. claim smell like ariana grandes cloud fragrance arent kidding cloud wealthy luxurious sensual aunt. good cutting dry winter air perhaps warm heavy summer. day night fragrance. gifted look bottle wonder ever use . know person bought meant well wish given money instead wear tolerate fragrance flowery flower cotton candy smokey deep dark orientals. sometimes plastic doll vibe cannot abide. make feel slightly nauseous headache inducing. leave month come back love blind buy gift unless know already love test time different weather purchase. edit boyfriend buy want say like rare make sneeze . disagrees like one bought sample understand hype. must said unique scent. certainly unisex sweet medicinal would work day night. manages wearable cosy sophisticated indulgent once. something reminiscent someone past one best friend mother arty slightly eccentric. signature something bit funky amber like is. give image rich french woman louvre. find intriguing first also nauseating. personally. hi ive recently purchased ml bottle br smell extremely faint last hour super faint sit close skin one smell asked coworker. went back store purchased shown original br box compared recent purchase box formulation changed listed ingredient box. there extra ingredient cannot pronounce. long story short advised mfk decided reformulated fragrance without notifying public sale person compare original box ingredient v new br ingredient plus new bacarat rogue extrait box. long story short. new formulation essentially br edt weak last hour experienced newly formulated super weak silage longevity new extrait one got replace original also reformulated original br .... extra careful guy new batch old batch same. want long lasting extrait now... weak original extrait pretty much phrase make way og long lasting. dont know batch code would indicate kept old box put side side see ingredients. added water something oil concentration way way down. super disappointed spend get smell original. sneaky disappointed. original formula hang tight it. good fine nice. almost want call glorified axe. however better that. way better obviously. real thing better cloud decent dupe sure clearly synthetic. seen people however crapping chanel no. name hyping one. anything common whatsoever. guess fight time holy grail title fragrance maybe new age however say edp beautiful sophisticated people truly love fashion art know echelon belong regardless live mobile home mansion wear fragrance love respect history. baccarat rouge like people wear thing compliment validation like compliment ive sprayed expensive fragrance vibes. get wrong smell nice. think people especially instagram page drinking koolaid. like comparing catherine deneuve kardashian jenners. update opinion one year later see biggest fan first bought got third bottle feel give depth review . skin medicinal get sweetness whatsoever unfortunately enjoy scent . however wear many people come asking wearing baccarat go crazy partner also love scent reason kept collection knew hype around perfume pumped try sample. though husband single care fragrance appeases ask opinion fun it. without telling anything br popularity let take whiff. looked straight eye without hesitation said smell like old man . tell yall soul left body couldnt be.. br everyone talk supposed one top didnt expect much certainly didnt expect bandaids bengay couldnt help roll laughter revelation. though agree sentiment agree good. see beloved perfume. sickly sweet nauseating. rarely dislike perfume much this. still stoked got try ive couple bottle br owned tried five well known dupes. really one similar smelling fragrance like br personally experienced it. zara red temptation crisp focus medicinal experience br . cloud simple thick plasticky. way experience cloud like hypnotic poison br . plastic doll head. burberry edp... seriously like br . found burberry slightly tart adult barbie princess strawberry fragrance. really didnt enjoy it. best ive found experience br fleeting beautiful sol de janeiro brazilian crush cheirosa . used three spray br arm length covering fine wide mist. think much spray br closely really make seriously difference smell others around you. close plus spray dentist office elastoplasts. distance two three spray fluffy sweet almost juicy caramel woods. br genius. really think perfume get much hate people smelled dupes. tell regurgitate talking points. overpriced smell like dentist office cotton candy blah blah hater blah. feel like people one need everyone know watched single episode popular show never ever popular food. get it. need attention. original baccarat rouge masterpiece. immaculate francis kurkdjian mf thing literally snapping finger luxuriate masterpiece . initial sweetness sharp saffron read opulence wealth intoxicating smoothness truly stunning. literally never smelled anyone anywhere. reminds smell everywhere go overpriced one buy make make sense. see everyone claiming amazing dupe people stand smell baccarat sway given sample friend real life blown away. single real live person nauseated comment portraying. price overpriced budget ok. let real though baccarat fault yours. also expensive popular fragrance market. delina lost cherry mfk fragrance similar price loveeeee act like br worth oud satin mood gentle fluidity are. mean worth smell amazing make feel amazing. want baccarat hater either save small bottle k ow want go corner quietly play million dupe stop talking about. leave u br lover marinate opulence enjoy luxury purchase peace got oh trajectly wrong. hated baccarat rouge smelled bc dumb meme going around. saw floral woody decided pass. figured wasnt type. let honest sephora macys ulta doesnt carry getting sample isnt easy. nordstrom carry dont store sample. go saks bloomingdales neimans etc get intoxicating whiff bottle god great joy thank jesus able order sample twisted lily. understand million tik tok view everyones list top fragrance . jesus praise alchemy francis kurkdjian. wonder dior scooped new fragrance director. baccarat rouge abstract polarizing unique yet magnetically familiar soul. imagine went tomb find jesus body brought different herb tonic oil etc smelled like baccarat rouge. heavenly inspired masterpiece. want candle match. want pay extra name engraved bottle. want wear nothing else next month. want randomly walk ppl start conversation it. thing people want fragrance especially spending pretty penny long lasting great projection tremendous sillage. smell good olfactory family category. want something going go extra mile. superior blend smell expensive fill room garner compliment without overbearing. lady gentleman baccarat rouge tick every single one boxes. must soon. blood rushed body temperature elevated. me. incredible understatement. probably unpopular passionate^^ opinion perfume. please dont offended already get much praising everywhere think also aloud bad reviews. baccarat rouge smell like bad hygiene oversprayed extremely sweet perfume top like trying cover bad smell sugarsweet scent. elegance actually quite nasty smelling. find suitable newer generation though new money tiktok youtube plastic work minimal get rich attitude course everyone new generatoren like feel like world going direction perfume smell moral. feel like popularity much hype om youtube fact plattforms youtube tiktok make expensive perfume popluar wierd bit scary.. especially even smell good yes know dont like smell mean one else like like said previous review smelled hundred perfume always find something good even though dont directly like always find something understand people might like. baccarat rouge. nothing. dont know guy heard story emperor new clothes perfume also make think moral story like joke dont smell anything perfume reminds quality elegance. know might hurt people go perfume like hope like perfume really like smell baccarat rouge want like everybody else like it. way im talking longevity sillage longevity great scent itself. ask grand soir house real masterpiece smell stunning would consider one spend amount money. first came special. thought found forever scent. nothing like it. course became mainstream everyone become reduced common scent. nothing special anymore smelled everywhere go. still love always part collection wish didnt become popular many cheap inspired scent chance ruin unique was. clarify isnt much everyone everyone wear become overdone death. thought would chanel time something become cheapened.. never liked always much. even scent profile nice aspect feel like people date always loud big personality drama queen. end feeling tired them. fragrance like that. also goodness people abuse this. smell leat time week going work sport bars. everywhere everyone maybe smell cheap clone point became tired mainstream aventus men. please enjoy want wear least find proper time place. smelled colleague working er random lady hike high heat august felt extra irritating inappropriate. got extrait today. eau de parfum smell like sweeter cheaper version star bath body work quite bizzarre outrageously expensive niche entirely synthetic perfume. pleasant scent tad sweet airy me. heard described smelling expensive rich honestly read cheap generic. spice leathery note saffron syrupy sweet jasmine scent mixed soft wood marine salty ambergris like le potent alien mugler. would suggest getting decant try first investing full bottle. would rate . star . expecting blown away lack complexity airy ness made go me. contrary cloud ariana grande close dupe. cloud smell like rotten coconut saliva me. baccarat rouge edp smell like alien mugler mixed star bath body works. extrait definitely better investment albeit touch masculine edp lean feminine much richer. industrial strength opinion. someone poured nondescript floral parfume hefty dose resinous glue like unsweetened anything aromatic substance solar woody type. last hour without change. barely stand scent me. know scented particle used smaller amount one find one popular montale compositions. baccarat rouge amount aromatic particle assaulted already montale sampler time bigger. also masculine dislike anything masculine female skin. shocked. doubt brave enough test different season. lasting power also shocking. accident sprayed sleeve jumper wrist. week washing cycle aromatic fabric softener still clearly radiates unchanged baccarat rouge scent sleeve.. ugh.. initial strength still strong. first black orchid month wooly spray somewhere midsection least black orchid pretty beast. usually dont write review want one process intense dislike it. difficult scent describe... many people use synthetic critical way even though fragrance largely made synthetic ingredients. apt descriptor here. smell like sort cleaner. fragrance might remind one cleaner particular one heavy citrus. however generally smell pleasant issue widespread association citrus cleaning products. though impression harsh highly abrasive cleaner maybe touch artificial equally harsh pine. there prominent metallic feel too. hyperbole put spray bottle told polish metal scrub grime floor would never cross mind wasnt truly unscented cleaner fact expensive perfume. would cover nose cleaned. also reminds bitter medicine latex glove rubber burning plastic maybe even touch urine sort thing one would associate descriptor chemical artificial bitter harsh unpleasant. usually feel people dramatic describe fragrance scrubber first hundred fragrance ive tried actively dislike want wash soon im done writing review. worst ive felt neutral fragrance ill find interesting something id want wear simply taste. yet ive grimacing since put holding back sneeze. make nose itch. doesnt really evolve skin either. maybe becomes little softer little le itchy abrasive still much scent first sprayed on. appearance new note nuance would likely save surprising much fragrance change skin throughout wear. unfortunately doesnt happen although becomes bit softer assaulted nose long enough somehow feel actually become powerful. relentless attack hour nose tired weakened state ready surrender. sadly despite olfactory fatigue gone anosmic slightest. smell intensely every breath even hour later. must something overpowers people sense smell negative way cant imagine anyone finding enjoyable. said get bitter abrasive synthetic cleaner scent light artificial pine none positive note accord others talk about. highly doubt description sound appealing anyone. also pick little sweetness assume others experiencing reference cotton candy reviews. bad sample either reputable source. like im genuinely happy you. wonderful feeling find scent love make feel good. please aware polarizing scent find difficult tolerate. seems im minority know im alone based review elsewhere. last person find scent unlikable untolerable generally find perfume fragrance product least mildly enjoyable. clear hour since first put br updated review continue wear feel given adequate time change develop. yet im struggling find anything positive say this. point genuinely nothing always able find least something like fragrance ive tried. actually begun sneeze. thumb time wash off. yes br smell like mall like crowd people common idc itt good staple frag head reason. wear crave it. aphrodisiac effortlessly alluring either sex. love smell boyfriend much love smell me. indescribable seduction scent. love layer sintra memo paris tone marshmallow bomb one bring sweetness one. good. respect fragrance smell rather unique something simply cant stand it. come synthetic artificial. opening feel like smelling crayon wax pencil . dry appreciate bit feel note fade away. weirdly enough complimented perfume someone else maybe skin chemistry doesnt agree perfume ever say smell like cotton candy obviously never smelled actual cotton candy. definitely reminds something candy like even close actual cotton candy. girlfriend absolutely love fragrance almost headache inducing me. musk go crazy way overboard almost cant stand it. feminine begin candy like accord sits center musk bomb. way explain it. could spray smell good hour straight much.. even longer clothing. laundry detergent nothing. removed musk replaced something else would total different story. maybe need try extrait doubt maybe. near worth gave girlfriend. ill happily stick beloved kilian pdm fragrances. used one many hater perfume. recently bought small vial perfume first smelled warm weather smelled heavy headache inducing. sprayed cold weather somehow smell comforting like warm caramelized sugar. tried spraying slept hour later scent still lingers skin. someone tropical country wear cold weather evening event ac full blast. suggest wearing sun. overall great perfume smell classy someone ultra rich would wear lot dupe cost le br . feel bad people dont enjoy fragrance. think could understand might offensive scent tried first time wow. sweetness strong. musk gorgeous. saffron ethereal. im man tends enjoy unisex fragrance men fragrance bit feminine me. sweetness florals make seem like woman scent. definitely unisex nature think there absence anything specifically masculine composition. news nobody last unbelievably long time skin almost hour now. also project like crazy. price dont think worth it. maybe id consider appears though fragrance cloned countless times. overall scent beautiful powerful. feminine alluring. musky sweet. anything... expensive. got tiny dab vial popular niche store. original br edp imo quite superior cloud headachey screechy granted judgment may change given spray vial . would loved keep cloud initial blast purely untenable borderline headache like today. migraineurs may relate start feel bit nauseous balance little neck pain think oh gosh face trigger vulnerable full blown migraine. experimenting scent vulnerable day change weather risky advised impatient im anywhere close trained nose perfume chemist. notice real designer niche scent often better blended headache inducing smoother make sense. br edp versus cloud full stop. generally brand purist unless dupe another quality brand prestige. sometimes good brand indeed cheaper general observation. got lovely recommendation sample vial waiting based fragrantica recommendation maybe cheaper dupe me. showed family member female said bleh nasty explained cult favorite people think smell like dentist office. said yes lol. primarily smell something sweet warm woody slightly antiseptic base. imo like edp mile better extrait however see people like br extrait. hope made sense popular wear everyday know best smelling person room. favorite scent layer. maison francis really know create scent smell hard describe sweet airy like expensive cotton candy diamond gold lol. hard explain many know scent good reason. great occasion stand unisex list go on. true gem picked sample given great review curious way could actually smell like cloud could spray br initial spray smell hazy sweetness. spray back back realize cloud smell like aquafresh kid blue one sparkle fruity way br someone close described dentist office smell. likely use sample spritzing linen v wearing skin. first time trying end mall shopping trip. deodorant stopped working day let tell pleasant. walked past mfk booth sa sprayed heavy lavish spray right arm. loved immediately figured would give try another day whole bo issue. mall husband took lunch. restaurant went bathroom girl cleaning watched walked past said loudly oh god smell good . rarely get perfume compliment one come spray br mix cloud armpit emanating foot person. needle say sold point wanted bottle ever since. couple sample need spray lasting forever. however extended wear perfume made recognize strange smell kinda like dirty skin still like smell like caramel someone need shower. husband always compliment guy work sniff hair wear yeah weird know people like find kind unusual. first scent sampled made say wow gate unfortunately maybe fortunately wallet sake didnt love br unfolded drydown. like perfume uber feminine leaning opened way slowly turned masculine skin. think cedar fir combo didnt work well me. fortunately discovered trajan electimuss similar br feminine better projection longevity. still cheap le expensive one. ordered sample set brand also impressed mercurial cashmere also imperium husband. worth shot sampling dislike base note cant stomach price br got sample day ago decided try full day. first impression was...its totally worth hype. unique fragrance really scent wise smell like expensive airy sweetnes preformance different. super strong sprayed hand whole room smelt like almost like go noseblind fast like strong extremely airy time. highly recomment people want beast mode fragrance sensitive nose get headache fast...this pleasant comftorable wear. confusing scent own. hated im okay day want wear feel like mostly attempt like bought. smell sweetness cotton candy... smell odd smell never smelt almost addicting odd smell. combined well love dont shy killian. wear together sometimes really want make statement. know someone wearing perfume unique ish. know feel it. hate perfume much actually purchased bottle along extrait perfume anomaly baffled odd smelling perfume spun sugar plus latex glove one able gain love masses. feel like want collection remind of. creation caused phenomenon piece history suppose. appreciate story behind creation. maybe another reviewer said true masterpiece defiled watered down. oh well never know suppose. maybe grow love never wear out. update eating word one grown really appreaciate even love it. acidula join bajablast big agreement calling big fume already tend choke people out. also point bottle velvet teddy well say velvet teddy one repulsive thing wear. wore time literally people move away switch seat away me. something think posting review yours. way karen wear baccarat rouge would require class typical karen severely lacks. took long time purchase baccarat rouge. first time officially smelled last month. thought smelled really good similar several fragrance already have. familiar familiar honest never really truly wanted fragrance seemed every woman already wore it. felt exact way dupe ariana grandes cloud. everywhere especially youtube cant believe today wearing baccarat rouge . really like nose lean feminine champagne type sparkle. baccarat rouge great longevity sillage. doesnt smell luxurious expensive like great girl next door. also way through. undergo change morph something else hour later. initial spray dry almost identical. appreciate that. smell happy hopeful. also flourish cold weather. like animalic dessert smell never eat expensive blind buy try first keep mind one flourish skin paper. one weird ride me. tested one last year guess wasnt right season think tested around july august hottest season. last week testing angel share gene reminded one decided give try. second try year still got hospital smell today im telling guy burnt caramel sweet gourmand. finally understand hype cant get enough one almost blind buy glad ordered sample first cuz really dont like much surprised lot people mention sweet... dont get anything sweet metallic scent instead absolutely dont understand fragrance considered one best popular one lot much better one maison francis kurkdjian imo update try got sweetness time still love affair hehe ordered ml decant edp sample first time. soon smelled fixated woodiness smelled exactly like someone knew years. reason im pretty sure smell natural musk combined wintergreen flavor tobacco used daily. sound disgusting honestly is. yet kept thinking smell. realized needed look past woodiness wanted give fair chance. disgusting association fragrance amount comfort warmth smell brought even powerful. sprayed skin love it. indeed fixating woodiness way much. missing wonderful spicy amber scent slight metallic salty touch. everything remarkably warm. fair evaluation great. cant break negative association though dont really want wear public. wear fragrance first foremost baccarat rouge edp brings lot comfort love wearing fragrance cozy night home new fall winter cozy fragrance. cozy fragrance isnt bad thing id say cozy one important collection tell im going happy use get it. personally price value fragrance doesnt factor opinion fragrance itself. one day money decide need full bottle baccarat rouge edp wont think twice. said...yes think overpriced. especially someone like want wear home. think ml decant run ill either check affordable clone order another decant. beautiful fragrance. reason people find generic duped many times. prove beautiful mass appealing scent is. actually quite dupe one none exactly like one. constantly get whiff sweet buttery caramel like scent. sweet almost syrupy. kinda hate fact one duped much feel like negates people appreciation original. scent really something special. closest dupe even compare lovee baccarat dupes. however take away greater love fragrance. favourite perfume time ever since got wearing daily addicted scent constantly craving it. love sweet scent make addicting depth waft give caramel light fizzy citrus me. last day smell clothes day after. definitely light enough wear work beautiful evening well. thing get anosmic ambroxan scent really frustrating cause wish could smell more. still deal cause get waft day amazing. expensive worth small bottle large bottle body oil extrait. definitely better extrait feel one loos fizzy airiness. there something expensive yet common fragrance. dont get wrong actually attractive scent poised elegant floral riding wave amber giving overall creamy almost caramel texture price point id expect either masterpiece something world unique. definitely worth google search good dupe simply refuse spend hundred smell like middle class woman john lewis jewellery counter. love fragrance far many dupe market justify price. understand negative review saying smell bad also understand everyones body chemistry different. nice sweet also musky scent. make perfect unisex scent mind. would definitely recommend cloud smell almost exactly opinion. sure br refined enough average person walking past notice. ordered sample curious hype. im new really exploring perfume world didnt occur wildly popular scent could affect negatively. put instantly felt nauseous developed headache. im even trying dramatic im genuinely shocked instant negative impact me. reading previous review band aid description spot opinion. scent might briefly appreciate older woman wearing walked past store time spent perfume much me. scrub off. opening harsh pungent antiseptic like iodyne. drydown mostly whole lot nothing rare pleasant hint musky creaminess. also get negative comparisons. cat pee bad breath cold sweat. get sweetness. encounter older lady horrific mouth odor wearing learn hate going remind eternally. unfortunately plenty people demographic adopted signature scent . emperor new clothes kind story me. hype train went kept rolling enough people likely nudged gaslit forcing like it. eveyone said everything leaving much else say aside this. formulation thus discovered far mass defiled it. come bandwagon trodding along like sad merchant carriage. incredibly obvious past year people coveted say give false sense belonging people right want something unique groundbreaking one else posse sheep cut dry. yearn someone else desire trickle causing chain reaction infectious. observed individual must must mentality watching youtube review talking fragrance x z far saddest part show individuality character self worth. people either realise chose turn blind eye greed brands. e.g. est e lauder purchased kilian brand flagship love shy still incredibly popular reformulated since acquisition incredibly potent however likely parfum doesnt last minutes. people saying leave ldbs sunlight turn liquid darker shade orange known already clearly reformulation course people would rather make feel better actually acknowledging ripped complete lunacy. popularity benefit brand customer. quality sufferer immensely result like current formulation br . used posse integrity smell like le half formulation smell like warm butter wisp salted molten sugar bed fir resin cedar topped saffron atop form gastronomy foam truly masterpiece lasted week even see oil concentration bottle perform like consistency water. actually pity people jump aboard bandwagon hope br fragrance meanwhile people claim holy grail consumerism cheapened scent everyone want love much simply everyone else say lot person raf another unsuspecting fragrance come along ravaged treated exact carelessness received. downvote till heart content personally find fragrance smoky quite masculine. surprised considered feminine side unisex. like others reminds incense definitely smoky slightly boozy room. think well formulated fragrance strong without overpowering certainly long lasting. definitely think would smell great men woman prefer unisex rather feminine fragrances. fell hype since social media. price sceptical ordered sample. smell like incense sticks. nothing nothing less. smell like pas oud store heavy smell merging one. ive realised ive surrounded smell everywhere everyone thought heavy user incense home burny spicy smell stuck clothes. ill give chance grow right hate smell like inside spice cabinet. sophisticated slightly cold airy luxurious. chanel generation. people love hate everyone talk admire fact. amazing copied much talked much people passionate it. unique created category. loved hated many creates emotion definition good art. like scent love perfume lie emotion evokes cult following created. bottle original also extract version believe create slightly different moods. perfume piqued interest hyped fragrance world now. lot people talk modern era equivalent chanel know perfume taste well enough recognize something would actually wear want purchase still curious nonetheless. fortunately able find store nearby carried could sample first left little disappointed could smell medicinal bandaid quality people talk about. smell exactly like gritty pink tooth polish dentist use clean teeth last way entire duration. scent would feel like walking around smelling day lol funky scent aside say perfume quality well done tell smooth well blended perfume good longevity sillage. one lucky one work great would definitely recommend others try buy possible seems lot inconsistency among reviewer appear play nicely everyone. sometimes smell like hospital medicinal sometimes smell like sugar long day wear sometimes smell like sweat. definitely guarantee occasional dissappearing acts. like guy look good brings inconsistency character. worth stress half time need deserve stability consistency no. hype worth unsure.remember none perfume influencers smelling random ordinary people crush. sometimes get anything negative u smell know there strong chance someone perceives smell smell you. forget influencers go smell. guy want smell tom ford black orchid want smell britney spear fantasy keep mind tacky middle school dollar perfume tell graduate from. date losing mind. n im old middle school. sniffed chest way neck first date that.go gut u smell perfume. jeremih fragrance wont convince everyone around doesnt like scent u smell good. live life. tom ford call cu smell like herb baccarat rouge extremely overhyped overpriced. dont get wrong think extremely beautiful fragrance. simply worth price me. im addicted concoction note here. primarily get saffron amberwood note also get sweetness jasmine. im also getting sweet musk similar ariana grandes cloud. lovely fragrance price point expecting something complex wow factor. think money go people like dont ton money cant see would worth it... also understand people saying smell plastic y. overall good fragrance nothing particularly impress me. also cant get ridiculous price point. scent almost unisex could ever negative criticism. respect scent lot want comment good bad fragrance would opinion. however smell traditionally masculine feminine note battle whole time wearing it. like accidentally sprayed aftershave tried cover spraying perfume top. note blend together like unisex fragrance love. find masculine personally. husband tried found little feminine lol need baby bear version one think haha. like every fragrance depend skin chemistry sure people must smell amazing wearing one. really unique interesting one. wow. kind new fragrance game figured would leave cold. despise anything mainstream popular ... purchased sample luckyscent first minute underwhelmed. seemed nice light. shocked light seemed. well. wow guess skin hour later hit. deep delicious warm sweet evocative vibe....it reminded year old high end mall smell excitement air elegance high end cologne particular high end pastry shop sat near one department stores.. delicious thing baking cotton candy caramel elegance one bizarre evocative fragrance experience ever have. read note think hell getting caramel fair cotton candy saffron jasmine anyway went purchased supersized . . count in. oh man disappointed. extrait also purchased ariana cloud test dupe theory. cloud super cheap cv store smelling compared br s. cloud junior high super synthetic wanna version yes great youre tight fund smelled real next cloud there noticeable difference. imo close enough called dupe another sweet walmart frag. love sweet scent rocked pink sugar came many moon ago received compliment men frag ever. ive grown discovered niche appreciate quality different frags now. said trying decide like br og extrait. feel like im underwhelmed every time try extrait. dont get excitement get og. purchased extrait expert behind counter really pushed gave bunch sample og extrait think returning extrait getting og. ill update anything change really think thats way im leaning. also true niche frag head understand boredom now... safe go cant decide wear. much exciting frags niche house imo youre looking something exciting signature scent keep looking. neither exciting great signature scent everyone version type scent. reading many comment comparing ariana cloud saying zara dupe tried really wanted try o.g. br . couple day ago strasbourg baccarat store. trying convinced everyone comparing mentioned simply got bootleg non auth version smell nothing like people compare to. unique complex scent. smell spicy mature.. love first sniff . made finally sign fragrantica make comment.. cedar fir resin woody note bring back seaside. spritz like opening back sandy suitcase hit smell sea sea salt pine cedar tree laid old built seaside houses.. a_ferrera hope life reward soooooo cool liking thing right reason early adopter safe assume aware fragrance famous inducing anosmia right frustrating come goes. worn br since gone several bottle recent purchased within last months. sometimes smell br strongly. sometimes detect opening minutes. mean others smell strongly certainly mean current formula defiled performs like water anyway wow really cool a_ferrera. extremely cool. never change nice scent. unfortunately issue like aventus bleu de chanel. becomes huge hit every company create version even dup it. anyone fraghead likely find pleasant. fragheads find controversial smell good. ive tried casino royal forget dupe company nearly identical thd exception bit chemical. got compliment one lady thought wearing joop good way. thought first experience hype worthy frag vibe like wear baggy jean combat boot black tank hottest way possible cause hot woody frags tend skin typically like different good way. def unisex interestingly enough although feel lean masculine skin boyfriend skin much sweeter feel bit feminine. aphrodisiac across board nonetheless. first honestly rather disappointed could smell strong woody musk mind new maybe accustomed quality mfk brings table time went hour gone suddenly stop sniffing wrist. turned addicting fresh yet somehow creamy sweet woody delight way imagined based copious rave review demi specifically really really enjoy lot expected since woody often go skin even hint feel skin chemistry tends pull woody musk top given frag like mine def still give try trying hard savor sample spray find reaching daily basis even quick whiff lol. also anyone know already mfk website sell custom sample set four ml sample spray choice free shipping glad discovered prior paying . ml shipping decant site wish uncovered love sending christmas list north pole get distinctly cheesy funky note ambergris make scent oddly compelling also bit nauseating. like overall presentation perfume though find pleasurable get whiff others. personal wearing found success numerous dupe think ill sticking sake nose wallet edit ended scrubbing stomach starting turn. shame br bond tribeca. similar right smelling right next skin. amazing dont component smell similar. would say would determine one want well based like. gourmand lover go tribeca. note hazelnut cocoa. get scent steer toward that. creamier gourmand smelling. however maybe let say rose flower lover fragrances. go br . difference. smell br leaning flowery saffron. tribeca lean gourmand. like keep both. ill honest br . dont know go nose blind prior trying tribeca started get rid it. price want baby everything want too. tried heavy spraying br spraying skin clothes top oil put fragrance bathe puppy want do. day ago got spray sample smallflower.com wanted share impression first smell like sweet pineapple dessert burnt sugar top. much sweetness me. slowly change soft musky flowery scent fade faint ghost itself. last couple hours. whole time sits close skin doesnt much projection disappointment. im glad didnt actually buy full bottle would freakin expensive another hyped priced fragrance like thousand others... [sigh]. swiped son test smell divine tbh like odd fragrance none note particularly came stronger others combination seems elicit different smell memories.. top note woody smokey dash chlorine partner old newspapers. lol said dry beautifully still much drawn fragrance smokey woody rounded rather wonderful. bought sample regret much scrub off. smell animalic like fecal scent. thought got bad old batch ordered another sample dumb thing. smell like unwashed genitals. smelled people sample paper everywhere since everywhere stench all. dupe almost bad worst. offensive safe blind buy. smell public hard hold nose. never kind reaction fragrance before. armagnac region france summer time blue festival one festivity traditional armagnac burning balmy summer night. guy got ladder pitcher full armagnac lit fire poured vessel several foot below. flaming river burning liquor cast bluish orange glow faces. repeated process burning pouring burning soon strong smell burnt sugar boozy vanilla gassy shoe polish filled air. got closer action creme brulee scent got stronger stronger. strong scent memory resurfaced smelled baccarat rouge . guess perfumer french attended armagnac burning wanted capture smell perfume. well indeed intention think succeeded. smell burnt sugar booze creme brulee shoe polish bit gasoline touch isnt noxious all. give slight edge make interesting. people saying smell awful well thats like opinion man. super high quality classy feminine fragrance brings back great memory amazing summer southern france. get hand premium authentic bottle armagnac take smell sip youll know mean. even better pour shot glass light fire. snifftacular got gift absolutely love however yes smell half hour gone. yes rest people love smell rest day. smell clothes anything like that. cotton candy. want try extrait see smell clothes longer. also bottle got lasted four month reapplied still smell mins. ill say thank god baccarat everyone like much additional plus reason everything everyone able wear people put perfume leave apartment everything ring behind me. start car turn radio sound blend smell lift up. go office enter huge building shaking. feel around day make feel powerful one syringe enough. skin smell good madness blend entices provokes...and wont even mention going evening miracle.baccarat put chaos atomic bomb. perfume girl boy worn strong person know want stand firmly ground. would like feel man would interested impression. perfume charm. one comment high price yes expensive trust every single penny worth longevity perfume. kid last hour me. mfk masterpiece. absolutely detest perfume. fact hated perfume time. hate blotter people room someone left hate it. vile. truly nauseating. cannot comprehend popularity. smell almost exclusively overpowering saffron thus make everyone everything smell like paella. boyfriend actually begged never wear offensive. im almost convinced people fooled liking weird prestige social medium marketing attached little expensive side. first time smelled blown away. really liked it. time passed by. starting headache. used bottle end selling coz husband kept complaining strong. enjoyed using bottle had. able finish entire bottle coz pricey daily wear. plus went saudi arabia. common scent there. smell everywhere mean everywhere got sample see rage disappointed . spicy amberish fragrance genre. smell like older woman scent . borderline offensive . would leave sat next anyone wearing fragrance . reviewer complain reviewer giving truthful opinion may negative review base buying potential future fragrance note experience reviewer get . negative positive . fragrance subjective everyone right voice opinion . terrible stand scent. like accord main note still one worst scent know. always test skin rely note like . blind bought gave away. anyway bought even know hype this. think known popular copied many dupe even bought it. longevity forever projection really good. baccarat rouge edp perfect expression refinement grace. subtle yet powerful alchemy creates amber floral woody sensation nestle skin like gentle summer breeze. iconic aroma sure turn head mfk offer revolutionary olfactory feast rouge taking inspiration beauty baccarat crystal inform three unique accords. breeze delicate jasmine spiced saffron diving cedar crackling warmth finally savoring mineral ambergris unexpected depth exudes sophistication. originally made review perfume explaining smell anything smelling perfume smelt lot perfumes. make mistake made. decided smell perfume shop smelled one could actually smell time faint smell lose scent easily still believe perfume way overrated smell generic giving higher rating now. good reason listed popular fragrance here. also duplicated counterfeited etc. something hook people. sure over. good reason. single fragrance forget smelled first time. addicted first smell. mind wear often. granted several fragrance love wear. day hundred wear still make day little better every single time. one piece advice form opinion dupe there. nothing completely compare close may be. finally got hand sample smell identical ariana grande cloud. nowadays seems trend perfume company create clone baccarat rouge. anyone say smell identical cloud trying justify high price tag probably spent money themselves. course quality different story personally justify spending huge sum perfume market oversaturated similar scents. imitation form flattery reason company keep ripping scent smell good personally identify note perfume maybe amber sweet sort like strawberry candy. woody scent. update want add longetivity perfume insane could still smell wrist hours. really really love scent want last forever might worth budget it. noticed scent labeled unisex opinion feminine. extremely sweet wearing several time noticed kind musty undertone really dont like. unique fragrance first alcoholic like alcoholic drink becomes floral herbal becomes sweet woody feel like hug weird unique fragrance know overhyped never smelled something like even dupe thing im disappointed project feel skin perfectly last much project definitely bombastic perfume give really unique kinda mystical scent completely unisex feminine feel love im completely love magical weirdness scent definitely heat friend autumn wintery scent definitely everyone patient one may expect something really magical scent wow got limb already owning loving cloud. jeez expect similar is. cloud truly dupe this. there slight difference bit spicier way better performance sillage. said cloud dont need this. unless comfortably afford cloud really reason buy it. still amazing fragrance ill using every then. perfume really put whole different mood definitely fragrance. sexy luxurious opulent intoxicating total compliment getter smell like pure sex bottle. smell like juicy blood orange wrapped resinous sweet sticky amber. woody ambery intense little sweet. smell feminine juiciness sweetness. cloud dupe smell close same. great fragrance finally got sample take woody floral sweet aromatic. light musk note probably ambroxan make classy well balanced saffron note add spice uniqueness. note blended beautifully opinion. however became anosmic rather quickly. also dry quite powdery skin awhile biggest fan bad. still really enjoyed initial smell amber woodiness floral sweetness cloying good prominent. see man wearing though lean feminine due floral sweet note could work certain men sure. long lasting could still smell forearm next morning. smell classy cheap one would hope seeing expensive th thought popular consequently many dupe market make le appealing. know avoided happens hugely popular fragrance is. ironic expensive perfume exclusive house becomes heavily duped commonplace c est la vie fragrance market like would liked much overhyped social media. would purchase full bottle enjoy now. got perfume gift ml bottle actually pretty. expensive perfume is... baccarat rouge always collection elegant beautiful comforting scent me. smell like mix wood florals somehow combine sweet delicious caramel popcorn last long time skin silage impressive. one spray happy rest day. resemblance cloud ariana grande definitely tell difference. however people without much knowledge fragrance find difficult distinguish two. finally got hand bottle. blind buy pretty good idea smelled like already christian sirianos ooh la rouge cloud already smelled red temptation zara. problem there ingredient went noseblind olfactory fatigue really called to. working around perfume day every day scent got nose harshly made sneeze. nose gotten desensitized past year. wanted smell huge bang sprayed didnt. although people saying stay develops. sprayed inner arm last night waking im noseblind that. smell fragrance beatiful warm sweet aromatic amber. beautiful scent think placed right need be. overrated no. overhyped definitely. im gonna try ease back perfume nose becomes sensitive really enjoy fragrance want to. sort necromancy taking place baccarat rouge idea what. personally much prefer extrait cloud tribeca. however none make husband react way wear . extrait flatline. cloud snuggle snore. tribeca flatline. aflame idea drive crazy dont think specifically either. get load compliment wearing even though get dentist hospital vibe. people around get warm spun sugar thats good enough keep wearing it. make mistake perfume mean business. expensive yes last last hours. one two spray youre good go least hour straight. therefore feel price tag justifiable least. magic potion never without it. ive wearing baccarat rouge since attest yes deserves hype gets. smell like warm toasty skin loving embrace older sister mum airy sugar spun fairy floss cotton candy candy floss . love wearing year round longevity sillage never fail me. number one complimented fragrance. everytime wear people know turn around even see say smelt knew . get anosmic however still get compliment despite able smell it. find hotter weather sweat project air. love potion capture people attention like beautiful person love never yet cant stop thinking them. also tried lot different type dupe id say cloud definitely close contender thought friend mine wore baccarat rouge actually wearing cloud. despite would still purchase baccarat rouge again. sorry hate passion. heavy dos amber also weird molecule ambroxan ambergris type smell. fair absolutely ridiculously high quality. last week skin year clothes heavy projection. expensive no. well maybe . no. absolutely find smell heavenly no. bottle last forever. ok hype saw tiktok try it. bought directly website dont sell country opted get travel set instead large bottle glad did. personally found scent sickly sweet hella overrated bother scent much complex unique opinion buccart one last longest though. tldr definitely smell perfume buying thought overrated smell recognize scent even people original extrait. got owned clones. must sadly say bit dissapointed both. maybe bit anosmic them. smell apply get whiff thoughout day night. think original close cloud extrait closer manceras instant crush. instant crush cloud eternal longevity beast mode silage me. baccarat subtle quiet. refined exclusive way expensive. maybe hype therefore expectation way sky. happy finally got real deal spend money cloud instant crush future references. enjoy every drop bottle long last. dont get wrong. love also love cheaper dupes. dont understand hype surrounding this. ive desperate smell person especially since love burberry couldnt disappointed. describe make think like hair product would use heat protectant straightening hair. there distinctly burnt quality smell deeply unpleasant. look note tick various wood ambergris. saffron suppose. jasmine absolutely not. similar synthetic quality none sweetness brings spiced wood profile table. dont know maybe one isnt me. close eye imagine person could see wearing dont want girl. actually one groupie fragrance enjoy. fooled bottle light pink scent almost white scent lactonic sweet skin lotion type scent. smell similar burberry her. unique would never waste money bottle. sample received absolutely beautiful snuggle worthy. give lacoste inspiration vibe chilly grey rainy day spacious loft concrete building lot grey white two piece loungewear late s. definitely see lovely nighttime spring well. nice please waste money numerous perfume cheap profile one leaving review original extrait owner original dupe dont get hype all...the fragantica accord far actually smell this. get medicinal overly sweet cotton candy vibe amplified extrait. nothing special real depth dry flat sweet...nothing really stand out...whats hype also much leaning feminine sweetness would guy want smell like this... cannot justify buying price fragrance easy replicate...especially everyone smell like longer unique would buy dupe instead...they smell le air...cloud arent even similar sweet yet people scent consistently claim people asking wearing br...like evident one even truly know br smell like dupe inspired scent one big blur everyone confusing everything br....so even point spending og im sorry juice isnt giving price tag tested fragrance today. me. really sad cause lot people love smell synthetic. burnt sugar like burnt plastic feel like medicine hospital idk explain it. bad make feel sick nauseous all. really made feel uncomfortable. super long lasting still smell somewhere room hours. really wanna like me. start sweet lush skin. got strong floral sweet vibe put off. surprised expected much unisex scent. waited several hour see would evolve barely held wash off. ambery cedary note came sort relieved. drydown best part since le sweeter. surprised see baccarat sweet skin. thought feminine decided wear again. definitely skin safe blind buy. one time faves probably one five niche drop big buck for. francis kurkdjian became one great perfumer came creation superb timeless airy sweet sweet woody woody unisex long lasting. last clothes even washing always bad thing bear mind switch perfumes. real little black dress perfume worn work occasion casual etc works. real compliment getter term similarity cloud yes similar sweet smell expensive. wanted get feel perfume without spending cloud even zara red temptation perfectly acceptable alternatives. often use cloud avoid burning bottle stuff quickly champagne taste lemonade budget yes become ubiquitous inspired many clone yes smelled everywhere good reason iconic created another chapter history perfume along fracas angel etc. used get upset loved perfume smelt everyone dog wearing come think actually love smell smell everywhere never bad thing. quite happy whole world smelled like tl dr vibe least try today smelled first time really surprised. super talked perfume rated. coincidentally cloud ariana grande girl shocked scent. difference cloud moderately durable bakkert durable long add another ni shock surprised smell also dry down. really everyone raving highly overrated. smell dry like iron steam coming stainless steel backing iron.. edp it. one best niche scent ive fragrance game along time. even woman men family member etc sniff said generic. expected blown away. maybe extrait de parfum need try maybe almond make difference sample extract. glad didnt blind buy this.'"
            ],
            "application/vnd.google.colaboratory.intrinsic+json": {
              "type": "string"
            }
          },
          "metadata": {},
          "execution_count": 7
        }
      ]
    },
    {
      "cell_type": "code",
      "source": [
        "import spacy\n",
        "from spacy.tokens import DocBin\n",
        "from tqdm import tqdm\n",
        "\n",
        "nlp = spacy.blank(\"en\")\n",
        "db = DocBin()"
      ],
      "metadata": {
        "colab": {
          "base_uri": "https://localhost:8080/"
        },
        "id": "XwoayMENZP5t",
        "outputId": "9dc4ca42-0adc-4860-cf6a-8a5c1dbce27a"
      },
      "execution_count": 8,
      "outputs": [
        {
          "output_type": "stream",
          "name": "stderr",
          "text": [
            "/usr/local/lib/python3.8/dist-packages/torch/cuda/__init__.py:497: UserWarning: Can't initialize NVML\n",
            "  warnings.warn(\"Can't initialize NVML\")\n"
          ]
        }
      ]
    },
    {
      "cell_type": "code",
      "source": [
        "for text, annot in tqdm(annotation_data_train['annotations']):\n",
        "  doc = nlp.make_doc(text)\n",
        "  ents = []\n",
        "  for start, end, label in annot[\"entities\"]:\n",
        "    span = doc.char_span(start, end, label = label, alignment_mode = \"contract\")\n",
        "    if span is None:\n",
        "      print(\"skipping entity\")\n",
        "    else:\n",
        "      ents.append(span)\n",
        "  doc.ents = ents\n",
        "  db.add(doc)\n",
        "\n",
        "  db.to_disk(\"./annotation_data_train.spacy\")"
      ],
      "metadata": {
        "colab": {
          "base_uri": "https://localhost:8080/"
        },
        "id": "3bfCNdIoZ0ov",
        "outputId": "60de151a-d7f2-4352-f548-2a923e774ccb"
      },
      "execution_count": 9,
      "outputs": [
        {
          "output_type": "stream",
          "name": "stderr",
          "text": [
            "100%|██████████| 74/74 [00:00<00:00, 182.28it/s]\n"
          ]
        }
      ]
    },
    {
      "cell_type": "code",
      "source": [
        "for text, annot in tqdm(annotation_data_val['annotations']):\n",
        "  doc = nlp.make_doc(text)\n",
        "  ents = []\n",
        "  for start, end, label in annot[\"entities\"]:\n",
        "    span = doc.char_span(start, end, label = label, alignment_mode = \"contract\")\n",
        "    if span is None:\n",
        "      print(\"skipping entity\")\n",
        "    else:\n",
        "      ents.append(span)\n",
        "  doc.ents = ents\n",
        "  db.add(doc)\n",
        "\n",
        "  db.to_disk(\"./annotation_data_val.spacy\")"
      ],
      "metadata": {
        "colab": {
          "base_uri": "https://localhost:8080/"
        },
        "id": "yIF6zDEHjbmy",
        "outputId": "4c1e6c45-7914-4131-daf0-96f1bc27eaf3"
      },
      "execution_count": 10,
      "outputs": [
        {
          "output_type": "stream",
          "name": "stderr",
          "text": [
            "100%|██████████| 29/29 [00:00<00:00, 83.93it/s]\n"
          ]
        }
      ]
    },
    {
      "cell_type": "code",
      "source": [
        "! python -m spacy init config config.cfg --lang en --pipeline ner --optimize efficiency\n"
      ],
      "metadata": {
        "colab": {
          "base_uri": "https://localhost:8080/"
        },
        "id": "JDg0qQGZkYN0",
        "outputId": "7902844b-09d5-476f-fb85-0620f61341d1"
      },
      "execution_count": 11,
      "outputs": [
        {
          "output_type": "stream",
          "name": "stdout",
          "text": [
            "/usr/local/lib/python3.8/dist-packages/torch/cuda/__init__.py:497: UserWarning: Can't initialize NVML\n",
            "  warnings.warn(\"Can't initialize NVML\")\n",
            "2023-02-26 10:52:22.571409: W tensorflow/compiler/xla/stream_executor/platform/default/dso_loader.cc:64] Could not load dynamic library 'libnvinfer.so.7'; dlerror: libnvinfer.so.7: cannot open shared object file: No such file or directory; LD_LIBRARY_PATH: /usr/local/nvidia/lib:/usr/local/nvidia/lib64\n",
            "2023-02-26 10:52:22.571577: W tensorflow/compiler/xla/stream_executor/platform/default/dso_loader.cc:64] Could not load dynamic library 'libnvinfer_plugin.so.7'; dlerror: libnvinfer_plugin.so.7: cannot open shared object file: No such file or directory; LD_LIBRARY_PATH: /usr/local/nvidia/lib:/usr/local/nvidia/lib64\n",
            "2023-02-26 10:52:22.571601: W tensorflow/compiler/tf2tensorrt/utils/py_utils.cc:38] TF-TRT Warning: Cannot dlopen some TensorRT libraries. If you would like to use Nvidia GPU with TensorRT, please make sure the missing libraries mentioned above are installed properly.\n",
            "2023-02-26 10:52:24.342143: E tensorflow/compiler/xla/stream_executor/cuda/cuda_driver.cc:267] failed call to cuInit: CUDA_ERROR_NO_DEVICE: no CUDA-capable device is detected\n",
            "\u001b[38;5;3m⚠ To generate a more effective transformer-based config (GPU-only),\n",
            "install the spacy-transformers package and re-run this command. The config\n",
            "generated now does not use transformers.\u001b[0m\n",
            "\u001b[38;5;4mℹ Generated config template specific for your use case\u001b[0m\n",
            "- Language: en\n",
            "- Pipeline: ner\n",
            "- Optimize for: efficiency\n",
            "- Hardware: CPU\n",
            "- Transformer: None\n",
            "\u001b[38;5;2m✔ Auto-filled config with all values\u001b[0m\n",
            "\u001b[38;5;2m✔ Saved config\u001b[0m\n",
            "config.cfg\n",
            "You can now add your data and train your pipeline:\n",
            "python -m spacy train config.cfg --paths.train ./train.spacy --paths.dev ./dev.spacy\n"
          ]
        }
      ]
    },
    {
      "cell_type": "code",
      "source": [
        "! python -m spacy train config.cfg --output ./ --paths.train ./annotation_data_train.spacy --paths.dev ./annotation_data_val.spacy\n"
      ],
      "metadata": {
        "colab": {
          "base_uri": "https://localhost:8080/"
        },
        "id": "NWIihr0Xka1i",
        "outputId": "7388f51d-1bc2-4356-acde-38e81c4a40cb"
      },
      "execution_count": 12,
      "outputs": [
        {
          "output_type": "stream",
          "name": "stdout",
          "text": [
            "/usr/local/lib/python3.8/dist-packages/torch/cuda/__init__.py:497: UserWarning: Can't initialize NVML\n",
            "  warnings.warn(\"Can't initialize NVML\")\n",
            "2023-02-26 10:52:29.865883: W tensorflow/compiler/xla/stream_executor/platform/default/dso_loader.cc:64] Could not load dynamic library 'libnvinfer.so.7'; dlerror: libnvinfer.so.7: cannot open shared object file: No such file or directory; LD_LIBRARY_PATH: /usr/local/nvidia/lib:/usr/local/nvidia/lib64\n",
            "2023-02-26 10:52:29.866031: W tensorflow/compiler/xla/stream_executor/platform/default/dso_loader.cc:64] Could not load dynamic library 'libnvinfer_plugin.so.7'; dlerror: libnvinfer_plugin.so.7: cannot open shared object file: No such file or directory; LD_LIBRARY_PATH: /usr/local/nvidia/lib:/usr/local/nvidia/lib64\n",
            "2023-02-26 10:52:29.866059: W tensorflow/compiler/tf2tensorrt/utils/py_utils.cc:38] TF-TRT Warning: Cannot dlopen some TensorRT libraries. If you would like to use Nvidia GPU with TensorRT, please make sure the missing libraries mentioned above are installed properly.\n",
            "2023-02-26 10:52:32.371020: E tensorflow/compiler/xla/stream_executor/cuda/cuda_driver.cc:267] failed call to cuInit: CUDA_ERROR_NO_DEVICE: no CUDA-capable device is detected\n",
            "\u001b[38;5;4mℹ Saving to output directory: .\u001b[0m\n",
            "\u001b[38;5;4mℹ Using CPU\u001b[0m\n",
            "\u001b[1m\n",
            "=========================== Initializing pipeline ===========================\u001b[0m\n",
            "[2023-02-26 10:52:33,621] [INFO] Set up nlp object from config\n",
            "INFO:spacy:Set up nlp object from config\n",
            "[2023-02-26 10:52:33,634] [INFO] Pipeline: ['tok2vec', 'ner']\n",
            "INFO:spacy:Pipeline: ['tok2vec', 'ner']\n",
            "[2023-02-26 10:52:33,639] [INFO] Created vocabulary\n",
            "INFO:spacy:Created vocabulary\n",
            "[2023-02-26 10:52:33,640] [INFO] Finished initializing nlp object\n",
            "INFO:spacy:Finished initializing nlp object\n",
            "[2023-02-26 10:52:33,970] [INFO] Initialized pipeline components: ['tok2vec', 'ner']\n",
            "INFO:spacy:Initialized pipeline components: ['tok2vec', 'ner']\n",
            "\u001b[38;5;2m✔ Initialized pipeline\u001b[0m\n",
            "\u001b[1m\n",
            "============================= Training pipeline =============================\u001b[0m\n",
            "\u001b[38;5;4mℹ Pipeline: ['tok2vec', 'ner']\u001b[0m\n",
            "\u001b[38;5;4mℹ Initial learn rate: 0.001\u001b[0m\n",
            "E    #       LOSS TOK2VEC  LOSS NER  ENTS_F  ENTS_P  ENTS_R  SCORE \n",
            "---  ------  ------------  --------  ------  ------  ------  ------\n",
            "  0       0          0.00     92.33    1.36    0.96    2.36    0.01\n",
            "  4     200        489.81   2006.79   79.91   80.17   79.66    0.80\n",
            "  9     400        133.27    271.22   87.96   90.87   85.22    0.88\n",
            " 15     600        163.55    108.81   88.59   91.74   85.65    0.89\n",
            " 21     800        171.56     82.42   88.55   91.16   86.08    0.89\n",
            " 30    1000        181.98     51.93   87.68   91.01   84.58    0.88\n",
            " 40    1200        329.45     80.22   88.21   89.98   86.51    0.88\n",
            " 53    1400        160.29     52.58   89.72   91.72   87.79    0.90\n",
            " 69    1600        148.05     30.92   89.16   91.26   87.15    0.89\n",
            " 89    1800        164.66     32.49   89.01   91.42   86.72    0.89\n",
            "113    2000         57.04     11.45   88.89   91.40   86.51    0.89\n",
            "144    2200        186.20     34.75   89.13   91.44   86.94    0.89\n",
            "181    2400        247.44     26.90   88.74   89.72   87.79    0.89\n",
            "221    2600        168.28     24.76   87.53   89.49   85.65    0.88\n",
            "261    2800         97.60     11.94   88.79   90.27   87.37    0.89\n",
            "301    3000        135.71     18.32   88.09   89.96   86.30    0.88\n",
            "\u001b[38;5;2m✔ Saved pipeline to output directory\u001b[0m\n",
            "model-last\n"
          ]
        }
      ]
    },
    {
      "cell_type": "code",
      "source": [
        "nlp_ner = spacy.load('/content/model-best')\n"
      ],
      "metadata": {
        "id": "GGN1KxDCktci"
      },
      "execution_count": 13,
      "outputs": []
    },
    {
      "cell_type": "code",
      "source": [
        "for i in range(0,144):\n",
        "  globals()[f\"doc_{i}\"] = nlp_ner(data.review[i]) # dynamic loading"
      ],
      "metadata": {
        "id": "Rioeewaskwpy"
      },
      "execution_count": 14,
      "outputs": []
    },
    {
      "cell_type": "code",
      "source": [
        "for i in range(0,144):\n",
        "  globals()[f\"doc_{i}_ents\"] = list(globals()[f\"doc_{i}\"].ents) # dynamic loading"
      ],
      "metadata": {
        "id": "2TZnc5xNm35k"
      },
      "execution_count": 15,
      "outputs": []
    },
    {
      "cell_type": "code",
      "source": [
        "doc_1_ents[:5]"
      ],
      "metadata": {
        "colab": {
          "base_uri": "https://localhost:8080/"
        },
        "id": "puIK1xF3ns0O",
        "outputId": "25dad03c-d806-4d0f-9bf1-74a187d2cce3"
      },
      "execution_count": 16,
      "outputs": [
        {
          "output_type": "execute_result",
          "data": {
            "text/plain": [
              "[warm, cognac, complex, hint, spicy]"
            ]
          },
          "metadata": {},
          "execution_count": 16
        }
      ]
    },
    {
      "cell_type": "code",
      "source": [
        "type(doc_0_ents)"
      ],
      "metadata": {
        "colab": {
          "base_uri": "https://localhost:8080/"
        },
        "id": "AJYpNnLLqXPH",
        "outputId": "f4633c99-a015-4d86-850a-31f9ee6ea431"
      },
      "execution_count": 17,
      "outputs": [
        {
          "output_type": "execute_result",
          "data": {
            "text/plain": [
              "list"
            ]
          },
          "metadata": {},
          "execution_count": 17
        }
      ]
    },
    {
      "cell_type": "code",
      "source": [
        "doc_dict = {}\n",
        "for i in range(0,144):\n",
        "  doc_dict[f\"doc_{i}\"] = globals()[f\"doc_{i}_ents\"]"
      ],
      "metadata": {
        "id": "YyxVKVKroFku"
      },
      "execution_count": 18,
      "outputs": []
    },
    {
      "cell_type": "code",
      "source": [
        "# doc마다 향 키워드의 빈도수가 달라서, 빈도수 기준으로 상위 10개 자르고 데이터프레임으로 변환하기\n",
        "# dictionary로 만들기 이전에 list로 되어있으니까 그때 sorting 하고 dictionary로 만들자\n",
        "# lemmatize 해야되는데 일단 안하고 돌림.\n",
        "\n",
        "from collections import Counter\n",
        "for i in range(0,144):\n",
        "  globals()[f\"counter_{i}\"] = Counter(globals()[f\"doc_{i}_ents\"])\n",
        "  # globals()[f\"doc_{i}_ents_sorted\"] = globals()[f\"counter_{i}\"].most_common(10)\n"
      ],
      "metadata": {
        "id": "NGVHJoS6o_oV"
      },
      "execution_count": 19,
      "outputs": []
    },
    {
      "cell_type": "markdown",
      "source": [
        "이렇게 하면 제대로 뽑이질 않는거 같은데 다시 뽑아보자. Counter에 문제가 있는것으로 일단 유추했음."
      ],
      "metadata": {
        "id": "2x8pcMy6uOda"
      }
    },
    {
      "cell_type": "markdown",
      "source": [
        "### 원인이 뭘까?"
      ],
      "metadata": {
        "id": "ZP8WF8Wau0j5"
      }
    },
    {
      "cell_type": "code",
      "source": [
        "len(doc_0_ents)"
      ],
      "metadata": {
        "colab": {
          "base_uri": "https://localhost:8080/"
        },
        "id": "3yrL1Pp0uFhA",
        "outputId": "7a698a6e-a458-4217-a131-be82ed12b99e"
      },
      "execution_count": 20,
      "outputs": [
        {
          "output_type": "execute_result",
          "data": {
            "text/plain": [
              "588"
            ]
          },
          "metadata": {},
          "execution_count": 20
        }
      ]
    },
    {
      "cell_type": "code",
      "source": [
        "doc_0_ents[4]"
      ],
      "metadata": {
        "colab": {
          "base_uri": "https://localhost:8080/"
        },
        "id": "0TlGp9TwuWiI",
        "outputId": "f6833303-b4d6-4676-c943-f9e54ee7b541"
      },
      "execution_count": 21,
      "outputs": [
        {
          "output_type": "execute_result",
          "data": {
            "text/plain": [
              "sweet"
            ]
          },
          "metadata": {},
          "execution_count": 21
        }
      ]
    },
    {
      "cell_type": "code",
      "source": [
        "doc_0_ents[10]"
      ],
      "metadata": {
        "colab": {
          "base_uri": "https://localhost:8080/"
        },
        "id": "54KKhJMTuriX",
        "outputId": "36097cca-0904-4e38-ef27-26f04c9c3478"
      },
      "execution_count": 22,
      "outputs": [
        {
          "output_type": "execute_result",
          "data": {
            "text/plain": [
              "sweet"
            ]
          },
          "metadata": {},
          "execution_count": 22
        }
      ]
    },
    {
      "cell_type": "code",
      "source": [
        "doc_0_ents[4] == doc_0_ents[10]"
      ],
      "metadata": {
        "colab": {
          "base_uri": "https://localhost:8080/"
        },
        "id": "_H1DuyvguvaH",
        "outputId": "e95ea406-0c10-4d04-881c-c310dbf96856"
      },
      "execution_count": 23,
      "outputs": [
        {
          "output_type": "execute_result",
          "data": {
            "text/plain": [
              "False"
            ]
          },
          "metadata": {},
          "execution_count": 23
        }
      ]
    },
    {
      "cell_type": "code",
      "source": [
        "type(doc_0_ents[0])"
      ],
      "metadata": {
        "colab": {
          "base_uri": "https://localhost:8080/"
        },
        "id": "6iMFh_RZu8Jn",
        "outputId": "0678d614-f718-456e-dc33-c7eed59eea77"
      },
      "execution_count": 24,
      "outputs": [
        {
          "output_type": "execute_result",
          "data": {
            "text/plain": [
              "spacy.tokens.span.Span"
            ]
          },
          "metadata": {},
          "execution_count": 24
        }
      ]
    },
    {
      "cell_type": "markdown",
      "source": [
        "type을 확인해 본 결과 string이 아니라, 자체적인 패키지에서 사용한 spacy.tokens.span.Span 으로 되어있는 것을 확인할 수 있었다.\n",
        "\n",
        "Spacy 홈페이지에 따르면, 단어간 구조와 의미를 고려하여 DL로 임베딩 output을 도출해내는 형식이기 때문에, 이 token은 학습된 토큰이다. 이런 이유에서 인코딩 디코딩이 사용자 임의대로 원활하지 않은 것으로 보았다.\n",
        "\n",
        "지금 우리가 하려는 목적은 \"학습된\" 단어벡터를 얻는것이 아닌, 향 키워드를 추출하기 위함이다. \n",
        "\n",
        "따라서 강제적으로 spacy token type을 string으로 바꿔준다.\n",
        "\n",
        "이후에, 향 키워드가 추출된 이후에 문맥 고려 임베딩을 통해 전체 context를 고려한 임베딩을 실시해준다. \n",
        "\n",
        "(ELMo, Word2Vec, Glove, FastText, BERT, 등등...)\n",
        "\n"
      ],
      "metadata": {
        "id": "JxYbUHMHu_Kn"
      }
    },
    {
      "cell_type": "markdown",
      "source": [
        "### 다시 돌아와서"
      ],
      "metadata": {
        "id": "Ilg4moZYwL-R"
      }
    },
    {
      "cell_type": "code",
      "source": [
        "type(str(1))"
      ],
      "metadata": {
        "colab": {
          "base_uri": "https://localhost:8080/"
        },
        "id": "xrdp3GPexBsY",
        "outputId": "a6ebbb7e-3fdd-4d2e-b698-77f79ff8895a"
      },
      "execution_count": 25,
      "outputs": [
        {
          "output_type": "execute_result",
          "data": {
            "text/plain": [
              "str"
            ]
          },
          "metadata": {},
          "execution_count": 25
        }
      ]
    },
    {
      "cell_type": "code",
      "source": [
        "for i in range(0,144):\n",
        "  for word in globals()[f\"doc_{i}_ents\"]:\n",
        "    globals()[f\"doc_{i}_ents_string\"] = []\n",
        "    # string으로 만들어주기\n",
        "    # append\n",
        "    globals()[f\"doc_{i}_ents_string\"].append(str(word))"
      ],
      "metadata": {
        "id": "o4UH64Thpo70"
      },
      "execution_count": 26,
      "outputs": []
    },
    {
      "cell_type": "code",
      "source": [
        "w = doc_0_ents[0].text\n",
        "print(type(w))"
      ],
      "metadata": {
        "colab": {
          "base_uri": "https://localhost:8080/"
        },
        "id": "rnNM1DCYxPIo",
        "outputId": "ddf91f4d-3bbb-454c-851d-e8c4dea8c826"
      },
      "execution_count": 27,
      "outputs": [
        {
          "output_type": "stream",
          "name": "stdout",
          "text": [
            "<class 'str'>\n"
          ]
        }
      ]
    },
    {
      "cell_type": "markdown",
      "source": [
        "보니까 이렇게는 안되더라. spacy.tokens class를 확인해보려고 들어갔는데\n",
        "\n",
        "module에 text라는 attribute가 있다더라. \n",
        "\n",
        "비슷한 역할을 수행해준다더라."
      ],
      "metadata": {
        "id": "3nTItLyIxf1R"
      }
    },
    {
      "cell_type": "code",
      "source": [
        "type(doc_0_ents[0].text)"
      ],
      "metadata": {
        "colab": {
          "base_uri": "https://localhost:8080/"
        },
        "id": "8m5tmuI_zEM5",
        "outputId": "9d07494a-a275-46f8-dfd0-67950186e381"
      },
      "execution_count": 28,
      "outputs": [
        {
          "output_type": "execute_result",
          "data": {
            "text/plain": [
              "str"
            ]
          },
          "metadata": {},
          "execution_count": 28
        }
      ]
    },
    {
      "cell_type": "code",
      "source": [
        "for i in range(0,144):\n",
        "  for j in range(len(globals()[f\"doc_{i}_ents\"])):\n",
        "    globals()[f\"text_{i}\"] = []\n",
        "    word = globals()[f\"doc_{i}_ents\"][j].text\n",
        "    globals()[f\"text_{i}\"] = globals()[f\"text_{i}\"].append(word)"
      ],
      "metadata": {
        "id": "D5YYG94yQUZX"
      },
      "execution_count": 29,
      "outputs": []
    },
    {
      "cell_type": "code",
      "source": [
        "range(len(doc_0_ents))"
      ],
      "metadata": {
        "colab": {
          "base_uri": "https://localhost:8080/"
        },
        "id": "i00XeyxVSz_Y",
        "outputId": "9474eb70-7a3b-43c6-ddb1-659d2c992786"
      },
      "execution_count": 30,
      "outputs": [
        {
          "output_type": "execute_result",
          "data": {
            "text/plain": [
              "range(0, 588)"
            ]
          },
          "metadata": {},
          "execution_count": 30
        }
      ]
    },
    {
      "cell_type": "code",
      "source": [
        "word = doc_0_ents[0].text\n",
        "word"
      ],
      "metadata": {
        "colab": {
          "base_uri": "https://localhost:8080/",
          "height": 35
        },
        "id": "H06Pn_WIS7wI",
        "outputId": "98630be2-92c4-415e-be28-19a46ac11b19"
      },
      "execution_count": 31,
      "outputs": [
        {
          "output_type": "execute_result",
          "data": {
            "text/plain": [
              "'strawberry'"
            ],
            "application/vnd.google.colaboratory.intrinsic+json": {
              "type": "string"
            }
          },
          "metadata": {},
          "execution_count": 31
        }
      ]
    },
    {
      "cell_type": "code",
      "source": [
        "type(word)"
      ],
      "metadata": {
        "colab": {
          "base_uri": "https://localhost:8080/"
        },
        "id": "zJqw9emOT-H6",
        "outputId": "b4cfef4a-8f59-4be6-c79c-bfdf1a569040"
      },
      "execution_count": 32,
      "outputs": [
        {
          "output_type": "execute_result",
          "data": {
            "text/plain": [
              "str"
            ]
          },
          "metadata": {},
          "execution_count": 32
        }
      ]
    },
    {
      "cell_type": "code",
      "source": [
        "a= [].extend('abs')\n",
        "a"
      ],
      "metadata": {
        "id": "DvMplNQXTPLI"
      },
      "execution_count": 33,
      "outputs": []
    },
    {
      "cell_type": "code",
      "source": [
        "for j in range(len(doc_0_ents)):\n",
        "  text_0 = []\n",
        "  word = doc_0_ents[j].text\n",
        "  text_0 += word\n",
        "  j += 1"
      ],
      "metadata": {
        "id": "K0GkXEhxTB85"
      },
      "execution_count": 34,
      "outputs": []
    },
    {
      "cell_type": "code",
      "source": [
        "text_0"
      ],
      "metadata": {
        "colab": {
          "base_uri": "https://localhost:8080/"
        },
        "id": "4rAK_oRAUTLL",
        "outputId": "0d14764e-6fe6-4677-fe81-42c85c354468"
      },
      "execution_count": 35,
      "outputs": [
        {
          "output_type": "execute_result",
          "data": {
            "text/plain": [
              "['d', 'r', 'y']"
            ]
          },
          "metadata": {},
          "execution_count": 35
        }
      ]
    },
    {
      "cell_type": "code",
      "source": [
        "text_0"
      ],
      "metadata": {
        "colab": {
          "base_uri": "https://localhost:8080/"
        },
        "id": "b67mlab2TLQ4",
        "outputId": "023f91b1-34d8-4499-efcd-c4e79ab4b746"
      },
      "execution_count": 36,
      "outputs": [
        {
          "output_type": "execute_result",
          "data": {
            "text/plain": [
              "['d', 'r', 'y']"
            ]
          },
          "metadata": {},
          "execution_count": 36
        }
      ]
    },
    {
      "cell_type": "code",
      "source": [
        "type(text_0)"
      ],
      "metadata": {
        "colab": {
          "base_uri": "https://localhost:8080/"
        },
        "id": "fX9R7oHtRmGp",
        "outputId": "9d72cddc-d780-443c-c963-450a69c034f6"
      },
      "execution_count": 37,
      "outputs": [
        {
          "output_type": "execute_result",
          "data": {
            "text/plain": [
              "list"
            ]
          },
          "metadata": {},
          "execution_count": 37
        }
      ]
    },
    {
      "cell_type": "markdown",
      "source": [
        "### **해결한 코드** ⭐"
      ],
      "metadata": {
        "id": "94_6kvsQXiT5"
      }
    },
    {
      "cell_type": "code",
      "source": [
        "tok2text_0 = []\n",
        "for i in range(len(doc_0_ents)):\n",
        "  local_word = doc_0_ents[i].text\n",
        "  tok2text_0 += [local_word]\n"
      ],
      "metadata": {
        "id": "0CTh7UMdVHlX"
      },
      "execution_count": 38,
      "outputs": []
    },
    {
      "cell_type": "code",
      "source": [
        "# 위에 코드를 dynamic 하게 시행할거임.\n",
        "for i in range(0,144):\n",
        "  globals()[f\"tok2text_{i}\"] = []\n",
        "  for j in range(len(globals()[f\"doc_{i}_ents\"])):\n",
        "    local_word = globals()[f\"doc_{i}_ents\"][j].text\n",
        "    globals()[f\"tok2text_{i}\"] += [local_word]\n"
      ],
      "metadata": {
        "id": "2V7hGPeIWDLf"
      },
      "execution_count": 39,
      "outputs": []
    },
    {
      "cell_type": "code",
      "source": [
        "type(tok2text_100[0])"
      ],
      "metadata": {
        "colab": {
          "base_uri": "https://localhost:8080/"
        },
        "id": "P-KJriCeXWth",
        "outputId": "240bab32-2ffd-4e4b-ebb0-b30e156a317f"
      },
      "execution_count": 40,
      "outputs": [
        {
          "output_type": "execute_result",
          "data": {
            "text/plain": [
              "str"
            ]
          },
          "metadata": {},
          "execution_count": 40
        }
      ]
    },
    {
      "cell_type": "markdown",
      "source": [
        "해결함!"
      ],
      "metadata": {
        "id": "N4lq3eWUXbsv"
      }
    },
    {
      "cell_type": "markdown",
      "source": [
        "## 질문: string type을 list에 element로 추가하려고 하는데 append는 왜 잘안되고, 직접 추가하는거는 왜 잘 될까?\n",
        "\n",
        "이부분 꼭 다시 알아볼것 ⭐⭐⭐"
      ],
      "metadata": {
        "id": "9szdllNUX7ex"
      }
    },
    {
      "cell_type": "code",
      "source": [
        "from collections import Counter\n",
        "\n",
        "for i in range(0,144):\n",
        "  globals()[f\"keyword_{i}\"] = [key for key, value in Counter(globals()[f\"tok2text_{i}\"]).most_common(10)]"
      ],
      "metadata": {
        "id": "QxTBo9A5YvGw"
      },
      "execution_count": 41,
      "outputs": []
    },
    {
      "cell_type": "code",
      "source": [
        "keyword_1"
      ],
      "metadata": {
        "colab": {
          "base_uri": "https://localhost:8080/"
        },
        "id": "v5RX-963ZOkQ",
        "outputId": "84e0d22b-b6f0-4e77-eb1f-e20c879b83f7"
      },
      "execution_count": 42,
      "outputs": [
        {
          "output_type": "execute_result",
          "data": {
            "text/plain": [
              "['sweet',\n",
              " 'cognac',\n",
              " 'warm',\n",
              " 'vanilla',\n",
              " 'spicy',\n",
              " 'unisex',\n",
              " 'woody',\n",
              " 'praline',\n",
              " 'masculine',\n",
              " 'sweetness']"
            ]
          },
          "metadata": {},
          "execution_count": 42
        }
      ]
    },
    {
      "cell_type": "code",
      "source": [
        "# make a dataframe consisted of keywords sorted by frequencies of top 10 keywords of fragrances\n",
        "\n",
        "pd.DataFrame()"
      ],
      "metadata": {
        "id": "EicHmPcAZjLi",
        "colab": {
          "base_uri": "https://localhost:8080/",
          "height": 49
        },
        "outputId": "b90d70ae-a2d0-4678-89be-6f4d52439e86"
      },
      "execution_count": 43,
      "outputs": [
        {
          "output_type": "execute_result",
          "data": {
            "text/plain": [
              "Empty DataFrame\n",
              "Columns: []\n",
              "Index: []"
            ],
            "text/html": [
              "\n",
              "  <div id=\"df-79350f03-6745-4e3b-a05d-91000ba39b83\">\n",
              "    <div class=\"colab-df-container\">\n",
              "      <div>\n",
              "<style scoped>\n",
              "    .dataframe tbody tr th:only-of-type {\n",
              "        vertical-align: middle;\n",
              "    }\n",
              "\n",
              "    .dataframe tbody tr th {\n",
              "        vertical-align: top;\n",
              "    }\n",
              "\n",
              "    .dataframe thead th {\n",
              "        text-align: right;\n",
              "    }\n",
              "</style>\n",
              "<table border=\"1\" class=\"dataframe\">\n",
              "  <thead>\n",
              "    <tr style=\"text-align: right;\">\n",
              "      <th></th>\n",
              "    </tr>\n",
              "  </thead>\n",
              "  <tbody>\n",
              "  </tbody>\n",
              "</table>\n",
              "</div>\n",
              "      <button class=\"colab-df-convert\" onclick=\"convertToInteractive('df-79350f03-6745-4e3b-a05d-91000ba39b83')\"\n",
              "              title=\"Convert this dataframe to an interactive table.\"\n",
              "              style=\"display:none;\">\n",
              "        \n",
              "  <svg xmlns=\"http://www.w3.org/2000/svg\" height=\"24px\"viewBox=\"0 0 24 24\"\n",
              "       width=\"24px\">\n",
              "    <path d=\"M0 0h24v24H0V0z\" fill=\"none\"/>\n",
              "    <path d=\"M18.56 5.44l.94 2.06.94-2.06 2.06-.94-2.06-.94-.94-2.06-.94 2.06-2.06.94zm-11 1L8.5 8.5l.94-2.06 2.06-.94-2.06-.94L8.5 2.5l-.94 2.06-2.06.94zm10 10l.94 2.06.94-2.06 2.06-.94-2.06-.94-.94-2.06-.94 2.06-2.06.94z\"/><path d=\"M17.41 7.96l-1.37-1.37c-.4-.4-.92-.59-1.43-.59-.52 0-1.04.2-1.43.59L10.3 9.45l-7.72 7.72c-.78.78-.78 2.05 0 2.83L4 21.41c.39.39.9.59 1.41.59.51 0 1.02-.2 1.41-.59l7.78-7.78 2.81-2.81c.8-.78.8-2.07 0-2.86zM5.41 20L4 18.59l7.72-7.72 1.47 1.35L5.41 20z\"/>\n",
              "  </svg>\n",
              "      </button>\n",
              "      \n",
              "  <style>\n",
              "    .colab-df-container {\n",
              "      display:flex;\n",
              "      flex-wrap:wrap;\n",
              "      gap: 12px;\n",
              "    }\n",
              "\n",
              "    .colab-df-convert {\n",
              "      background-color: #E8F0FE;\n",
              "      border: none;\n",
              "      border-radius: 50%;\n",
              "      cursor: pointer;\n",
              "      display: none;\n",
              "      fill: #1967D2;\n",
              "      height: 32px;\n",
              "      padding: 0 0 0 0;\n",
              "      width: 32px;\n",
              "    }\n",
              "\n",
              "    .colab-df-convert:hover {\n",
              "      background-color: #E2EBFA;\n",
              "      box-shadow: 0px 1px 2px rgba(60, 64, 67, 0.3), 0px 1px 3px 1px rgba(60, 64, 67, 0.15);\n",
              "      fill: #174EA6;\n",
              "    }\n",
              "\n",
              "    [theme=dark] .colab-df-convert {\n",
              "      background-color: #3B4455;\n",
              "      fill: #D2E3FC;\n",
              "    }\n",
              "\n",
              "    [theme=dark] .colab-df-convert:hover {\n",
              "      background-color: #434B5C;\n",
              "      box-shadow: 0px 1px 3px 1px rgba(0, 0, 0, 0.15);\n",
              "      filter: drop-shadow(0px 1px 2px rgba(0, 0, 0, 0.3));\n",
              "      fill: #FFFFFF;\n",
              "    }\n",
              "  </style>\n",
              "\n",
              "      <script>\n",
              "        const buttonEl =\n",
              "          document.querySelector('#df-79350f03-6745-4e3b-a05d-91000ba39b83 button.colab-df-convert');\n",
              "        buttonEl.style.display =\n",
              "          google.colab.kernel.accessAllowed ? 'block' : 'none';\n",
              "\n",
              "        async function convertToInteractive(key) {\n",
              "          const element = document.querySelector('#df-79350f03-6745-4e3b-a05d-91000ba39b83');\n",
              "          const dataTable =\n",
              "            await google.colab.kernel.invokeFunction('convertToInteractive',\n",
              "                                                     [key], {});\n",
              "          if (!dataTable) return;\n",
              "\n",
              "          const docLinkHtml = 'Like what you see? Visit the ' +\n",
              "            '<a target=\"_blank\" href=https://colab.research.google.com/notebooks/data_table.ipynb>data table notebook</a>'\n",
              "            + ' to learn more about interactive tables.';\n",
              "          element.innerHTML = '';\n",
              "          dataTable['output_type'] = 'display_data';\n",
              "          await google.colab.output.renderOutput(dataTable, element);\n",
              "          const docLink = document.createElement('div');\n",
              "          docLink.innerHTML = docLinkHtml;\n",
              "          element.appendChild(docLink);\n",
              "        }\n",
              "      </script>\n",
              "    </div>\n",
              "  </div>\n",
              "  "
            ]
          },
          "metadata": {},
          "execution_count": 43
        }
      ]
    },
    {
      "cell_type": "code",
      "source": [
        "nameandbrand = data.iloc[:,1:3]\n",
        "nameandbrand"
      ],
      "metadata": {
        "colab": {
          "base_uri": "https://localhost:8080/",
          "height": 423
        },
        "id": "TSa58Hh0Zyvx",
        "outputId": "46d2fa4a-7def-477d-966b-0ed9b728719b"
      },
      "execution_count": 44,
      "outputs": [
        {
          "output_type": "execute_result",
          "data": {
            "text/plain": [
              "                       name                     brand\n",
              "0        Baccarat Rouge 540  Maison Francis Kurkdjian\n",
              "1             Angels' Share                 By Kilian\n",
              "2           Tobacco Vanille                  Tom Ford\n",
              "3          By the Fireplace    Maison Martin Margiela\n",
              "4               Lost Cherry                  Tom Ford\n",
              "..                      ...                       ...\n",
              "139    Interlude Black Iris                   Amouage\n",
              "140        Feminité du Bois              Serge Lutens\n",
              "141                 Halfeti              Penhaligon's\n",
              "142         Fève Délicieuse                      Dior\n",
              "143  Utopia Vanilla Coco 21         Kayali Fragrances\n",
              "\n",
              "[144 rows x 2 columns]"
            ],
            "text/html": [
              "\n",
              "  <div id=\"df-cfb92d5b-15cd-4030-8f5a-8e3a986e1422\">\n",
              "    <div class=\"colab-df-container\">\n",
              "      <div>\n",
              "<style scoped>\n",
              "    .dataframe tbody tr th:only-of-type {\n",
              "        vertical-align: middle;\n",
              "    }\n",
              "\n",
              "    .dataframe tbody tr th {\n",
              "        vertical-align: top;\n",
              "    }\n",
              "\n",
              "    .dataframe thead th {\n",
              "        text-align: right;\n",
              "    }\n",
              "</style>\n",
              "<table border=\"1\" class=\"dataframe\">\n",
              "  <thead>\n",
              "    <tr style=\"text-align: right;\">\n",
              "      <th></th>\n",
              "      <th>name</th>\n",
              "      <th>brand</th>\n",
              "    </tr>\n",
              "  </thead>\n",
              "  <tbody>\n",
              "    <tr>\n",
              "      <th>0</th>\n",
              "      <td>Baccarat Rouge 540</td>\n",
              "      <td>Maison Francis Kurkdjian</td>\n",
              "    </tr>\n",
              "    <tr>\n",
              "      <th>1</th>\n",
              "      <td>Angels' Share</td>\n",
              "      <td>By Kilian</td>\n",
              "    </tr>\n",
              "    <tr>\n",
              "      <th>2</th>\n",
              "      <td>Tobacco Vanille</td>\n",
              "      <td>Tom Ford</td>\n",
              "    </tr>\n",
              "    <tr>\n",
              "      <th>3</th>\n",
              "      <td>By the Fireplace</td>\n",
              "      <td>Maison Martin Margiela</td>\n",
              "    </tr>\n",
              "    <tr>\n",
              "      <th>4</th>\n",
              "      <td>Lost Cherry</td>\n",
              "      <td>Tom Ford</td>\n",
              "    </tr>\n",
              "    <tr>\n",
              "      <th>...</th>\n",
              "      <td>...</td>\n",
              "      <td>...</td>\n",
              "    </tr>\n",
              "    <tr>\n",
              "      <th>139</th>\n",
              "      <td>Interlude Black Iris</td>\n",
              "      <td>Amouage</td>\n",
              "    </tr>\n",
              "    <tr>\n",
              "      <th>140</th>\n",
              "      <td>Feminité du Bois</td>\n",
              "      <td>Serge Lutens</td>\n",
              "    </tr>\n",
              "    <tr>\n",
              "      <th>141</th>\n",
              "      <td>Halfeti</td>\n",
              "      <td>Penhaligon's</td>\n",
              "    </tr>\n",
              "    <tr>\n",
              "      <th>142</th>\n",
              "      <td>Fève Délicieuse</td>\n",
              "      <td>Dior</td>\n",
              "    </tr>\n",
              "    <tr>\n",
              "      <th>143</th>\n",
              "      <td>Utopia Vanilla Coco 21</td>\n",
              "      <td>Kayali Fragrances</td>\n",
              "    </tr>\n",
              "  </tbody>\n",
              "</table>\n",
              "<p>144 rows × 2 columns</p>\n",
              "</div>\n",
              "      <button class=\"colab-df-convert\" onclick=\"convertToInteractive('df-cfb92d5b-15cd-4030-8f5a-8e3a986e1422')\"\n",
              "              title=\"Convert this dataframe to an interactive table.\"\n",
              "              style=\"display:none;\">\n",
              "        \n",
              "  <svg xmlns=\"http://www.w3.org/2000/svg\" height=\"24px\"viewBox=\"0 0 24 24\"\n",
              "       width=\"24px\">\n",
              "    <path d=\"M0 0h24v24H0V0z\" fill=\"none\"/>\n",
              "    <path d=\"M18.56 5.44l.94 2.06.94-2.06 2.06-.94-2.06-.94-.94-2.06-.94 2.06-2.06.94zm-11 1L8.5 8.5l.94-2.06 2.06-.94-2.06-.94L8.5 2.5l-.94 2.06-2.06.94zm10 10l.94 2.06.94-2.06 2.06-.94-2.06-.94-.94-2.06-.94 2.06-2.06.94z\"/><path d=\"M17.41 7.96l-1.37-1.37c-.4-.4-.92-.59-1.43-.59-.52 0-1.04.2-1.43.59L10.3 9.45l-7.72 7.72c-.78.78-.78 2.05 0 2.83L4 21.41c.39.39.9.59 1.41.59.51 0 1.02-.2 1.41-.59l7.78-7.78 2.81-2.81c.8-.78.8-2.07 0-2.86zM5.41 20L4 18.59l7.72-7.72 1.47 1.35L5.41 20z\"/>\n",
              "  </svg>\n",
              "      </button>\n",
              "      \n",
              "  <style>\n",
              "    .colab-df-container {\n",
              "      display:flex;\n",
              "      flex-wrap:wrap;\n",
              "      gap: 12px;\n",
              "    }\n",
              "\n",
              "    .colab-df-convert {\n",
              "      background-color: #E8F0FE;\n",
              "      border: none;\n",
              "      border-radius: 50%;\n",
              "      cursor: pointer;\n",
              "      display: none;\n",
              "      fill: #1967D2;\n",
              "      height: 32px;\n",
              "      padding: 0 0 0 0;\n",
              "      width: 32px;\n",
              "    }\n",
              "\n",
              "    .colab-df-convert:hover {\n",
              "      background-color: #E2EBFA;\n",
              "      box-shadow: 0px 1px 2px rgba(60, 64, 67, 0.3), 0px 1px 3px 1px rgba(60, 64, 67, 0.15);\n",
              "      fill: #174EA6;\n",
              "    }\n",
              "\n",
              "    [theme=dark] .colab-df-convert {\n",
              "      background-color: #3B4455;\n",
              "      fill: #D2E3FC;\n",
              "    }\n",
              "\n",
              "    [theme=dark] .colab-df-convert:hover {\n",
              "      background-color: #434B5C;\n",
              "      box-shadow: 0px 1px 3px 1px rgba(0, 0, 0, 0.15);\n",
              "      filter: drop-shadow(0px 1px 2px rgba(0, 0, 0, 0.3));\n",
              "      fill: #FFFFFF;\n",
              "    }\n",
              "  </style>\n",
              "\n",
              "      <script>\n",
              "        const buttonEl =\n",
              "          document.querySelector('#df-cfb92d5b-15cd-4030-8f5a-8e3a986e1422 button.colab-df-convert');\n",
              "        buttonEl.style.display =\n",
              "          google.colab.kernel.accessAllowed ? 'block' : 'none';\n",
              "\n",
              "        async function convertToInteractive(key) {\n",
              "          const element = document.querySelector('#df-cfb92d5b-15cd-4030-8f5a-8e3a986e1422');\n",
              "          const dataTable =\n",
              "            await google.colab.kernel.invokeFunction('convertToInteractive',\n",
              "                                                     [key], {});\n",
              "          if (!dataTable) return;\n",
              "\n",
              "          const docLinkHtml = 'Like what you see? Visit the ' +\n",
              "            '<a target=\"_blank\" href=https://colab.research.google.com/notebooks/data_table.ipynb>data table notebook</a>'\n",
              "            + ' to learn more about interactive tables.';\n",
              "          element.innerHTML = '';\n",
              "          dataTable['output_type'] = 'display_data';\n",
              "          await google.colab.output.renderOutput(dataTable, element);\n",
              "          const docLink = document.createElement('div');\n",
              "          docLink.innerHTML = docLinkHtml;\n",
              "          element.appendChild(docLink);\n",
              "        }\n",
              "      </script>\n",
              "    </div>\n",
              "  </div>\n",
              "  "
            ]
          },
          "metadata": {},
          "execution_count": 44
        }
      ]
    },
    {
      "cell_type": "code",
      "source": [
        "df = pd.DataFrame.transpose(nameandbrand)\n",
        "df"
      ],
      "metadata": {
        "colab": {
          "base_uri": "https://localhost:8080/",
          "height": 220
        },
        "id": "00P61IMhadWx",
        "outputId": "c56a97f6-5d0d-49f4-84c1-594b77549581"
      },
      "execution_count": 45,
      "outputs": [
        {
          "output_type": "execute_result",
          "data": {
            "text/plain": [
              "                            0              1                2    \\\n",
              "name         Baccarat Rouge 540  Angels' Share  Tobacco Vanille   \n",
              "brand  Maison Francis Kurkdjian      By Kilian         Tom Ford   \n",
              "\n",
              "                          3            4                 5    \\\n",
              "name         By the Fireplace  Lost Cherry            Layton   \n",
              "brand  Maison Martin Margiela     Tom Ford  Parfums de Marly   \n",
              "\n",
              "                        6         7              8             9    ...  \\\n",
              "name   Ombré Leather (2018)  Oud Wood  XJ 1861 Naxos  Cedrat Boise  ...   \n",
              "brand              Tom Ford  Tom Ford        Xerjoff       Mancera  ...   \n",
              "\n",
              "                  134               135                        136  \\\n",
              "name   Vanille Fatale   Layton Exclusif  Un Jardin En Mediterranee   \n",
              "brand        Tom Ford  Parfums de Marly                     Hermès   \n",
              "\n",
              "               137         138                   139               140  \\\n",
              "name   La Capitale       Marfa  Interlude Black Iris  Feminité du Bois   \n",
              "brand      Xerjoff  Memo Paris               Amouage      Serge Lutens   \n",
              "\n",
              "                141              142                     143  \n",
              "name        Halfeti  Fève Délicieuse  Utopia Vanilla Coco 21  \n",
              "brand  Penhaligon's             Dior       Kayali Fragrances  \n",
              "\n",
              "[2 rows x 144 columns]"
            ],
            "text/html": [
              "\n",
              "  <div id=\"df-ebcff9af-917a-41e2-9ac8-b58cb6cb3c43\">\n",
              "    <div class=\"colab-df-container\">\n",
              "      <div>\n",
              "<style scoped>\n",
              "    .dataframe tbody tr th:only-of-type {\n",
              "        vertical-align: middle;\n",
              "    }\n",
              "\n",
              "    .dataframe tbody tr th {\n",
              "        vertical-align: top;\n",
              "    }\n",
              "\n",
              "    .dataframe thead th {\n",
              "        text-align: right;\n",
              "    }\n",
              "</style>\n",
              "<table border=\"1\" class=\"dataframe\">\n",
              "  <thead>\n",
              "    <tr style=\"text-align: right;\">\n",
              "      <th></th>\n",
              "      <th>0</th>\n",
              "      <th>1</th>\n",
              "      <th>2</th>\n",
              "      <th>3</th>\n",
              "      <th>4</th>\n",
              "      <th>5</th>\n",
              "      <th>6</th>\n",
              "      <th>7</th>\n",
              "      <th>8</th>\n",
              "      <th>9</th>\n",
              "      <th>...</th>\n",
              "      <th>134</th>\n",
              "      <th>135</th>\n",
              "      <th>136</th>\n",
              "      <th>137</th>\n",
              "      <th>138</th>\n",
              "      <th>139</th>\n",
              "      <th>140</th>\n",
              "      <th>141</th>\n",
              "      <th>142</th>\n",
              "      <th>143</th>\n",
              "    </tr>\n",
              "  </thead>\n",
              "  <tbody>\n",
              "    <tr>\n",
              "      <th>name</th>\n",
              "      <td>Baccarat Rouge 540</td>\n",
              "      <td>Angels' Share</td>\n",
              "      <td>Tobacco Vanille</td>\n",
              "      <td>By the Fireplace</td>\n",
              "      <td>Lost Cherry</td>\n",
              "      <td>Layton</td>\n",
              "      <td>Ombré Leather (2018)</td>\n",
              "      <td>Oud Wood</td>\n",
              "      <td>XJ 1861 Naxos</td>\n",
              "      <td>Cedrat Boise</td>\n",
              "      <td>...</td>\n",
              "      <td>Vanille Fatale</td>\n",
              "      <td>Layton Exclusif</td>\n",
              "      <td>Un Jardin En Mediterranee</td>\n",
              "      <td>La Capitale</td>\n",
              "      <td>Marfa</td>\n",
              "      <td>Interlude Black Iris</td>\n",
              "      <td>Feminité du Bois</td>\n",
              "      <td>Halfeti</td>\n",
              "      <td>Fève Délicieuse</td>\n",
              "      <td>Utopia Vanilla Coco 21</td>\n",
              "    </tr>\n",
              "    <tr>\n",
              "      <th>brand</th>\n",
              "      <td>Maison Francis Kurkdjian</td>\n",
              "      <td>By Kilian</td>\n",
              "      <td>Tom Ford</td>\n",
              "      <td>Maison Martin Margiela</td>\n",
              "      <td>Tom Ford</td>\n",
              "      <td>Parfums de Marly</td>\n",
              "      <td>Tom Ford</td>\n",
              "      <td>Tom Ford</td>\n",
              "      <td>Xerjoff</td>\n",
              "      <td>Mancera</td>\n",
              "      <td>...</td>\n",
              "      <td>Tom Ford</td>\n",
              "      <td>Parfums de Marly</td>\n",
              "      <td>Hermès</td>\n",
              "      <td>Xerjoff</td>\n",
              "      <td>Memo Paris</td>\n",
              "      <td>Amouage</td>\n",
              "      <td>Serge Lutens</td>\n",
              "      <td>Penhaligon's</td>\n",
              "      <td>Dior</td>\n",
              "      <td>Kayali Fragrances</td>\n",
              "    </tr>\n",
              "  </tbody>\n",
              "</table>\n",
              "<p>2 rows × 144 columns</p>\n",
              "</div>\n",
              "      <button class=\"colab-df-convert\" onclick=\"convertToInteractive('df-ebcff9af-917a-41e2-9ac8-b58cb6cb3c43')\"\n",
              "              title=\"Convert this dataframe to an interactive table.\"\n",
              "              style=\"display:none;\">\n",
              "        \n",
              "  <svg xmlns=\"http://www.w3.org/2000/svg\" height=\"24px\"viewBox=\"0 0 24 24\"\n",
              "       width=\"24px\">\n",
              "    <path d=\"M0 0h24v24H0V0z\" fill=\"none\"/>\n",
              "    <path d=\"M18.56 5.44l.94 2.06.94-2.06 2.06-.94-2.06-.94-.94-2.06-.94 2.06-2.06.94zm-11 1L8.5 8.5l.94-2.06 2.06-.94-2.06-.94L8.5 2.5l-.94 2.06-2.06.94zm10 10l.94 2.06.94-2.06 2.06-.94-2.06-.94-.94-2.06-.94 2.06-2.06.94z\"/><path d=\"M17.41 7.96l-1.37-1.37c-.4-.4-.92-.59-1.43-.59-.52 0-1.04.2-1.43.59L10.3 9.45l-7.72 7.72c-.78.78-.78 2.05 0 2.83L4 21.41c.39.39.9.59 1.41.59.51 0 1.02-.2 1.41-.59l7.78-7.78 2.81-2.81c.8-.78.8-2.07 0-2.86zM5.41 20L4 18.59l7.72-7.72 1.47 1.35L5.41 20z\"/>\n",
              "  </svg>\n",
              "      </button>\n",
              "      \n",
              "  <style>\n",
              "    .colab-df-container {\n",
              "      display:flex;\n",
              "      flex-wrap:wrap;\n",
              "      gap: 12px;\n",
              "    }\n",
              "\n",
              "    .colab-df-convert {\n",
              "      background-color: #E8F0FE;\n",
              "      border: none;\n",
              "      border-radius: 50%;\n",
              "      cursor: pointer;\n",
              "      display: none;\n",
              "      fill: #1967D2;\n",
              "      height: 32px;\n",
              "      padding: 0 0 0 0;\n",
              "      width: 32px;\n",
              "    }\n",
              "\n",
              "    .colab-df-convert:hover {\n",
              "      background-color: #E2EBFA;\n",
              "      box-shadow: 0px 1px 2px rgba(60, 64, 67, 0.3), 0px 1px 3px 1px rgba(60, 64, 67, 0.15);\n",
              "      fill: #174EA6;\n",
              "    }\n",
              "\n",
              "    [theme=dark] .colab-df-convert {\n",
              "      background-color: #3B4455;\n",
              "      fill: #D2E3FC;\n",
              "    }\n",
              "\n",
              "    [theme=dark] .colab-df-convert:hover {\n",
              "      background-color: #434B5C;\n",
              "      box-shadow: 0px 1px 3px 1px rgba(0, 0, 0, 0.15);\n",
              "      filter: drop-shadow(0px 1px 2px rgba(0, 0, 0, 0.3));\n",
              "      fill: #FFFFFF;\n",
              "    }\n",
              "  </style>\n",
              "\n",
              "      <script>\n",
              "        const buttonEl =\n",
              "          document.querySelector('#df-ebcff9af-917a-41e2-9ac8-b58cb6cb3c43 button.colab-df-convert');\n",
              "        buttonEl.style.display =\n",
              "          google.colab.kernel.accessAllowed ? 'block' : 'none';\n",
              "\n",
              "        async function convertToInteractive(key) {\n",
              "          const element = document.querySelector('#df-ebcff9af-917a-41e2-9ac8-b58cb6cb3c43');\n",
              "          const dataTable =\n",
              "            await google.colab.kernel.invokeFunction('convertToInteractive',\n",
              "                                                     [key], {});\n",
              "          if (!dataTable) return;\n",
              "\n",
              "          const docLinkHtml = 'Like what you see? Visit the ' +\n",
              "            '<a target=\"_blank\" href=https://colab.research.google.com/notebooks/data_table.ipynb>data table notebook</a>'\n",
              "            + ' to learn more about interactive tables.';\n",
              "          element.innerHTML = '';\n",
              "          dataTable['output_type'] = 'display_data';\n",
              "          await google.colab.output.renderOutput(dataTable, element);\n",
              "          const docLink = document.createElement('div');\n",
              "          docLink.innerHTML = docLinkHtml;\n",
              "          element.appendChild(docLink);\n",
              "        }\n",
              "      </script>\n",
              "    </div>\n",
              "  </div>\n",
              "  "
            ]
          },
          "metadata": {},
          "execution_count": 45
        }
      ]
    },
    {
      "cell_type": "code",
      "source": [
        "df_dict = {}\n",
        "for i in range(0,144):\n",
        "  df_dict[f\"{i}\"] = globals()[f\"keyword_{i}\"]"
      ],
      "metadata": {
        "id": "G_WU3VrHaw8C"
      },
      "execution_count": 46,
      "outputs": []
    },
    {
      "cell_type": "code",
      "source": [
        "df_dict['0']"
      ],
      "metadata": {
        "colab": {
          "base_uri": "https://localhost:8080/"
        },
        "id": "3K_L_i10bg8T",
        "outputId": "f0f217df-8e9d-477e-bd13-b198aeb1f680"
      },
      "execution_count": 47,
      "outputs": [
        {
          "output_type": "execute_result",
          "data": {
            "text/plain": [
              "['sweet',\n",
              " 'feminine',\n",
              " 'woody',\n",
              " 'unisex',\n",
              " 'warm',\n",
              " 'sweetness',\n",
              " 'cloud',\n",
              " 'floral',\n",
              " 'masculine',\n",
              " 'light']"
            ]
          },
          "metadata": {},
          "execution_count": 47
        }
      ]
    },
    {
      "cell_type": "code",
      "source": [
        "type(df.columns[0])"
      ],
      "metadata": {
        "colab": {
          "base_uri": "https://localhost:8080/"
        },
        "id": "78_O0jyDcKkD",
        "outputId": "242bc0e1-92d7-4952-bb05-71dc4ceeb09d"
      },
      "execution_count": 48,
      "outputs": [
        {
          "output_type": "execute_result",
          "data": {
            "text/plain": [
              "int"
            ]
          },
          "metadata": {},
          "execution_count": 48
        }
      ]
    },
    {
      "cell_type": "code",
      "source": [
        "df"
      ],
      "metadata": {
        "colab": {
          "base_uri": "https://localhost:8080/",
          "height": 220
        },
        "id": "nE62FVqgcM_D",
        "outputId": "3e1c69ae-1e3e-4866-d4a8-a74cb4b7ca29"
      },
      "execution_count": 49,
      "outputs": [
        {
          "output_type": "execute_result",
          "data": {
            "text/plain": [
              "                            0              1                2    \\\n",
              "name         Baccarat Rouge 540  Angels' Share  Tobacco Vanille   \n",
              "brand  Maison Francis Kurkdjian      By Kilian         Tom Ford   \n",
              "\n",
              "                          3            4                 5    \\\n",
              "name         By the Fireplace  Lost Cherry            Layton   \n",
              "brand  Maison Martin Margiela     Tom Ford  Parfums de Marly   \n",
              "\n",
              "                        6         7              8             9    ...  \\\n",
              "name   Ombré Leather (2018)  Oud Wood  XJ 1861 Naxos  Cedrat Boise  ...   \n",
              "brand              Tom Ford  Tom Ford        Xerjoff       Mancera  ...   \n",
              "\n",
              "                  134               135                        136  \\\n",
              "name   Vanille Fatale   Layton Exclusif  Un Jardin En Mediterranee   \n",
              "brand        Tom Ford  Parfums de Marly                     Hermès   \n",
              "\n",
              "               137         138                   139               140  \\\n",
              "name   La Capitale       Marfa  Interlude Black Iris  Feminité du Bois   \n",
              "brand      Xerjoff  Memo Paris               Amouage      Serge Lutens   \n",
              "\n",
              "                141              142                     143  \n",
              "name        Halfeti  Fève Délicieuse  Utopia Vanilla Coco 21  \n",
              "brand  Penhaligon's             Dior       Kayali Fragrances  \n",
              "\n",
              "[2 rows x 144 columns]"
            ],
            "text/html": [
              "\n",
              "  <div id=\"df-e9b6429d-854a-4fde-89ef-a9741531efcc\">\n",
              "    <div class=\"colab-df-container\">\n",
              "      <div>\n",
              "<style scoped>\n",
              "    .dataframe tbody tr th:only-of-type {\n",
              "        vertical-align: middle;\n",
              "    }\n",
              "\n",
              "    .dataframe tbody tr th {\n",
              "        vertical-align: top;\n",
              "    }\n",
              "\n",
              "    .dataframe thead th {\n",
              "        text-align: right;\n",
              "    }\n",
              "</style>\n",
              "<table border=\"1\" class=\"dataframe\">\n",
              "  <thead>\n",
              "    <tr style=\"text-align: right;\">\n",
              "      <th></th>\n",
              "      <th>0</th>\n",
              "      <th>1</th>\n",
              "      <th>2</th>\n",
              "      <th>3</th>\n",
              "      <th>4</th>\n",
              "      <th>5</th>\n",
              "      <th>6</th>\n",
              "      <th>7</th>\n",
              "      <th>8</th>\n",
              "      <th>9</th>\n",
              "      <th>...</th>\n",
              "      <th>134</th>\n",
              "      <th>135</th>\n",
              "      <th>136</th>\n",
              "      <th>137</th>\n",
              "      <th>138</th>\n",
              "      <th>139</th>\n",
              "      <th>140</th>\n",
              "      <th>141</th>\n",
              "      <th>142</th>\n",
              "      <th>143</th>\n",
              "    </tr>\n",
              "  </thead>\n",
              "  <tbody>\n",
              "    <tr>\n",
              "      <th>name</th>\n",
              "      <td>Baccarat Rouge 540</td>\n",
              "      <td>Angels' Share</td>\n",
              "      <td>Tobacco Vanille</td>\n",
              "      <td>By the Fireplace</td>\n",
              "      <td>Lost Cherry</td>\n",
              "      <td>Layton</td>\n",
              "      <td>Ombré Leather (2018)</td>\n",
              "      <td>Oud Wood</td>\n",
              "      <td>XJ 1861 Naxos</td>\n",
              "      <td>Cedrat Boise</td>\n",
              "      <td>...</td>\n",
              "      <td>Vanille Fatale</td>\n",
              "      <td>Layton Exclusif</td>\n",
              "      <td>Un Jardin En Mediterranee</td>\n",
              "      <td>La Capitale</td>\n",
              "      <td>Marfa</td>\n",
              "      <td>Interlude Black Iris</td>\n",
              "      <td>Feminité du Bois</td>\n",
              "      <td>Halfeti</td>\n",
              "      <td>Fève Délicieuse</td>\n",
              "      <td>Utopia Vanilla Coco 21</td>\n",
              "    </tr>\n",
              "    <tr>\n",
              "      <th>brand</th>\n",
              "      <td>Maison Francis Kurkdjian</td>\n",
              "      <td>By Kilian</td>\n",
              "      <td>Tom Ford</td>\n",
              "      <td>Maison Martin Margiela</td>\n",
              "      <td>Tom Ford</td>\n",
              "      <td>Parfums de Marly</td>\n",
              "      <td>Tom Ford</td>\n",
              "      <td>Tom Ford</td>\n",
              "      <td>Xerjoff</td>\n",
              "      <td>Mancera</td>\n",
              "      <td>...</td>\n",
              "      <td>Tom Ford</td>\n",
              "      <td>Parfums de Marly</td>\n",
              "      <td>Hermès</td>\n",
              "      <td>Xerjoff</td>\n",
              "      <td>Memo Paris</td>\n",
              "      <td>Amouage</td>\n",
              "      <td>Serge Lutens</td>\n",
              "      <td>Penhaligon's</td>\n",
              "      <td>Dior</td>\n",
              "      <td>Kayali Fragrances</td>\n",
              "    </tr>\n",
              "  </tbody>\n",
              "</table>\n",
              "<p>2 rows × 144 columns</p>\n",
              "</div>\n",
              "      <button class=\"colab-df-convert\" onclick=\"convertToInteractive('df-e9b6429d-854a-4fde-89ef-a9741531efcc')\"\n",
              "              title=\"Convert this dataframe to an interactive table.\"\n",
              "              style=\"display:none;\">\n",
              "        \n",
              "  <svg xmlns=\"http://www.w3.org/2000/svg\" height=\"24px\"viewBox=\"0 0 24 24\"\n",
              "       width=\"24px\">\n",
              "    <path d=\"M0 0h24v24H0V0z\" fill=\"none\"/>\n",
              "    <path d=\"M18.56 5.44l.94 2.06.94-2.06 2.06-.94-2.06-.94-.94-2.06-.94 2.06-2.06.94zm-11 1L8.5 8.5l.94-2.06 2.06-.94-2.06-.94L8.5 2.5l-.94 2.06-2.06.94zm10 10l.94 2.06.94-2.06 2.06-.94-2.06-.94-.94-2.06-.94 2.06-2.06.94z\"/><path d=\"M17.41 7.96l-1.37-1.37c-.4-.4-.92-.59-1.43-.59-.52 0-1.04.2-1.43.59L10.3 9.45l-7.72 7.72c-.78.78-.78 2.05 0 2.83L4 21.41c.39.39.9.59 1.41.59.51 0 1.02-.2 1.41-.59l7.78-7.78 2.81-2.81c.8-.78.8-2.07 0-2.86zM5.41 20L4 18.59l7.72-7.72 1.47 1.35L5.41 20z\"/>\n",
              "  </svg>\n",
              "      </button>\n",
              "      \n",
              "  <style>\n",
              "    .colab-df-container {\n",
              "      display:flex;\n",
              "      flex-wrap:wrap;\n",
              "      gap: 12px;\n",
              "    }\n",
              "\n",
              "    .colab-df-convert {\n",
              "      background-color: #E8F0FE;\n",
              "      border: none;\n",
              "      border-radius: 50%;\n",
              "      cursor: pointer;\n",
              "      display: none;\n",
              "      fill: #1967D2;\n",
              "      height: 32px;\n",
              "      padding: 0 0 0 0;\n",
              "      width: 32px;\n",
              "    }\n",
              "\n",
              "    .colab-df-convert:hover {\n",
              "      background-color: #E2EBFA;\n",
              "      box-shadow: 0px 1px 2px rgba(60, 64, 67, 0.3), 0px 1px 3px 1px rgba(60, 64, 67, 0.15);\n",
              "      fill: #174EA6;\n",
              "    }\n",
              "\n",
              "    [theme=dark] .colab-df-convert {\n",
              "      background-color: #3B4455;\n",
              "      fill: #D2E3FC;\n",
              "    }\n",
              "\n",
              "    [theme=dark] .colab-df-convert:hover {\n",
              "      background-color: #434B5C;\n",
              "      box-shadow: 0px 1px 3px 1px rgba(0, 0, 0, 0.15);\n",
              "      filter: drop-shadow(0px 1px 2px rgba(0, 0, 0, 0.3));\n",
              "      fill: #FFFFFF;\n",
              "    }\n",
              "  </style>\n",
              "\n",
              "      <script>\n",
              "        const buttonEl =\n",
              "          document.querySelector('#df-e9b6429d-854a-4fde-89ef-a9741531efcc button.colab-df-convert');\n",
              "        buttonEl.style.display =\n",
              "          google.colab.kernel.accessAllowed ? 'block' : 'none';\n",
              "\n",
              "        async function convertToInteractive(key) {\n",
              "          const element = document.querySelector('#df-e9b6429d-854a-4fde-89ef-a9741531efcc');\n",
              "          const dataTable =\n",
              "            await google.colab.kernel.invokeFunction('convertToInteractive',\n",
              "                                                     [key], {});\n",
              "          if (!dataTable) return;\n",
              "\n",
              "          const docLinkHtml = 'Like what you see? Visit the ' +\n",
              "            '<a target=\"_blank\" href=https://colab.research.google.com/notebooks/data_table.ipynb>data table notebook</a>'\n",
              "            + ' to learn more about interactive tables.';\n",
              "          element.innerHTML = '';\n",
              "          dataTable['output_type'] = 'display_data';\n",
              "          await google.colab.output.renderOutput(dataTable, element);\n",
              "          const docLink = document.createElement('div');\n",
              "          docLink.innerHTML = docLinkHtml;\n",
              "          element.appendChild(docLink);\n",
              "        }\n",
              "      </script>\n",
              "    </div>\n",
              "  </div>\n",
              "  "
            ]
          },
          "metadata": {},
          "execution_count": 49
        }
      ]
    },
    {
      "cell_type": "code",
      "source": [
        "df_keyword = pd.DataFrame(df_dict)"
      ],
      "metadata": {
        "id": "2XQ-9j_peDHc"
      },
      "execution_count": 50,
      "outputs": []
    },
    {
      "cell_type": "code",
      "source": [
        "df_keyword"
      ],
      "metadata": {
        "colab": {
          "base_uri": "https://localhost:8080/",
          "height": 392
        },
        "id": "CY5TF6nueSzy",
        "outputId": "2b33877f-3b48-4847-c082-cb544a141820"
      },
      "execution_count": 51,
      "outputs": [
        {
          "output_type": "execute_result",
          "data": {
            "text/plain": [
              "           0          1          2          3          4         5          6  \\\n",
              "0      sweet      sweet    tobacco    vanilla     cherry   vanilla      sweet   \n",
              "1   feminine     cognac    vanilla      sweet      sweet     sweet     floral   \n",
              "2      woody       warm      sweet      smoky    cherry.     spicy    jasmine   \n",
              "3     unisex    vanilla      spicy      woody     bitter      warm  masculine   \n",
              "4       warm      spicy       warm       warm    vanilla     woody       dark   \n",
              "5  sweetness     unisex   tobacco.       wood       warm    floral  patchouli   \n",
              "6      cloud      woody   vanilla.  sweetness  sweetness     fresh     unisex   \n",
              "7     floral    praline  sweetness       cozy   feminine  lavender       warm   \n",
              "8  masculine  masculine     unisex   vanilla.       dark  vanilla.   leathery   \n",
              "9      light  sweetness    vanille  masculine  patchouli      wood   feminine   \n",
              "\n",
              "           7         8          9  ...      134      135         136  \\\n",
              "0       wood   tobacco      woody  ...      fig   summer  strawberry   \n",
              "1      sweet     honey     citrus  ...    green   marine       sweet   \n",
              "2      woody     sweet      fresh  ...    fresh    woody     vanilla   \n",
              "3  masculine  lavender       wood  ...   citrus    fresh    feminine   \n",
              "4      fresh   vanilla      creed  ...   summer  aquatic   synthetic   \n",
              "5      spicy     fresh      sweet  ...    sweet    sweet     incense   \n",
              "6      money    citrus    vanilla  ...  juniper  powdery       super   \n",
              "7    vanilla     tonka  synthetic  ...   floral     wood        warm   \n",
              "8       soft    unisex   magnetic  ...    woody    green      sweet.   \n",
              "9    tobacco      warm    intense  ...    cedar    cedar     elegant   \n",
              "\n",
              "         137       138         139       140        141         142  \\\n",
              "0    vanilla  tuberose     incense     cedar      woody       sweet   \n",
              "1      sweet     marfa        dark     woody      spicy     vanilla   \n",
              "2       dark     sweet       sweet     sweet     unisex       tonka   \n",
              "3      woody     green   sweetness     spicy  masculine      cherry   \n",
              "4       wood   vanilla     vanilla  feminine    vanilla     powdery   \n",
              "5      spicy    creamy       smoky      wood      sweet        warm   \n",
              "6     mature    floral   masculine      warm    halfeti      powder   \n",
              "7  masculine     white        wood   powdery    complex       spicy   \n",
              "8  patchouli     fresh     complex      soft       wood  tonka bean   \n",
              "9     coffee    summer  mysterious    unisex      fresh    lavender   \n",
              "\n",
              "            143  \n",
              "0       vanilla  \n",
              "1         sweet  \n",
              "2        summer  \n",
              "3        creamy  \n",
              "4       jasmine  \n",
              "5  white floral  \n",
              "6        floral  \n",
              "7      tuberose  \n",
              "8         white  \n",
              "9          warm  \n",
              "\n",
              "[10 rows x 144 columns]"
            ],
            "text/html": [
              "\n",
              "  <div id=\"df-6b9dd79b-f87b-42f6-94ae-46d1f8fdd30f\">\n",
              "    <div class=\"colab-df-container\">\n",
              "      <div>\n",
              "<style scoped>\n",
              "    .dataframe tbody tr th:only-of-type {\n",
              "        vertical-align: middle;\n",
              "    }\n",
              "\n",
              "    .dataframe tbody tr th {\n",
              "        vertical-align: top;\n",
              "    }\n",
              "\n",
              "    .dataframe thead th {\n",
              "        text-align: right;\n",
              "    }\n",
              "</style>\n",
              "<table border=\"1\" class=\"dataframe\">\n",
              "  <thead>\n",
              "    <tr style=\"text-align: right;\">\n",
              "      <th></th>\n",
              "      <th>0</th>\n",
              "      <th>1</th>\n",
              "      <th>2</th>\n",
              "      <th>3</th>\n",
              "      <th>4</th>\n",
              "      <th>5</th>\n",
              "      <th>6</th>\n",
              "      <th>7</th>\n",
              "      <th>8</th>\n",
              "      <th>9</th>\n",
              "      <th>...</th>\n",
              "      <th>134</th>\n",
              "      <th>135</th>\n",
              "      <th>136</th>\n",
              "      <th>137</th>\n",
              "      <th>138</th>\n",
              "      <th>139</th>\n",
              "      <th>140</th>\n",
              "      <th>141</th>\n",
              "      <th>142</th>\n",
              "      <th>143</th>\n",
              "    </tr>\n",
              "  </thead>\n",
              "  <tbody>\n",
              "    <tr>\n",
              "      <th>0</th>\n",
              "      <td>sweet</td>\n",
              "      <td>sweet</td>\n",
              "      <td>tobacco</td>\n",
              "      <td>vanilla</td>\n",
              "      <td>cherry</td>\n",
              "      <td>vanilla</td>\n",
              "      <td>sweet</td>\n",
              "      <td>wood</td>\n",
              "      <td>tobacco</td>\n",
              "      <td>woody</td>\n",
              "      <td>...</td>\n",
              "      <td>fig</td>\n",
              "      <td>summer</td>\n",
              "      <td>strawberry</td>\n",
              "      <td>vanilla</td>\n",
              "      <td>tuberose</td>\n",
              "      <td>incense</td>\n",
              "      <td>cedar</td>\n",
              "      <td>woody</td>\n",
              "      <td>sweet</td>\n",
              "      <td>vanilla</td>\n",
              "    </tr>\n",
              "    <tr>\n",
              "      <th>1</th>\n",
              "      <td>feminine</td>\n",
              "      <td>cognac</td>\n",
              "      <td>vanilla</td>\n",
              "      <td>sweet</td>\n",
              "      <td>sweet</td>\n",
              "      <td>sweet</td>\n",
              "      <td>floral</td>\n",
              "      <td>sweet</td>\n",
              "      <td>honey</td>\n",
              "      <td>citrus</td>\n",
              "      <td>...</td>\n",
              "      <td>green</td>\n",
              "      <td>marine</td>\n",
              "      <td>sweet</td>\n",
              "      <td>sweet</td>\n",
              "      <td>marfa</td>\n",
              "      <td>dark</td>\n",
              "      <td>woody</td>\n",
              "      <td>spicy</td>\n",
              "      <td>vanilla</td>\n",
              "      <td>sweet</td>\n",
              "    </tr>\n",
              "    <tr>\n",
              "      <th>2</th>\n",
              "      <td>woody</td>\n",
              "      <td>warm</td>\n",
              "      <td>sweet</td>\n",
              "      <td>smoky</td>\n",
              "      <td>cherry.</td>\n",
              "      <td>spicy</td>\n",
              "      <td>jasmine</td>\n",
              "      <td>woody</td>\n",
              "      <td>sweet</td>\n",
              "      <td>fresh</td>\n",
              "      <td>...</td>\n",
              "      <td>fresh</td>\n",
              "      <td>woody</td>\n",
              "      <td>vanilla</td>\n",
              "      <td>dark</td>\n",
              "      <td>sweet</td>\n",
              "      <td>sweet</td>\n",
              "      <td>sweet</td>\n",
              "      <td>unisex</td>\n",
              "      <td>tonka</td>\n",
              "      <td>summer</td>\n",
              "    </tr>\n",
              "    <tr>\n",
              "      <th>3</th>\n",
              "      <td>unisex</td>\n",
              "      <td>vanilla</td>\n",
              "      <td>spicy</td>\n",
              "      <td>woody</td>\n",
              "      <td>bitter</td>\n",
              "      <td>warm</td>\n",
              "      <td>masculine</td>\n",
              "      <td>masculine</td>\n",
              "      <td>lavender</td>\n",
              "      <td>wood</td>\n",
              "      <td>...</td>\n",
              "      <td>citrus</td>\n",
              "      <td>fresh</td>\n",
              "      <td>feminine</td>\n",
              "      <td>woody</td>\n",
              "      <td>green</td>\n",
              "      <td>sweetness</td>\n",
              "      <td>spicy</td>\n",
              "      <td>masculine</td>\n",
              "      <td>cherry</td>\n",
              "      <td>creamy</td>\n",
              "    </tr>\n",
              "    <tr>\n",
              "      <th>4</th>\n",
              "      <td>warm</td>\n",
              "      <td>spicy</td>\n",
              "      <td>warm</td>\n",
              "      <td>warm</td>\n",
              "      <td>vanilla</td>\n",
              "      <td>woody</td>\n",
              "      <td>dark</td>\n",
              "      <td>fresh</td>\n",
              "      <td>vanilla</td>\n",
              "      <td>creed</td>\n",
              "      <td>...</td>\n",
              "      <td>summer</td>\n",
              "      <td>aquatic</td>\n",
              "      <td>synthetic</td>\n",
              "      <td>wood</td>\n",
              "      <td>vanilla</td>\n",
              "      <td>vanilla</td>\n",
              "      <td>feminine</td>\n",
              "      <td>vanilla</td>\n",
              "      <td>powdery</td>\n",
              "      <td>jasmine</td>\n",
              "    </tr>\n",
              "    <tr>\n",
              "      <th>5</th>\n",
              "      <td>sweetness</td>\n",
              "      <td>unisex</td>\n",
              "      <td>tobacco.</td>\n",
              "      <td>wood</td>\n",
              "      <td>warm</td>\n",
              "      <td>floral</td>\n",
              "      <td>patchouli</td>\n",
              "      <td>spicy</td>\n",
              "      <td>fresh</td>\n",
              "      <td>sweet</td>\n",
              "      <td>...</td>\n",
              "      <td>sweet</td>\n",
              "      <td>sweet</td>\n",
              "      <td>incense</td>\n",
              "      <td>spicy</td>\n",
              "      <td>creamy</td>\n",
              "      <td>smoky</td>\n",
              "      <td>wood</td>\n",
              "      <td>sweet</td>\n",
              "      <td>warm</td>\n",
              "      <td>white floral</td>\n",
              "    </tr>\n",
              "    <tr>\n",
              "      <th>6</th>\n",
              "      <td>cloud</td>\n",
              "      <td>woody</td>\n",
              "      <td>vanilla.</td>\n",
              "      <td>sweetness</td>\n",
              "      <td>sweetness</td>\n",
              "      <td>fresh</td>\n",
              "      <td>unisex</td>\n",
              "      <td>money</td>\n",
              "      <td>citrus</td>\n",
              "      <td>vanilla</td>\n",
              "      <td>...</td>\n",
              "      <td>juniper</td>\n",
              "      <td>powdery</td>\n",
              "      <td>super</td>\n",
              "      <td>mature</td>\n",
              "      <td>floral</td>\n",
              "      <td>masculine</td>\n",
              "      <td>warm</td>\n",
              "      <td>halfeti</td>\n",
              "      <td>powder</td>\n",
              "      <td>floral</td>\n",
              "    </tr>\n",
              "    <tr>\n",
              "      <th>7</th>\n",
              "      <td>floral</td>\n",
              "      <td>praline</td>\n",
              "      <td>sweetness</td>\n",
              "      <td>cozy</td>\n",
              "      <td>feminine</td>\n",
              "      <td>lavender</td>\n",
              "      <td>warm</td>\n",
              "      <td>vanilla</td>\n",
              "      <td>tonka</td>\n",
              "      <td>synthetic</td>\n",
              "      <td>...</td>\n",
              "      <td>floral</td>\n",
              "      <td>wood</td>\n",
              "      <td>warm</td>\n",
              "      <td>masculine</td>\n",
              "      <td>white</td>\n",
              "      <td>wood</td>\n",
              "      <td>powdery</td>\n",
              "      <td>complex</td>\n",
              "      <td>spicy</td>\n",
              "      <td>tuberose</td>\n",
              "    </tr>\n",
              "    <tr>\n",
              "      <th>8</th>\n",
              "      <td>masculine</td>\n",
              "      <td>masculine</td>\n",
              "      <td>unisex</td>\n",
              "      <td>vanilla.</td>\n",
              "      <td>dark</td>\n",
              "      <td>vanilla.</td>\n",
              "      <td>leathery</td>\n",
              "      <td>soft</td>\n",
              "      <td>unisex</td>\n",
              "      <td>magnetic</td>\n",
              "      <td>...</td>\n",
              "      <td>woody</td>\n",
              "      <td>green</td>\n",
              "      <td>sweet.</td>\n",
              "      <td>patchouli</td>\n",
              "      <td>fresh</td>\n",
              "      <td>complex</td>\n",
              "      <td>soft</td>\n",
              "      <td>wood</td>\n",
              "      <td>tonka bean</td>\n",
              "      <td>white</td>\n",
              "    </tr>\n",
              "    <tr>\n",
              "      <th>9</th>\n",
              "      <td>light</td>\n",
              "      <td>sweetness</td>\n",
              "      <td>vanille</td>\n",
              "      <td>masculine</td>\n",
              "      <td>patchouli</td>\n",
              "      <td>wood</td>\n",
              "      <td>feminine</td>\n",
              "      <td>tobacco</td>\n",
              "      <td>warm</td>\n",
              "      <td>intense</td>\n",
              "      <td>...</td>\n",
              "      <td>cedar</td>\n",
              "      <td>cedar</td>\n",
              "      <td>elegant</td>\n",
              "      <td>coffee</td>\n",
              "      <td>summer</td>\n",
              "      <td>mysterious</td>\n",
              "      <td>unisex</td>\n",
              "      <td>fresh</td>\n",
              "      <td>lavender</td>\n",
              "      <td>warm</td>\n",
              "    </tr>\n",
              "  </tbody>\n",
              "</table>\n",
              "<p>10 rows × 144 columns</p>\n",
              "</div>\n",
              "      <button class=\"colab-df-convert\" onclick=\"convertToInteractive('df-6b9dd79b-f87b-42f6-94ae-46d1f8fdd30f')\"\n",
              "              title=\"Convert this dataframe to an interactive table.\"\n",
              "              style=\"display:none;\">\n",
              "        \n",
              "  <svg xmlns=\"http://www.w3.org/2000/svg\" height=\"24px\"viewBox=\"0 0 24 24\"\n",
              "       width=\"24px\">\n",
              "    <path d=\"M0 0h24v24H0V0z\" fill=\"none\"/>\n",
              "    <path d=\"M18.56 5.44l.94 2.06.94-2.06 2.06-.94-2.06-.94-.94-2.06-.94 2.06-2.06.94zm-11 1L8.5 8.5l.94-2.06 2.06-.94-2.06-.94L8.5 2.5l-.94 2.06-2.06.94zm10 10l.94 2.06.94-2.06 2.06-.94-2.06-.94-.94-2.06-.94 2.06-2.06.94z\"/><path d=\"M17.41 7.96l-1.37-1.37c-.4-.4-.92-.59-1.43-.59-.52 0-1.04.2-1.43.59L10.3 9.45l-7.72 7.72c-.78.78-.78 2.05 0 2.83L4 21.41c.39.39.9.59 1.41.59.51 0 1.02-.2 1.41-.59l7.78-7.78 2.81-2.81c.8-.78.8-2.07 0-2.86zM5.41 20L4 18.59l7.72-7.72 1.47 1.35L5.41 20z\"/>\n",
              "  </svg>\n",
              "      </button>\n",
              "      \n",
              "  <style>\n",
              "    .colab-df-container {\n",
              "      display:flex;\n",
              "      flex-wrap:wrap;\n",
              "      gap: 12px;\n",
              "    }\n",
              "\n",
              "    .colab-df-convert {\n",
              "      background-color: #E8F0FE;\n",
              "      border: none;\n",
              "      border-radius: 50%;\n",
              "      cursor: pointer;\n",
              "      display: none;\n",
              "      fill: #1967D2;\n",
              "      height: 32px;\n",
              "      padding: 0 0 0 0;\n",
              "      width: 32px;\n",
              "    }\n",
              "\n",
              "    .colab-df-convert:hover {\n",
              "      background-color: #E2EBFA;\n",
              "      box-shadow: 0px 1px 2px rgba(60, 64, 67, 0.3), 0px 1px 3px 1px rgba(60, 64, 67, 0.15);\n",
              "      fill: #174EA6;\n",
              "    }\n",
              "\n",
              "    [theme=dark] .colab-df-convert {\n",
              "      background-color: #3B4455;\n",
              "      fill: #D2E3FC;\n",
              "    }\n",
              "\n",
              "    [theme=dark] .colab-df-convert:hover {\n",
              "      background-color: #434B5C;\n",
              "      box-shadow: 0px 1px 3px 1px rgba(0, 0, 0, 0.15);\n",
              "      filter: drop-shadow(0px 1px 2px rgba(0, 0, 0, 0.3));\n",
              "      fill: #FFFFFF;\n",
              "    }\n",
              "  </style>\n",
              "\n",
              "      <script>\n",
              "        const buttonEl =\n",
              "          document.querySelector('#df-6b9dd79b-f87b-42f6-94ae-46d1f8fdd30f button.colab-df-convert');\n",
              "        buttonEl.style.display =\n",
              "          google.colab.kernel.accessAllowed ? 'block' : 'none';\n",
              "\n",
              "        async function convertToInteractive(key) {\n",
              "          const element = document.querySelector('#df-6b9dd79b-f87b-42f6-94ae-46d1f8fdd30f');\n",
              "          const dataTable =\n",
              "            await google.colab.kernel.invokeFunction('convertToInteractive',\n",
              "                                                     [key], {});\n",
              "          if (!dataTable) return;\n",
              "\n",
              "          const docLinkHtml = 'Like what you see? Visit the ' +\n",
              "            '<a target=\"_blank\" href=https://colab.research.google.com/notebooks/data_table.ipynb>data table notebook</a>'\n",
              "            + ' to learn more about interactive tables.';\n",
              "          element.innerHTML = '';\n",
              "          dataTable['output_type'] = 'display_data';\n",
              "          await google.colab.output.renderOutput(dataTable, element);\n",
              "          const docLink = document.createElement('div');\n",
              "          docLink.innerHTML = docLinkHtml;\n",
              "          element.appendChild(docLink);\n",
              "        }\n",
              "      </script>\n",
              "    </div>\n",
              "  </div>\n",
              "  "
            ]
          },
          "metadata": {},
          "execution_count": 51
        }
      ]
    },
    {
      "cell_type": "code",
      "source": [
        "df.shape"
      ],
      "metadata": {
        "colab": {
          "base_uri": "https://localhost:8080/"
        },
        "id": "DbVlDAkye1dY",
        "outputId": "3ca054ea-5f7b-4318-e98f-92cd8def4a4d"
      },
      "execution_count": 52,
      "outputs": [
        {
          "output_type": "execute_result",
          "data": {
            "text/plain": [
              "(2, 144)"
            ]
          },
          "metadata": {},
          "execution_count": 52
        }
      ]
    },
    {
      "cell_type": "code",
      "source": [
        "df_keyword.shape"
      ],
      "metadata": {
        "colab": {
          "base_uri": "https://localhost:8080/"
        },
        "id": "E7sGaYLWe7Sk",
        "outputId": "c5dfcd3b-096c-4cd2-dbb2-38c06ff885d5"
      },
      "execution_count": 53,
      "outputs": [
        {
          "output_type": "execute_result",
          "data": {
            "text/plain": [
              "(10, 144)"
            ]
          },
          "metadata": {},
          "execution_count": 53
        }
      ]
    },
    {
      "cell_type": "code",
      "source": [
        "column_name = list(range(0,144))"
      ],
      "metadata": {
        "id": "gIIQXOZ1fVaE"
      },
      "execution_count": 54,
      "outputs": []
    },
    {
      "cell_type": "code",
      "source": [
        "df.columns = column_name\n",
        "df_keyword.columns = column_name"
      ],
      "metadata": {
        "id": "suvbgQl2fkNT"
      },
      "execution_count": 55,
      "outputs": []
    },
    {
      "cell_type": "code",
      "source": [
        "keyword_extracted = pd.concat([df,df_keyword])\n",
        "keyword_extracted"
      ],
      "metadata": {
        "colab": {
          "base_uri": "https://localhost:8080/",
          "height": 533
        },
        "id": "M0dxJT_7f2TT",
        "outputId": "d65e71ac-5c2b-41eb-d9b3-df2ff7a59532"
      },
      "execution_count": 56,
      "outputs": [
        {
          "output_type": "execute_result",
          "data": {
            "text/plain": [
              "                            0              1                2    \\\n",
              "name         Baccarat Rouge 540  Angels' Share  Tobacco Vanille   \n",
              "brand  Maison Francis Kurkdjian      By Kilian         Tom Ford   \n",
              "0                         sweet          sweet          tobacco   \n",
              "1                      feminine         cognac          vanilla   \n",
              "2                         woody           warm            sweet   \n",
              "3                        unisex        vanilla            spicy   \n",
              "4                          warm          spicy             warm   \n",
              "5                     sweetness         unisex         tobacco.   \n",
              "6                         cloud          woody         vanilla.   \n",
              "7                        floral        praline        sweetness   \n",
              "8                     masculine      masculine           unisex   \n",
              "9                         light      sweetness          vanille   \n",
              "\n",
              "                          3            4                 5    \\\n",
              "name         By the Fireplace  Lost Cherry            Layton   \n",
              "brand  Maison Martin Margiela     Tom Ford  Parfums de Marly   \n",
              "0                     vanilla       cherry           vanilla   \n",
              "1                       sweet        sweet             sweet   \n",
              "2                       smoky      cherry.             spicy   \n",
              "3                       woody       bitter              warm   \n",
              "4                        warm      vanilla             woody   \n",
              "5                        wood         warm            floral   \n",
              "6                   sweetness    sweetness             fresh   \n",
              "7                        cozy     feminine          lavender   \n",
              "8                    vanilla.         dark          vanilla.   \n",
              "9                   masculine    patchouli              wood   \n",
              "\n",
              "                        6          7              8             9    ...  \\\n",
              "name   Ombré Leather (2018)   Oud Wood  XJ 1861 Naxos  Cedrat Boise  ...   \n",
              "brand              Tom Ford   Tom Ford        Xerjoff       Mancera  ...   \n",
              "0                     sweet       wood        tobacco         woody  ...   \n",
              "1                    floral      sweet          honey        citrus  ...   \n",
              "2                   jasmine      woody          sweet         fresh  ...   \n",
              "3                 masculine  masculine       lavender          wood  ...   \n",
              "4                      dark      fresh        vanilla         creed  ...   \n",
              "5                 patchouli      spicy          fresh         sweet  ...   \n",
              "6                    unisex      money         citrus       vanilla  ...   \n",
              "7                      warm    vanilla          tonka     synthetic  ...   \n",
              "8                  leathery       soft         unisex      magnetic  ...   \n",
              "9                  feminine    tobacco           warm       intense  ...   \n",
              "\n",
              "                  134               135                        136  \\\n",
              "name   Vanille Fatale   Layton Exclusif  Un Jardin En Mediterranee   \n",
              "brand        Tom Ford  Parfums de Marly                     Hermès   \n",
              "0                 fig            summer                 strawberry   \n",
              "1               green            marine                      sweet   \n",
              "2               fresh             woody                    vanilla   \n",
              "3              citrus             fresh                   feminine   \n",
              "4              summer           aquatic                  synthetic   \n",
              "5               sweet             sweet                    incense   \n",
              "6             juniper           powdery                      super   \n",
              "7              floral              wood                       warm   \n",
              "8               woody             green                     sweet.   \n",
              "9               cedar             cedar                    elegant   \n",
              "\n",
              "               137         138                   139               140  \\\n",
              "name   La Capitale       Marfa  Interlude Black Iris  Feminité du Bois   \n",
              "brand      Xerjoff  Memo Paris               Amouage      Serge Lutens   \n",
              "0          vanilla    tuberose               incense             cedar   \n",
              "1            sweet       marfa                  dark             woody   \n",
              "2             dark       sweet                 sweet             sweet   \n",
              "3            woody       green             sweetness             spicy   \n",
              "4             wood     vanilla               vanilla          feminine   \n",
              "5            spicy      creamy                 smoky              wood   \n",
              "6           mature      floral             masculine              warm   \n",
              "7        masculine       white                  wood           powdery   \n",
              "8        patchouli       fresh               complex              soft   \n",
              "9           coffee      summer            mysterious            unisex   \n",
              "\n",
              "                141              142                     143  \n",
              "name        Halfeti  Fève Délicieuse  Utopia Vanilla Coco 21  \n",
              "brand  Penhaligon's             Dior       Kayali Fragrances  \n",
              "0             woody            sweet                 vanilla  \n",
              "1             spicy          vanilla                   sweet  \n",
              "2            unisex            tonka                  summer  \n",
              "3         masculine           cherry                  creamy  \n",
              "4           vanilla          powdery                 jasmine  \n",
              "5             sweet             warm            white floral  \n",
              "6           halfeti           powder                  floral  \n",
              "7           complex            spicy                tuberose  \n",
              "8              wood       tonka bean                   white  \n",
              "9             fresh         lavender                    warm  \n",
              "\n",
              "[12 rows x 144 columns]"
            ],
            "text/html": [
              "\n",
              "  <div id=\"df-3946264d-7627-4561-b795-9ee45f3059c8\">\n",
              "    <div class=\"colab-df-container\">\n",
              "      <div>\n",
              "<style scoped>\n",
              "    .dataframe tbody tr th:only-of-type {\n",
              "        vertical-align: middle;\n",
              "    }\n",
              "\n",
              "    .dataframe tbody tr th {\n",
              "        vertical-align: top;\n",
              "    }\n",
              "\n",
              "    .dataframe thead th {\n",
              "        text-align: right;\n",
              "    }\n",
              "</style>\n",
              "<table border=\"1\" class=\"dataframe\">\n",
              "  <thead>\n",
              "    <tr style=\"text-align: right;\">\n",
              "      <th></th>\n",
              "      <th>0</th>\n",
              "      <th>1</th>\n",
              "      <th>2</th>\n",
              "      <th>3</th>\n",
              "      <th>4</th>\n",
              "      <th>5</th>\n",
              "      <th>6</th>\n",
              "      <th>7</th>\n",
              "      <th>8</th>\n",
              "      <th>9</th>\n",
              "      <th>...</th>\n",
              "      <th>134</th>\n",
              "      <th>135</th>\n",
              "      <th>136</th>\n",
              "      <th>137</th>\n",
              "      <th>138</th>\n",
              "      <th>139</th>\n",
              "      <th>140</th>\n",
              "      <th>141</th>\n",
              "      <th>142</th>\n",
              "      <th>143</th>\n",
              "    </tr>\n",
              "  </thead>\n",
              "  <tbody>\n",
              "    <tr>\n",
              "      <th>name</th>\n",
              "      <td>Baccarat Rouge 540</td>\n",
              "      <td>Angels' Share</td>\n",
              "      <td>Tobacco Vanille</td>\n",
              "      <td>By the Fireplace</td>\n",
              "      <td>Lost Cherry</td>\n",
              "      <td>Layton</td>\n",
              "      <td>Ombré Leather (2018)</td>\n",
              "      <td>Oud Wood</td>\n",
              "      <td>XJ 1861 Naxos</td>\n",
              "      <td>Cedrat Boise</td>\n",
              "      <td>...</td>\n",
              "      <td>Vanille Fatale</td>\n",
              "      <td>Layton Exclusif</td>\n",
              "      <td>Un Jardin En Mediterranee</td>\n",
              "      <td>La Capitale</td>\n",
              "      <td>Marfa</td>\n",
              "      <td>Interlude Black Iris</td>\n",
              "      <td>Feminité du Bois</td>\n",
              "      <td>Halfeti</td>\n",
              "      <td>Fève Délicieuse</td>\n",
              "      <td>Utopia Vanilla Coco 21</td>\n",
              "    </tr>\n",
              "    <tr>\n",
              "      <th>brand</th>\n",
              "      <td>Maison Francis Kurkdjian</td>\n",
              "      <td>By Kilian</td>\n",
              "      <td>Tom Ford</td>\n",
              "      <td>Maison Martin Margiela</td>\n",
              "      <td>Tom Ford</td>\n",
              "      <td>Parfums de Marly</td>\n",
              "      <td>Tom Ford</td>\n",
              "      <td>Tom Ford</td>\n",
              "      <td>Xerjoff</td>\n",
              "      <td>Mancera</td>\n",
              "      <td>...</td>\n",
              "      <td>Tom Ford</td>\n",
              "      <td>Parfums de Marly</td>\n",
              "      <td>Hermès</td>\n",
              "      <td>Xerjoff</td>\n",
              "      <td>Memo Paris</td>\n",
              "      <td>Amouage</td>\n",
              "      <td>Serge Lutens</td>\n",
              "      <td>Penhaligon's</td>\n",
              "      <td>Dior</td>\n",
              "      <td>Kayali Fragrances</td>\n",
              "    </tr>\n",
              "    <tr>\n",
              "      <th>0</th>\n",
              "      <td>sweet</td>\n",
              "      <td>sweet</td>\n",
              "      <td>tobacco</td>\n",
              "      <td>vanilla</td>\n",
              "      <td>cherry</td>\n",
              "      <td>vanilla</td>\n",
              "      <td>sweet</td>\n",
              "      <td>wood</td>\n",
              "      <td>tobacco</td>\n",
              "      <td>woody</td>\n",
              "      <td>...</td>\n",
              "      <td>fig</td>\n",
              "      <td>summer</td>\n",
              "      <td>strawberry</td>\n",
              "      <td>vanilla</td>\n",
              "      <td>tuberose</td>\n",
              "      <td>incense</td>\n",
              "      <td>cedar</td>\n",
              "      <td>woody</td>\n",
              "      <td>sweet</td>\n",
              "      <td>vanilla</td>\n",
              "    </tr>\n",
              "    <tr>\n",
              "      <th>1</th>\n",
              "      <td>feminine</td>\n",
              "      <td>cognac</td>\n",
              "      <td>vanilla</td>\n",
              "      <td>sweet</td>\n",
              "      <td>sweet</td>\n",
              "      <td>sweet</td>\n",
              "      <td>floral</td>\n",
              "      <td>sweet</td>\n",
              "      <td>honey</td>\n",
              "      <td>citrus</td>\n",
              "      <td>...</td>\n",
              "      <td>green</td>\n",
              "      <td>marine</td>\n",
              "      <td>sweet</td>\n",
              "      <td>sweet</td>\n",
              "      <td>marfa</td>\n",
              "      <td>dark</td>\n",
              "      <td>woody</td>\n",
              "      <td>spicy</td>\n",
              "      <td>vanilla</td>\n",
              "      <td>sweet</td>\n",
              "    </tr>\n",
              "    <tr>\n",
              "      <th>2</th>\n",
              "      <td>woody</td>\n",
              "      <td>warm</td>\n",
              "      <td>sweet</td>\n",
              "      <td>smoky</td>\n",
              "      <td>cherry.</td>\n",
              "      <td>spicy</td>\n",
              "      <td>jasmine</td>\n",
              "      <td>woody</td>\n",
              "      <td>sweet</td>\n",
              "      <td>fresh</td>\n",
              "      <td>...</td>\n",
              "      <td>fresh</td>\n",
              "      <td>woody</td>\n",
              "      <td>vanilla</td>\n",
              "      <td>dark</td>\n",
              "      <td>sweet</td>\n",
              "      <td>sweet</td>\n",
              "      <td>sweet</td>\n",
              "      <td>unisex</td>\n",
              "      <td>tonka</td>\n",
              "      <td>summer</td>\n",
              "    </tr>\n",
              "    <tr>\n",
              "      <th>3</th>\n",
              "      <td>unisex</td>\n",
              "      <td>vanilla</td>\n",
              "      <td>spicy</td>\n",
              "      <td>woody</td>\n",
              "      <td>bitter</td>\n",
              "      <td>warm</td>\n",
              "      <td>masculine</td>\n",
              "      <td>masculine</td>\n",
              "      <td>lavender</td>\n",
              "      <td>wood</td>\n",
              "      <td>...</td>\n",
              "      <td>citrus</td>\n",
              "      <td>fresh</td>\n",
              "      <td>feminine</td>\n",
              "      <td>woody</td>\n",
              "      <td>green</td>\n",
              "      <td>sweetness</td>\n",
              "      <td>spicy</td>\n",
              "      <td>masculine</td>\n",
              "      <td>cherry</td>\n",
              "      <td>creamy</td>\n",
              "    </tr>\n",
              "    <tr>\n",
              "      <th>4</th>\n",
              "      <td>warm</td>\n",
              "      <td>spicy</td>\n",
              "      <td>warm</td>\n",
              "      <td>warm</td>\n",
              "      <td>vanilla</td>\n",
              "      <td>woody</td>\n",
              "      <td>dark</td>\n",
              "      <td>fresh</td>\n",
              "      <td>vanilla</td>\n",
              "      <td>creed</td>\n",
              "      <td>...</td>\n",
              "      <td>summer</td>\n",
              "      <td>aquatic</td>\n",
              "      <td>synthetic</td>\n",
              "      <td>wood</td>\n",
              "      <td>vanilla</td>\n",
              "      <td>vanilla</td>\n",
              "      <td>feminine</td>\n",
              "      <td>vanilla</td>\n",
              "      <td>powdery</td>\n",
              "      <td>jasmine</td>\n",
              "    </tr>\n",
              "    <tr>\n",
              "      <th>5</th>\n",
              "      <td>sweetness</td>\n",
              "      <td>unisex</td>\n",
              "      <td>tobacco.</td>\n",
              "      <td>wood</td>\n",
              "      <td>warm</td>\n",
              "      <td>floral</td>\n",
              "      <td>patchouli</td>\n",
              "      <td>spicy</td>\n",
              "      <td>fresh</td>\n",
              "      <td>sweet</td>\n",
              "      <td>...</td>\n",
              "      <td>sweet</td>\n",
              "      <td>sweet</td>\n",
              "      <td>incense</td>\n",
              "      <td>spicy</td>\n",
              "      <td>creamy</td>\n",
              "      <td>smoky</td>\n",
              "      <td>wood</td>\n",
              "      <td>sweet</td>\n",
              "      <td>warm</td>\n",
              "      <td>white floral</td>\n",
              "    </tr>\n",
              "    <tr>\n",
              "      <th>6</th>\n",
              "      <td>cloud</td>\n",
              "      <td>woody</td>\n",
              "      <td>vanilla.</td>\n",
              "      <td>sweetness</td>\n",
              "      <td>sweetness</td>\n",
              "      <td>fresh</td>\n",
              "      <td>unisex</td>\n",
              "      <td>money</td>\n",
              "      <td>citrus</td>\n",
              "      <td>vanilla</td>\n",
              "      <td>...</td>\n",
              "      <td>juniper</td>\n",
              "      <td>powdery</td>\n",
              "      <td>super</td>\n",
              "      <td>mature</td>\n",
              "      <td>floral</td>\n",
              "      <td>masculine</td>\n",
              "      <td>warm</td>\n",
              "      <td>halfeti</td>\n",
              "      <td>powder</td>\n",
              "      <td>floral</td>\n",
              "    </tr>\n",
              "    <tr>\n",
              "      <th>7</th>\n",
              "      <td>floral</td>\n",
              "      <td>praline</td>\n",
              "      <td>sweetness</td>\n",
              "      <td>cozy</td>\n",
              "      <td>feminine</td>\n",
              "      <td>lavender</td>\n",
              "      <td>warm</td>\n",
              "      <td>vanilla</td>\n",
              "      <td>tonka</td>\n",
              "      <td>synthetic</td>\n",
              "      <td>...</td>\n",
              "      <td>floral</td>\n",
              "      <td>wood</td>\n",
              "      <td>warm</td>\n",
              "      <td>masculine</td>\n",
              "      <td>white</td>\n",
              "      <td>wood</td>\n",
              "      <td>powdery</td>\n",
              "      <td>complex</td>\n",
              "      <td>spicy</td>\n",
              "      <td>tuberose</td>\n",
              "    </tr>\n",
              "    <tr>\n",
              "      <th>8</th>\n",
              "      <td>masculine</td>\n",
              "      <td>masculine</td>\n",
              "      <td>unisex</td>\n",
              "      <td>vanilla.</td>\n",
              "      <td>dark</td>\n",
              "      <td>vanilla.</td>\n",
              "      <td>leathery</td>\n",
              "      <td>soft</td>\n",
              "      <td>unisex</td>\n",
              "      <td>magnetic</td>\n",
              "      <td>...</td>\n",
              "      <td>woody</td>\n",
              "      <td>green</td>\n",
              "      <td>sweet.</td>\n",
              "      <td>patchouli</td>\n",
              "      <td>fresh</td>\n",
              "      <td>complex</td>\n",
              "      <td>soft</td>\n",
              "      <td>wood</td>\n",
              "      <td>tonka bean</td>\n",
              "      <td>white</td>\n",
              "    </tr>\n",
              "    <tr>\n",
              "      <th>9</th>\n",
              "      <td>light</td>\n",
              "      <td>sweetness</td>\n",
              "      <td>vanille</td>\n",
              "      <td>masculine</td>\n",
              "      <td>patchouli</td>\n",
              "      <td>wood</td>\n",
              "      <td>feminine</td>\n",
              "      <td>tobacco</td>\n",
              "      <td>warm</td>\n",
              "      <td>intense</td>\n",
              "      <td>...</td>\n",
              "      <td>cedar</td>\n",
              "      <td>cedar</td>\n",
              "      <td>elegant</td>\n",
              "      <td>coffee</td>\n",
              "      <td>summer</td>\n",
              "      <td>mysterious</td>\n",
              "      <td>unisex</td>\n",
              "      <td>fresh</td>\n",
              "      <td>lavender</td>\n",
              "      <td>warm</td>\n",
              "    </tr>\n",
              "  </tbody>\n",
              "</table>\n",
              "<p>12 rows × 144 columns</p>\n",
              "</div>\n",
              "      <button class=\"colab-df-convert\" onclick=\"convertToInteractive('df-3946264d-7627-4561-b795-9ee45f3059c8')\"\n",
              "              title=\"Convert this dataframe to an interactive table.\"\n",
              "              style=\"display:none;\">\n",
              "        \n",
              "  <svg xmlns=\"http://www.w3.org/2000/svg\" height=\"24px\"viewBox=\"0 0 24 24\"\n",
              "       width=\"24px\">\n",
              "    <path d=\"M0 0h24v24H0V0z\" fill=\"none\"/>\n",
              "    <path d=\"M18.56 5.44l.94 2.06.94-2.06 2.06-.94-2.06-.94-.94-2.06-.94 2.06-2.06.94zm-11 1L8.5 8.5l.94-2.06 2.06-.94-2.06-.94L8.5 2.5l-.94 2.06-2.06.94zm10 10l.94 2.06.94-2.06 2.06-.94-2.06-.94-.94-2.06-.94 2.06-2.06.94z\"/><path d=\"M17.41 7.96l-1.37-1.37c-.4-.4-.92-.59-1.43-.59-.52 0-1.04.2-1.43.59L10.3 9.45l-7.72 7.72c-.78.78-.78 2.05 0 2.83L4 21.41c.39.39.9.59 1.41.59.51 0 1.02-.2 1.41-.59l7.78-7.78 2.81-2.81c.8-.78.8-2.07 0-2.86zM5.41 20L4 18.59l7.72-7.72 1.47 1.35L5.41 20z\"/>\n",
              "  </svg>\n",
              "      </button>\n",
              "      \n",
              "  <style>\n",
              "    .colab-df-container {\n",
              "      display:flex;\n",
              "      flex-wrap:wrap;\n",
              "      gap: 12px;\n",
              "    }\n",
              "\n",
              "    .colab-df-convert {\n",
              "      background-color: #E8F0FE;\n",
              "      border: none;\n",
              "      border-radius: 50%;\n",
              "      cursor: pointer;\n",
              "      display: none;\n",
              "      fill: #1967D2;\n",
              "      height: 32px;\n",
              "      padding: 0 0 0 0;\n",
              "      width: 32px;\n",
              "    }\n",
              "\n",
              "    .colab-df-convert:hover {\n",
              "      background-color: #E2EBFA;\n",
              "      box-shadow: 0px 1px 2px rgba(60, 64, 67, 0.3), 0px 1px 3px 1px rgba(60, 64, 67, 0.15);\n",
              "      fill: #174EA6;\n",
              "    }\n",
              "\n",
              "    [theme=dark] .colab-df-convert {\n",
              "      background-color: #3B4455;\n",
              "      fill: #D2E3FC;\n",
              "    }\n",
              "\n",
              "    [theme=dark] .colab-df-convert:hover {\n",
              "      background-color: #434B5C;\n",
              "      box-shadow: 0px 1px 3px 1px rgba(0, 0, 0, 0.15);\n",
              "      filter: drop-shadow(0px 1px 2px rgba(0, 0, 0, 0.3));\n",
              "      fill: #FFFFFF;\n",
              "    }\n",
              "  </style>\n",
              "\n",
              "      <script>\n",
              "        const buttonEl =\n",
              "          document.querySelector('#df-3946264d-7627-4561-b795-9ee45f3059c8 button.colab-df-convert');\n",
              "        buttonEl.style.display =\n",
              "          google.colab.kernel.accessAllowed ? 'block' : 'none';\n",
              "\n",
              "        async function convertToInteractive(key) {\n",
              "          const element = document.querySelector('#df-3946264d-7627-4561-b795-9ee45f3059c8');\n",
              "          const dataTable =\n",
              "            await google.colab.kernel.invokeFunction('convertToInteractive',\n",
              "                                                     [key], {});\n",
              "          if (!dataTable) return;\n",
              "\n",
              "          const docLinkHtml = 'Like what you see? Visit the ' +\n",
              "            '<a target=\"_blank\" href=https://colab.research.google.com/notebooks/data_table.ipynb>data table notebook</a>'\n",
              "            + ' to learn more about interactive tables.';\n",
              "          element.innerHTML = '';\n",
              "          dataTable['output_type'] = 'display_data';\n",
              "          await google.colab.output.renderOutput(dataTable, element);\n",
              "          const docLink = document.createElement('div');\n",
              "          docLink.innerHTML = docLinkHtml;\n",
              "          element.appendChild(docLink);\n",
              "        }\n",
              "      </script>\n",
              "    </div>\n",
              "  </div>\n",
              "  "
            ]
          },
          "metadata": {},
          "execution_count": 56
        }
      ]
    },
    {
      "cell_type": "code",
      "source": [
        "keyword_extracted.to_csv(\"keyword_by_NER.csv\")"
      ],
      "metadata": {
        "id": "P3lXAfCmgCXj"
      },
      "execution_count": 57,
      "outputs": []
    }
  ]
}