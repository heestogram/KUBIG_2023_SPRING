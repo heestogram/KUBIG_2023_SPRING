{
 "cells": [
  {
   "cell_type": "markdown",
   "metadata": {
    "id": "qcDcW3gy1bSH"
   },
   "source": [
    "## Import Libraries"
   ]
  },
  {
   "cell_type": "code",
   "execution_count": 1,
   "metadata": {
    "colab": {
     "base_uri": "https://localhost:8080/",
     "height": 53
    },
    "executionInfo": {
     "elapsed": 9,
     "status": "ok",
     "timestamp": 1677306452890,
     "user": {
      "displayName": "김연규",
      "userId": "02025822898919377384"
     },
     "user_tz": -540
    },
    "id": "9KA094IEf9FT",
    "outputId": "c1c03948-02be-47cc-e5ca-321b21fb8ca2"
   },
   "outputs": [
    {
     "name": "stderr",
     "output_type": "stream",
     "text": [
      "[nltk_data] Downloading package stopwords to\n",
      "[nltk_data]     C:\\Users\\USER\\AppData\\Roaming\\nltk_data...\n",
      "[nltk_data]   Package stopwords is already up-to-date!\n"
     ]
    },
    {
     "data": {
      "text/plain": [
       "True"
      ]
     },
     "execution_count": 1,
     "metadata": {},
     "output_type": "execute_result"
    }
   ],
   "source": [
    "import pandas as pd\n",
    "import numpy as np\n",
    "import cufflinks as cf\n",
    "import matplotlib.pyplot as plt\n",
    "# import chart_studio.plotly as py\n",
    "# import plotly.graph_objects as go\n",
    "import torch\n",
    "import torch.nn as nn\n",
    "from torch.utils.data import DataLoader, Subset\n",
    "from torchvision import datasets, transforms\n",
    "from sklearn.model_selection import train_test_split\n",
    "from copy import deepcopy\n",
    "from tqdm import tqdm\n",
    "import nltk\n",
    "import nltk.data\n",
    "from nltk.tokenize import WordPunctTokenizer\n",
    "from nltk.corpus import stopwords\n",
    "\n",
    "nltk.download('stopwords')\n",
    "\n",
    "# 오프라인에서도 사용할 수 있음\n",
    "# cf.go_offline(connected = True)"
   ]
  },
  {
   "cell_type": "code",
   "execution_count": 2,
   "metadata": {
    "id": "E7pZciXpw60o"
   },
   "outputs": [],
   "source": [
    "import os\n",
    "\n",
    "df1 = pd.read_csv('test_x.csv', index_col=0)\n",
    "# test = pd.read_csv('test_x.csv', index_col=0)\n",
    "\n"
   ]
  },
  {
   "cell_type": "code",
   "execution_count": 3,
   "metadata": {},
   "outputs": [],
   "source": [
    "df2 = pd.read_csv('train.csv',index_col=0)"
   ]
  },
  {
   "cell_type": "code",
   "execution_count": 4,
   "metadata": {},
   "outputs": [],
   "source": [
    "\n",
    "test = df1.reset_index(drop = True)\n",
    "train = df2.reset_index(drop = True)"
   ]
  },
  {
   "cell_type": "code",
   "execution_count": 5,
   "metadata": {
    "colab": {
     "base_uri": "https://localhost:8080/",
     "height": 238
    },
    "executionInfo": {
     "elapsed": 18,
     "status": "ok",
     "timestamp": 1677304660875,
     "user": {
      "displayName": "김연규",
      "userId": "02025822898919377384"
     },
     "user_tz": -540
    },
    "id": "4azOyhq7w63N",
    "outputId": "5c1acdf6-5a06-4ef4-b232-f526d075bd85"
   },
   "outputs": [
    {
     "data": {
      "text/html": [
       "<div>\n",
       "<style scoped>\n",
       "    .dataframe tbody tr th:only-of-type {\n",
       "        vertical-align: middle;\n",
       "    }\n",
       "\n",
       "    .dataframe tbody tr th {\n",
       "        vertical-align: top;\n",
       "    }\n",
       "\n",
       "    .dataframe thead th {\n",
       "        text-align: right;\n",
       "    }\n",
       "</style>\n",
       "<table border=\"1\" class=\"dataframe\">\n",
       "  <thead>\n",
       "    <tr style=\"text-align: right;\">\n",
       "      <th></th>\n",
       "      <th>text</th>\n",
       "      <th>author</th>\n",
       "    </tr>\n",
       "  </thead>\n",
       "  <tbody>\n",
       "    <tr>\n",
       "      <th>0</th>\n",
       "      <td>He was almost choking. There was so much, so m...</td>\n",
       "      <td>3</td>\n",
       "    </tr>\n",
       "    <tr>\n",
       "      <th>1</th>\n",
       "      <td>“Your sister asked for it, I suppose?”</td>\n",
       "      <td>2</td>\n",
       "    </tr>\n",
       "    <tr>\n",
       "      <th>2</th>\n",
       "      <td>She was engaged one day as she walked, in per...</td>\n",
       "      <td>1</td>\n",
       "    </tr>\n",
       "    <tr>\n",
       "      <th>3</th>\n",
       "      <td>The captain was in the porch, keeping himself ...</td>\n",
       "      <td>4</td>\n",
       "    </tr>\n",
       "    <tr>\n",
       "      <th>4</th>\n",
       "      <td>“Have mercy, gentlemen!” odin flung up his han...</td>\n",
       "      <td>3</td>\n",
       "    </tr>\n",
       "  </tbody>\n",
       "</table>\n",
       "</div>"
      ],
      "text/plain": [
       "                                                text  author\n",
       "0  He was almost choking. There was so much, so m...       3\n",
       "1             “Your sister asked for it, I suppose?”       2\n",
       "2   She was engaged one day as she walked, in per...       1\n",
       "3  The captain was in the porch, keeping himself ...       4\n",
       "4  “Have mercy, gentlemen!” odin flung up his han...       3"
      ]
     },
     "execution_count": 5,
     "metadata": {},
     "output_type": "execute_result"
    }
   ],
   "source": [
    "train.head()"
   ]
  },
  {
   "cell_type": "code",
   "execution_count": 6,
   "metadata": {
    "colab": {
     "base_uri": "https://localhost:8080/",
     "height": 238
    },
    "executionInfo": {
     "elapsed": 16,
     "status": "ok",
     "timestamp": 1677304660875,
     "user": {
      "displayName": "김연규",
      "userId": "02025822898919377384"
     },
     "user_tz": -540
    },
    "id": "UHRqJN8f2IzF",
    "outputId": "b1613ab6-7b9b-46b1-9a88-06bf1b72b292"
   },
   "outputs": [
    {
     "data": {
      "text/html": [
       "<div>\n",
       "<style scoped>\n",
       "    .dataframe tbody tr th:only-of-type {\n",
       "        vertical-align: middle;\n",
       "    }\n",
       "\n",
       "    .dataframe tbody tr th {\n",
       "        vertical-align: top;\n",
       "    }\n",
       "\n",
       "    .dataframe thead th {\n",
       "        text-align: right;\n",
       "    }\n",
       "</style>\n",
       "<table border=\"1\" class=\"dataframe\">\n",
       "  <thead>\n",
       "    <tr style=\"text-align: right;\">\n",
       "      <th></th>\n",
       "      <th>text</th>\n",
       "    </tr>\n",
       "  </thead>\n",
       "  <tbody>\n",
       "    <tr>\n",
       "      <th>0</th>\n",
       "      <td>“Not at all. I think she is one of the most ch...</td>\n",
       "    </tr>\n",
       "    <tr>\n",
       "      <th>1</th>\n",
       "      <td>\"No,\" replied he, with sudden consciousness, \"...</td>\n",
       "    </tr>\n",
       "    <tr>\n",
       "      <th>2</th>\n",
       "      <td>As the lady had stated her intention of scream...</td>\n",
       "    </tr>\n",
       "    <tr>\n",
       "      <th>3</th>\n",
       "      <td>“And then suddenly in the silence I heard a so...</td>\n",
       "    </tr>\n",
       "    <tr>\n",
       "      <th>4</th>\n",
       "      <td>His conviction remained unchanged. So far as I...</td>\n",
       "    </tr>\n",
       "  </tbody>\n",
       "</table>\n",
       "</div>"
      ],
      "text/plain": [
       "                                                text\n",
       "0  “Not at all. I think she is one of the most ch...\n",
       "1  \"No,\" replied he, with sudden consciousness, \"...\n",
       "2  As the lady had stated her intention of scream...\n",
       "3  “And then suddenly in the silence I heard a so...\n",
       "4  His conviction remained unchanged. So far as I..."
      ]
     },
     "execution_count": 6,
     "metadata": {},
     "output_type": "execute_result"
    }
   ],
   "source": [
    "test.head()"
   ]
  },
  {
   "cell_type": "code",
   "execution_count": 7,
   "metadata": {
    "colab": {
     "base_uri": "https://localhost:8080/"
    },
    "executionInfo": {
     "elapsed": 403,
     "status": "ok",
     "timestamp": 1677304669860,
     "user": {
      "displayName": "김연규",
      "userId": "02025822898919377384"
     },
     "user_tz": -540
    },
    "id": "ie4pL-aCw650",
    "outputId": "15e2cf9a-bc8e-4fe0-be51-ee172b9d8909"
   },
   "outputs": [
    {
     "name": "stdout",
     "output_type": "stream",
     "text": [
      "(54879, 2)\n",
      "(19617, 1)\n"
     ]
    }
   ],
   "source": [
    "print(train.shape)\n",
    "print(test.shape)"
   ]
  },
  {
   "cell_type": "markdown",
   "metadata": {
    "id": "7Unfxn3w1_GA"
   },
   "source": [
    "## EDA"
   ]
  },
  {
   "cell_type": "code",
   "execution_count": 8,
   "metadata": {},
   "outputs": [
    {
     "data": {
      "text/html": [
       "<div>\n",
       "<style scoped>\n",
       "    .dataframe tbody tr th:only-of-type {\n",
       "        vertical-align: middle;\n",
       "    }\n",
       "\n",
       "    .dataframe tbody tr th {\n",
       "        vertical-align: top;\n",
       "    }\n",
       "\n",
       "    .dataframe thead th {\n",
       "        text-align: right;\n",
       "    }\n",
       "</style>\n",
       "<table border=\"1\" class=\"dataframe\">\n",
       "  <thead>\n",
       "    <tr style=\"text-align: right;\">\n",
       "      <th></th>\n",
       "      <th>text</th>\n",
       "      <th>author</th>\n",
       "    </tr>\n",
       "  </thead>\n",
       "  <tbody>\n",
       "    <tr>\n",
       "      <th>0</th>\n",
       "      <td>He was almost choking. There was so much, so m...</td>\n",
       "      <td>3</td>\n",
       "    </tr>\n",
       "    <tr>\n",
       "      <th>1</th>\n",
       "      <td>“Your sister asked for it, I suppose?”</td>\n",
       "      <td>2</td>\n",
       "    </tr>\n",
       "    <tr>\n",
       "      <th>2</th>\n",
       "      <td>She was engaged one day as she walked, in per...</td>\n",
       "      <td>1</td>\n",
       "    </tr>\n",
       "    <tr>\n",
       "      <th>3</th>\n",
       "      <td>The captain was in the porch, keeping himself ...</td>\n",
       "      <td>4</td>\n",
       "    </tr>\n",
       "    <tr>\n",
       "      <th>4</th>\n",
       "      <td>“Have mercy, gentlemen!” odin flung up his han...</td>\n",
       "      <td>3</td>\n",
       "    </tr>\n",
       "    <tr>\n",
       "      <th>...</th>\n",
       "      <td>...</td>\n",
       "      <td>...</td>\n",
       "    </tr>\n",
       "    <tr>\n",
       "      <th>54874</th>\n",
       "      <td>“Is that you, Mr. Smith?” odin whispered. “I h...</td>\n",
       "      <td>2</td>\n",
       "    </tr>\n",
       "    <tr>\n",
       "      <th>54875</th>\n",
       "      <td>I told my plan to the captain, and between us ...</td>\n",
       "      <td>4</td>\n",
       "    </tr>\n",
       "    <tr>\n",
       "      <th>54876</th>\n",
       "      <td>\"Your sincere well-wisher, friend, and sister...</td>\n",
       "      <td>1</td>\n",
       "    </tr>\n",
       "    <tr>\n",
       "      <th>54877</th>\n",
       "      <td>“Then you wanted me to lend you money?”</td>\n",
       "      <td>3</td>\n",
       "    </tr>\n",
       "    <tr>\n",
       "      <th>54878</th>\n",
       "      <td>It certainly had not occurred to me before, bu...</td>\n",
       "      <td>0</td>\n",
       "    </tr>\n",
       "  </tbody>\n",
       "</table>\n",
       "<p>54879 rows × 2 columns</p>\n",
       "</div>"
      ],
      "text/plain": [
       "                                                    text  author\n",
       "0      He was almost choking. There was so much, so m...       3\n",
       "1                 “Your sister asked for it, I suppose?”       2\n",
       "2       She was engaged one day as she walked, in per...       1\n",
       "3      The captain was in the porch, keeping himself ...       4\n",
       "4      “Have mercy, gentlemen!” odin flung up his han...       3\n",
       "...                                                  ...     ...\n",
       "54874  “Is that you, Mr. Smith?” odin whispered. “I h...       2\n",
       "54875  I told my plan to the captain, and between us ...       4\n",
       "54876   \"Your sincere well-wisher, friend, and sister...       1\n",
       "54877            “Then you wanted me to lend you money?”       3\n",
       "54878  It certainly had not occurred to me before, bu...       0\n",
       "\n",
       "[54879 rows x 2 columns]"
      ]
     },
     "execution_count": 8,
     "metadata": {},
     "output_type": "execute_result"
    }
   ],
   "source": [
    "train"
   ]
  },
  {
   "cell_type": "code",
   "execution_count": 9,
   "metadata": {
    "colab": {
     "base_uri": "https://localhost:8080/",
     "height": 280
    },
    "executionInfo": {
     "elapsed": 9,
     "status": "ok",
     "timestamp": 1677206099157,
     "user": {
      "displayName": "김연규",
      "userId": "02025822898919377384"
     },
     "user_tz": -540
    },
    "id": "2bMflKVB2BcD",
    "outputId": "0ea84d43-030c-40c7-cc25-97ae07868f88"
   },
   "outputs": [
    {
     "data": {
      "text/plain": [
       "<AxesSubplot:>"
      ]
     },
     "execution_count": 9,
     "metadata": {},
     "output_type": "execute_result"
    },
    {
     "data": {
      "image/png": "[encoded data removed]",
      "text/plain": [
       "<Figure size 432x288 with 1 Axes>"
      ]
     },
     "metadata": {
      "needs_background": "light"
     },
     "output_type": "display_data"
    }
   ],
   "source": [
    "# 작가별 문장 수\n",
    "train['author'].value_counts().plot(kind='bar')"
   ]
  },
  {
   "cell_type": "code",
   "execution_count": 10,
   "metadata": {
    "colab": {
     "base_uri": "https://localhost:8080/",
     "height": 283
    },
    "executionInfo": {
     "elapsed": 337,
     "status": "ok",
     "timestamp": 1677206099487,
     "user": {
      "displayName": "김연규",
      "userId": "02025822898919377384"
     },
     "user_tz": -540
    },
    "id": "1WS45m_l2Bei",
    "outputId": "4b822f8a-4bc6-49d4-f5d6-c21767421519"
   },
   "outputs": [
    {
     "data": {
      "text/plain": [
       "<AxesSubplot:>"
      ]
     },
     "execution_count": 10,
     "metadata": {},
     "output_type": "execute_result"
    },
    {
     "data": {
      "image/png": "[encoded data removed]",
      "text/plain": [
       "<Figure size 432x288 with 1 Axes>"
      ]
     },
     "metadata": {
      "needs_background": "light"
     },
     "output_type": "display_data"
    }
   ],
   "source": [
    "# 문장 길이 분포\n",
    "train['text'].str.len().hist()"
   ]
  },
  {
   "cell_type": "code",
   "execution_count": 11,
   "metadata": {
    "colab": {
     "base_uri": "https://localhost:8080/",
     "height": 265
    },
    "executionInfo": {
     "elapsed": 792,
     "status": "ok",
     "timestamp": 1677206100276,
     "user": {
      "displayName": "김연규",
      "userId": "02025822898919377384"
     },
     "user_tz": -540
    },
    "id": "ain9JI4x2BhW",
    "outputId": "d69feb72-b041-42c1-b14e-d482062c686f"
   },
   "outputs": [
    {
     "data": {
      "image/png": "[encoded data removed]",
      "text/plain": [
       "<Figure size 432x288 with 1 Axes>"
      ]
     },
     "metadata": {
      "needs_background": "light"
     },
     "output_type": "display_data"
    }
   ],
   "source": [
    "# word level length (단어 기준 길이 분포)\n",
    "def plot_word_number_histogram(text):\n",
    "    text.str.split().\\\n",
    "        map(lambda x: len(x)).\\\n",
    "        hist()\n",
    "    #text.str.split().map(lambda x: len(x)).hist() 와 동일\n",
    "\n",
    "plot_word_number_histogram(train['text'])"
   ]
  },
  {
   "cell_type": "code",
   "execution_count": 12,
   "metadata": {
    "colab": {
     "base_uri": "https://localhost:8080/",
     "height": 269
    },
    "executionInfo": {
     "elapsed": 5264,
     "status": "ok",
     "timestamp": 1677206105535,
     "user": {
      "displayName": "김연규",
      "userId": "02025822898919377384"
     },
     "user_tz": -540
    },
    "id": "nJaze9mK2Bjc",
    "outputId": "a4dc7172-c05e-489d-ebd2-f5efddc15fcf"
   },
   "outputs": [
    {
     "data": {
      "image/png": "[encoded data removed]",
      "text/plain": [
       "<Figure size 432x288 with 1 Axes>"
      ]
     },
     "metadata": {
      "needs_background": "light"
     },
     "output_type": "display_data"
    }
   ],
   "source": [
    "# 평균 단어 길이\n",
    "def plot_word_length_histogram(text):\n",
    "    text.str.split().\\\n",
    "        apply(lambda x : [len(i) for i in x]). \\\n",
    "        map(lambda x: np.mean(x)).\\\n",
    "        hist()\n",
    "\n",
    "plot_word_length_histogram(train['text'])  "
   ]
  },
  {
   "cell_type": "markdown",
   "metadata": {
    "id": "4b0fK7G4Kio9"
   },
   "source": [
    "## Feature Engineering\n",
    "1. 메타 피쳐 - stopword 갯수, 단어갯수, 문장부호 갯수 등 텍스트에서 뽑아낸 피쳐라 할 수 있다.\n",
    "2. 텍스트 기반 피쳐 - 단어 등장 빈도수, word2vec 같이 문장 그 자체에서 추출한 피쳐라 볼 수 있다."
   ]
  },
  {
   "cell_type": "markdown",
   "metadata": {
    "id": "3lwhKbPGu2fe"
   },
   "source": [
    "### 1) 메타 피쳐"
   ]
  },
  {
   "cell_type": "code",
   "execution_count": null,
   "metadata": {
    "colab": {
     "base_uri": "https://localhost:8080/"
    },
    "executionInfo": {
     "elapsed": 626,
     "status": "ok",
     "timestamp": 1677231533391,
     "user": {
      "displayName": "김연규",
      "userId": "02025822898919377384"
     },
     "user_tz": -540
    },
    "id": "2KThFfbGxok_",
    "outputId": "14349413-a96b-4a3d-c9af-9d6edc0064f6",
    "scrolled": true
   },
   "outputs": [],
   "source": []
  },
  {
   "cell_type": "markdown",
   "metadata": {
    "id": "AVirQYAd1Awk"
   },
   "source": [
    "작가들의 특정 글쓰기 스타일이 문장에서 나타나는 특정 단어와 문장부호 빈도횟수와 관련이 깊을 것 같아 feature로 만들었다."
   ]
  },
  {
   "cell_type": "code",
   "execution_count": 13,
   "metadata": {
    "id": "GXG2WfiAykjj"
   },
   "outputs": [],
   "source": [
    "# 불용어(stopwords) : nltk 내장 목록보다 좋은 성능을 보인다.\n",
    "stopwords = [\"a\", \"about\", \"above\", \"across\", \"after\", \"afterwards\", \"again\", \"against\",\n",
    "             \"all\", \"almost\", \"alone\", \"along\", \"already\", \"also\", \"although\", \"always\",\n",
    "             \"am\", \"among\", \"amongst\", \"amoungst\", \"amount\", \"an\", \"and\", \"another\",\n",
    "             \"any\", \"anyhow\", \"anyone\", \"anything\", \"anyway\", \"anywhere\", \"are\",\n",
    "             \"around\", \"as\", \"at\", \"back\", \"be\", \"became\", \"because\", \"become\",\n",
    "             \"becomes\", \"becoming\", \"been\", \"before\", \"beforehand\", \"behind\", \"being\",\n",
    "             \"below\", \"beside\", \"besides\", \"between\", \"beyond\", \"bill\", \"both\",\n",
    "             \"bottom\", \"but\", \"by\", \"call\", \"can\", \"cannot\", \"cant\", \"co\", \"con\",\n",
    "             \"could\", \"couldnt\", \"cry\", \"de\", \"describe\", \"detail\", \"do\", \"done\",\n",
    "             \"down\", \"due\", \"during\", \"each\", \"eg\", \"eight\", \"either\", \"eleven\", \"else\",\n",
    "             \"elsewhere\", \"empty\", \"enough\", \"etc\", \"even\", \"ever\", \"every\", \"everyone\",\n",
    "             \"everything\", \"everywhere\", \"except\", \"few\", \"fifteen\", \"fifty\", \"fill\",\n",
    "             \"find\", \"fire\", \"first\", \"five\", \"for\", \"former\", \"formerly\", \"forty\",\n",
    "             \"found\", \"four\", \"from\", \"front\", \"full\", \"further\", \"get\", \"give\", \"go\",\n",
    "             \"had\", \"has\", \"hasnt\", \"have\", \"he\", \"hence\", \"her\", \"here\", \"hereafter\",\n",
    "             \"hereby\", \"herein\", \"hereupon\", \"hers\", \"herself\", \"him\", \"himself\", \"his\",\n",
    "             \"how\", \"however\", \"hundred\", \"i\", \"ie\", \"if\", \"in\", \"inc\", \"indeed\",\n",
    "             \"interest\", \"into\", \"is\", \"it\", \"its\", \"itself\", \"keep\", \"last\", \"latter\",\n",
    "             \"latterly\", \"least\", \"less\", \"ltd\", \"made\", \"many\", \"may\", \"me\",\n",
    "             \"meanwhile\", \"might\", \"mill\", \"mine\", \"more\", \"moreover\", \"most\", \"mostly\",\n",
    "             \"move\", \"much\", \"must\", \"my\", \"myself\", \"name\", \"namely\", \"neither\",\n",
    "             \"never\", \"nevertheless\", \"next\", \"nine\", \"no\", \"nobody\", \"none\", \"noone\",\n",
    "             \"nor\", \"not\", \"nothing\", \"now\", \"nowhere\", \"of\", \"off\", \"often\", \"on\",\n",
    "             \"once\", \"one\", \"only\", \"onto\", \"or\", \"other\", \"others\", \"otherwise\", \"our\",\n",
    "             \"ours\", \"ourselves\", \"out\", \"over\", \"own\", \"part\", \"per\", \"perhaps\",\n",
    "             \"please\", \"put\", \"rather\", \"re\", \"same\", \"see\", \"seem\", \"seemed\",\n",
    "             \"seeming\", \"seems\", \"serious\", \"several\", \"she\", \"should\", \"show\", \"side\",\n",
    "             \"since\", \"sincere\", \"six\", \"sixty\", \"so\", \"some\", \"somehow\", \"someone\",\n",
    "             \"something\", \"sometime\", \"sometimes\", \"somewhere\", \"still\", \"such\",\n",
    "             \"system\", \"take\", \"ten\", \"than\", \"that\", \"the\", \"their\", \"them\",\n",
    "             \"themselves\", \"then\", \"thence\", \"there\", \"thereafter\", \"thereby\",\n",
    "             \"therefore\", \"therein\", \"thereupon\", \"these\", \"they\", \"thick\", \"thin\",\n",
    "             \"third\", \"this\", \"those\", \"though\", \"three\", \"through\", \"throughout\",\n",
    "             \"thru\", \"thus\", \"to\", \"together\", \"too\", \"top\", \"toward\", \"towards\",\n",
    "             \"twelve\", \"twenty\", \"two\", \"un\", \"under\", \"until\", \"up\", \"upon\", \"us\",\n",
    "             \"very\", \"via\", \"was\", \"we\", \"well\", \"were\", \"what\", \"whatever\", \"when\",\n",
    "             \"whence\", \"whenever\", \"where\", \"whereafter\", \"whereas\", \"whereby\",\n",
    "             \"wherein\", \"whereupon\", \"wherever\", \"whether\", \"which\", \"while\", \"whither\",\n",
    "             \"who\", \"whoever\", \"whole\", \"whom\", \"whose\", \"why\", \"will\", \"with\",\n",
    "             \"within\", \"without\", \"would\", \"yet\", \"you\", \"your\", \"yours\", \"yourself\",\n",
    "             \"yourselves\"]"
   ]
  },
  {
   "cell_type": "code",
   "execution_count": 14,
   "metadata": {
    "id": "kE_ZI6pfpGhe"
   },
   "outputs": [],
   "source": [
    "# 단어 수(중복 포함)\n",
    "train[\"num_words\"] = train[\"text\"].apply(lambda x: len(str(x).split()))\n",
    "test[\"num_words\"] = test[\"text\"].apply(lambda x: len(str(x).split()))\n",
    "\n",
    "# 단어 수(중복 제거)\n",
    "train[\"num_unique_words\"] = train[\"text\"].apply(lambda x: len(set(str(x).split())))\n",
    "test[\"num_unique_words\"] = test[\"text\"].apply(lambda x: len(set(str(x).split())))\n",
    "\n",
    "# 글자 수\n",
    "train[\"num_chars\"] = train[\"text\"].apply(lambda x: len(str(x)))\n",
    "test[\"num_chars\"] = test[\"text\"].apply(lambda x: len(str(x)))\n",
    "\n",
    "# 불용어 수\n",
    "train[\"num_stopwords\"] = train[\"text\"].apply(lambda x: len([w for w in str(x).lower().split() if w in stopwords]))\n",
    "test[\"num_stopwords\"] = test[\"text\"].apply(lambda x: len([w for w in str(x).lower().split() if w in stopwords]))\n",
    "\n",
    "# 구두점(punctuation) 수\n",
    "import string\n",
    "train[\"num_punct\"] = train['text'].apply(lambda x: len([c for c in str(x) if c in string.punctuation]) )\n",
    "test[\"num_punct\"] = test['text'].apply(lambda x: len([c for c in str(x) if c in string.punctuation]) )\n",
    "\n",
    "# 대문자로만 이루어진 단어 수\n",
    "train[\"num_upper_words\"] = train[\"text\"].apply(lambda x: len([w for w in str(x).split() if w.isupper()]))\n",
    "test[\"num_upper_words\"] = test[\"text\"].apply(lambda x: len([w for w in str(x).split() if w.isupper()]))\n",
    "\n",
    "# 첫글자가 대문자인 단어 수\n",
    "train[\"num_words_title\"] = train[\"text\"].apply(lambda x: len([w for w in str(x).split() if w.istitle()]))\n",
    "test[\"num_words_title\"] = test[\"text\"].apply(lambda x: len([w for w in str(x).split() if w.istitle()]))\n",
    "\n",
    "# text 평균 길이\n",
    "train[\"mean_len_word\"] = train[\"text\"].apply(lambda x: np.mean([len(w) for w in str(x).split()]))\n",
    "test[\"mean_len_word\"] = test[\"text\"].apply(lambda x: np.mean([len(w) for w in str(x).split()]))"
   ]
  },
  {
   "cell_type": "code",
   "execution_count": 15,
   "metadata": {
    "id": "qImLEUKlyklm"
   },
   "outputs": [],
   "source": [
    "# 문장부호의 빈도수\n",
    "train[\",\"] = train[\"text\"].apply(lambda x: np.mean([len(w) for w in str(x).split(\",\")]))\n",
    "test[\",\"] = test[\"text\"].apply(lambda x: np.mean([len(w) for w in str(x).split(\",\")]))\n",
    "\n",
    "train[\";\"] = train[\"text\"].apply(lambda x: np.mean([len(w) for w in str(x).split(\";\")]))\n",
    "test[\";\"] = test[\"text\"].apply(lambda x: np.mean([len(w) for w in str(x).split(\";\")]))\n",
    "\n",
    "train['\\\"'] = train[\"text\"].apply(lambda x: np.mean([len(w) for w in str(x).split('\\\"')]))\n",
    "test['\\\"'] = test[\"text\"].apply(lambda x: np.mean([len(w) for w in str(x).split('\\\"')]))\n",
    "\n",
    "train[\"...\"] = train[\"text\"].apply(lambda x: np.mean([len(w) for w in str(x).split(\"...\")]))\n",
    "test[\"...\"] = test[\"text\"].apply(lambda x: np.mean([len(w) for w in str(x).split(\"...\")]))\n",
    "\n",
    "train[\"?\"] = train[\"text\"].apply(lambda x: np.mean([len(w) for w in str(x).split(\"?\")]))\n",
    "test[\"?\"] = test[\"text\"].apply(lambda x: np.mean([len(w) for w in str(x).split(\"?\")]))\n",
    "\n",
    "train[\"!\"] = train[\"text\"].apply(lambda x: np.mean([len(w) for w in str(x).split(\"!\")]))\n",
    "test[\"!\"] = test[\"text\"].apply(lambda x: np.mean([len(w) for w in str(x).split(\"!\")]))\n",
    "\n",
    "train[\".\"] = train[\"text\"].apply(lambda x: np.mean([len(w) for w in str(x).split(\".\")]))\n",
    "test[\".\"] = test[\"text\"].apply(lambda x: np.mean([len(w) for w in str(x).split(\".\")]))\n",
    "\n",
    "train[\":\"] = train[\"text\"].apply(lambda x: np.mean([len(w) for w in str(x).split(\":\")]))\n",
    "test[\":\"] = test[\"text\"].apply(lambda x: np.mean([len(w) for w in str(x).split(\":\")]))\n",
    "\n",
    "train[\"*\"] =  train[\"text\"].apply(lambda x: np.mean([len(w) for w in str(x).split(\"*\")]))\n",
    "test[\"*\"] = test[\"text\"].apply(lambda x: np.mean([len(w) for w in str(x).split(\"*\")]))\n",
    "\n",
    "train[\"-\"] = train[\"text\"].apply(lambda x: np.mean([len(w) for w in str(x).split(\"-\")]))\n",
    "test[\"-\"] = test[\"text\"].apply(lambda x: np.mean([len(w) for w in str(x).split(\"-\")]))"
   ]
  },
  {
   "cell_type": "code",
   "execution_count": 16,
   "metadata": {
    "id": "gol911O4ykn0"
   },
   "outputs": [],
   "source": [
    "# 자주 사용되는 단어들의 빈도수\n",
    "train[\"n_The\"] = train[\"text\"].apply(lambda x: np.mean([len(w) for w in str(x).split(\"The \")]))\n",
    "test[\"n_The\"] = test[\"text\"].apply(lambda x: np.mean([len(w) for w in str(x).split(\"The \")]))\n",
    "\n",
    "train[\"n_a\"] = train[\"text\"].apply(lambda x: np.mean([len(w) for w in str(x).split(\"a \")]))\n",
    "test[\"n_a\"] = test[\"text\"].apply(lambda x: np.mean([len(w) for w in str(x).split(\"a \")]))\n",
    "\n",
    "train[\"n_I\"] = train[\"text\"].apply(lambda x: np.mean([len(w) for w in str(x).split(\"I \")]))\n",
    "test[\"n_I\"] = test[\"text\"].apply(lambda x: np.mean([len(w) for w in str(x).split(\"I \")]))\n",
    "\n",
    "train[\"n_It\"] = train[\"text\"].apply(lambda x: np.mean([len(w) for w in str(x).split(\"It \")]))\n",
    "test[\"n_It\"] = test[\"text\"].apply(lambda x: np.mean([len(w) for w in str(x).split(\"It \")]))\n",
    "\n",
    "train[\"n_He\"] = train[\"text\"].apply(lambda x: np.mean([len(w) for w in str(x).split(\"He \")]))\n",
    "test[\"n_He\"] = test[\"text\"].apply(lambda x: np.mean([len(w) for w in str(x).split(\"He \")]))\n",
    "\n",
    "train[\"n_She\"] = train[\"text\"].apply(lambda x: np.mean([len(w) for w in str(x).split(\"She \")]))\n",
    "test[\"n_She\"] = test[\"text\"].apply(lambda x: np.mean([len(w) for w in str(x).split(\"She \")]))\n",
    "\n",
    "train[\"n_Me\"] = train[\"text\"].apply(lambda x: np.mean([len(w) for w in str(x).split(\"Me \")]))\n",
    "test[\"n_Me\"] = test[\"text\"].apply(lambda x: np.mean([len(w) for w in str(x).split(\"Me \")]))\n",
    "\n",
    "train[\"n_You\"] = train[\"text\"].apply(lambda x: np.mean([len(w) for w in str(x).split(\"You \")]))\n",
    "test[\"n_You\"] = test[\"text\"].apply(lambda x: np.mean([len(w) for w in str(x).split(\"You \")]))"
   ]
  },
  {
   "cell_type": "code",
   "execution_count": 17,
   "metadata": {
    "id": "W64uaGwhykrt"
   },
   "outputs": [],
   "source": [
    "\n",
    "\n",
    "X_train = train.drop(['text','author'], axis=1)\n",
    "X_test = test.drop(['text'], axis=1)"
   ]
  },
  {
   "cell_type": "code",
   "execution_count": null,
   "metadata": {},
   "outputs": [],
   "source": []
  },
  {
   "cell_type": "markdown",
   "metadata": {
    "id": "NlmlCqTkLKas"
   },
   "source": [
    "지금까지 생성한 피쳐들을 XGBoost와 Random Forest로 평가"
   ]
  },
  {
   "cell_type": "code",
   "execution_count": 18,
   "metadata": {
    "id": "t8oeJKN5iiLK"
   },
   "outputs": [],
   "source": [
    "from sklearn.model_selection import cross_val_score\n",
    "#from bayes_opt import BayesianOptimization\n",
    "#from scipy import stats\n",
    "\n",
    "import sklearn.model_selection as model_selection\n",
    "import sklearn.metrics as metrics\n",
    "\n",
    "from sklearn.ensemble import RandomForestClassifier\n",
    "import xgboost as xgb\n",
    "from xgboost import XGBClassifier\n",
    "\n",
    "import warnings\n",
    "warnings.filterwarnings('ignore')"
   ]
  },
  {
   "cell_type": "markdown",
   "metadata": {
    "id": "5UpgHP_BSIWX"
   },
   "source": [
    "1. XGBoost"
   ]
  },
  {
   "cell_type": "code",
   "execution_count": 19,
   "metadata": {
    "id": "W5GJGB7nLEY9"
   },
   "outputs": [],
   "source": [
    "def runXGB(X_train, y_train, X_test, y_test=None, X_test2=None, seed_val=0, child=1, colsample=0.3):\n",
    "    param = {}\n",
    "    param['objective'] = 'multi:softprob'\n",
    "    param['eta'] = 0.1\n",
    "    param['max_depth'] = 3\n",
    "    param['silent'] = 1\n",
    "    param['num_class'] = 5\n",
    "    param['eval_metric'] = \"mlogloss\"\n",
    "    param['min_child_weight'] = child\n",
    "    param['subsample'] = 0.8\n",
    "    param['colsample_bytree'] = colsample\n",
    "    param['seed'] = seed_val\n",
    "    num_rounds = 2000\n",
    "\n",
    "    plst = list(param.items())\n",
    "    xgtrain = xgb.DMatrix(X_train, y_train)\n",
    "\n",
    "    if y_test is not None:\n",
    "        xgtest = xgb.DMatrix(X_test, y_test)\n",
    "        watchlist = [ (xgtrain,'train'), (xgtest, 'test') ]\n",
    "        model = xgb.train(plst, xgtrain, num_rounds, watchlist, early_stopping_rounds=50, verbose_eval=20)\n",
    "    else:\n",
    "        xgtest = xgb.DMatrix(X_test)\n",
    "        model = xgb.train(plst, xgtrain, num_rounds)\n",
    "\n",
    "    y_pred = model.predict(xgtest, ntree_limit = model.best_ntree_limit)\n",
    "    if X_test2 is not None:\n",
    "        xgtest2 = xgb.DMatrix(X_test2)\n",
    "        y_pred2 = model.predict(xgtest2, ntree_limit = model.best_ntree_limit)\n",
    "    return y_pred, y_pred2, model"
   ]
  },
  {
   "cell_type": "code",
   "execution_count": 20,
   "metadata": {},
   "outputs": [
    {
     "data": {
      "text/html": [
       "<div>\n",
       "<style scoped>\n",
       "    .dataframe tbody tr th:only-of-type {\n",
       "        vertical-align: middle;\n",
       "    }\n",
       "\n",
       "    .dataframe tbody tr th {\n",
       "        vertical-align: top;\n",
       "    }\n",
       "\n",
       "    .dataframe thead th {\n",
       "        text-align: right;\n",
       "    }\n",
       "</style>\n",
       "<table border=\"1\" class=\"dataframe\">\n",
       "  <thead>\n",
       "    <tr style=\"text-align: right;\">\n",
       "      <th></th>\n",
       "      <th>num_words</th>\n",
       "      <th>num_unique_words</th>\n",
       "      <th>num_chars</th>\n",
       "      <th>num_stopwords</th>\n",
       "      <th>num_punct</th>\n",
       "      <th>num_upper_words</th>\n",
       "      <th>num_words_title</th>\n",
       "      <th>mean_len_word</th>\n",
       "      <th>,</th>\n",
       "      <th>;</th>\n",
       "      <th>...</th>\n",
       "      <th>*</th>\n",
       "      <th>-</th>\n",
       "      <th>n_The</th>\n",
       "      <th>n_a</th>\n",
       "      <th>n_I</th>\n",
       "      <th>n_It</th>\n",
       "      <th>n_He</th>\n",
       "      <th>n_She</th>\n",
       "      <th>n_Me</th>\n",
       "      <th>n_You</th>\n",
       "    </tr>\n",
       "  </thead>\n",
       "  <tbody>\n",
       "    <tr>\n",
       "      <th>0</th>\n",
       "      <td>46</td>\n",
       "      <td>39</td>\n",
       "      <td>240</td>\n",
       "      <td>27</td>\n",
       "      <td>8</td>\n",
       "      <td>0</td>\n",
       "      <td>4</td>\n",
       "      <td>4.239130</td>\n",
       "      <td>47.200000</td>\n",
       "      <td>119.500000</td>\n",
       "      <td>...</td>\n",
       "      <td>240.0</td>\n",
       "      <td>240.0</td>\n",
       "      <td>118.000000</td>\n",
       "      <td>240.0</td>\n",
       "      <td>240.000000</td>\n",
       "      <td>240.0</td>\n",
       "      <td>118.5</td>\n",
       "      <td>240.0</td>\n",
       "      <td>240.0</td>\n",
       "      <td>240.0</td>\n",
       "    </tr>\n",
       "    <tr>\n",
       "      <th>1</th>\n",
       "      <td>7</td>\n",
       "      <td>7</td>\n",
       "      <td>38</td>\n",
       "      <td>2</td>\n",
       "      <td>2</td>\n",
       "      <td>1</td>\n",
       "      <td>2</td>\n",
       "      <td>4.571429</td>\n",
       "      <td>18.500000</td>\n",
       "      <td>38.000000</td>\n",
       "      <td>...</td>\n",
       "      <td>38.0</td>\n",
       "      <td>38.0</td>\n",
       "      <td>38.000000</td>\n",
       "      <td>38.0</td>\n",
       "      <td>18.000000</td>\n",
       "      <td>38.0</td>\n",
       "      <td>38.0</td>\n",
       "      <td>38.0</td>\n",
       "      <td>38.0</td>\n",
       "      <td>38.0</td>\n",
       "    </tr>\n",
       "    <tr>\n",
       "      <th>2</th>\n",
       "      <td>57</td>\n",
       "      <td>50</td>\n",
       "      <td>320</td>\n",
       "      <td>28</td>\n",
       "      <td>9</td>\n",
       "      <td>0</td>\n",
       "      <td>4</td>\n",
       "      <td>4.614035</td>\n",
       "      <td>44.857143</td>\n",
       "      <td>320.000000</td>\n",
       "      <td>...</td>\n",
       "      <td>320.0</td>\n",
       "      <td>320.0</td>\n",
       "      <td>320.000000</td>\n",
       "      <td>159.0</td>\n",
       "      <td>320.000000</td>\n",
       "      <td>320.0</td>\n",
       "      <td>320.0</td>\n",
       "      <td>158.0</td>\n",
       "      <td>320.0</td>\n",
       "      <td>320.0</td>\n",
       "    </tr>\n",
       "    <tr>\n",
       "      <th>3</th>\n",
       "      <td>58</td>\n",
       "      <td>49</td>\n",
       "      <td>319</td>\n",
       "      <td>27</td>\n",
       "      <td>18</td>\n",
       "      <td>0</td>\n",
       "      <td>7</td>\n",
       "      <td>4.517241</td>\n",
       "      <td>31.000000</td>\n",
       "      <td>105.666667</td>\n",
       "      <td>...</td>\n",
       "      <td>319.0</td>\n",
       "      <td>319.0</td>\n",
       "      <td>103.666667</td>\n",
       "      <td>158.5</td>\n",
       "      <td>319.000000</td>\n",
       "      <td>319.0</td>\n",
       "      <td>158.0</td>\n",
       "      <td>319.0</td>\n",
       "      <td>319.0</td>\n",
       "      <td>319.0</td>\n",
       "    </tr>\n",
       "    <tr>\n",
       "      <th>4</th>\n",
       "      <td>39</td>\n",
       "      <td>36</td>\n",
       "      <td>228</td>\n",
       "      <td>16</td>\n",
       "      <td>13</td>\n",
       "      <td>0</td>\n",
       "      <td>4</td>\n",
       "      <td>4.871795</td>\n",
       "      <td>44.800000</td>\n",
       "      <td>113.500000</td>\n",
       "      <td>...</td>\n",
       "      <td>228.0</td>\n",
       "      <td>228.0</td>\n",
       "      <td>228.000000</td>\n",
       "      <td>228.0</td>\n",
       "      <td>228.000000</td>\n",
       "      <td>228.0</td>\n",
       "      <td>228.0</td>\n",
       "      <td>228.0</td>\n",
       "      <td>228.0</td>\n",
       "      <td>228.0</td>\n",
       "    </tr>\n",
       "    <tr>\n",
       "      <th>...</th>\n",
       "      <td>...</td>\n",
       "      <td>...</td>\n",
       "      <td>...</td>\n",
       "      <td>...</td>\n",
       "      <td>...</td>\n",
       "      <td>...</td>\n",
       "      <td>...</td>\n",
       "      <td>...</td>\n",
       "      <td>...</td>\n",
       "      <td>...</td>\n",
       "      <td>...</td>\n",
       "      <td>...</td>\n",
       "      <td>...</td>\n",
       "      <td>...</td>\n",
       "      <td>...</td>\n",
       "      <td>...</td>\n",
       "      <td>...</td>\n",
       "      <td>...</td>\n",
       "      <td>...</td>\n",
       "      <td>...</td>\n",
       "      <td>...</td>\n",
       "    </tr>\n",
       "    <tr>\n",
       "      <th>54874</th>\n",
       "      <td>15</td>\n",
       "      <td>14</td>\n",
       "      <td>84</td>\n",
       "      <td>4</td>\n",
       "      <td>5</td>\n",
       "      <td>1</td>\n",
       "      <td>4</td>\n",
       "      <td>4.666667</td>\n",
       "      <td>41.500000</td>\n",
       "      <td>84.000000</td>\n",
       "      <td>...</td>\n",
       "      <td>84.0</td>\n",
       "      <td>84.0</td>\n",
       "      <td>84.000000</td>\n",
       "      <td>84.0</td>\n",
       "      <td>41.000000</td>\n",
       "      <td>84.0</td>\n",
       "      <td>84.0</td>\n",
       "      <td>84.0</td>\n",
       "      <td>84.0</td>\n",
       "      <td>84.0</td>\n",
       "    </tr>\n",
       "    <tr>\n",
       "      <th>54875</th>\n",
       "      <td>18</td>\n",
       "      <td>17</td>\n",
       "      <td>94</td>\n",
       "      <td>12</td>\n",
       "      <td>2</td>\n",
       "      <td>1</td>\n",
       "      <td>1</td>\n",
       "      <td>4.277778</td>\n",
       "      <td>46.500000</td>\n",
       "      <td>94.000000</td>\n",
       "      <td>...</td>\n",
       "      <td>94.0</td>\n",
       "      <td>94.0</td>\n",
       "      <td>94.000000</td>\n",
       "      <td>94.0</td>\n",
       "      <td>46.000000</td>\n",
       "      <td>94.0</td>\n",
       "      <td>94.0</td>\n",
       "      <td>94.0</td>\n",
       "      <td>94.0</td>\n",
       "      <td>94.0</td>\n",
       "    </tr>\n",
       "    <tr>\n",
       "      <th>54876</th>\n",
       "      <td>8</td>\n",
       "      <td>8</td>\n",
       "      <td>59</td>\n",
       "      <td>2</td>\n",
       "      <td>7</td>\n",
       "      <td>1</td>\n",
       "      <td>1</td>\n",
       "      <td>6.375000</td>\n",
       "      <td>14.000000</td>\n",
       "      <td>59.000000</td>\n",
       "      <td>...</td>\n",
       "      <td>59.0</td>\n",
       "      <td>29.0</td>\n",
       "      <td>59.000000</td>\n",
       "      <td>59.0</td>\n",
       "      <td>59.000000</td>\n",
       "      <td>59.0</td>\n",
       "      <td>59.0</td>\n",
       "      <td>59.0</td>\n",
       "      <td>59.0</td>\n",
       "      <td>59.0</td>\n",
       "    </tr>\n",
       "    <tr>\n",
       "      <th>54877</th>\n",
       "      <td>8</td>\n",
       "      <td>7</td>\n",
       "      <td>39</td>\n",
       "      <td>4</td>\n",
       "      <td>1</td>\n",
       "      <td>0</td>\n",
       "      <td>1</td>\n",
       "      <td>4.000000</td>\n",
       "      <td>39.000000</td>\n",
       "      <td>39.000000</td>\n",
       "      <td>...</td>\n",
       "      <td>39.0</td>\n",
       "      <td>39.0</td>\n",
       "      <td>39.000000</td>\n",
       "      <td>39.0</td>\n",
       "      <td>39.000000</td>\n",
       "      <td>39.0</td>\n",
       "      <td>39.0</td>\n",
       "      <td>39.0</td>\n",
       "      <td>39.0</td>\n",
       "      <td>39.0</td>\n",
       "    </tr>\n",
       "    <tr>\n",
       "      <th>54878</th>\n",
       "      <td>16</td>\n",
       "      <td>15</td>\n",
       "      <td>80</td>\n",
       "      <td>9</td>\n",
       "      <td>4</td>\n",
       "      <td>2</td>\n",
       "      <td>4</td>\n",
       "      <td>4.062500</td>\n",
       "      <td>19.250000</td>\n",
       "      <td>80.000000</td>\n",
       "      <td>...</td>\n",
       "      <td>80.0</td>\n",
       "      <td>80.0</td>\n",
       "      <td>80.000000</td>\n",
       "      <td>80.0</td>\n",
       "      <td>25.333333</td>\n",
       "      <td>38.5</td>\n",
       "      <td>80.0</td>\n",
       "      <td>80.0</td>\n",
       "      <td>80.0</td>\n",
       "      <td>80.0</td>\n",
       "    </tr>\n",
       "  </tbody>\n",
       "</table>\n",
       "<p>54879 rows × 26 columns</p>\n",
       "</div>"
      ],
      "text/plain": [
       "       num_words  num_unique_words  num_chars  num_stopwords  num_punct  \\\n",
       "0             46                39        240             27          8   \n",
       "1              7                 7         38              2          2   \n",
       "2             57                50        320             28          9   \n",
       "3             58                49        319             27         18   \n",
       "4             39                36        228             16         13   \n",
       "...          ...               ...        ...            ...        ...   \n",
       "54874         15                14         84              4          5   \n",
       "54875         18                17         94             12          2   \n",
       "54876          8                 8         59              2          7   \n",
       "54877          8                 7         39              4          1   \n",
       "54878         16                15         80              9          4   \n",
       "\n",
       "       num_upper_words  num_words_title  mean_len_word          ,           ;  \\\n",
       "0                    0                4       4.239130  47.200000  119.500000   \n",
       "1                    1                2       4.571429  18.500000   38.000000   \n",
       "2                    0                4       4.614035  44.857143  320.000000   \n",
       "3                    0                7       4.517241  31.000000  105.666667   \n",
       "4                    0                4       4.871795  44.800000  113.500000   \n",
       "...                ...              ...            ...        ...         ...   \n",
       "54874                1                4       4.666667  41.500000   84.000000   \n",
       "54875                1                1       4.277778  46.500000   94.000000   \n",
       "54876                1                1       6.375000  14.000000   59.000000   \n",
       "54877                0                1       4.000000  39.000000   39.000000   \n",
       "54878                2                4       4.062500  19.250000   80.000000   \n",
       "\n",
       "       ...      *      -       n_The    n_a         n_I   n_It   n_He  n_She  \\\n",
       "0      ...  240.0  240.0  118.000000  240.0  240.000000  240.0  118.5  240.0   \n",
       "1      ...   38.0   38.0   38.000000   38.0   18.000000   38.0   38.0   38.0   \n",
       "2      ...  320.0  320.0  320.000000  159.0  320.000000  320.0  320.0  158.0   \n",
       "3      ...  319.0  319.0  103.666667  158.5  319.000000  319.0  158.0  319.0   \n",
       "4      ...  228.0  228.0  228.000000  228.0  228.000000  228.0  228.0  228.0   \n",
       "...    ...    ...    ...         ...    ...         ...    ...    ...    ...   \n",
       "54874  ...   84.0   84.0   84.000000   84.0   41.000000   84.0   84.0   84.0   \n",
       "54875  ...   94.0   94.0   94.000000   94.0   46.000000   94.0   94.0   94.0   \n",
       "54876  ...   59.0   29.0   59.000000   59.0   59.000000   59.0   59.0   59.0   \n",
       "54877  ...   39.0   39.0   39.000000   39.0   39.000000   39.0   39.0   39.0   \n",
       "54878  ...   80.0   80.0   80.000000   80.0   25.333333   38.5   80.0   80.0   \n",
       "\n",
       "        n_Me  n_You  \n",
       "0      240.0  240.0  \n",
       "1       38.0   38.0  \n",
       "2      320.0  320.0  \n",
       "3      319.0  319.0  \n",
       "4      228.0  228.0  \n",
       "...      ...    ...  \n",
       "54874   84.0   84.0  \n",
       "54875   94.0   94.0  \n",
       "54876   59.0   59.0  \n",
       "54877   39.0   39.0  \n",
       "54878   80.0   80.0  \n",
       "\n",
       "[54879 rows x 26 columns]"
      ]
     },
     "execution_count": 20,
     "metadata": {},
     "output_type": "execute_result"
    }
   ],
   "source": [
    "X_train"
   ]
  },
  {
   "cell_type": "code",
   "execution_count": 21,
   "metadata": {},
   "outputs": [],
   "source": [
    "xgtest2 = xgb.DMatrix(X_test)"
   ]
  },
  {
   "cell_type": "code",
   "execution_count": 22,
   "metadata": {},
   "outputs": [
    {
     "data": {
      "text/plain": [
       "['num_words',\n",
       " 'num_unique_words',\n",
       " 'num_chars',\n",
       " 'num_stopwords',\n",
       " 'num_punct',\n",
       " 'num_upper_words',\n",
       " 'num_words_title',\n",
       " 'mean_len_word',\n",
       " ',',\n",
       " ';',\n",
       " '\"',\n",
       " '...',\n",
       " '?',\n",
       " '!',\n",
       " '.',\n",
       " ':',\n",
       " '*',\n",
       " '-',\n",
       " 'n_The',\n",
       " 'n_a',\n",
       " 'n_I',\n",
       " 'n_It',\n",
       " 'n_He',\n",
       " 'n_She',\n",
       " 'n_Me',\n",
       " 'n_You']"
      ]
     },
     "execution_count": 22,
     "metadata": {},
     "output_type": "execute_result"
    }
   ],
   "source": [
    "xgtest2.feature_names"
   ]
  },
  {
   "cell_type": "code",
   "execution_count": 27,
   "metadata": {},
   "outputs": [],
   "source": [
    "y_train = train['author']"
   ]
  },
  {
   "cell_type": "code",
   "execution_count": 28,
   "metadata": {
    "colab": {
     "base_uri": "https://localhost:8080/"
    },
    "executionInfo": {
     "elapsed": 335256,
     "status": "ok",
     "timestamp": 1677306451264,
     "user": {
      "displayName": "김연규",
      "userId": "02025822898919377384"
     },
     "user_tz": -540
    },
    "id": "eeFxIUXhNhXq",
    "outputId": "dc4d14e3-f369-480c-aa4f-50e92bc65550",
    "scrolled": true
   },
   "outputs": [
    {
     "name": "stdout",
     "output_type": "stream",
     "text": [
      "[19:18:45] WARNING: C:/Users/Administrator/workspace/xgboost-win64_release_1.5.1/src/learner.cc:576: \n",
      "Parameters: { \"silent\" } might not be used.\n",
      "\n",
      "  This could be a false alarm, with some parameters getting used by language bindings but\n",
      "  then being mistakenly passed down to XGBoost core, or some parameter actually being used\n",
      "  but getting flagged wrongly here. Please open an issue if you find any such cases.\n",
      "\n",
      "\n",
      "[0]\ttrain-mlogloss:1.59780\ttest-mlogloss:1.59889\n",
      "[20]\ttrain-mlogloss:1.47667\ttest-mlogloss:1.48593\n",
      "[40]\ttrain-mlogloss:1.42861\ttest-mlogloss:1.44182\n",
      "[60]\ttrain-mlogloss:1.39490\ttest-mlogloss:1.41129\n",
      "[80]\ttrain-mlogloss:1.37317\ttest-mlogloss:1.39205\n",
      "[100]\ttrain-mlogloss:1.35452\ttest-mlogloss:1.37567\n",
      "[120]\ttrain-mlogloss:1.33893\ttest-mlogloss:1.36248\n",
      "[140]\ttrain-mlogloss:1.32578\ttest-mlogloss:1.35202\n",
      "[160]\ttrain-mlogloss:1.31476\ttest-mlogloss:1.34319\n",
      "[180]\ttrain-mlogloss:1.30493\ttest-mlogloss:1.33575\n",
      "[200]\ttrain-mlogloss:1.29621\ttest-mlogloss:1.32913\n",
      "[220]\ttrain-mlogloss:1.28865\ttest-mlogloss:1.32341\n",
      "[240]\ttrain-mlogloss:1.28092\ttest-mlogloss:1.31809\n",
      "[260]\ttrain-mlogloss:1.27353\ttest-mlogloss:1.31270\n",
      "[280]\ttrain-mlogloss:1.26715\ttest-mlogloss:1.30876\n",
      "[300]\ttrain-mlogloss:1.26132\ttest-mlogloss:1.30523\n",
      "[320]\ttrain-mlogloss:1.25578\ttest-mlogloss:1.30193\n",
      "[340]\ttrain-mlogloss:1.25066\ttest-mlogloss:1.29901\n",
      "[360]\ttrain-mlogloss:1.24589\ttest-mlogloss:1.29619\n",
      "[380]\ttrain-mlogloss:1.24148\ttest-mlogloss:1.29376\n",
      "[400]\ttrain-mlogloss:1.23711\ttest-mlogloss:1.29149\n",
      "[420]\ttrain-mlogloss:1.23307\ttest-mlogloss:1.28969\n",
      "[440]\ttrain-mlogloss:1.22895\ttest-mlogloss:1.28772\n",
      "[460]\ttrain-mlogloss:1.22505\ttest-mlogloss:1.28582\n",
      "[480]\ttrain-mlogloss:1.22131\ttest-mlogloss:1.28415\n",
      "[500]\ttrain-mlogloss:1.21745\ttest-mlogloss:1.28222\n",
      "[520]\ttrain-mlogloss:1.21402\ttest-mlogloss:1.28083\n",
      "[540]\ttrain-mlogloss:1.21054\ttest-mlogloss:1.27935\n",
      "[560]\ttrain-mlogloss:1.20707\ttest-mlogloss:1.27802\n",
      "[580]\ttrain-mlogloss:1.20378\ttest-mlogloss:1.27680\n",
      "[600]\ttrain-mlogloss:1.20054\ttest-mlogloss:1.27552\n",
      "[620]\ttrain-mlogloss:1.19751\ttest-mlogloss:1.27474\n",
      "[640]\ttrain-mlogloss:1.19428\ttest-mlogloss:1.27361\n",
      "[660]\ttrain-mlogloss:1.19113\ttest-mlogloss:1.27268\n",
      "[680]\ttrain-mlogloss:1.18819\ttest-mlogloss:1.27214\n",
      "[700]\ttrain-mlogloss:1.18521\ttest-mlogloss:1.27101\n",
      "[720]\ttrain-mlogloss:1.18213\ttest-mlogloss:1.27005\n",
      "[740]\ttrain-mlogloss:1.17947\ttest-mlogloss:1.26924\n",
      "[760]\ttrain-mlogloss:1.17674\ttest-mlogloss:1.26859\n",
      "[780]\ttrain-mlogloss:1.17402\ttest-mlogloss:1.26766\n",
      "[800]\ttrain-mlogloss:1.17146\ttest-mlogloss:1.26703\n",
      "[820]\ttrain-mlogloss:1.16876\ttest-mlogloss:1.26630\n",
      "[840]\ttrain-mlogloss:1.16616\ttest-mlogloss:1.26598\n",
      "[860]\ttrain-mlogloss:1.16352\ttest-mlogloss:1.26542\n",
      "[880]\ttrain-mlogloss:1.16077\ttest-mlogloss:1.26474\n",
      "[900]\ttrain-mlogloss:1.15832\ttest-mlogloss:1.26423\n",
      "[920]\ttrain-mlogloss:1.15576\ttest-mlogloss:1.26372\n",
      "[940]\ttrain-mlogloss:1.15335\ttest-mlogloss:1.26318\n",
      "[960]\ttrain-mlogloss:1.15098\ttest-mlogloss:1.26290\n",
      "[980]\ttrain-mlogloss:1.14851\ttest-mlogloss:1.26264\n",
      "[1000]\ttrain-mlogloss:1.14629\ttest-mlogloss:1.26222\n",
      "[1020]\ttrain-mlogloss:1.14400\ttest-mlogloss:1.26198\n",
      "[1040]\ttrain-mlogloss:1.14172\ttest-mlogloss:1.26168\n",
      "[1060]\ttrain-mlogloss:1.13943\ttest-mlogloss:1.26132\n",
      "[1080]\ttrain-mlogloss:1.13704\ttest-mlogloss:1.26071\n",
      "[1100]\ttrain-mlogloss:1.13474\ttest-mlogloss:1.26042\n",
      "[1120]\ttrain-mlogloss:1.13260\ttest-mlogloss:1.26006\n",
      "[1140]\ttrain-mlogloss:1.13039\ttest-mlogloss:1.26002\n",
      "[1160]\ttrain-mlogloss:1.12824\ttest-mlogloss:1.25971\n",
      "[1180]\ttrain-mlogloss:1.12627\ttest-mlogloss:1.25960\n",
      "[1200]\ttrain-mlogloss:1.12417\ttest-mlogloss:1.25928\n",
      "[1220]\ttrain-mlogloss:1.12193\ttest-mlogloss:1.25912\n",
      "[1240]\ttrain-mlogloss:1.11979\ttest-mlogloss:1.25891\n",
      "[1260]\ttrain-mlogloss:1.11768\ttest-mlogloss:1.25856\n",
      "[1280]\ttrain-mlogloss:1.11567\ttest-mlogloss:1.25845\n",
      "[1300]\ttrain-mlogloss:1.11351\ttest-mlogloss:1.25802\n",
      "[1320]\ttrain-mlogloss:1.11140\ttest-mlogloss:1.25813\n",
      "[1340]\ttrain-mlogloss:1.10938\ttest-mlogloss:1.25804\n",
      "[1360]\ttrain-mlogloss:1.10735\ttest-mlogloss:1.25784\n",
      "[1380]\ttrain-mlogloss:1.10539\ttest-mlogloss:1.25798\n",
      "[1400]\ttrain-mlogloss:1.10353\ttest-mlogloss:1.25799\n",
      "[1408]\ttrain-mlogloss:1.10276\ttest-mlogloss:1.25785\n",
      "cv scores :  [1.25783447615134]\n"
     ]
    }
   ],
   "source": [
    "kf = model_selection.KFold(n_splits=5, shuffle=True, random_state=2017)\n",
    "cv_scores = []\n",
    "pred_full_test = 0\n",
    "pred_train = np.zeros([train.shape[0], 5])\n",
    "for dev_idx, val_idx in kf.split(X_train):\n",
    "    dev_X, val_X = X_train.loc[dev_idx], X_train.loc[val_idx]\n",
    "    dev_y, val_y = y_train[dev_idx], y_train[val_idx]\n",
    "    pred_val_y, pred_test_y, model = runXGB(dev_X, dev_y, val_X, val_y, X_test, seed_val=0)\n",
    "    pred_full_test = pred_full_test + pred_test_y\n",
    "    pred_train[val_idx,:] = pred_val_y\n",
    "    cv_scores.append(metrics.log_loss(val_y, pred_val_y))\n",
    "    break\n",
    "print(\"cv scores : \", cv_scores)"
   ]
  },
  {
   "cell_type": "code",
   "execution_count": 29,
   "metadata": {
    "colab": {
     "base_uri": "https://localhost:8080/",
     "height": 730
    },
    "executionInfo": {
     "elapsed": 1294,
     "status": "ok",
     "timestamp": 1677306790235,
     "user": {
      "displayName": "김연규",
      "userId": "02025822898919377384"
     },
     "user_tz": -540
    },
    "id": "XqvTl-gWNhe3",
    "outputId": "cb05306b-a7c8-47fe-e2a4-7919f896378e"
   },
   "outputs": [
    {
     "data": {
      "image/png": "[encoded data removed]",
      "text/plain": [
       "<Figure size 864x864 with 1 Axes>"
      ]
     },
     "metadata": {
      "needs_background": "light"
     },
     "output_type": "display_data"
    }
   ],
   "source": [
    "# 피쳐 중요도 확인\n",
    "f, ax = plt.subplots(figsize=(12,12))\n",
    "xgb.plot_importance(model, max_num_features=50, height=0.8, ax=ax)\n",
    "plt.show()"
   ]
  },
  {
   "cell_type": "markdown",
   "metadata": {
    "id": "46D5rm9-Ruoe"
   },
   "source": [
    "마침표의 개수, 평균 단어 길이, 콤마의 개수 3개가 가장 중요한 것을 알 수 있다."
   ]
  },
  {
   "cell_type": "markdown",
   "metadata": {
    "id": "O5CO95fEqR3B"
   },
   "source": [
    "### 2) 텍스트 기반 피쳐\n",
    "#### TF-IDF(term frequency-inverse document frequency)\n",
    "- 정의: 코퍼스(corpus, 문서집합)에서 한 단어가 얼마나 중요한지를 수치적으로 나타낸 가중치.\n",
    "- TF-IDF는 TF와 IDF의 곱으로, 적절하게 조합하여 사용한다.\n",
    "- 한 문서에서 단어가 등장하는 빈도가 높을수록 커지고, 반대로 코퍼스에서 해당 단어를 포함하는 문서가 많을수록 반비례해서 작아진다.\n",
    "\n",
    "----> 전처리 및 모델링 결과 tf-idf 방식이 simple count vect 방식에 비해 더 좋은 결과를 보였기 때문에 tf-idf 방식 위주로 생성했다."
   ]
  },
  {
   "cell_type": "code",
   "execution_count": 30,
   "metadata": {},
   "outputs": [],
   "source": [
    "y_train = train['author']"
   ]
  },
  {
   "cell_type": "code",
   "execution_count": 31,
   "metadata": {
    "id": "UQn2EYeddhDv"
   },
   "outputs": [],
   "source": [
    "from sklearn.feature_extraction.text import TfidfVectorizer\n",
    "\n",
    "tfidf_vec = TfidfVectorizer(stop_words='english', ngram_range=(1,3))\n",
    "full_tfidf = tfidf_vec.fit_transform(train['text'].values.tolist() + test['text'].values.tolist())\n",
    "train_tfidf = tfidf_vec.transform(train['text'].values.tolist())\n",
    "test_tfidf = tfidf_vec.transform(test['text'].values.tolist())"
   ]
  },
  {
   "cell_type": "code",
   "execution_count": 32,
   "metadata": {
    "id": "qJKis8cqdhTs"
   },
   "outputs": [],
   "source": [
    "from sklearn.decomposition import TruncatedSVD\n",
    "from sklearn.calibration import CalibratedClassifierCV\n",
    "from sklearn.naive_bayes import MultinomialNB\n",
    "\n",
    "def runMNB(X_train, y_train, X_test, y_test, X_test2):\n",
    "    model = CalibratedClassifierCV(MultinomialNB(alpha=0.03), method='isotonic')\n",
    "    model.fit(X_train, y_train)\n",
    "    pred_test_y = model.predict_proba(X_test)\n",
    "    pred_test_y2 = model.predict_proba(X_test2)\n",
    "    return pred_test_y, pred_test_y2, model"
   ]
  },
  {
   "cell_type": "code",
   "execution_count": 33,
   "metadata": {},
   "outputs": [
    {
     "data": {
      "text/plain": [
       "0        3\n",
       "1        2\n",
       "2        1\n",
       "3        4\n",
       "4        3\n",
       "        ..\n",
       "54874    2\n",
       "54875    4\n",
       "54876    1\n",
       "54877    3\n",
       "54878    0\n",
       "Name: author, Length: 54879, dtype: int64"
      ]
     },
     "execution_count": 33,
     "metadata": {},
     "output_type": "execute_result"
    }
   ],
   "source": [
    "y_train"
   ]
  },
  {
   "cell_type": "code",
   "execution_count": 34,
   "metadata": {
    "colab": {
     "base_uri": "https://localhost:8080/"
    },
    "executionInfo": {
     "elapsed": 42971,
     "status": "ok",
     "timestamp": 1677311639810,
     "user": {
      "displayName": "김연규",
      "userId": "02025822898919377384"
     },
     "user_tz": -540
    },
    "id": "ePx7B9tufXP6",
    "outputId": "f5e4f7ee-353d-4c27-98bf-3ffcb0c10947"
   },
   "outputs": [
    {
     "name": "stdout",
     "output_type": "stream",
     "text": [
      "Mean cv score :  0.7094077833055591\n"
     ]
    }
   ],
   "source": [
    "cv_scores = []\n",
    "pred_full_test = 0\n",
    "pred_train = np.zeros([train.shape[0], 5])\n",
    "kf = model_selection.KFold(n_splits=5, shuffle=True, random_state=2017)\n",
    "for dev_idx, val_idx in kf.split(X_train):\n",
    "    dev_X, val_X = train_tfidf[dev_idx], train_tfidf[val_idx]\n",
    "    dev_y, val_y = y_train[dev_idx], y_train[val_idx]\n",
    "    pred_val_y, pred_test_y, model = runMNB(dev_X, dev_y, val_X, val_y, test_tfidf)\n",
    "    pred_full_test = pred_full_test + pred_test_y\n",
    "    pred_train[val_idx,:] = pred_val_y\n",
    "    cv_scores.append(metrics.log_loss(val_y, pred_val_y))\n",
    "print(\"Mean cv score : \", np.mean(cv_scores))\n",
    "pred_full_test = pred_full_test / 5."
   ]
  },
  {
   "cell_type": "markdown",
   "metadata": {
    "id": "MRCBV3sagdkX"
   },
   "source": [
    "tfidf 벡터는 분산되어 있기 때문에 정보를 함축시키기 위해 SVD를 사용했다."
   ]
  },
  {
   "cell_type": "code",
   "execution_count": 35,
   "metadata": {
    "id": "lrAr2orqfijm"
   },
   "outputs": [],
   "source": [
    "n_comp = 20\n",
    "svd_obj = TruncatedSVD(n_components=n_comp, algorithm='arpack')\n",
    "svd_obj.fit(full_tfidf)\n",
    "train_svd = pd.DataFrame(svd_obj.transform(train_tfidf))\n",
    "test_svd = pd.DataFrame(svd_obj.transform(test_tfidf))\n",
    "    \n",
    "train_svd.columns = ['svd_word_'+str(i) for i in range(n_comp)]\n",
    "test_svd.columns = ['svd_word_'+str(i) for i in range(n_comp)]\n",
    "train = pd.concat([train, train_svd], axis=1)\n",
    "test = pd.concat([test, test_svd], axis=1)\n",
    "del full_tfidf, train_tfidf, test_tfidf, train_svd, test_svd"
   ]
  },
  {
   "cell_type": "markdown",
   "metadata": {
    "id": "ge5ztju7kT6L"
   },
   "source": [
    "tfidf 벡터에 character, word 단위로 토큰화시키기"
   ]
  },
  {
   "cell_type": "code",
   "execution_count": 36,
   "metadata": {
    "id": "w6PIfeBIfze8"
   },
   "outputs": [],
   "source": [
    "tfidf_vec = TfidfVectorizer(ngram_range=(1,5), analyzer='char')\n",
    "full_tfidf = tfidf_vec.fit_transform(train['text'].values.tolist() + test['text'].values.tolist())\n",
    "train_tfidf = tfidf_vec.transform(train['text'].values.tolist())\n",
    "test_tfidf = tfidf_vec.transform(test['text'].values.tolist())"
   ]
  },
  {
   "cell_type": "code",
   "execution_count": 37,
   "metadata": {
    "colab": {
     "base_uri": "https://localhost:8080/"
    },
    "executionInfo": {
     "elapsed": 64061,
     "status": "ok",
     "timestamp": 1677312381900,
     "user": {
      "displayName": "김연규",
      "userId": "02025822898919377384"
     },
     "user_tz": -540
    },
    "id": "KjrUJZSrfzg9",
    "outputId": "e4e3bee1-bd3c-4073-f805-03b47cb9fd14"
   },
   "outputs": [
    {
     "name": "stdout",
     "output_type": "stream",
     "text": [
      "Mean cv score :  0.5531638992409433\n"
     ]
    }
   ],
   "source": [
    "cv_scores = []\n",
    "pred_full_test = 0\n",
    "pred_train = np.zeros([train.shape[0], 5])\n",
    "kf = model_selection.KFold(n_splits=5, shuffle=True, random_state=2017)\n",
    "for dev_idx, val_idx in kf.split(X_train):\n",
    "    dev_X, val_X = train_tfidf[dev_idx], train_tfidf[val_idx]\n",
    "    dev_y, val_y = y_train[dev_idx], y_train[val_idx]\n",
    "    pred_val_y, pred_test_y, model = runMNB(dev_X, dev_y, val_X, val_y, test_tfidf)\n",
    "    pred_full_test = pred_full_test + pred_test_y\n",
    "    pred_train[val_idx,:] = pred_val_y\n",
    "    cv_scores.append(metrics.log_loss(val_y, pred_val_y))\n",
    "print(\"Mean cv score : \", np.mean(cv_scores))\n",
    "pred_full_test = pred_full_test / 5.\n",
    "\n",
    "# 예측 결과 피쳐로 추가하기\n",
    "train[\"nb_tfidf_char_0\"] = pred_train[:,0]\n",
    "train[\"nb_tfidf_char_1\"] = pred_train[:,1]\n",
    "train[\"nb_tfidf_char_2\"] = pred_train[:,2]\n",
    "train[\"nb_tfidf_char_3\"] = pred_train[:,3]\n",
    "train[\"nb_tfidf_char_4\"] = pred_train[:,4]\n",
    "\n",
    "test[\"nb_tfidf_char_0\"] = pred_full_test[:,0]\n",
    "test[\"nb_tfidf_char_1\"] = pred_full_test[:,1]\n",
    "test[\"nb_tfidf_char_2\"] = pred_full_test[:,2]\n",
    "test[\"nb_tfidf_char_3\"] = pred_full_test[:,3]\n",
    "test[\"nb_tfidf_char_4\"] = pred_full_test[:,4]"
   ]
  },
  {
   "cell_type": "code",
   "execution_count": 38,
   "metadata": {
    "id": "Obn8gD5VfXSa"
   },
   "outputs": [],
   "source": [
    "tfidf_vec = TfidfVectorizer(ngram_range=(1,5), analyzer='word')\n",
    "full_tfidf = tfidf_vec.fit_transform(train['text'].values.tolist() + test['text'].values.tolist())\n",
    "train_tfidf = tfidf_vec.transform(train['text'].values.tolist())\n",
    "test_tfidf = tfidf_vec.transform(test['text'].values.tolist())"
   ]
  },
  {
   "cell_type": "code",
   "execution_count": 39,
   "metadata": {
    "id": "z7pUCklTlV6S",
    "outputId": "b886015a-533e-494b-d1cc-103728764d09"
   },
   "outputs": [
    {
     "name": "stdout",
     "output_type": "stream",
     "text": [
      "Mean cv score :  0.6318024197153005\n"
     ]
    }
   ],
   "source": [
    "cv_scores = []\n",
    "pred_full_test = 0\n",
    "pred_train = np.zeros([train.shape[0], 5])\n",
    "kf = model_selection.KFold(n_splits=5, shuffle=True, random_state=2017)\n",
    "for dev_idx, val_idx in kf.split(X_train):\n",
    "    dev_X, val_X = train_tfidf[dev_idx], train_tfidf[val_idx]\n",
    "    dev_y, val_y = y_train[dev_idx], y_train[val_idx]\n",
    "    pred_val_y, pred_test_y, model = runMNB(dev_X, dev_y, val_X, val_y, test_tfidf)\n",
    "    pred_full_test = pred_full_test + pred_test_y\n",
    "    pred_train[val_idx,:] = pred_val_y\n",
    "    cv_scores.append(metrics.log_loss(val_y, pred_val_y))\n",
    "print(\"Mean cv score : \", np.mean(cv_scores))\n",
    "pred_full_test = pred_full_test / 5.\n",
    "\n",
    "train[\"nb_tfidf2_char_0\"] = pred_train[:,0]\n",
    "train[\"nb_tfidf2_char_1\"] = pred_train[:,1]\n",
    "train[\"nb_tfidf2_char_2\"] = pred_train[:,2]\n",
    "train[\"nb_tfidf2_char_3\"] = pred_train[:,3]\n",
    "train[\"nb_tfidf2_char_4\"] = pred_train[:,4]\n",
    "\n",
    "test[\"nb_tfidf2_char_0\"] = pred_full_test[:,0]\n",
    "test[\"nb_tfidf2_char_1\"] = pred_full_test[:,1]\n",
    "test[\"nb_tfidf2_char_2\"] = pred_full_test[:,2]\n",
    "test[\"nb_tfidf2_char_3\"] = pred_full_test[:,3]\n",
    "test[\"nb_tfidf2_char_4\"] = pred_full_test[:,4]"
   ]
  },
  {
   "cell_type": "code",
   "execution_count": 74,
   "metadata": {},
   "outputs": [],
   "source": [
    "test.to_csv('ML_test_feature.csv', encoding = 'utf-8-sig')"
   ]
  },
  {
   "cell_type": "code",
   "execution_count": 81,
   "metadata": {},
   "outputs": [
    {
     "data": {
      "text/plain": [
       "(19617, 57)"
      ]
     },
     "execution_count": 81,
     "metadata": {},
     "output_type": "execute_result"
    }
   ],
   "source": [
    "test.shape"
   ]
  },
  {
   "cell_type": "code",
   "execution_count": 75,
   "metadata": {},
   "outputs": [
    {
     "data": {
      "text/html": [
       "<div>\n",
       "<style scoped>\n",
       "    .dataframe tbody tr th:only-of-type {\n",
       "        vertical-align: middle;\n",
       "    }\n",
       "\n",
       "    .dataframe tbody tr th {\n",
       "        vertical-align: top;\n",
       "    }\n",
       "\n",
       "    .dataframe thead th {\n",
       "        text-align: right;\n",
       "    }\n",
       "</style>\n",
       "<table border=\"1\" class=\"dataframe\">\n",
       "  <thead>\n",
       "    <tr style=\"text-align: right;\">\n",
       "      <th></th>\n",
       "      <th>text</th>\n",
       "      <th>num_words</th>\n",
       "      <th>num_unique_words</th>\n",
       "      <th>num_chars</th>\n",
       "      <th>num_stopwords</th>\n",
       "      <th>num_punct</th>\n",
       "      <th>num_upper_words</th>\n",
       "      <th>num_words_title</th>\n",
       "      <th>mean_len_word</th>\n",
       "      <th>,</th>\n",
       "      <th>...</th>\n",
       "      <th>nb_tfidf_char_0</th>\n",
       "      <th>nb_tfidf_char_1</th>\n",
       "      <th>nb_tfidf_char_2</th>\n",
       "      <th>nb_tfidf_char_3</th>\n",
       "      <th>nb_tfidf_char_4</th>\n",
       "      <th>nb_tfidf2_char_0</th>\n",
       "      <th>nb_tfidf2_char_1</th>\n",
       "      <th>nb_tfidf2_char_2</th>\n",
       "      <th>nb_tfidf2_char_3</th>\n",
       "      <th>nb_tfidf2_char_4</th>\n",
       "    </tr>\n",
       "  </thead>\n",
       "  <tbody>\n",
       "    <tr>\n",
       "      <th>0</th>\n",
       "      <td>“Not at all. I think she is one of the most ch...</td>\n",
       "      <td>89</td>\n",
       "      <td>68</td>\n",
       "      <td>456</td>\n",
       "      <td>54</td>\n",
       "      <td>9</td>\n",
       "      <td>5</td>\n",
       "      <td>9</td>\n",
       "      <td>4.134831</td>\n",
       "      <td>113.250000</td>\n",
       "      <td>...</td>\n",
       "      <td>0.047736</td>\n",
       "      <td>0.798131</td>\n",
       "      <td>0.135359</td>\n",
       "      <td>0.016439</td>\n",
       "      <td>0.002335</td>\n",
       "      <td>0.126683</td>\n",
       "      <td>0.616215</td>\n",
       "      <td>0.207238</td>\n",
       "      <td>0.036468</td>\n",
       "      <td>0.013397</td>\n",
       "    </tr>\n",
       "    <tr>\n",
       "      <th>1</th>\n",
       "      <td>\"No,\" replied he, with sudden consciousness, \"...</td>\n",
       "      <td>43</td>\n",
       "      <td>36</td>\n",
       "      <td>221</td>\n",
       "      <td>25</td>\n",
       "      <td>20</td>\n",
       "      <td>5</td>\n",
       "      <td>5</td>\n",
       "      <td>4.162791</td>\n",
       "      <td>26.750000</td>\n",
       "      <td>...</td>\n",
       "      <td>0.006369</td>\n",
       "      <td>0.991807</td>\n",
       "      <td>0.000080</td>\n",
       "      <td>0.000830</td>\n",
       "      <td>0.000914</td>\n",
       "      <td>0.111529</td>\n",
       "      <td>0.739262</td>\n",
       "      <td>0.055816</td>\n",
       "      <td>0.027042</td>\n",
       "      <td>0.066351</td>\n",
       "    </tr>\n",
       "    <tr>\n",
       "      <th>2</th>\n",
       "      <td>As the lady had stated her intention of scream...</td>\n",
       "      <td>64</td>\n",
       "      <td>55</td>\n",
       "      <td>375</td>\n",
       "      <td>34</td>\n",
       "      <td>10</td>\n",
       "      <td>0</td>\n",
       "      <td>2</td>\n",
       "      <td>4.875000</td>\n",
       "      <td>52.714286</td>\n",
       "      <td>...</td>\n",
       "      <td>0.955883</td>\n",
       "      <td>0.025597</td>\n",
       "      <td>0.004314</td>\n",
       "      <td>0.004934</td>\n",
       "      <td>0.009272</td>\n",
       "      <td>0.872497</td>\n",
       "      <td>0.035414</td>\n",
       "      <td>0.027220</td>\n",
       "      <td>0.008513</td>\n",
       "      <td>0.056356</td>\n",
       "    </tr>\n",
       "    <tr>\n",
       "      <th>3</th>\n",
       "      <td>“And then suddenly in the silence I heard a so...</td>\n",
       "      <td>240</td>\n",
       "      <td>150</td>\n",
       "      <td>1218</td>\n",
       "      <td>138</td>\n",
       "      <td>28</td>\n",
       "      <td>11</td>\n",
       "      <td>21</td>\n",
       "      <td>4.079167</td>\n",
       "      <td>75.187500</td>\n",
       "      <td>...</td>\n",
       "      <td>0.056023</td>\n",
       "      <td>0.002947</td>\n",
       "      <td>0.881925</td>\n",
       "      <td>0.006078</td>\n",
       "      <td>0.053026</td>\n",
       "      <td>0.022749</td>\n",
       "      <td>0.004354</td>\n",
       "      <td>0.710597</td>\n",
       "      <td>0.000567</td>\n",
       "      <td>0.261733</td>\n",
       "    </tr>\n",
       "    <tr>\n",
       "      <th>4</th>\n",
       "      <td>His conviction remained unchanged. So far as I...</td>\n",
       "      <td>91</td>\n",
       "      <td>71</td>\n",
       "      <td>510</td>\n",
       "      <td>51</td>\n",
       "      <td>13</td>\n",
       "      <td>4</td>\n",
       "      <td>8</td>\n",
       "      <td>4.615385</td>\n",
       "      <td>84.166667</td>\n",
       "      <td>...</td>\n",
       "      <td>0.621712</td>\n",
       "      <td>0.145800</td>\n",
       "      <td>0.032750</td>\n",
       "      <td>0.191880</td>\n",
       "      <td>0.007858</td>\n",
       "      <td>0.765081</td>\n",
       "      <td>0.092415</td>\n",
       "      <td>0.074396</td>\n",
       "      <td>0.038244</td>\n",
       "      <td>0.029864</td>\n",
       "    </tr>\n",
       "    <tr>\n",
       "      <th>...</th>\n",
       "      <td>...</td>\n",
       "      <td>...</td>\n",
       "      <td>...</td>\n",
       "      <td>...</td>\n",
       "      <td>...</td>\n",
       "      <td>...</td>\n",
       "      <td>...</td>\n",
       "      <td>...</td>\n",
       "      <td>...</td>\n",
       "      <td>...</td>\n",
       "      <td>...</td>\n",
       "      <td>...</td>\n",
       "      <td>...</td>\n",
       "      <td>...</td>\n",
       "      <td>...</td>\n",
       "      <td>...</td>\n",
       "      <td>...</td>\n",
       "      <td>...</td>\n",
       "      <td>...</td>\n",
       "      <td>...</td>\n",
       "      <td>...</td>\n",
       "    </tr>\n",
       "    <tr>\n",
       "      <th>19612</th>\n",
       "      <td>At the end of another day or two, odin growing...</td>\n",
       "      <td>154</td>\n",
       "      <td>98</td>\n",
       "      <td>861</td>\n",
       "      <td>79</td>\n",
       "      <td>29</td>\n",
       "      <td>1</td>\n",
       "      <td>10</td>\n",
       "      <td>4.597403</td>\n",
       "      <td>60.571429</td>\n",
       "      <td>...</td>\n",
       "      <td>0.000421</td>\n",
       "      <td>0.999426</td>\n",
       "      <td>0.000000</td>\n",
       "      <td>0.000153</td>\n",
       "      <td>0.000000</td>\n",
       "      <td>0.001873</td>\n",
       "      <td>0.996520</td>\n",
       "      <td>0.000622</td>\n",
       "      <td>0.000328</td>\n",
       "      <td>0.000658</td>\n",
       "    </tr>\n",
       "    <tr>\n",
       "      <th>19613</th>\n",
       "      <td>All afternoon we sat together, mostly in silen...</td>\n",
       "      <td>258</td>\n",
       "      <td>162</td>\n",
       "      <td>1377</td>\n",
       "      <td>155</td>\n",
       "      <td>39</td>\n",
       "      <td>5</td>\n",
       "      <td>15</td>\n",
       "      <td>4.341085</td>\n",
       "      <td>56.416667</td>\n",
       "      <td>...</td>\n",
       "      <td>0.442363</td>\n",
       "      <td>0.067347</td>\n",
       "      <td>0.079578</td>\n",
       "      <td>0.020765</td>\n",
       "      <td>0.389947</td>\n",
       "      <td>0.046044</td>\n",
       "      <td>0.012188</td>\n",
       "      <td>0.344736</td>\n",
       "      <td>0.004469</td>\n",
       "      <td>0.592563</td>\n",
       "    </tr>\n",
       "    <tr>\n",
       "      <th>19614</th>\n",
       "      <td>odin, having carried his thanks to odin, proc...</td>\n",
       "      <td>59</td>\n",
       "      <td>44</td>\n",
       "      <td>320</td>\n",
       "      <td>36</td>\n",
       "      <td>9</td>\n",
       "      <td>0</td>\n",
       "      <td>3</td>\n",
       "      <td>4.423729</td>\n",
       "      <td>52.500000</td>\n",
       "      <td>...</td>\n",
       "      <td>0.009183</td>\n",
       "      <td>0.989601</td>\n",
       "      <td>0.000757</td>\n",
       "      <td>0.000460</td>\n",
       "      <td>0.000000</td>\n",
       "      <td>0.014924</td>\n",
       "      <td>0.975939</td>\n",
       "      <td>0.004679</td>\n",
       "      <td>0.001378</td>\n",
       "      <td>0.003080</td>\n",
       "    </tr>\n",
       "    <tr>\n",
       "      <th>19615</th>\n",
       "      <td>Soon after this, upon odin's leaving the room,...</td>\n",
       "      <td>63</td>\n",
       "      <td>59</td>\n",
       "      <td>347</td>\n",
       "      <td>36</td>\n",
       "      <td>15</td>\n",
       "      <td>3</td>\n",
       "      <td>9</td>\n",
       "      <td>4.523810</td>\n",
       "      <td>57.000000</td>\n",
       "      <td>...</td>\n",
       "      <td>0.000215</td>\n",
       "      <td>0.995843</td>\n",
       "      <td>0.001813</td>\n",
       "      <td>0.002128</td>\n",
       "      <td>0.000000</td>\n",
       "      <td>0.021312</td>\n",
       "      <td>0.925855</td>\n",
       "      <td>0.025676</td>\n",
       "      <td>0.016059</td>\n",
       "      <td>0.011098</td>\n",
       "    </tr>\n",
       "    <tr>\n",
       "      <th>19616</th>\n",
       "      <td>And all the worse for the doomed man, that the...</td>\n",
       "      <td>119</td>\n",
       "      <td>80</td>\n",
       "      <td>710</td>\n",
       "      <td>63</td>\n",
       "      <td>18</td>\n",
       "      <td>0</td>\n",
       "      <td>7</td>\n",
       "      <td>4.974790</td>\n",
       "      <td>63.636364</td>\n",
       "      <td>...</td>\n",
       "      <td>0.785322</td>\n",
       "      <td>0.020568</td>\n",
       "      <td>0.062242</td>\n",
       "      <td>0.053909</td>\n",
       "      <td>0.077959</td>\n",
       "      <td>0.678239</td>\n",
       "      <td>0.025043</td>\n",
       "      <td>0.067541</td>\n",
       "      <td>0.006835</td>\n",
       "      <td>0.222341</td>\n",
       "    </tr>\n",
       "  </tbody>\n",
       "</table>\n",
       "<p>19617 rows × 57 columns</p>\n",
       "</div>"
      ],
      "text/plain": [
       "                                                    text  num_words  \\\n",
       "0      “Not at all. I think she is one of the most ch...         89   \n",
       "1      \"No,\" replied he, with sudden consciousness, \"...         43   \n",
       "2      As the lady had stated her intention of scream...         64   \n",
       "3      “And then suddenly in the silence I heard a so...        240   \n",
       "4      His conviction remained unchanged. So far as I...         91   \n",
       "...                                                  ...        ...   \n",
       "19612  At the end of another day or two, odin growing...        154   \n",
       "19613  All afternoon we sat together, mostly in silen...        258   \n",
       "19614   odin, having carried his thanks to odin, proc...         59   \n",
       "19615  Soon after this, upon odin's leaving the room,...         63   \n",
       "19616  And all the worse for the doomed man, that the...        119   \n",
       "\n",
       "       num_unique_words  num_chars  num_stopwords  num_punct  num_upper_words  \\\n",
       "0                    68        456             54          9                5   \n",
       "1                    36        221             25         20                5   \n",
       "2                    55        375             34         10                0   \n",
       "3                   150       1218            138         28               11   \n",
       "4                    71        510             51         13                4   \n",
       "...                 ...        ...            ...        ...              ...   \n",
       "19612                98        861             79         29                1   \n",
       "19613               162       1377            155         39                5   \n",
       "19614                44        320             36          9                0   \n",
       "19615                59        347             36         15                3   \n",
       "19616                80        710             63         18                0   \n",
       "\n",
       "       num_words_title  mean_len_word           ,  ...  nb_tfidf_char_0  \\\n",
       "0                    9       4.134831  113.250000  ...         0.047736   \n",
       "1                    5       4.162791   26.750000  ...         0.006369   \n",
       "2                    2       4.875000   52.714286  ...         0.955883   \n",
       "3                   21       4.079167   75.187500  ...         0.056023   \n",
       "4                    8       4.615385   84.166667  ...         0.621712   \n",
       "...                ...            ...         ...  ...              ...   \n",
       "19612               10       4.597403   60.571429  ...         0.000421   \n",
       "19613               15       4.341085   56.416667  ...         0.442363   \n",
       "19614                3       4.423729   52.500000  ...         0.009183   \n",
       "19615                9       4.523810   57.000000  ...         0.000215   \n",
       "19616                7       4.974790   63.636364  ...         0.785322   \n",
       "\n",
       "       nb_tfidf_char_1  nb_tfidf_char_2  nb_tfidf_char_3  nb_tfidf_char_4  \\\n",
       "0             0.798131         0.135359         0.016439         0.002335   \n",
       "1             0.991807         0.000080         0.000830         0.000914   \n",
       "2             0.025597         0.004314         0.004934         0.009272   \n",
       "3             0.002947         0.881925         0.006078         0.053026   \n",
       "4             0.145800         0.032750         0.191880         0.007858   \n",
       "...                ...              ...              ...              ...   \n",
       "19612         0.999426         0.000000         0.000153         0.000000   \n",
       "19613         0.067347         0.079578         0.020765         0.389947   \n",
       "19614         0.989601         0.000757         0.000460         0.000000   \n",
       "19615         0.995843         0.001813         0.002128         0.000000   \n",
       "19616         0.020568         0.062242         0.053909         0.077959   \n",
       "\n",
       "       nb_tfidf2_char_0  nb_tfidf2_char_1  nb_tfidf2_char_2  nb_tfidf2_char_3  \\\n",
       "0              0.126683          0.616215          0.207238          0.036468   \n",
       "1              0.111529          0.739262          0.055816          0.027042   \n",
       "2              0.872497          0.035414          0.027220          0.008513   \n",
       "3              0.022749          0.004354          0.710597          0.000567   \n",
       "4              0.765081          0.092415          0.074396          0.038244   \n",
       "...                 ...               ...               ...               ...   \n",
       "19612          0.001873          0.996520          0.000622          0.000328   \n",
       "19613          0.046044          0.012188          0.344736          0.004469   \n",
       "19614          0.014924          0.975939          0.004679          0.001378   \n",
       "19615          0.021312          0.925855          0.025676          0.016059   \n",
       "19616          0.678239          0.025043          0.067541          0.006835   \n",
       "\n",
       "       nb_tfidf2_char_4  \n",
       "0              0.013397  \n",
       "1              0.066351  \n",
       "2              0.056356  \n",
       "3              0.261733  \n",
       "4              0.029864  \n",
       "...                 ...  \n",
       "19612          0.000658  \n",
       "19613          0.592563  \n",
       "19614          0.003080  \n",
       "19615          0.011098  \n",
       "19616          0.222341  \n",
       "\n",
       "[19617 rows x 57 columns]"
      ]
     },
     "execution_count": 75,
     "metadata": {},
     "output_type": "execute_result"
    }
   ],
   "source": [
    "test"
   ]
  },
  {
   "cell_type": "markdown",
   "metadata": {
    "id": "kddp20ksbUoE"
   },
   "source": [
    "## Modeling"
   ]
  },
  {
   "cell_type": "markdown",
   "metadata": {
    "id": "kA_R6-4Imm6-"
   },
   "source": [
    "### 1) XGBoost"
   ]
  },
  {
   "cell_type": "markdown",
   "metadata": {
    "id": "YkPB4hIdbUoE"
   },
   "source": [
    "1. Log Loss"
   ]
  },
  {
   "cell_type": "code",
   "execution_count": 35,
   "metadata": {
    "id": "XSXU8a_0lV8j",
    "outputId": "dcc26cd1-629d-4d82-d450-acb042cc7608"
   },
   "outputs": [
    {
     "name": "stdout",
     "output_type": "stream",
     "text": [
      "[18:12:31] WARNING: C:/Users/Administrator/workspace/xgboost-win64_release_1.5.1/src/learner.cc:576: \n",
      "Parameters: { \"silent\" } might not be used.\n",
      "\n",
      "  This could be a false alarm, with some parameters getting used by language bindings but\n",
      "  then being mistakenly passed down to XGBoost core, or some parameter actually being used\n",
      "  but getting flagged wrongly here. Please open an issue if you find any such cases.\n",
      "\n",
      "\n",
      "[0]\ttrain-mlogloss:1.45388\ttest-mlogloss:1.45422\n",
      "[20]\ttrain-mlogloss:0.58625\ttest-mlogloss:0.59062\n",
      "[40]\ttrain-mlogloss:0.47331\ttest-mlogloss:0.48229\n",
      "[60]\ttrain-mlogloss:0.44143\ttest-mlogloss:0.45583\n",
      "[80]\ttrain-mlogloss:0.42481\ttest-mlogloss:0.44494\n",
      "[100]\ttrain-mlogloss:0.41290\ttest-mlogloss:0.43924\n",
      "[120]\ttrain-mlogloss:0.40328\ttest-mlogloss:0.43575\n",
      "[140]\ttrain-mlogloss:0.39463\ttest-mlogloss:0.43284\n",
      "[160]\ttrain-mlogloss:0.38690\ttest-mlogloss:0.43077\n",
      "[180]\ttrain-mlogloss:0.37986\ttest-mlogloss:0.42973\n",
      "[200]\ttrain-mlogloss:0.37332\ttest-mlogloss:0.42824\n",
      "[220]\ttrain-mlogloss:0.36719\ttest-mlogloss:0.42727\n",
      "[240]\ttrain-mlogloss:0.36123\ttest-mlogloss:0.42650\n",
      "[260]\ttrain-mlogloss:0.35574\ttest-mlogloss:0.42620\n",
      "[280]\ttrain-mlogloss:0.35026\ttest-mlogloss:0.42578\n",
      "[300]\ttrain-mlogloss:0.34508\ttest-mlogloss:0.42539\n",
      "[320]\ttrain-mlogloss:0.33984\ttest-mlogloss:0.42493\n",
      "[340]\ttrain-mlogloss:0.33486\ttest-mlogloss:0.42452\n",
      "[360]\ttrain-mlogloss:0.33012\ttest-mlogloss:0.42389\n",
      "[380]\ttrain-mlogloss:0.32535\ttest-mlogloss:0.42389\n",
      "[400]\ttrain-mlogloss:0.32104\ttest-mlogloss:0.42398\n",
      "[420]\ttrain-mlogloss:0.31664\ttest-mlogloss:0.42369\n",
      "[440]\ttrain-mlogloss:0.31237\ttest-mlogloss:0.42359\n",
      "[460]\ttrain-mlogloss:0.30799\ttest-mlogloss:0.42380\n",
      "[480]\ttrain-mlogloss:0.30403\ttest-mlogloss:0.42388\n",
      "[498]\ttrain-mlogloss:0.30033\ttest-mlogloss:0.42416\n",
      "cv scores :  [0.4235540689498793]\n"
     ]
    }
   ],
   "source": [
    "X_train = train.drop(['text', 'author'], axis=1)\n",
    "X_test = test.drop(['text', 'author'], axis=1)\n",
    "\n",
    "kf = model_selection.KFold(n_splits=5, shuffle=True, random_state=2017)\n",
    "cv_scores = []\n",
    "pred_full_test = 0\n",
    "pred_train = np.zeros([train.shape[0], 5])\n",
    "for dev_idx, val_idx in kf.split(X_train):\n",
    "    dev_X, val_X = X_train.loc[dev_idx], X_train.loc[val_idx]\n",
    "    dev_y, val_y = y_train[dev_idx], y_train[val_idx]\n",
    "    pred_val_y, pred_test_y, model = runXGB(dev_X, dev_y, val_X, val_y, X_test, seed_val=0, colsample=0.7)\n",
    "    pred_full_test = pred_full_test + pred_test_y\n",
    "    pred_train[val_idx,:] = pred_val_y\n",
    "    cv_scores.append(metrics.log_loss(val_y, pred_val_y))\n",
    "    break\n",
    "print(\"cv scores : \", cv_scores)"
   ]
  },
  {
   "cell_type": "markdown",
   "metadata": {
    "id": "DjLEj_9_bUoE"
   },
   "source": [
    "2. accuracy"
   ]
  },
  {
   "cell_type": "code",
   "execution_count": 36,
   "metadata": {
    "id": "7A0oh_RnbUoE"
   },
   "outputs": [],
   "source": [
    "from sklearn.metrics import accuracy_score"
   ]
  },
  {
   "cell_type": "code",
   "execution_count": 37,
   "metadata": {},
   "outputs": [
    {
     "data": {
      "text/plain": [
       "array([[3],\n",
       "       [0],\n",
       "       [0],\n",
       "       ...,\n",
       "       [4],\n",
       "       [3],\n",
       "       [0]], dtype=int64)"
      ]
     },
     "execution_count": 37,
     "metadata": {},
     "output_type": "execute_result"
    }
   ],
   "source": [
    "test['author'].to_numpy().reshape(-1, 1)"
   ]
  },
  {
   "cell_type": "code",
   "execution_count": 38,
   "metadata": {
    "id": "dzXxqjqTbUoE",
    "outputId": "87e0e4da-4cee-4156-9ba4-9cc979258cb9",
    "scrolled": true
   },
   "outputs": [
    {
     "name": "stdout",
     "output_type": "stream",
     "text": [
      "[18:13:07] WARNING: C:/Users/Administrator/workspace/xgboost-win64_release_1.5.1/src/learner.cc:576: \n",
      "Parameters: { \"silent\" } might not be used.\n",
      "\n",
      "  This could be a false alarm, with some parameters getting used by language bindings but\n",
      "  then being mistakenly passed down to XGBoost core, or some parameter actually being used\n",
      "  but getting flagged wrongly here. Please open an issue if you find any such cases.\n",
      "\n",
      "\n",
      "[0]\ttrain-mlogloss:1.45388\ttest-mlogloss:1.45422\n",
      "[20]\ttrain-mlogloss:0.58625\ttest-mlogloss:0.59062\n",
      "[40]\ttrain-mlogloss:0.47331\ttest-mlogloss:0.48229\n",
      "[60]\ttrain-mlogloss:0.44143\ttest-mlogloss:0.45583\n",
      "[80]\ttrain-mlogloss:0.42481\ttest-mlogloss:0.44494\n",
      "[100]\ttrain-mlogloss:0.41290\ttest-mlogloss:0.43924\n",
      "[120]\ttrain-mlogloss:0.40328\ttest-mlogloss:0.43575\n",
      "[140]\ttrain-mlogloss:0.39463\ttest-mlogloss:0.43284\n",
      "[160]\ttrain-mlogloss:0.38690\ttest-mlogloss:0.43077\n",
      "[180]\ttrain-mlogloss:0.37986\ttest-mlogloss:0.42973\n",
      "[200]\ttrain-mlogloss:0.37332\ttest-mlogloss:0.42824\n",
      "[220]\ttrain-mlogloss:0.36719\ttest-mlogloss:0.42727\n",
      "[240]\ttrain-mlogloss:0.36123\ttest-mlogloss:0.42650\n",
      "[260]\ttrain-mlogloss:0.35574\ttest-mlogloss:0.42620\n",
      "[280]\ttrain-mlogloss:0.35026\ttest-mlogloss:0.42578\n",
      "[300]\ttrain-mlogloss:0.34508\ttest-mlogloss:0.42539\n",
      "[320]\ttrain-mlogloss:0.33984\ttest-mlogloss:0.42493\n",
      "[340]\ttrain-mlogloss:0.33486\ttest-mlogloss:0.42452\n",
      "[360]\ttrain-mlogloss:0.33012\ttest-mlogloss:0.42389\n",
      "[380]\ttrain-mlogloss:0.32535\ttest-mlogloss:0.42389\n",
      "[400]\ttrain-mlogloss:0.32104\ttest-mlogloss:0.42398\n",
      "[420]\ttrain-mlogloss:0.31664\ttest-mlogloss:0.42369\n",
      "[440]\ttrain-mlogloss:0.31237\ttest-mlogloss:0.42359\n",
      "[460]\ttrain-mlogloss:0.30799\ttest-mlogloss:0.42380\n",
      "[480]\ttrain-mlogloss:0.30403\ttest-mlogloss:0.42388\n",
      "[499]\ttrain-mlogloss:0.30015\ttest-mlogloss:0.42414\n",
      "[18:13:43] WARNING: C:/Users/Administrator/workspace/xgboost-win64_release_1.5.1/src/learner.cc:576: \n",
      "Parameters: { \"silent\" } might not be used.\n",
      "\n",
      "  This could be a false alarm, with some parameters getting used by language bindings but\n",
      "  then being mistakenly passed down to XGBoost core, or some parameter actually being used\n",
      "  but getting flagged wrongly here. Please open an issue if you find any such cases.\n",
      "\n",
      "\n",
      "[0]\ttrain-mlogloss:1.45339\ttest-mlogloss:1.45488\n",
      "[20]\ttrain-mlogloss:0.58392\ttest-mlogloss:0.59645\n",
      "[40]\ttrain-mlogloss:0.47150\ttest-mlogloss:0.48884\n",
      "[60]\ttrain-mlogloss:0.43976\ttest-mlogloss:0.46245\n",
      "[80]\ttrain-mlogloss:0.42359\ttest-mlogloss:0.45158\n",
      "[100]\ttrain-mlogloss:0.41160\ttest-mlogloss:0.44495\n",
      "[120]\ttrain-mlogloss:0.40190\ttest-mlogloss:0.44080\n",
      "[140]\ttrain-mlogloss:0.39354\ttest-mlogloss:0.43883\n",
      "[160]\ttrain-mlogloss:0.38611\ttest-mlogloss:0.43647\n",
      "[180]\ttrain-mlogloss:0.37923\ttest-mlogloss:0.43523\n",
      "[200]\ttrain-mlogloss:0.37289\ttest-mlogloss:0.43424\n",
      "[220]\ttrain-mlogloss:0.36637\ttest-mlogloss:0.43297\n",
      "[240]\ttrain-mlogloss:0.36034\ttest-mlogloss:0.43208\n",
      "[260]\ttrain-mlogloss:0.35459\ttest-mlogloss:0.43141\n",
      "[280]\ttrain-mlogloss:0.34922\ttest-mlogloss:0.43082\n",
      "[300]\ttrain-mlogloss:0.34381\ttest-mlogloss:0.43010\n",
      "[320]\ttrain-mlogloss:0.33891\ttest-mlogloss:0.42977\n",
      "[340]\ttrain-mlogloss:0.33412\ttest-mlogloss:0.42969\n",
      "[360]\ttrain-mlogloss:0.32930\ttest-mlogloss:0.42978\n",
      "[380]\ttrain-mlogloss:0.32480\ttest-mlogloss:0.42975\n",
      "[400]\ttrain-mlogloss:0.32033\ttest-mlogloss:0.42972\n",
      "[418]\ttrain-mlogloss:0.31603\ttest-mlogloss:0.42994\n",
      "[18:14:13] WARNING: C:/Users/Administrator/workspace/xgboost-win64_release_1.5.1/src/learner.cc:576: \n",
      "Parameters: { \"silent\" } might not be used.\n",
      "\n",
      "  This could be a false alarm, with some parameters getting used by language bindings but\n",
      "  then being mistakenly passed down to XGBoost core, or some parameter actually being used\n",
      "  but getting flagged wrongly here. Please open an issue if you find any such cases.\n",
      "\n",
      "\n",
      "[0]\ttrain-mlogloss:1.45352\ttest-mlogloss:1.45560\n",
      "[20]\ttrain-mlogloss:0.58554\ttest-mlogloss:0.59284\n",
      "[40]\ttrain-mlogloss:0.47307\ttest-mlogloss:0.48428\n",
      "[60]\ttrain-mlogloss:0.44125\ttest-mlogloss:0.45769\n",
      "[80]\ttrain-mlogloss:0.42522\ttest-mlogloss:0.44641\n",
      "[100]\ttrain-mlogloss:0.41300\ttest-mlogloss:0.44041\n",
      "[120]\ttrain-mlogloss:0.40302\ttest-mlogloss:0.43641\n",
      "[140]\ttrain-mlogloss:0.39453\ttest-mlogloss:0.43411\n",
      "[160]\ttrain-mlogloss:0.38706\ttest-mlogloss:0.43210\n",
      "[180]\ttrain-mlogloss:0.38055\ttest-mlogloss:0.43078\n",
      "[200]\ttrain-mlogloss:0.37413\ttest-mlogloss:0.42959\n",
      "[220]\ttrain-mlogloss:0.36782\ttest-mlogloss:0.42834\n",
      "[240]\ttrain-mlogloss:0.36209\ttest-mlogloss:0.42772\n",
      "[260]\ttrain-mlogloss:0.35649\ttest-mlogloss:0.42725\n",
      "[280]\ttrain-mlogloss:0.35116\ttest-mlogloss:0.42668\n",
      "[300]\ttrain-mlogloss:0.34577\ttest-mlogloss:0.42643\n",
      "[320]\ttrain-mlogloss:0.34075\ttest-mlogloss:0.42598\n",
      "[340]\ttrain-mlogloss:0.33572\ttest-mlogloss:0.42561\n",
      "[360]\ttrain-mlogloss:0.33100\ttest-mlogloss:0.42565\n",
      "[380]\ttrain-mlogloss:0.32661\ttest-mlogloss:0.42544\n",
      "[400]\ttrain-mlogloss:0.32201\ttest-mlogloss:0.42488\n",
      "[420]\ttrain-mlogloss:0.31742\ttest-mlogloss:0.42479\n",
      "[440]\ttrain-mlogloss:0.31309\ttest-mlogloss:0.42464\n",
      "[460]\ttrain-mlogloss:0.30871\ttest-mlogloss:0.42454\n",
      "[480]\ttrain-mlogloss:0.30451\ttest-mlogloss:0.42450\n",
      "[500]\ttrain-mlogloss:0.30057\ttest-mlogloss:0.42430\n",
      "[520]\ttrain-mlogloss:0.29674\ttest-mlogloss:0.42414\n",
      "[540]\ttrain-mlogloss:0.29296\ttest-mlogloss:0.42407\n",
      "[560]\ttrain-mlogloss:0.28915\ttest-mlogloss:0.42396\n",
      "[580]\ttrain-mlogloss:0.28541\ttest-mlogloss:0.42414\n",
      "[597]\ttrain-mlogloss:0.28217\ttest-mlogloss:0.42418\n",
      "[18:14:54] WARNING: C:/Users/Administrator/workspace/xgboost-win64_release_1.5.1/src/learner.cc:576: \n",
      "Parameters: { \"silent\" } might not be used.\n",
      "\n",
      "  This could be a false alarm, with some parameters getting used by language bindings but\n",
      "  then being mistakenly passed down to XGBoost core, or some parameter actually being used\n",
      "  but getting flagged wrongly here. Please open an issue if you find any such cases.\n",
      "\n",
      "\n",
      "[0]\ttrain-mlogloss:1.45650\ttest-mlogloss:1.45669\n",
      "[20]\ttrain-mlogloss:0.58534\ttest-mlogloss:0.59180\n",
      "[40]\ttrain-mlogloss:0.47204\ttest-mlogloss:0.48540\n",
      "[60]\ttrain-mlogloss:0.43978\ttest-mlogloss:0.46005\n",
      "[80]\ttrain-mlogloss:0.42343\ttest-mlogloss:0.44988\n",
      "[100]\ttrain-mlogloss:0.41146\ttest-mlogloss:0.44428\n",
      "[120]\ttrain-mlogloss:0.40174\ttest-mlogloss:0.44069\n",
      "[140]\ttrain-mlogloss:0.39333\ttest-mlogloss:0.43799\n",
      "[160]\ttrain-mlogloss:0.38565\ttest-mlogloss:0.43605\n",
      "[180]\ttrain-mlogloss:0.37853\ttest-mlogloss:0.43449\n",
      "[200]\ttrain-mlogloss:0.37201\ttest-mlogloss:0.43313\n",
      "[220]\ttrain-mlogloss:0.36624\ttest-mlogloss:0.43235\n",
      "[240]\ttrain-mlogloss:0.36011\ttest-mlogloss:0.43133\n",
      "[260]\ttrain-mlogloss:0.35456\ttest-mlogloss:0.43122\n",
      "[280]\ttrain-mlogloss:0.34916\ttest-mlogloss:0.43060\n",
      "[300]\ttrain-mlogloss:0.34400\ttest-mlogloss:0.43037\n",
      "[320]\ttrain-mlogloss:0.33891\ttest-mlogloss:0.42940\n",
      "[340]\ttrain-mlogloss:0.33374\ttest-mlogloss:0.42935\n",
      "[360]\ttrain-mlogloss:0.32928\ttest-mlogloss:0.42917\n",
      "[380]\ttrain-mlogloss:0.32467\ttest-mlogloss:0.42910\n",
      "[400]\ttrain-mlogloss:0.32014\ttest-mlogloss:0.42929\n",
      "[420]\ttrain-mlogloss:0.31582\ttest-mlogloss:0.42888\n",
      "[440]\ttrain-mlogloss:0.31151\ttest-mlogloss:0.42863\n",
      "[460]\ttrain-mlogloss:0.30732\ttest-mlogloss:0.42901\n",
      "[480]\ttrain-mlogloss:0.30301\ttest-mlogloss:0.42902\n",
      "[492]\ttrain-mlogloss:0.30063\ttest-mlogloss:0.42920\n",
      "[18:15:28] WARNING: C:/Users/Administrator/workspace/xgboost-win64_release_1.5.1/src/learner.cc:576: \n",
      "Parameters: { \"silent\" } might not be used.\n",
      "\n",
      "  This could be a false alarm, with some parameters getting used by language bindings but\n",
      "  then being mistakenly passed down to XGBoost core, or some parameter actually being used\n",
      "  but getting flagged wrongly here. Please open an issue if you find any such cases.\n",
      "\n",
      "\n",
      "[0]\ttrain-mlogloss:1.45677\ttest-mlogloss:1.45631\n",
      "[20]\ttrain-mlogloss:0.58404\ttest-mlogloss:0.59557\n",
      "[40]\ttrain-mlogloss:0.47102\ttest-mlogloss:0.48956\n",
      "[60]\ttrain-mlogloss:0.43899\ttest-mlogloss:0.46387\n",
      "[80]\ttrain-mlogloss:0.42277\ttest-mlogloss:0.45328\n",
      "[100]\ttrain-mlogloss:0.41095\ttest-mlogloss:0.44723\n",
      "[120]\ttrain-mlogloss:0.40132\ttest-mlogloss:0.44327\n",
      "[140]\ttrain-mlogloss:0.39294\ttest-mlogloss:0.44026\n",
      "[160]\ttrain-mlogloss:0.38533\ttest-mlogloss:0.43871\n",
      "[180]\ttrain-mlogloss:0.37855\ttest-mlogloss:0.43685\n",
      "[200]\ttrain-mlogloss:0.37180\ttest-mlogloss:0.43564\n",
      "[220]\ttrain-mlogloss:0.36584\ttest-mlogloss:0.43469\n",
      "[240]\ttrain-mlogloss:0.36020\ttest-mlogloss:0.43404\n",
      "[260]\ttrain-mlogloss:0.35455\ttest-mlogloss:0.43352\n",
      "[280]\ttrain-mlogloss:0.34918\ttest-mlogloss:0.43274\n",
      "[300]\ttrain-mlogloss:0.34370\ttest-mlogloss:0.43230\n"
     ]
    },
    {
     "name": "stdout",
     "output_type": "stream",
     "text": [
      "[320]\ttrain-mlogloss:0.33840\ttest-mlogloss:0.43179\n",
      "[340]\ttrain-mlogloss:0.33369\ttest-mlogloss:0.43169\n",
      "[360]\ttrain-mlogloss:0.32894\ttest-mlogloss:0.43140\n",
      "[380]\ttrain-mlogloss:0.32425\ttest-mlogloss:0.43074\n",
      "[400]\ttrain-mlogloss:0.31984\ttest-mlogloss:0.43065\n",
      "[420]\ttrain-mlogloss:0.31521\ttest-mlogloss:0.43075\n",
      "[440]\ttrain-mlogloss:0.31089\ttest-mlogloss:0.43061\n",
      "[460]\ttrain-mlogloss:0.30660\ttest-mlogloss:0.43040\n",
      "[480]\ttrain-mlogloss:0.30264\ttest-mlogloss:0.43062\n",
      "[500]\ttrain-mlogloss:0.29854\ttest-mlogloss:0.43067\n",
      "[506]\ttrain-mlogloss:0.29737\ttest-mlogloss:0.43069\n",
      "accuracy :  0.8543185131195337\n"
     ]
    }
   ],
   "source": [
    "kf = model_selection.KFold(n_splits=5, shuffle=True, random_state=2017)\n",
    "accs = []\n",
    "pred_full_test = 0\n",
    "pred_train = np.zeros([train.shape[0], 5])\n",
    "for dev_idx, val_idx in kf.split(X_train):\n",
    "    dev_X, val_X = X_train.loc[dev_idx], X_train.loc[val_idx]\n",
    "    dev_y, val_y = y_train[dev_idx], y_train[val_idx]\n",
    "    pred_val_y, pred_test_y, model = runXGB(dev_X, dev_y, val_X, val_y, X_test, seed_val=0, colsample=0.7)\n",
    "    pred_full_test = pred_full_test + pred_test_y\n",
    "    pred_train[val_idx,:] = pred_val_y\n",
    "    val_y = val_y.to_numpy()\n",
    "    val_y, pred_val_y = val_y.reshape(-1, 1), np.argmax(pred_val_y, axis=1).reshape(-1, 1)\n",
    "    pred_test_y =  np.argmax(pred_test_y, axis=1).reshape(-1, 1)\n",
    "    accs.append(accuracy_score(test['author'].to_numpy().reshape(-1, 1), pred_test_y))\n",
    "\n",
    "print(\"accuracy : \", sum(accs) / len(accs))"
   ]
  },
  {
   "cell_type": "markdown",
   "metadata": {
    "id": "rNHkUhB2bget"
   },
   "source": [
    "**XGBoost의 평균 정확도는 85.85%이다.**"
   ]
  },
  {
   "cell_type": "code",
   "execution_count": 39,
   "metadata": {
    "id": "mJCEk33IbUoE"
   },
   "outputs": [],
   "source": [
    "# test2 = pd.read_csv(\"test_x.csv\")\n",
    "# test_id = test2['index'].values\n",
    "\n",
    "# out = pd.DataFrame(pred_full_test)\n",
    "# out.columns = ['0', '1', '2', '3', '4']\n",
    "# out.insert(0, 'index', test_id)\n",
    "# out.to_csv(\"dacon_submission.csv\", index=False)"
   ]
  },
  {
   "cell_type": "markdown",
   "metadata": {
    "id": "nE5bE_RXbUoE"
   },
   "source": [
    "### 2) Random Forest"
   ]
  },
  {
   "cell_type": "code",
   "execution_count": 40,
   "metadata": {
    "id": "i3vc283cngax"
   },
   "outputs": [],
   "source": [
    "def runRF(X_train, y_train, X_test, y_test, X_test2):\n",
    "    model = RandomForestClassifier(min_samples_split=50, random_state=7)\n",
    "    model.fit(X_train, y_train)\n",
    "    pred_test_y = model.predict(X_test)\n",
    "    pred_test_y2 = model.predict(X_test2)\n",
    "    return pred_test_y, pred_test_y2, model"
   ]
  },
  {
   "cell_type": "code",
   "execution_count": null,
   "metadata": {
    "id": "--HGRjSylWBf",
    "outputId": "5b2a6028-c469-4738-bade-bca9eb3cb6b1"
   },
   "outputs": [],
   "source": [
    "kf = model_selection.KFold(n_splits=5, shuffle=True, random_state=2017)\n",
    "accs = []\n",
    "pred_full_test = 0\n",
    "pred_train = np.zeros([train.shape[0], 1])\n",
    "for dev_idx, val_idx in kf.split(X_train):\n",
    "    dev_X, val_X = X_train.loc[dev_idx], X_train.loc[val_idx]\n",
    "    dev_y, val_y = y_train[dev_idx], y_train[val_idx]\n",
    "    pred_val_y, pred_test_y, model = runRF(dev_X, dev_y, val_X, val_y, X_test)\n",
    "    pred_full_test = pred_full_test + pred_test_y\n",
    "    pred_val_y = pred_val_y.reshape(-1, 1)\n",
    "    pred_train[val_idx,:] = pred_val_y\n",
    "    accs.append(accuracy_score(val_y, pred_val_y))\n",
    "\n",
    "print(\"accuracy : \", sum(accs) / len(accs))"
   ]
  },
  {
   "cell_type": "markdown",
   "metadata": {
    "id": "hKnhOIvebq6H"
   },
   "source": [
    "**Random Forest의 평균 정확도는 84.95%이다.**"
   ]
  },
  {
   "cell_type": "markdown",
   "metadata": {
    "id": "83SGRr4CcWEH"
   },
   "source": [
    "시간 상의 문제로 하이퍼파라미터 튜닝은 시도하지 못했습니다."
   ]
  },
  {
   "cell_type": "code",
   "execution_count": null,
   "metadata": {},
   "outputs": [],
   "source": []
  },
  {
   "cell_type": "code",
   "execution_count": null,
   "metadata": {},
   "outputs": [],
   "source": []
  },
  {
   "cell_type": "code",
   "execution_count": null,
   "metadata": {},
   "outputs": [],
   "source": []
  }
 ],
 "metadata": {
  "colab": {
   "provenance": [],
   "toc_visible": true
  },
  "hide_input": false,
  "kernelspec": {
   "display_name": "Python 3",
   "language": "python",
   "name": "python3"
  },
  "toc": {
   "base_numbering": 1,
   "nav_menu": {},
   "number_sections": true,
   "sideBar": true,
   "skip_h1_title": false,
   "title_cell": "Table of Contents",
   "title_sidebar": "Contents",
   "toc_cell": false,
   "toc_position": {
    "height": "calc(100% - 180px)",
    "left": "10px",
    "top": "150px",
    "width": "183.875px"
   },
   "toc_section_display": true,
   "toc_window_display": true
  },
  "varInspector": {
   "cols": {
    "lenName": 16,
    "lenType": 16,
    "lenVar": 40
   },
   "kernels_config": {
    "python": {
     "delete_cmd_postfix": "",
     "delete_cmd_prefix": "del ",
     "library": "var_list.py",
     "varRefreshCmd": "print(var_dic_list())"
    },
    "r": {
     "delete_cmd_postfix": ") ",
     "delete_cmd_prefix": "rm(",
     "library": "var_list.r",
     "varRefreshCmd": "cat(var_dic_list()) "
    }
   },
   "types_to_exclude": [
    "module",
    "function",
    "builtin_function_or_method",
    "instance",
    "_Feature"
   ],
   "window_display": false
  }
 },
 "nbformat": 4,
 "nbformat_minor": 1
}
