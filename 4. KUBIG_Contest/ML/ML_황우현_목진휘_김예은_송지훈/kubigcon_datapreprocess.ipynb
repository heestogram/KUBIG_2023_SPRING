{
 "cells": [
  {
   "attachments": {},
   "cell_type": "markdown",
   "metadata": {},
   "source": [
    "# KUBIG CONTEST\n",
    "# DACON 제주도 도로 교통량 예측 AI 경진대회"
   ]
  },
  {
   "attachments": {},
   "cell_type": "markdown",
   "metadata": {},
   "source": [
    "# 0. Column Overview\n",
    "\n",
    "**FEATURES**\n",
    "\n",
    "id : 아이디  \n",
    "\n",
    "---\n",
    "*날짜 관련*\n",
    "\n",
    "base_date : 날짜  \n",
    "day_of_week : 요일  \n",
    "base_hour : 시간대  \n",
    "\n",
    "---\n",
    "*도로 및 차량 관련*\n",
    "\n",
    "road_in_use : 도로사용여부  \n",
    "lane_count : 차로수  \n",
    "road_rating : 도로등급  \n",
    "multi_linked : 중용구간 여부  \n",
    "connect_code : 연결로 코드  \n",
    "maximum_speed_limit : 최고속도제한  \n",
    "weight_restricted : 통과제한하중  \n",
    "height_restricted : 통과제한높이  \n",
    "road_type : 도로유형  \n",
    "start_latitude : 시작지점의 위도  \n",
    "start_longitude : 시작지점의 경도  \n",
    "start_turn_restricted : 시작 지점의 회전제한 유무  \n",
    "end_latitude : 도착지점의 위도  \n",
    "end_longitude : 도착지점의 경도  \n",
    "end_turn_restricted : 도작지점의 회전제한 유무  \n",
    "road_name : 도로명  \n",
    "start_node_name : 시작지점명  \n",
    "end_node_name : 도착지점명  \n",
    "vehicle_restricted : 통과제한차량  \n",
    "\n",
    "---\n",
    "**TARGET**  \n",
    "\n",
    "target : 평균속도(km)  \n",
    "-> *Regression model*\n",
    "\n",
    "---\n",
    "**IMPORTANT**\n",
    "\n",
    "해당 대회에서는 외부 데이터가 사용 가능하므로 (필요 시) 어떤 외부 데이터를 쓰는 것이 좋을지 생각이 필요함.  \n",
    "ex) 기후 데이터 (비오는 날이나 더운 날) / 휴일에 관한 데이터 (휴일 시 1, 아닐 시 0으로 인코딩 가능)"
   ]
  },
  {
   "attachments": {},
   "cell_type": "markdown",
   "metadata": {},
   "source": [
    "# Import and Reading data\n",
    "Train data의 양이 많이 크기 때문에 `parquet` (파케이) 방식으로 read"
   ]
  },
  {
   "cell_type": "code",
   "execution_count": 2,
   "metadata": {},
   "outputs": [],
   "source": [
    "# import\n",
    "import pandas as pd\n",
    "import numpy as np\n",
    "import matplotlib.pyplot as plt\n",
    "import seaborn as sns\n",
    "import gc\n",
    "%matplotlib inline\n",
    "\n",
    "from haversine import haversine\n",
    "from sklearn.cluster import KMeans\n",
    "from sklearn.preprocessing import LabelEncoder\n",
    "from sklearn.decomposition import PCA\n",
    "\n",
    "import warnings\n",
    "warnings.filterwarnings(action='ignore')"
   ]
  },
  {
   "cell_type": "code",
   "execution_count": 3,
   "metadata": {},
   "outputs": [],
   "source": [
    "# # parquet 형식으로 reading\n",
    "# def csv_to_parquet(csv_path, save_name):\n",
    "#     df = pd.read_csv(csv_path)\n",
    "#     df.to_parquet(f'./{save_name}.parquet')\n",
    "#     del df\n",
    "#     gc.collect()\n",
    "#     print(save_name, 'Done.')"
   ]
  },
  {
   "cell_type": "code",
   "execution_count": 4,
   "metadata": {},
   "outputs": [],
   "source": [
    "# csv_to_parquet('train.csv', 'train')\n",
    "# csv_to_parquet('test.csv', 'test')"
   ]
  },
  {
   "cell_type": "code",
   "execution_count": 5,
   "metadata": {},
   "outputs": [],
   "source": [
    "train = pd.read_parquet('train.parquet')\n",
    "test = pd.read_parquet('test.parquet')"
   ]
  },
  {
   "cell_type": "code",
   "execution_count": 6,
   "metadata": {},
   "outputs": [
    {
     "name": "stdout",
     "output_type": "stream",
     "text": [
      "<class 'pandas.core.frame.DataFrame'>\n",
      "RangeIndex: 4701217 entries, 0 to 4701216\n",
      "Data columns (total 23 columns):\n",
      " #   Column                 Dtype  \n",
      "---  ------                 -----  \n",
      " 0   id                     object \n",
      " 1   base_date              int64  \n",
      " 2   day_of_week            object \n",
      " 3   base_hour              int64  \n",
      " 4   lane_count             int64  \n",
      " 5   road_rating            int64  \n",
      " 6   road_name              object \n",
      " 7   multi_linked           int64  \n",
      " 8   connect_code           int64  \n",
      " 9   maximum_speed_limit    float64\n",
      " 10  vehicle_restricted     float64\n",
      " 11  weight_restricted      float64\n",
      " 12  height_restricted      float64\n",
      " 13  road_type              int64  \n",
      " 14  start_node_name        object \n",
      " 15  start_latitude         float64\n",
      " 16  start_longitude        float64\n",
      " 17  start_turn_restricted  object \n",
      " 18  end_node_name          object \n",
      " 19  end_latitude           float64\n",
      " 20  end_longitude          float64\n",
      " 21  end_turn_restricted    object \n",
      " 22  target                 float64\n",
      "dtypes: float64(9), int64(7), object(7)\n",
      "memory usage: 825.0+ MB\n"
     ]
    }
   ],
   "source": [
    "train.info()"
   ]
  },
  {
   "cell_type": "code",
   "execution_count": 7,
   "metadata": {},
   "outputs": [
    {
     "data": {
      "text/html": [
       "<div>\n",
       "<style scoped>\n",
       "    .dataframe tbody tr th:only-of-type {\n",
       "        vertical-align: middle;\n",
       "    }\n",
       "\n",
       "    .dataframe tbody tr th {\n",
       "        vertical-align: top;\n",
       "    }\n",
       "\n",
       "    .dataframe thead th {\n",
       "        text-align: right;\n",
       "    }\n",
       "</style>\n",
       "<table border=\"1\" class=\"dataframe\">\n",
       "  <thead>\n",
       "    <tr style=\"text-align: right;\">\n",
       "      <th></th>\n",
       "      <th>id</th>\n",
       "      <th>base_date</th>\n",
       "      <th>day_of_week</th>\n",
       "      <th>base_hour</th>\n",
       "      <th>lane_count</th>\n",
       "      <th>road_rating</th>\n",
       "      <th>road_name</th>\n",
       "      <th>multi_linked</th>\n",
       "      <th>connect_code</th>\n",
       "      <th>maximum_speed_limit</th>\n",
       "      <th>...</th>\n",
       "      <th>road_type</th>\n",
       "      <th>start_node_name</th>\n",
       "      <th>start_latitude</th>\n",
       "      <th>start_longitude</th>\n",
       "      <th>start_turn_restricted</th>\n",
       "      <th>end_node_name</th>\n",
       "      <th>end_latitude</th>\n",
       "      <th>end_longitude</th>\n",
       "      <th>end_turn_restricted</th>\n",
       "      <th>target</th>\n",
       "    </tr>\n",
       "  </thead>\n",
       "  <tbody>\n",
       "    <tr>\n",
       "      <th>0</th>\n",
       "      <td>TRAIN_0000000</td>\n",
       "      <td>20220623</td>\n",
       "      <td>목</td>\n",
       "      <td>17</td>\n",
       "      <td>1</td>\n",
       "      <td>106</td>\n",
       "      <td>지방도1112호선</td>\n",
       "      <td>0</td>\n",
       "      <td>0</td>\n",
       "      <td>60.0</td>\n",
       "      <td>...</td>\n",
       "      <td>3</td>\n",
       "      <td>제3교래교</td>\n",
       "      <td>33.427747</td>\n",
       "      <td>126.662612</td>\n",
       "      <td>없음</td>\n",
       "      <td>제3교래교</td>\n",
       "      <td>33.427749</td>\n",
       "      <td>126.662335</td>\n",
       "      <td>없음</td>\n",
       "      <td>52.0</td>\n",
       "    </tr>\n",
       "    <tr>\n",
       "      <th>1</th>\n",
       "      <td>TRAIN_0000001</td>\n",
       "      <td>20220728</td>\n",
       "      <td>목</td>\n",
       "      <td>21</td>\n",
       "      <td>2</td>\n",
       "      <td>103</td>\n",
       "      <td>일반국도11호선</td>\n",
       "      <td>0</td>\n",
       "      <td>0</td>\n",
       "      <td>60.0</td>\n",
       "      <td>...</td>\n",
       "      <td>0</td>\n",
       "      <td>광양사거리</td>\n",
       "      <td>33.500730</td>\n",
       "      <td>126.529107</td>\n",
       "      <td>있음</td>\n",
       "      <td>KAL사거리</td>\n",
       "      <td>33.504811</td>\n",
       "      <td>126.526240</td>\n",
       "      <td>없음</td>\n",
       "      <td>30.0</td>\n",
       "    </tr>\n",
       "    <tr>\n",
       "      <th>2</th>\n",
       "      <td>TRAIN_0000002</td>\n",
       "      <td>20211010</td>\n",
       "      <td>일</td>\n",
       "      <td>7</td>\n",
       "      <td>2</td>\n",
       "      <td>103</td>\n",
       "      <td>일반국도16호선</td>\n",
       "      <td>0</td>\n",
       "      <td>0</td>\n",
       "      <td>80.0</td>\n",
       "      <td>...</td>\n",
       "      <td>0</td>\n",
       "      <td>창고천교</td>\n",
       "      <td>33.279145</td>\n",
       "      <td>126.368598</td>\n",
       "      <td>없음</td>\n",
       "      <td>상창육교</td>\n",
       "      <td>33.280072</td>\n",
       "      <td>126.362147</td>\n",
       "      <td>없음</td>\n",
       "      <td>61.0</td>\n",
       "    </tr>\n",
       "    <tr>\n",
       "      <th>3</th>\n",
       "      <td>TRAIN_0000003</td>\n",
       "      <td>20220311</td>\n",
       "      <td>금</td>\n",
       "      <td>13</td>\n",
       "      <td>2</td>\n",
       "      <td>107</td>\n",
       "      <td>태평로</td>\n",
       "      <td>0</td>\n",
       "      <td>0</td>\n",
       "      <td>50.0</td>\n",
       "      <td>...</td>\n",
       "      <td>0</td>\n",
       "      <td>남양리조트</td>\n",
       "      <td>33.246081</td>\n",
       "      <td>126.567204</td>\n",
       "      <td>없음</td>\n",
       "      <td>서현주택</td>\n",
       "      <td>33.245565</td>\n",
       "      <td>126.566228</td>\n",
       "      <td>없음</td>\n",
       "      <td>20.0</td>\n",
       "    </tr>\n",
       "    <tr>\n",
       "      <th>4</th>\n",
       "      <td>TRAIN_0000004</td>\n",
       "      <td>20211005</td>\n",
       "      <td>화</td>\n",
       "      <td>8</td>\n",
       "      <td>2</td>\n",
       "      <td>103</td>\n",
       "      <td>일반국도12호선</td>\n",
       "      <td>0</td>\n",
       "      <td>0</td>\n",
       "      <td>80.0</td>\n",
       "      <td>...</td>\n",
       "      <td>0</td>\n",
       "      <td>애월샷시</td>\n",
       "      <td>33.462214</td>\n",
       "      <td>126.326551</td>\n",
       "      <td>없음</td>\n",
       "      <td>애월입구</td>\n",
       "      <td>33.462677</td>\n",
       "      <td>126.330152</td>\n",
       "      <td>없음</td>\n",
       "      <td>38.0</td>\n",
       "    </tr>\n",
       "  </tbody>\n",
       "</table>\n",
       "<p>5 rows × 23 columns</p>\n",
       "</div>"
      ],
      "text/plain": [
       "              id  base_date day_of_week  base_hour  lane_count  road_rating  \\\n",
       "0  TRAIN_0000000   20220623           목         17           1          106   \n",
       "1  TRAIN_0000001   20220728           목         21           2          103   \n",
       "2  TRAIN_0000002   20211010           일          7           2          103   \n",
       "3  TRAIN_0000003   20220311           금         13           2          107   \n",
       "4  TRAIN_0000004   20211005           화          8           2          103   \n",
       "\n",
       "   road_name  multi_linked  connect_code  maximum_speed_limit  ...  road_type  \\\n",
       "0  지방도1112호선             0             0                 60.0  ...          3   \n",
       "1   일반국도11호선             0             0                 60.0  ...          0   \n",
       "2   일반국도16호선             0             0                 80.0  ...          0   \n",
       "3        태평로             0             0                 50.0  ...          0   \n",
       "4   일반국도12호선             0             0                 80.0  ...          0   \n",
       "\n",
       "   start_node_name  start_latitude  start_longitude start_turn_restricted  \\\n",
       "0            제3교래교       33.427747       126.662612                    없음   \n",
       "1            광양사거리       33.500730       126.529107                    있음   \n",
       "2             창고천교       33.279145       126.368598                    없음   \n",
       "3            남양리조트       33.246081       126.567204                    없음   \n",
       "4             애월샷시       33.462214       126.326551                    없음   \n",
       "\n",
       "   end_node_name  end_latitude end_longitude end_turn_restricted  target  \n",
       "0          제3교래교     33.427749    126.662335                  없음    52.0  \n",
       "1         KAL사거리     33.504811    126.526240                  없음    30.0  \n",
       "2           상창육교     33.280072    126.362147                  없음    61.0  \n",
       "3           서현주택     33.245565    126.566228                  없음    20.0  \n",
       "4           애월입구     33.462677    126.330152                  없음    38.0  \n",
       "\n",
       "[5 rows x 23 columns]"
      ]
     },
     "execution_count": 7,
     "metadata": {},
     "output_type": "execute_result"
    }
   ],
   "source": [
    "train.head(5)"
   ]
  },
  {
   "attachments": {
    "image-3.png": {
     "image/png": "[encoded data removed]"
    }
   },
   "cell_type": "markdown",
   "metadata": {},
   "source": [
    "# Data Preprocessing \n",
    "(EDA -> 예은이 / Preprocessing -> 나)  \n",
    "EDA는 preprocessing의 근거를 제공하는 방식으로 선보일 예정, 전처리 역시 그에 따라 준비\n",
    "\n",
    "**FEATURE OVERVIEW**\n",
    "\n",
    "- id : 아이디 -> **drop**\n",
    "\n",
    "---\n",
    "*날짜 관련*\n",
    "\n",
    "- base_date : 날짜  \n",
    "    - date parsing\n",
    "        - 년/월/일 or 년/월_일 or 년_월_일 로 나눠보기\n",
    "        - 그대로 두고 date type으로\n",
    "    - 요일과 상관성이 높지 않을까 -> 공휴일 파악하기 위함으로 두고 나중에 drop해도 될수도\n",
    "\n",
    "- day_of_week : 요일  \n",
    "    - 요일에 따라 순서대로 labeling\n",
    "        - 0을 일요일으로, 1~6 : 월~토\n",
    "\n",
    "- base_hour : 시간대  \n",
    "    - 0~23\n",
    "        - 등하교, 출퇴근 시간 고려 : 아마 모델링에서 해당 수치들에 가중치가 붙지 않을까?\n",
    "        - target이 평균 속도인만큼, 차량이 많다 = 차가 막힌다 = 속도 저하 : 추측\n",
    "\n",
    "---\n",
    "*도로 및 차량 관련*\n",
    "\n",
    "- lane_count : 차로수  \n",
    "    - 차로가 많다 = 많은 양의 차가 한번에 통과 가능하다 = 차의 유동성이 높다 = 속도 높게 이동 가능 : 추측\n",
    "\n",
    "**필요한 정보와 관련된 표**\n",
    "\n",
    "![image.png](attachment:image-3.png)  \n",
    "\n",
    "출처 :  \n",
    "[<지능형교통체계 표준 노드·링크 구축기준 [시행 2015. 10. 16.] [국토교통부고시 제2015-756호, 2015. 10. 16., 일부개정]>](https://www.law.go.kr/LSW/admRulInfoP.do?admRulSeq=2100000029728)\n",
    "\n",
    "\n",
    "- road_rating : 도로등급  \n",
    "    - `train.road_rating.unique()`와 `test.road_rating.unique()` 돌려본 결과 \n",
    "        - 103 : 일반 국도, 106 : 지방도, 107 : 시도, 군도 밖에 안나옴\n",
    "    - 고속도로는 *없음*\n",
    "\n",
    "- multi_linked : 중용구간 여부  \n",
    "    - 중용구간이란? 2개 이상의 노선이 도로의 일정 구간을 공동으로 사용하는 구간 [(출처)](https://www.semanticscholar.org/paper/%EC%9D%BC%EB%B0%98%EA%B5%AD%EB%8F%84-%EC%A4%91%EC%9A%A9%EA%B5%AC%EA%B0%84%EC%9D%98-%EC%8B%9C%EA%B0%84%EC%A0%81-%EC%A0%95%EB%B3%B4%EA%B4%80%EB%A6%AC%EC%97%90-%EB%8C%80%ED%95%9C-%EC%97%B0%EA%B5%AC-%EC%84%9C%EC%9E%AC%ED%99%94-%EC%84%B1%EC%A0%95%EA%B3%A4/5c905f83ce13879d65c10fc1c92b1ef20d3b402f)\n",
    "    - 0이 아님, 1이 맞음으로 추정\n",
    "\n",
    "- connect_code : 연결로 코드  \n",
    "    - 아마 해당 도로가 연결되는 점이 어디인가 인듯\n",
    "    - connect_code 103이 있길래 road_rating과 같은지 확인 위하여 코드로 확인해본 결과 '일반국도12호선', '일반국도95호선'만 나옴\n",
    "        - 해당 값들에 대해 좀 리서치 해야할듯\n",
    "        - 코드: `train.loc[train['road_rating']==103].loc[train['connect_code']==103].road_name.unique()`\n",
    "\n",
    "- maximum_speed_limit : 최고속도제한  \n",
    "    - 어린이 제한 구역?\n",
    "    - 속도 제한이 낮다 = 차들이 느리게 갈 수 밖에 없다 = 속도 저하\n",
    "    - target과 가공 없는 상태에서 봤을때 가장 관련성 자체는 높아 보이는 feature\n",
    "\n",
    "- weight_restricted : 통과제한하중  \n",
    "    - `train.weight_restricted.unique()`와 `test.weight_restricted.unique()`로 검증 결과\n",
    "    - 32400., 0., 43200., 50000. : 4가지의 값들만 존재\n",
    "    - 이는 제한 하중의 유무로 그냥 0과 1로 나누어도 될수도\n",
    "\n",
    "- height_restricted : 통과제한높이  \n",
    "    - train, test에서 모두 0 -> **drop**\n",
    "\n",
    "- road_type : 도로유형  \n",
    "    - `unique()` 돌려본 결과 0, 3 밖에 없음\n",
    "    - 0 : 일반도로, 3 : 교량\n",
    "\n",
    "- start_latitude : 시작지점의 위도 & start_longitude : 시작지점의 경도  \n",
    "    - concat하여 start_point 로 파생변수 생성 가능할 듯\n",
    "\n",
    "- end_latitude : 도착지점의 위도 & end_longitude : 도착지점의 경도  \n",
    "    - concat하여 end_point 로 파생변수 생성 가능할 듯\n",
    "\n",
    "- start_turn_restricted : 시작 지점의 회전제한 유무 & end_turn_restricted : 도작지점의 회전제한 유무\n",
    "    - 회전제한유무 : 좌회전금지, 우회전금지, U-Turn 등 교차로에서의 회전제한 (출처는 표와 동일)\n",
    "    - target과 어떤 연관성이 있을지는 의문\n",
    "\n",
    "- road_name : 도로명  \n",
    "    - 도로별로 묶어서 분석? 어떻게 전처리해야할지 논의해봐야함 (**예은 주목**)\n",
    "\n",
    "- start_node_name : 시작지점명 & end_node_name : 도착지점명  \n",
    "    - start_point, end_point (위도 경도)와 엮을 수 있을 듯\n",
    "\n",
    "- vehicle_restricted : 통과제한차량  \n",
    "    - 전 데이터에서 0 -> **drop**\n",
    "\n",
    "---\n",
    "\n",
    "외부 데이터?  \n",
    "- 기후 데이터 (비오는 날이나 더운 날) -> 기상청에서 데이터 [여기서](https://data.kma.go.kr/climate/RankState/selectRankStatisticsDivisionList.do?pgmNo=179) 옵션 조절 후 다운로드 가능\n",
    "- 휴일에 관한 데이터 (휴일 시 1, 아닐 시 0으로 인코딩 가능)\n",
    "    - [2021년 공휴일 데이터](https://search.naver.com/search.naver?sm=tab_hty.top&where=nexearch&query=2021+%EA%B3%B5%ED%9C%B4%EC%9D%BC&oquery=2022+%EA%B3%B5%ED%9C%B4%EC%9D%BC&tqi=h2u%2FLdprvh8ssMTI%2BEwssssssud-119076)\n",
    "    - [2022년 공휴일 데이터](https://search.naver.com/search.naver?sm=tab_hty.top&where=nexearch&query=2022+%EA%B3%B5%ED%9C%B4%EC%9D%BC&oquery=2021+%EA%B3%B5%ED%9C%B4%EC%9D%BC&tqi=h3Lx0sprvh8ssPXKm8hssssss98-520113)\n",
    "- [날짜별 관광객 입도 현황](https://www.jeju.go.kr/open/open/iopenboard.htm?category=1035)\n",
    "- 공항과의 거리 -> 어떻게 계산할 것인가"
   ]
  },
  {
   "attachments": {},
   "cell_type": "markdown",
   "metadata": {},
   "source": [
    "## Preprocessing\n",
    "순서는 최대한 위의 컬럼 설명 순서에 따라서 진행"
   ]
  },
  {
   "cell_type": "code",
   "execution_count": 8,
   "metadata": {},
   "outputs": [],
   "source": [
    "# id, height_restricted, vehicle_restricted은 전 데이터에 걸쳐 0이므로 drop\n",
    "train.drop(columns=['id', 'height_restricted', 'vehicle_restricted'], inplace=True)\n",
    "test.drop(columns=['id', 'height_restricted', 'vehicle_restricted'], inplace=True)"
   ]
  },
  {
   "attachments": {},
   "cell_type": "markdown",
   "metadata": {},
   "source": [
    "## 시간 관련 데이터\n",
    "- <교통 통계 정보를 이용한 속도 패턴 예측에 관한 연구> (2009, 최보승)의 논문 참고, 시간별, 요일별, 주말 및 공휴일에 대한 정보 중요도에 따라 아래 feature들을 만들었음"
   ]
  },
  {
   "attachments": {},
   "cell_type": "markdown",
   "metadata": {},
   "source": [
    "### 1. 날짜 관련\n",
    "- date type 형태의 컬럼 (date)\n",
    "- 년, 월, 일 컬럼 (year, month, day)\n",
    "- 계절 (분기) (season)\n",
    "- 공휴일 전후일인지 아닌지 여부 (holiday)"
   ]
  },
  {
   "cell_type": "code",
   "execution_count": 9,
   "metadata": {},
   "outputs": [],
   "source": [
    "# base_date 전처리- date type으로 처리\n",
    "train['date'] = pd.to_datetime(train['base_date'], format='%Y%m%d')\n",
    "test['date'] = pd.to_datetime(train['base_date'], format='%Y%m%d')"
   ]
  },
  {
   "cell_type": "code",
   "execution_count": 10,
   "metadata": {},
   "outputs": [],
   "source": [
    "# date 전처리- 년, 월, 일 컬럼 추가\n",
    "train['year'] = train['date'].dt.year\n",
    "train['month'] = train['date'].dt.month\n",
    "train['day'] = train['date'].dt.day\n",
    "\n",
    "test['year'] = test['date'].dt.year\n",
    "test['month'] = test['date'].dt.month\n",
    "test['day'] = test['date'].dt.day"
   ]
  },
  {
   "cell_type": "code",
   "execution_count": 11,
   "metadata": {},
   "outputs": [],
   "source": [
    "# date 전처리- 년+월만 있는 컬럼 추가 (입도 현황)\n",
    "train['year_month'] = train['base_date'].astype(str).str[:6]\n",
    "test['year_month'] = test['base_date'].astype(str).str[:6]"
   ]
  },
  {
   "cell_type": "code",
   "execution_count": 12,
   "metadata": {},
   "outputs": [],
   "source": [
    "# date 전처리- 계절 컬럼 추가 (반복문보다 함수화가 더 빨라서 이렇게 진행)\n",
    "def seasons(i) :\n",
    "    if i in [3, 4, 5] :\n",
    "        return 'spring'\n",
    "    elif i in [6, 7, 8] :\n",
    "        return 'summer'\n",
    "    elif i in [9, 10, 11] :\n",
    "        return 'fall'\n",
    "    else :\n",
    "        return 'winter'\n",
    "\n",
    "train['season'] = train['month'].apply(seasons)\n",
    "test['season'] = test['month'].apply(seasons)\n"
   ]
  },
  {
   "cell_type": "code",
   "execution_count": 13,
   "metadata": {},
   "outputs": [],
   "source": [
    "# 2021, 2022 공휴일 +- 1일에 대한 리스트\n",
    "holidays = ['20210101', '20210102', \n",
    "            '20210210', '20210211', '20210212', '20210213', '20210214'\n",
    "            '20210228', '20210301', '20210302',\n",
    "            '20210504', '20210505', '20210506',\n",
    "            '20210518', '20210519', '20210520',\n",
    "            '20210607', '20210606', '20210607',\n",
    "            '20210814', '20210815', '20210816', '20210817'\n",
    "            '20210919', '20210920', '20210921', '20210922', '20210923'\n",
    "            '20211002', '20211003', '20211004', '20211005',\n",
    "            '20211008', '20211009', '20211010', '20211011', '20211012',\n",
    "            '20211226', '20211225', '20211227'\n",
    "\n",
    "            '20211231', '20220101', '20220102',\n",
    "            '20220130', '20220131', '20220201', '20220202', '20220203',\n",
    "            '20220228', '20220301', '20220302',\n",
    "            '20220308', '20220309', '20220310',  \n",
    "            '20220504', '20220505', '20220506',\n",
    "            '20220507', '20220508', '20220509',\n",
    "            '20220531', '20220601', '20220602',\n",
    "            '20220814', '20220815', '20220816',\n",
    "            '20220908', '20220909', '20220910', '20220911', '20220912', '20220913',\n",
    "            '20221002', '20221003', '20221004',\n",
    "            '20221008', '20221009', '20221010', '20221011',\n",
    "            '20221224', '20221225', '20221226']\n",
    "\n",
    "train['holiday'] = train['base_date'].astype(str).isin(holidays)\n",
    "test['holiday'] = test['base_date'].astype(str).isin(holidays)"
   ]
  },
  {
   "cell_type": "code",
   "execution_count": 14,
   "metadata": {},
   "outputs": [],
   "source": [
    "# 휴가철\n",
    "vacation = [12, 1, 2, 6, 7, 8]\n",
    "\n",
    "def vacations(i) :\n",
    "    if i in vacation :\n",
    "        return 'yes'\n",
    "    else :\n",
    "        return 'no'\n",
    "\n",
    "train['vacation'] = train['month'].apply(vacations)\n",
    "test['vacation'] = test['month'].apply(vacations)"
   ]
  },
  {
   "attachments": {},
   "cell_type": "markdown",
   "metadata": {},
   "source": [
    "### 2. 요일\n",
    "- '일':1, '월':2, '화':3, '수':4, '목':5, '금':6, '토':7\n",
    "- 주말인지 아닌지 여부 컬럼 추가 (weekend)\n",
    "- CatBoost의 경우 해당 과정 없이 그냥 cat_features로 적용시켜도 가능은 할거임"
   ]
  },
  {
   "cell_type": "code",
   "execution_count": 15,
   "metadata": {},
   "outputs": [],
   "source": [
    "# 요일 -> 숫자 (일요일 시작)\n",
    "days = {'일':1, '월':2, '화':3, '수':4, '목':5, '금':6, '토':7}\n",
    "\n",
    "train['day_of_week'] = train['day_of_week'].replace(days)\n",
    "test['day_of_week'] = test['day_of_week'].replace(days)"
   ]
  },
  {
   "cell_type": "code",
   "execution_count": 16,
   "metadata": {},
   "outputs": [],
   "source": [
    "# 주말인가?\n",
    "def weekends(i) :\n",
    "    if i in [1, 7] :\n",
    "        return 'yes'\n",
    "    else :\n",
    "        return 'no'\n",
    "\n",
    "train['weekend'] = train['day_of_week'].apply(weekends)\n",
    "test['weekend'] = test['day_of_week'].apply(weekends)"
   ]
  },
  {
   "attachments": {},
   "cell_type": "markdown",
   "metadata": {},
   "source": [
    "### 3. 시간대\n",
    "- base_hour을 오전, 오후, 저녁, 새벽으로 나눔 (time)\n",
    "- 등하교, 출퇴근 시간(7~9시, 17~19시)인지 여부 컬럼 추가 (rush hour)"
   ]
  },
  {
   "cell_type": "code",
   "execution_count": 17,
   "metadata": {},
   "outputs": [],
   "source": [
    "# 오전, 오후, 저녁, 새벽으로 나눔 (6시간 단위)\n",
    "def times(i) :\n",
    "    if i in [6, 7, 8, 9, 10, 11] :\n",
    "        return 'morning'\n",
    "    elif i in [12, 13, 14, 15, 16, 17] :\n",
    "        return 'noon'\n",
    "    elif i in [18, 19, 20, 21, 22, 23] :\n",
    "        return 'night'\n",
    "    else :\n",
    "        return 'dawn'\n",
    "\n",
    "train['time'] = train['base_hour'].apply(times)\n",
    "test['time'] = test['base_hour'].apply(times)"
   ]
  },
  {
   "cell_type": "code",
   "execution_count": 18,
   "metadata": {},
   "outputs": [],
   "source": [
    "# 등하교, 출퇴근, 주말은 전부 rush_hour이 아닌거로\n",
    "def rush_hours(i) :\n",
    "    if i in [7, 8, 9, 17, 18, 19] :\n",
    "        return 'yes'\n",
    "    else :\n",
    "        return 'no'\n",
    "\n",
    "train['rush_hour'] = train['base_hour'].loc[train['weekend']=='no'].apply(rush_hours)\n",
    "train['rush_hour'].fillna('no', inplace=True)\n",
    "test['rush_hour'] = test['base_hour'].loc[train['weekend']=='no'].apply(rush_hours)\n",
    "test['rush_hour'].fillna('no', inplace=True)"
   ]
  },
  {
   "attachments": {},
   "cell_type": "markdown",
   "metadata": {},
   "source": [
    "## 도로 관련 데이터\n",
    "\n",
    "- `lane_count`, `road_rating` : 그대로 유지\n",
    "- `multi_linked`, `connect_code` : test에서 전부 전부 0임 -> train, test에서 잡음만 줄것으로 판단되어 **drop**\n",
    "- `maximum_speed_limit` : 최고 제한 속도보다 target이 빠른 경우 제거\n",
    "- `weight_restricted` : 범주화\n",
    "- `road_type` : 그대로 두기 (범주형 변수로 처리) / `road_rating`과 묶어서 하나의 변수로도 처리해봄\n",
    "- `start_latitude & start_longitude` 와 `end_latitude & end_longitude`\n",
    "    - 제주도의 위-경도에서 벗어난 지역이 있을까? ([참고](https://www.investkorea.org/jj-kr/cntnts/i-1157/web.do))\n",
    "        - 33.190833~33.563889 / 126.145278~126.972222 (도분초 변환 한거임)\n",
    "    - `haversine`으로 거리 계산 ([참고](https://stricky.tistory.com/284))\n",
    "    - 시작지점과 종착지점의 위-경도를 cluster하여 위치적으로 제주에서의 구역을 범주화할 수 있을듯\n",
    "- `start_turn_restricted`과 `end_turn_restricted`은 합해서 `turn_restricted`으로 처리\n",
    "- `start_node_name & end_node_name` : 위의 위-경도로 처리, **drop**\n",
    "- `road_name` : 도로별 시간-요일에 따라 grouping 후 평균 계산 - <교통 통계 정보를 이용한 속도 패턴 예측에 관한 연구> (2009, 최보승)의 논문 참고"
   ]
  },
  {
   "cell_type": "code",
   "execution_count": 19,
   "metadata": {},
   "outputs": [],
   "source": [
    "# multi_linked, connect_code, start_node_name, end_node_name drop\n",
    "train.drop(columns=['multi_linked', 'connect_code', 'start_node_name', 'end_node_name'], inplace=True)\n",
    "test.drop(columns=['multi_linked', 'connect_code', 'start_node_name', 'end_node_name'], inplace=True)"
   ]
  },
  {
   "cell_type": "code",
   "execution_count": 20,
   "metadata": {},
   "outputs": [
    {
     "data": {
      "text/html": [
       "<div>\n",
       "<style scoped>\n",
       "    .dataframe tbody tr th:only-of-type {\n",
       "        vertical-align: middle;\n",
       "    }\n",
       "\n",
       "    .dataframe tbody tr th {\n",
       "        vertical-align: top;\n",
       "    }\n",
       "\n",
       "    .dataframe thead th {\n",
       "        text-align: right;\n",
       "    }\n",
       "</style>\n",
       "<table border=\"1\" class=\"dataframe\">\n",
       "  <thead>\n",
       "    <tr style=\"text-align: right;\">\n",
       "      <th></th>\n",
       "      <th>base_date</th>\n",
       "      <th>day_of_week</th>\n",
       "      <th>base_hour</th>\n",
       "      <th>lane_count</th>\n",
       "      <th>road_rating</th>\n",
       "      <th>road_name</th>\n",
       "      <th>maximum_speed_limit</th>\n",
       "      <th>weight_restricted</th>\n",
       "      <th>road_type</th>\n",
       "      <th>start_latitude</th>\n",
       "      <th>...</th>\n",
       "      <th>year</th>\n",
       "      <th>month</th>\n",
       "      <th>day</th>\n",
       "      <th>year_month</th>\n",
       "      <th>season</th>\n",
       "      <th>holiday</th>\n",
       "      <th>vacation</th>\n",
       "      <th>weekend</th>\n",
       "      <th>time</th>\n",
       "      <th>rush_hour</th>\n",
       "    </tr>\n",
       "  </thead>\n",
       "  <tbody>\n",
       "    <tr>\n",
       "      <th>9</th>\n",
       "      <td>20211208</td>\n",
       "      <td>4</td>\n",
       "      <td>2</td>\n",
       "      <td>1</td>\n",
       "      <td>103</td>\n",
       "      <td>일반국도16호선</td>\n",
       "      <td>50.0</td>\n",
       "      <td>0.0</td>\n",
       "      <td>0</td>\n",
       "      <td>33.361717</td>\n",
       "      <td>...</td>\n",
       "      <td>2021</td>\n",
       "      <td>12</td>\n",
       "      <td>8</td>\n",
       "      <td>202112</td>\n",
       "      <td>winter</td>\n",
       "      <td>False</td>\n",
       "      <td>yes</td>\n",
       "      <td>no</td>\n",
       "      <td>dawn</td>\n",
       "      <td>no</td>\n",
       "    </tr>\n",
       "    <tr>\n",
       "      <th>15</th>\n",
       "      <td>20220501</td>\n",
       "      <td>1</td>\n",
       "      <td>16</td>\n",
       "      <td>1</td>\n",
       "      <td>103</td>\n",
       "      <td>일반국도16호선</td>\n",
       "      <td>30.0</td>\n",
       "      <td>0.0</td>\n",
       "      <td>0</td>\n",
       "      <td>33.478001</td>\n",
       "      <td>...</td>\n",
       "      <td>2022</td>\n",
       "      <td>5</td>\n",
       "      <td>1</td>\n",
       "      <td>202205</td>\n",
       "      <td>spring</td>\n",
       "      <td>False</td>\n",
       "      <td>no</td>\n",
       "      <td>yes</td>\n",
       "      <td>noon</td>\n",
       "      <td>no</td>\n",
       "    </tr>\n",
       "    <tr>\n",
       "      <th>28</th>\n",
       "      <td>20220612</td>\n",
       "      <td>1</td>\n",
       "      <td>14</td>\n",
       "      <td>2</td>\n",
       "      <td>107</td>\n",
       "      <td>-</td>\n",
       "      <td>50.0</td>\n",
       "      <td>0.0</td>\n",
       "      <td>0</td>\n",
       "      <td>33.330822</td>\n",
       "      <td>...</td>\n",
       "      <td>2022</td>\n",
       "      <td>6</td>\n",
       "      <td>12</td>\n",
       "      <td>202206</td>\n",
       "      <td>summer</td>\n",
       "      <td>False</td>\n",
       "      <td>yes</td>\n",
       "      <td>yes</td>\n",
       "      <td>noon</td>\n",
       "      <td>no</td>\n",
       "    </tr>\n",
       "    <tr>\n",
       "      <th>69</th>\n",
       "      <td>20220214</td>\n",
       "      <td>2</td>\n",
       "      <td>4</td>\n",
       "      <td>1</td>\n",
       "      <td>106</td>\n",
       "      <td>지방도97호선</td>\n",
       "      <td>60.0</td>\n",
       "      <td>0.0</td>\n",
       "      <td>0</td>\n",
       "      <td>33.408913</td>\n",
       "      <td>...</td>\n",
       "      <td>2022</td>\n",
       "      <td>2</td>\n",
       "      <td>14</td>\n",
       "      <td>202202</td>\n",
       "      <td>winter</td>\n",
       "      <td>False</td>\n",
       "      <td>yes</td>\n",
       "      <td>no</td>\n",
       "      <td>dawn</td>\n",
       "      <td>no</td>\n",
       "    </tr>\n",
       "    <tr>\n",
       "      <th>73</th>\n",
       "      <td>20211023</td>\n",
       "      <td>7</td>\n",
       "      <td>15</td>\n",
       "      <td>2</td>\n",
       "      <td>106</td>\n",
       "      <td>지방도1118호선</td>\n",
       "      <td>50.0</td>\n",
       "      <td>43200.0</td>\n",
       "      <td>3</td>\n",
       "      <td>33.285638</td>\n",
       "      <td>...</td>\n",
       "      <td>2021</td>\n",
       "      <td>10</td>\n",
       "      <td>23</td>\n",
       "      <td>202110</td>\n",
       "      <td>fall</td>\n",
       "      <td>False</td>\n",
       "      <td>no</td>\n",
       "      <td>yes</td>\n",
       "      <td>noon</td>\n",
       "      <td>no</td>\n",
       "    </tr>\n",
       "  </tbody>\n",
       "</table>\n",
       "<p>5 rows × 27 columns</p>\n",
       "</div>"
      ],
      "text/plain": [
       "    base_date  day_of_week  base_hour  lane_count  road_rating  road_name  \\\n",
       "9    20211208            4          2           1          103   일반국도16호선   \n",
       "15   20220501            1         16           1          103   일반국도16호선   \n",
       "28   20220612            1         14           2          107          -   \n",
       "69   20220214            2          4           1          106    지방도97호선   \n",
       "73   20211023            7         15           2          106  지방도1118호선   \n",
       "\n",
       "    maximum_speed_limit  weight_restricted  road_type  start_latitude  ...  \\\n",
       "9                  50.0                0.0          0       33.361717  ...   \n",
       "15                 30.0                0.0          0       33.478001  ...   \n",
       "28                 50.0                0.0          0       33.330822  ...   \n",
       "69                 60.0                0.0          0       33.408913  ...   \n",
       "73                 50.0            43200.0          3       33.285638  ...   \n",
       "\n",
       "    year month  day  year_month  season  holiday vacation  weekend  time  \\\n",
       "9   2021    12    8      202112  winter    False      yes       no  dawn   \n",
       "15  2022     5    1      202205  spring    False       no      yes  noon   \n",
       "28  2022     6   12      202206  summer    False      yes      yes  noon   \n",
       "69  2022     2   14      202202  winter    False      yes       no  dawn   \n",
       "73  2021    10   23      202110    fall    False       no      yes  noon   \n",
       "\n",
       "    rush_hour  \n",
       "9          no  \n",
       "15         no  \n",
       "28         no  \n",
       "69         no  \n",
       "73         no  \n",
       "\n",
       "[5 rows x 27 columns]"
      ]
     },
     "execution_count": 20,
     "metadata": {},
     "output_type": "execute_result"
    }
   ],
   "source": [
    "# maximum_speed_limit : 최고 제한 속도보다 target이 빠른 경우 제거 (만약 성능 떨어지면 빼고 해도됨)\n",
    "train[(train['maximum_speed_limit']<train['target'])].head()\n"
   ]
  },
  {
   "cell_type": "code",
   "execution_count": 21,
   "metadata": {},
   "outputs": [
    {
     "name": "stdout",
     "output_type": "stream",
     "text": [
      "0.0978055256755857\n"
     ]
    }
   ],
   "source": [
    "print(len(train[(train['maximum_speed_limit']<train['target'])]) / len(train)) # 대략 9.7%의 데이터 drop 예정"
   ]
  },
  {
   "cell_type": "code",
   "execution_count": 22,
   "metadata": {},
   "outputs": [],
   "source": [
    "train = train.loc[train['maximum_speed_limit']>=train['target']]"
   ]
  },
  {
   "cell_type": "code",
   "execution_count": 23,
   "metadata": {},
   "outputs": [
    {
     "name": "stdout",
     "output_type": "stream",
     "text": [
      "[32400.     0. 43200. 50000.]\n",
      "[    0. 43200. 32400. 50000.]\n"
     ]
    }
   ],
   "source": [
    "# weight_restricted 범주화\n",
    "print(train['weight_restricted'].unique())\n",
    "print(test['weight_restricted'].unique())"
   ]
  },
  {
   "cell_type": "code",
   "execution_count": 24,
   "metadata": {},
   "outputs": [],
   "source": [
    "# 1. 무게별로 범주 다르게\n",
    "weights = {0:0, 32400:1, 43200:2, 50000:3}\n",
    "\n",
    "train['weight_restricted'] = train['weight_restricted'].astype(int).replace(weights)\n",
    "test['weight_restricted'] = test['weight_restricted'].astype(int).replace(weights)"
   ]
  },
  {
   "cell_type": "code",
   "execution_count": 25,
   "metadata": {},
   "outputs": [],
   "source": [
    "# # 2. target이 비슷한것끼리 범주화 (1을 쓰지 않는 경우 이렇게도 활용 가능)\n",
    "# weights = {0:0, 32300:1, 50000:1, 43200:2}\n",
    "\n",
    "# train['weight_restricted'] = train['weight_restricted'].replace(weights)\n",
    "# test['weight_restricted'] = test['weight_restricted'].replace(weights)"
   ]
  },
  {
   "cell_type": "code",
   "execution_count": 26,
   "metadata": {},
   "outputs": [],
   "source": [
    "# road_type과 road_rating 묶어서 범주로 (만약 따로따로 넣는게 낫다면 해당 코드 안써도 됨)\n",
    "train['road_type_rating'] = train['road_rating'].astype(str)+'_'+train['road_type'].astype(str)\n",
    "test['road_type_rating'] = test['road_rating'].astype(str)+'_'+test['road_type'].astype(str)"
   ]
  },
  {
   "cell_type": "code",
   "execution_count": 27,
   "metadata": {},
   "outputs": [
    {
     "data": {
      "text/plain": [
       "array(['106_3', '103_0', '107_0', '107_3', '106_0', '103_3'], dtype=object)"
      ]
     },
     "execution_count": 27,
     "metadata": {},
     "output_type": "execute_result"
    }
   ],
   "source": [
    "train['road_type_rating'].unique() # 총 6가지 종류 다 나옴"
   ]
  },
  {
   "cell_type": "code",
   "execution_count": 28,
   "metadata": {},
   "outputs": [],
   "source": [
    "# # road_type, road_rating drop (이건 필요하다고 생각하면 각주 해제 후 사용할 것)\n",
    "# train.drop(columns=['road_rating', 'road_type'], inplace=True)\n",
    "# test.drop(columns=['road_rating', 'road_type'], inplace=True)"
   ]
  },
  {
   "cell_type": "code",
   "execution_count": 29,
   "metadata": {},
   "outputs": [
    {
     "data": {
      "text/plain": [
       "array(['없음', '있음'], dtype=object)"
      ]
     },
     "execution_count": 29,
     "metadata": {},
     "output_type": "execute_result"
    }
   ],
   "source": [
    "train['start_turn_restricted'].unique()"
   ]
  },
  {
   "cell_type": "code",
   "execution_count": 30,
   "metadata": {},
   "outputs": [],
   "source": [
    "# start_turn_restricted와 end_turn_restricted encoding\n",
    "yes_no = {'없음':0, '있음':1}\n",
    "\n",
    "train['start_turn_restricted'] = train['start_turn_restricted'].replace(yes_no)\n",
    "test['start_turn_restricted'] = test['start_turn_restricted'].replace(yes_no)\n",
    "train['end_turn_restricted'] = train['end_turn_restricted'].replace(yes_no)\n",
    "test['end_turn_restricted'] = test['end_turn_restricted'].replace(yes_no)"
   ]
  },
  {
   "cell_type": "code",
   "execution_count": 31,
   "metadata": {},
   "outputs": [],
   "source": [
    "# 이를 합친 turn_restricted\n",
    "train['turn_restricted'] = train['start_turn_restricted'] + train['end_turn_restricted']\n",
    "test['turn_restricted'] = test['start_turn_restricted'] + train['end_turn_restricted']"
   ]
  },
  {
   "cell_type": "code",
   "execution_count": 32,
   "metadata": {},
   "outputs": [],
   "source": [
    "# # start_turn_restricted와 end_turn_restricted drop (필요시 주석 해제 후 사용)\n",
    "# train.drop(columns=['start_turn_restricted', 'end_turn_restricted'], inplace=True)\n",
    "# test.drop(columns=['start_turn_restricted', 'end_turn_restricted'], inplace=True)"
   ]
  },
  {
   "cell_type": "code",
   "execution_count": 33,
   "metadata": {},
   "outputs": [
    {
     "data": {
      "text/plain": [
       "1.0"
      ]
     },
     "execution_count": 33,
     "metadata": {},
     "output_type": "execute_result"
    }
   ],
   "source": [
    "# 위-경도 작업\n",
    "# 1. 제주도 내에 있는 지역만 남기기 -> 확인\n",
    "len(train.loc[train['start_latitude'].between(33.190833, 33.563889, inclusive=True) & train['start_longitude'].between(126.145278, 126.972222, inclusive=True)]) / len(train)"
   ]
  },
  {
   "cell_type": "code",
   "execution_count": 34,
   "metadata": {},
   "outputs": [
    {
     "data": {
      "text/plain": [
       "1.0"
      ]
     },
     "execution_count": 34,
     "metadata": {},
     "output_type": "execute_result"
    }
   ],
   "source": [
    "len(train.loc[train['end_latitude'].between(33.190833, 33.563889, inclusive=True) & train['end_longitude'].between(126.145278, 126.972222, inclusive=True)]) / len(train)\n",
    "# 모두 제주도 내의 지역들에 대한 데이터임"
   ]
  },
  {
   "cell_type": "code",
   "execution_count": 35,
   "metadata": {},
   "outputs": [],
   "source": [
    "# 2. 거리 계산 함수\n",
    "def distance(x) :\n",
    "    start_location = tuple(zip(x['start_latitude'], x['start_longitude']))\n",
    "    end_location = tuple(zip(x['end_latitude'], x['end_longitude']))\n",
    "    hsine = [haversine(s, e, unit='km') for s, e in zip(start_location, end_location)]\n",
    "    return hsine\n",
    "\n",
    "train['road_distance'] = distance(train)\n",
    "test['road_distance'] = distance(test)"
   ]
  },
  {
   "cell_type": "code",
   "execution_count": 36,
   "metadata": {},
   "outputs": [],
   "source": [
    "# 3. 구역 Clustering\n",
    "def make_cluster(x) : \n",
    "    x_lat_long = x[['start_latitude', 'start_longitude']]\n",
    "\n",
    "    k_mean = KMeans(n_clusters=6, max_iter=1000, random_state = 31)\n",
    "    location_cluster = k_mean.fit_predict(x_lat_long)\n",
    "    return location_cluster\n",
    "\n",
    "train['location_cluster'] = make_cluster(train)\n",
    "test['location_cluster'] = make_cluster(test)"
   ]
  },
  {
   "cell_type": "code",
   "execution_count": 37,
   "metadata": {},
   "outputs": [
    {
     "data": {
      "text/plain": [
       "array(['지방도1112호선', '일반국도11호선', '일반국도16호선', '태평로', '일반국도12호선', '경찰로', '-',\n",
       "       '외도천교', '일반국도99호선', '중정로', '번영로', '연동로', '중산간서로', '지방도1118호선',\n",
       "       '새서귀로', '지방도1115호선', '지방도1132호선', '어시천교', '지방도1120호선', '삼무로',\n",
       "       '애조로', '지방도1116호선', '일반국도95호선', '동부관광도로', '동홍로', '지방도97호선', '중문로',\n",
       "       '연삼로', '중앙로', '산서로', '지방도1117호선', '연북로', '남조로', '지방도1119호선', '동문로',\n",
       "       '한천로', '삼봉로', '고평교', '연북2교', '관광단지로', '권학로', '시청로', '신대로', '서사로',\n",
       "       '관덕로', '신산로', '신광로', '지방도1136호선', '첨단로', '제2거로교', '시민광장로', '임항로',\n",
       "       '수영장길', '애원로', '삼성로', '일주동로', '호서중앙로', '관광단지2로', '아봉로', '호근로',\n",
       "       '관광단지1로'], dtype=object)"
      ]
     },
     "execution_count": 37,
     "metadata": {},
     "output_type": "execute_result"
    }
   ],
   "source": [
    "# 도로명 확인\n",
    "train.road_name.unique() # '-'가 존재함 -> drop 사유가 될 수 있음"
   ]
  },
  {
   "cell_type": "code",
   "execution_count": 38,
   "metadata": {},
   "outputs": [],
   "source": [
    "# 도로명에 - 라는 결측치가 존재함으로 확인되므로 확실한 시작-끝 지점 위-경도를 사용\n",
    "train['road_lat_long'] = train['start_latitude'].astype(str)+'_'+train['start_longitude'].astype(str)+'_'+train['end_latitude'].astype(str)+'_'+train['end_longitude'].astype(str)\n",
    "test['road_lat_long'] = test['start_latitude'].astype(str)+'_'+test['start_longitude'].astype(str)+'_'+test['end_latitude'].astype(str)+'_'+test['end_longitude'].astype(str)"
   ]
  },
  {
   "cell_type": "code",
   "execution_count": 39,
   "metadata": {},
   "outputs": [],
   "source": [
    "# road_lat_long은 너무 길기 때문에 label encoding 우선 진행\n",
    "le = LabelEncoder()\n",
    "train['road_lat_long'] = le.fit_transform(train['road_lat_long'])\n",
    "test['road_lat_long'] = le.fit_transform(test['road_lat_long'])"
   ]
  },
  {
   "cell_type": "code",
   "execution_count": 40,
   "metadata": {},
   "outputs": [],
   "source": [
    "# 위-경도로된 도로별 시간별 / 요일별 속도 평균 평균 계산\n",
    "# 도로별 시간별 속도 평균\n",
    "train['road_hour'] = train['road_lat_long'].astype(str)+'_'+train['base_hour'].astype(str)\n",
    "test['road_hour'] = test['road_lat_long'].astype(str)+'_'+test['base_hour'].astype(str)\n",
    "\n",
    "hour_mean = train.groupby(['road_hour'])[['target']].agg('mean').reset_index()\n",
    "hour_mean.columns = ['road_hour', 'road_hour_mean']\n",
    "train = train.merge(hour_mean, how='left', on='road_hour')\n",
    "test = test.merge(hour_mean, how='left', on='road_hour')\n"
   ]
  },
  {
   "cell_type": "code",
   "execution_count": 41,
   "metadata": {},
   "outputs": [],
   "source": [
    "# 도로별 요일별 속도 평균\n",
    "train['road_day'] = train['road_lat_long'].astype(str)+'_'+train['day_of_week'].astype(str)\n",
    "test['road_day'] = test['road_lat_long'].astype(str)+'_'+test['day_of_week'].astype(str)\n",
    "\n",
    "hour_mean = train.groupby(['road_day'])[['target']].agg('mean').reset_index()\n",
    "hour_mean.columns = ['road_day', 'road_day_mean']\n",
    "train = train.merge(hour_mean, how='left', on='road_day')\n",
    "test = test.merge(hour_mean, how='left', on='road_day')"
   ]
  },
  {
   "cell_type": "code",
   "execution_count": 42,
   "metadata": {},
   "outputs": [],
   "source": [
    "# # 이상치 제거 함수 - 이상치를 제거해야할 column을 못찾겠어서 사용하지 않았으나 필요시 사용해볼것\n",
    "# def outlier_detect(cols, df) :\n",
    "#     for col in cols :\n",
    "#         Q1 = df[col].quantile(0.25)\n",
    "#         Q3 = df[col].quantile(0.75)\n",
    "#         iqr = Q3 - Q1\n",
    "#         df = df[(df[col] <= 1.5 * Q3) & (df[col] >= 1.5 * Q1)]\n",
    "#         df = df.reset_index(drop=True)\n",
    "#     return df"
   ]
  },
  {
   "cell_type": "code",
   "execution_count": 43,
   "metadata": {},
   "outputs": [],
   "source": [
    "# # 이상치를 제거해야하는 columns\n",
    "# remove_outliers_cols = []"
   ]
  },
  {
   "attachments": {},
   "cell_type": "markdown",
   "metadata": {},
   "source": [
    "## 외부 데이터\n",
    "- 제주도 입도 관광객 현황"
   ]
  },
  {
   "cell_type": "code",
   "execution_count": 44,
   "metadata": {},
   "outputs": [
    {
     "data": {
      "text/plain": [
       "array(['202109', '202110', '202111', '202112', '202201', '202202',\n",
       "       '202203', '202205', '202206', '202207'], dtype=object)"
      ]
     },
     "execution_count": 44,
     "metadata": {},
     "output_type": "execute_result"
    }
   ],
   "source": [
    "# 제주도 입도 관광객 현황\n",
    "# 수집해야하는 년-월 파악\n",
    "np.sort(train.year_month.unique())"
   ]
  },
  {
   "cell_type": "code",
   "execution_count": 45,
   "metadata": {},
   "outputs": [],
   "source": [
    "# 입도 관관갱 컬럼 (inflow)\n",
    "inflow_train = pd.DataFrame({'year_month':['202109', '202110', '202111', '202112', '202201', '202202',\n",
    "       '202203', '202205', '202206', '202207'],\n",
    "       'inflow':[872396, 1222094, 1204344, 1090607, 1170802, 1029503, 873086, 1306537, 1283470, 1263332]})\n",
    "inflow_test = pd.DataFrame({'year_month' : '202208', 'inflow': [1281608]})\n",
    "\n",
    "train = train.merge(inflow_train, how='left', on='year_month')\n",
    "test = test.merge(inflow_test, how='left', on='year_month')"
   ]
  },
  {
   "cell_type": "code",
   "execution_count": 335,
   "metadata": {},
   "outputs": [
    {
     "data": {
      "text/plain": [
       "Index(['base_date', 'day_of_week', 'base_hour', 'lane_count', 'road_rating',\n",
       "       'road_name', 'maximum_speed_limit', 'weight_restricted', 'road_type',\n",
       "       'start_latitude', 'start_longitude', 'start_turn_restricted',\n",
       "       'end_latitude', 'end_longitude', 'end_turn_restricted', 'target',\n",
       "       'date', 'year', 'month', 'day', 'season', 'holiday', 'vacation',\n",
       "       'weekend', 'time', 'rush_hour', 'road_type_rating', 'turn_restricted',\n",
       "       'road_distance', 'location_cluster', 'road_lat_long', 'road_hour',\n",
       "       'road_hour_mean', 'road_day', 'road_day_mean'],\n",
       "      dtype='object')"
      ]
     },
     "execution_count": 335,
     "metadata": {},
     "output_type": "execute_result"
    }
   ],
   "source": [
    "train.columns # 여기서 자유롭게 선택과 drop의 조합을 testing하여 모델 성능 끌어올려보기"
   ]
  }
 ],
 "metadata": {
  "kernelspec": {
   "display_name": "Python 3",
   "language": "python",
   "name": "python3"
  },
  "language_info": {
   "codemirror_mode": {
    "name": "ipython",
    "version": 3
   },
   "file_extension": ".py",
   "mimetype": "text/x-python",
   "name": "python",
   "nbconvert_exporter": "python",
   "pygments_lexer": "ipython3",
   "version": "3.9.13"
  },
  "orig_nbformat": 4,
  "vscode": {
   "interpreter": {
    "hash": "d4f6f0289785984fddbbea0455592def84ac402f53cbc3c6d649ff107f7c3777"
   }
  }
 },
 "nbformat": 4,
 "nbformat_minor": 2
}
