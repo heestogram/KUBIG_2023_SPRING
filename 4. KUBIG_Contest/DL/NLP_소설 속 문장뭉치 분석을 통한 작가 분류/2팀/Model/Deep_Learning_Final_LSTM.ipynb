{
 "cells": [
  {
   "cell_type": "markdown",
   "metadata": {},
   "source": [
    "# 라이브러리 import"
   ]
  },
  {
   "cell_type": "code",
   "execution_count": 1,
   "metadata": {},
   "outputs": [],
   "source": [
    "import pandas as pd\n",
    "import numpy as np\n",
    "# import cufflinks as cf\n",
    "# import chart_studio.plotly as py\n",
    "# import plotly.graph_objects as go\n",
    "import torch\n",
    "import torch.nn as nn\n",
    "from torch.utils.data import TensorDataset, DataLoader, Subset\n",
    "from torchvision import datasets, transforms\n",
    "from sklearn.model_selection import train_test_split\n",
    "from copy import deepcopy\n",
    "from torchtext.data.utils import get_tokenizer\n",
    "from torchtext.vocab import build_vocab_from_iterator\n",
    "\n",
    "# cf.go_offline(connected = True)"
   ]
  },
  {
   "cell_type": "markdown",
   "metadata": {},
   "source": [
    "# 데이터 전처리"
   ]
  },
  {
   "cell_type": "code",
   "execution_count": 2,
   "metadata": {},
   "outputs": [],
   "source": [
    "df1 = pd.read_csv('train.csv', index_col = 0)"
   ]
  },
  {
   "cell_type": "code",
   "execution_count": 3,
   "metadata": {},
   "outputs": [],
   "source": [
    "from nltk.tokenize import word_tokenize\n",
    "from nltk.tag import pos_tag\n",
    "import nltk\n",
    "from tqdm import tqdm\n",
    "import re\n",
    "from nltk.tokenize import TreebankWordTokenizer\n",
    "from tqdm import tqdm\n",
    "from tensorflow.keras.preprocessing.text import Tokenizer\n",
    "\n",
    "tokenizer = TreebankWordTokenizer()\n",
    "\n",
    "\n",
    "tqdm.pandas()\n",
    "df_nltk = df1.copy()\n",
    "pattern = re.compile('\\d')"
   ]
  },
  {
   "cell_type": "code",
   "execution_count": 4,
   "metadata": {},
   "outputs": [],
   "source": [
    "def clean_text(inputString):\n",
    "    inputString_2 = re.sub('\\d','',inputString)\n",
    "    text_rmv = re.sub('[-=+,#/\\?:^.@*\\\"※~ㆍ!』‘|\\(\\)\\[\\]`\\'…》\\”\\“\\’·]', '', inputString_2)\n",
    "    text_rmv = ' '.join(text_rmv.split())\n",
    "    return text_rmv\n",
    "\n",
    "def make_lower(row):\n",
    "    row['text'] = tokenizer.tokenize(row['text'])\n",
    "    \n",
    "    lst = []\n",
    "    # 길이 1 제거\n",
    "    for text in row['text']:\n",
    "        text_2 = clean_text(text)\n",
    "        \n",
    "        if len(text_2.strip()) <= 1:\n",
    "            pass\n",
    "        else:\n",
    "            lst.append(text_2)\n",
    "            \n",
    "    row['text'] = lst\n",
    "    \n",
    "    return row\n"
   ]
  },
  {
   "cell_type": "code",
   "execution_count": 5,
   "metadata": {},
   "outputs": [],
   "source": [
    "df_nltk = df1.copy()"
   ]
  },
  {
   "cell_type": "code",
   "execution_count": 6,
   "metadata": {},
   "outputs": [
    {
     "name": "stderr",
     "output_type": "stream",
     "text": [
      "100%|██████████████████████████████████████████████████████████████████████████| 54879/54879 [00:20<00:00, 2673.16it/s]\n"
     ]
    }
   ],
   "source": [
    "tqdm.pandas()\n",
    "\n",
    "df_nltk_2 = df_nltk.progress_apply(make_lower, axis = 1).copy()"
   ]
  },
  {
   "cell_type": "code",
   "execution_count": 7,
   "metadata": {},
   "outputs": [
    {
     "data": {
      "text/html": [
       "<div>\n",
       "<style scoped>\n",
       "    .dataframe tbody tr th:only-of-type {\n",
       "        vertical-align: middle;\n",
       "    }\n",
       "\n",
       "    .dataframe tbody tr th {\n",
       "        vertical-align: top;\n",
       "    }\n",
       "\n",
       "    .dataframe thead th {\n",
       "        text-align: right;\n",
       "    }\n",
       "</style>\n",
       "<table border=\"1\" class=\"dataframe\">\n",
       "  <thead>\n",
       "    <tr style=\"text-align: right;\">\n",
       "      <th></th>\n",
       "      <th>text</th>\n",
       "      <th>author</th>\n",
       "    </tr>\n",
       "    <tr>\n",
       "      <th>index</th>\n",
       "      <th></th>\n",
       "      <th></th>\n",
       "    </tr>\n",
       "  </thead>\n",
       "  <tbody>\n",
       "    <tr>\n",
       "      <th>0</th>\n",
       "      <td>[He, was, almost, choking, There, was, so, muc...</td>\n",
       "      <td>3</td>\n",
       "    </tr>\n",
       "    <tr>\n",
       "      <th>1</th>\n",
       "      <td>[Your, sister, asked, for, it, suppose]</td>\n",
       "      <td>2</td>\n",
       "    </tr>\n",
       "    <tr>\n",
       "      <th>2</th>\n",
       "      <td>[She, was, engaged, one, day, as, she, walked,...</td>\n",
       "      <td>1</td>\n",
       "    </tr>\n",
       "    <tr>\n",
       "      <th>3</th>\n",
       "      <td>[The, captain, was, in, the, porch, keeping, h...</td>\n",
       "      <td>4</td>\n",
       "    </tr>\n",
       "    <tr>\n",
       "      <th>4</th>\n",
       "      <td>[Have, mercy, gentlemen, odin, flung, up, his,...</td>\n",
       "      <td>3</td>\n",
       "    </tr>\n",
       "  </tbody>\n",
       "</table>\n",
       "</div>"
      ],
      "text/plain": [
       "                                                    text  author\n",
       "index                                                           \n",
       "0      [He, was, almost, choking, There, was, so, muc...       3\n",
       "1                [Your, sister, asked, for, it, suppose]       2\n",
       "2      [She, was, engaged, one, day, as, she, walked,...       1\n",
       "3      [The, captain, was, in, the, porch, keeping, h...       4\n",
       "4      [Have, mercy, gentlemen, odin, flung, up, his,...       3"
      ]
     },
     "execution_count": 7,
     "metadata": {},
     "output_type": "execute_result"
    }
   ],
   "source": [
    "lst_all = []\n",
    "for i in df_nltk_2['text']:\n",
    "    for j in i:\n",
    "        lst_all.append(j)\n",
    "        \n",
    "        \n",
    "df_word = pd.DataFrame(pd.Series(lst_all).value_counts())\n",
    "\n",
    "df_nltk_3 = df_nltk_2.copy()\n",
    "df_nltk_3.head()"
   ]
  },
  {
   "cell_type": "code",
   "execution_count": 8,
   "metadata": {},
   "outputs": [],
   "source": [
    "preprocessed_sentences = df_nltk_3.loc[:,'text'].values.tolist()"
   ]
  },
  {
   "cell_type": "code",
   "execution_count": 9,
   "metadata": {},
   "outputs": [],
   "source": [
    "vocab_size = 5000\n",
    "tokenizer_1 = Tokenizer(num_words = vocab_size + 1)\n",
    "tokenizer_1.fit_on_texts(preprocessed_sentences)\n",
    "\n"
   ]
  },
  {
   "cell_type": "code",
   "execution_count": 10,
   "metadata": {},
   "outputs": [],
   "source": [
    "df_nltk_4 =df_nltk_3.copy()\n",
    "\n",
    "a  = tokenizer_1.texts_to_sequences(df_nltk_3['text'])\n",
    "\n",
    "df_nltk_4['text'] = [i for i in a]\n",
    "\n",
    "train_dataset = df_nltk_4.copy()"
   ]
  },
  {
   "cell_type": "code",
   "execution_count": 11,
   "metadata": {},
   "outputs": [],
   "source": [
    "# print('단어 OOV의 인덱스 : {}'.format(tokenizer_1.word_index['OOV']))"
   ]
  },
  {
   "cell_type": "code",
   "execution_count": null,
   "metadata": {},
   "outputs": [],
   "source": []
  },
  {
   "cell_type": "code",
   "execution_count": null,
   "metadata": {},
   "outputs": [],
   "source": []
  },
  {
   "cell_type": "code",
   "execution_count": null,
   "metadata": {},
   "outputs": [],
   "source": []
  },
  {
   "cell_type": "code",
   "execution_count": null,
   "metadata": {},
   "outputs": [],
   "source": []
  },
  {
   "cell_type": "code",
   "execution_count": null,
   "metadata": {},
   "outputs": [],
   "source": []
  },
  {
   "cell_type": "markdown",
   "metadata": {},
   "source": [
    "# 모델 설명 및 진행\n",
    "\n",
    "- 모델은 nn.EmbeddingBag 레이어와 분류(classification) 목적을 위한 선형 레이어로 구성됩니다. 기본 모드가 《평균(mean)》인 nn.EmbeddingBag 은 임베딩들의 《가방(bag)》의 평균 값을 계산합니다. 이때 텍스트(text) 항목들은 각기 그 길이가 다를 수 있지만, nn.EmbeddingBag 모듈은 텍스트의 길이를 오프셋(offset)으로 저장하고 있으므로 패딩(padding)이 필요하지는 않습니다."
   ]
  },
  {
   "cell_type": "code",
   "execution_count": 12,
   "metadata": {},
   "outputs": [
    {
     "data": {
      "image/png": "[encoded data removed]",
      "text/plain": [
       "<IPython.core.display.Image object>"
      ]
     },
     "execution_count": 12,
     "metadata": {},
     "output_type": "execute_result"
    }
   ],
   "source": [
    "from IPython.display import Image\n",
    "Image(\"text_sentiment_ngrams_model.png\")\n",
    "# https://tutorials.pytorch.kr/beginner/text_sentiment_ngrams_tutorial.html"
   ]
  },
  {
   "cell_type": "code",
   "execution_count": 13,
   "metadata": {},
   "outputs": [
    {
     "name": "stdout",
     "output_type": "stream",
     "text": [
      "cuda\n"
     ]
    }
   ],
   "source": [
    "device = 'cuda' if torch.cuda.is_available() else 'cpu'\n",
    "torch.manual_seed(1)\n",
    "if device == 'cuda':\n",
    "    torch.cuda.manual_seed_all(1)\n",
    "print (device)"
   ]
  },
  {
   "cell_type": "code",
   "execution_count": 14,
   "metadata": {},
   "outputs": [
    {
     "data": {
      "text/html": [
       "<div>\n",
       "<style scoped>\n",
       "    .dataframe tbody tr th:only-of-type {\n",
       "        vertical-align: middle;\n",
       "    }\n",
       "\n",
       "    .dataframe tbody tr th {\n",
       "        vertical-align: top;\n",
       "    }\n",
       "\n",
       "    .dataframe thead th {\n",
       "        text-align: right;\n",
       "    }\n",
       "</style>\n",
       "<table border=\"1\" class=\"dataframe\">\n",
       "  <thead>\n",
       "    <tr style=\"text-align: right;\">\n",
       "      <th></th>\n",
       "      <th>text</th>\n",
       "      <th>author</th>\n",
       "    </tr>\n",
       "    <tr>\n",
       "      <th>index</th>\n",
       "      <th></th>\n",
       "      <th></th>\n",
       "    </tr>\n",
       "  </thead>\n",
       "  <tbody>\n",
       "    <tr>\n",
       "      <th>0</th>\n",
       "      <td>[7, 11, 234, 34, 11, 31, 91, 31, 91, 7, 414, 3...</td>\n",
       "      <td>3</td>\n",
       "    </tr>\n",
       "    <tr>\n",
       "      <th>1</th>\n",
       "      <td>[48, 288, 139, 16, 9, 323]</td>\n",
       "      <td>2</td>\n",
       "    </tr>\n",
       "    <tr>\n",
       "      <th>2</th>\n",
       "      <td>[25, 11, 783, 41, 136, 17, 25, 353, 6, 546, 11...</td>\n",
       "      <td>1</td>\n",
       "    </tr>\n",
       "    <tr>\n",
       "      <th>3</th>\n",
       "      <td>[1, 341, 11, 6, 1, 981, 110, 1338, 55, 4, 1, 1...</td>\n",
       "      <td>4</td>\n",
       "    </tr>\n",
       "    <tr>\n",
       "      <th>4</th>\n",
       "      <td>[23, 1435, 440, 5, 1658, 57, 12, 196, 151, 594...</td>\n",
       "      <td>3</td>\n",
       "    </tr>\n",
       "    <tr>\n",
       "      <th>...</th>\n",
       "      <td>...</td>\n",
       "      <td>...</td>\n",
       "    </tr>\n",
       "    <tr>\n",
       "      <th>54874</th>\n",
       "      <td>[22, 10, 8, 51, 1303, 5, 713, 370, 1575, 266, ...</td>\n",
       "      <td>2</td>\n",
       "    </tr>\n",
       "    <tr>\n",
       "      <th>54875</th>\n",
       "      <td>[206, 21, 1210, 3, 1, 341, 2, 257, 94, 40, 738...</td>\n",
       "      <td>4</td>\n",
       "    </tr>\n",
       "    <tr>\n",
       "      <th>54876</th>\n",
       "      <td>[48, 2512, 209, 2, 288, 1520, 5]</td>\n",
       "      <td>1</td>\n",
       "    </tr>\n",
       "    <tr>\n",
       "      <th>54877</th>\n",
       "      <td>[64, 8, 414, 26, 3, 3637, 8, 263]</td>\n",
       "      <td>3</td>\n",
       "    </tr>\n",
       "    <tr>\n",
       "      <th>54878</th>\n",
       "      <td>[9, 304, 14, 15, 912, 3, 26, 81, 20, 28, 158, ...</td>\n",
       "      <td>0</td>\n",
       "    </tr>\n",
       "  </tbody>\n",
       "</table>\n",
       "<p>54879 rows × 2 columns</p>\n",
       "</div>"
      ],
      "text/plain": [
       "                                                    text  author\n",
       "index                                                           \n",
       "0      [7, 11, 234, 34, 11, 31, 91, 31, 91, 7, 414, 3...       3\n",
       "1                             [48, 288, 139, 16, 9, 323]       2\n",
       "2      [25, 11, 783, 41, 136, 17, 25, 353, 6, 546, 11...       1\n",
       "3      [1, 341, 11, 6, 1, 981, 110, 1338, 55, 4, 1, 1...       4\n",
       "4      [23, 1435, 440, 5, 1658, 57, 12, 196, 151, 594...       3\n",
       "...                                                  ...     ...\n",
       "54874  [22, 10, 8, 51, 1303, 5, 713, 370, 1575, 266, ...       2\n",
       "54875  [206, 21, 1210, 3, 1, 341, 2, 257, 94, 40, 738...       4\n",
       "54876                   [48, 2512, 209, 2, 288, 1520, 5]       1\n",
       "54877                  [64, 8, 414, 26, 3, 3637, 8, 263]       3\n",
       "54878  [9, 304, 14, 15, 912, 3, 26, 81, 20, 28, 158, ...       0\n",
       "\n",
       "[54879 rows x 2 columns]"
      ]
     },
     "execution_count": 14,
     "metadata": {},
     "output_type": "execute_result"
    }
   ],
   "source": [
    "train_dataset"
   ]
  },
  {
   "cell_type": "markdown",
   "metadata": {},
   "source": [
    "## Custom Dataset\n",
    "\n",
    "- 예제의 데이터 셋과 여기의 데이터 셋은 다르므로, CustomDataset 객체를 활용하여 DataLoader을 만들어야 한다."
   ]
  },
  {
   "cell_type": "code",
   "execution_count": 15,
   "metadata": {},
   "outputs": [],
   "source": [
    "from torch.utils.data import DataLoader, Subset, Dataset"
   ]
  },
  {
   "cell_type": "code",
   "execution_count": 16,
   "metadata": {},
   "outputs": [
    {
     "data": {
      "text/plain": [
       "'cuda'"
      ]
     },
     "execution_count": 16,
     "metadata": {},
     "output_type": "execute_result"
    }
   ],
   "source": [
    "device"
   ]
  },
  {
   "cell_type": "code",
   "execution_count": 17,
   "metadata": {},
   "outputs": [],
   "source": [
    "class CustomDataset(Dataset):\n",
    "    def __init__(self,data):\n",
    "        self.data = data\n",
    "        \n",
    "    def __len__(self):\n",
    "        return len(self.data)\n",
    "    \n",
    "    def __getitem__(self,idx): # Dataloader로 호출시 하나씩 가져옴 (__getitem__은 index slicing을 가능하게 함)\n",
    "        text_data = self.data['text'][idx]\n",
    "        label_data = self.data['author'][idx]\n",
    "        label = torch.tensor(label_data, dtype=torch.int64)\n",
    "        return  text_data, label.to(torch.long)\n",
    "        \n",
    "    \n",
    "    "
   ]
  },
  {
   "cell_type": "code",
   "execution_count": 18,
   "metadata": {},
   "outputs": [],
   "source": [
    "x_all,x_test, _, _ = train_test_split(train_dataset.index,train_dataset,\n",
    "                                                   test_size= 0.2, shuffle = True,stratify= train_dataset.author)"
   ]
  },
  {
   "cell_type": "code",
   "execution_count": 19,
   "metadata": {},
   "outputs": [],
   "source": [
    "x_train,x_valid, _, _ = train_test_split(train_dataset.iloc[x_all].index, train_dataset.iloc[x_all],\n",
    "                                         test_size= 0.2, shuffle = True,\n",
    "                                        stratify= train_dataset.iloc[x_all].author)"
   ]
  },
  {
   "cell_type": "code",
   "execution_count": 20,
   "metadata": {},
   "outputs": [],
   "source": [
    "total_custom = CustomDataset(train_dataset)"
   ]
  },
  {
   "cell_type": "code",
   "execution_count": 21,
   "metadata": {},
   "outputs": [],
   "source": [
    "train_subset = train_dataset.iloc[x_train].reset_index(drop = True)\n",
    "valid_subset = train_dataset.iloc[x_valid].reset_index(drop = True)\n",
    "test_subset = train_dataset.iloc[x_test].reset_index(drop = True)"
   ]
  },
  {
   "cell_type": "code",
   "execution_count": 22,
   "metadata": {},
   "outputs": [],
   "source": [
    "train_custom = CustomDataset(train_subset)\n",
    "valid_custom = CustomDataset(valid_subset)\n",
    "test_custom = CustomDataset(test_subset)"
   ]
  },
  {
   "cell_type": "code",
   "execution_count": 23,
   "metadata": {},
   "outputs": [],
   "source": [
    "def collate_fn(batchDummy): \n",
    "    x = [torch.LongTensor(batch[0])for batch in batchDummy] \n",
    "    y = [torch.LongTensor(batch[1])for batch in batchDummy] \n",
    "\n",
    "    # batch단위로 데이터가 넘어올 때 아래 pad_sequence를 통해 알아서 padding을 해준다\n",
    "    x = torch.nn.utils.rnn.pad_sequence(x, batch_first = True) \n",
    "    return x, torch.tensor(y, dtype=torch.int64)"
   ]
  },
  {
   "cell_type": "code",
   "execution_count": 24,
   "metadata": {},
   "outputs": [],
   "source": [
    "batch_size = 64\n",
    "train_loader = DataLoader(train_custom, batch_size = batch_size, shuffle = True,collate_fn = collate_fn)\n",
    "valid_loader = DataLoader(valid_custom, batch_size = batch_size, shuffle = True,collate_fn = collate_fn)\n",
    "test_loader = DataLoader(test_custom, batch_size = batch_size, shuffle = True,collate_fn = collate_fn)"
   ]
  },
  {
   "cell_type": "markdown",
   "metadata": {},
   "source": [
    "## Training 단계"
   ]
  },
  {
   "cell_type": "code",
   "execution_count": 25,
   "metadata": {},
   "outputs": [],
   "source": [
    "def train_model(model, early_stop, n_epochs, progress_interval):\n",
    "    \n",
    "    train_losses, valid_losses, lowest_loss = list(), list(), np.inf\n",
    "     \n",
    "    for epoch in range(n_epochs):\n",
    "        # train the model\n",
    "        train_correct, train_loss = 0, 0\n",
    "        model.train() # prep model for training\n",
    "        for x_minibatch, y_minibatch in train_loader:\n",
    "            x_minibatch = x_minibatch.type(torch.long)\n",
    "            x_minibatch = x_minibatch.to(device)\n",
    "            \n",
    "            y_minibatch = y_minibatch.type(torch.long)\n",
    "            y_minibatch = y_minibatch.to(device)\n",
    "            \n",
    "            y_minibatch_pred = model(x_minibatch)\n",
    "            loss = loss_func(y_minibatch_pred,y_minibatch)\n",
    "            \n",
    "            train_pred = torch.argmax(y_minibatch_pred, dim = 1)\n",
    "            train_correct += train_pred.eq(y_minibatch).sum().item()\n",
    "            \n",
    "            optimizer.zero_grad()\n",
    "            loss.backward()\n",
    "            optimizer.step()\n",
    "            train_loss += loss.item() \n",
    "            \n",
    "        train_loss = train_loss / len(train_loader)\n",
    "        train_losses.append(train_loss) # 각 batch의 평균 loss를 계산하여 전체적으로 보겠다\n",
    "        # validate the model\n",
    "        \n",
    "        valid_correct,valid_loss = 0,0\n",
    "        \n",
    "        model.eval()\n",
    "        with torch.no_grad():\n",
    "            for x_minibatch, y_minibatch in valid_loader:\n",
    "                x_minibatch = x_minibatch.type(torch.long)\n",
    "                x_minibatch = x_minibatch.to(device)\n",
    "                y_minibatch = y_minibatch.type(torch.long)\n",
    "                y_minibatch = y_minibatch.to(device)\n",
    "                y_minibatch_pred = model(x_minibatch)\n",
    "                loss = loss_func(y_minibatch_pred ,y_minibatch)\n",
    "                valid_loss += loss.item() # loss 값 자체를 합함(나중에 평균)\n",
    "\n",
    "                valid_pred = torch.argmax(y_minibatch_pred, dim = 1)\n",
    "                valid_correct += valid_pred.eq(y_minibatch).sum().item()\n",
    "                \n",
    "        valid_loss = valid_loss / len(valid_loader)\n",
    "        valid_losses.append(valid_loss)\n",
    "        \n",
    "        if valid_losses[-1] < lowest_loss:\n",
    "            lowest_loss = valid_losses[-1]\n",
    "            lowest_epoch = epoch\n",
    "            best_model = deepcopy(model.state_dict())\n",
    "            \n",
    "            torch.save(best_model, 'best_dl_Final_LSTM.pt')\n",
    "        else:\n",
    "            if early_stop > 0 and lowest_epoch + early_stop < epoch:\n",
    "                print (\"Early Stopped\", epoch, \"epochs\")\n",
    "                model.load_state_dict(best_model)\n",
    "                break\n",
    "                \n",
    "        if (epoch % progress_interval) == 0: # 원하는 배수 마다 값이 반환되도록 설정 가능\n",
    "            \n",
    "            \n",
    "            \n",
    "            print('train_losses : {}, valid_loss : {}, lowest_loss : {}, lowest_epoch : {}, epoch :{}'\n",
    "                  .format(train_losses[-1], valid_losses[-1], lowest_loss, lowest_epoch, epoch))\n",
    "            print('Train_accuracy: {} / {} ({:.2f} %)'\n",
    "                  .format(train_correct, len(train_loader.dataset),100 * train_correct / len(train_loader.dataset)))\n",
    "            print('Valid_accuracy: {} / {} ({:.2f} %)'\n",
    "                  .format(valid_correct, len(valid_loader.dataset),100 * valid_correct / len(valid_loader.dataset)),end = '\\n\\n') \n",
    "            \n",
    "            \n",
    "    \n",
    "    model.load_state_dict(best_model) # 저장되어진 가장 나은 가중치 값을 load\n",
    "    return model, lowest_loss, train_losses, valid_losses"
   ]
  },
  {
   "cell_type": "markdown",
   "metadata": {},
   "source": [
    "## 모델링 단계"
   ]
  },
  {
   "cell_type": "code",
   "execution_count": 26,
   "metadata": {},
   "outputs": [],
   "source": [
    "class TextClassificationModel(nn.Module):\n",
    "    \n",
    "    def __init__(self, vocab_size, embed_dim, hidden_size,num_layers,dropout_p, num_class):\n",
    "        super(TextClassificationModel, self).__init__()\n",
    "        self.embedding = nn.Embedding(vocab_size, embed_dim) \n",
    "        # 정수 인코딩 되어진 단어를 벡터화, Gradient를 sparse -> 더빠름\n",
    "        self.init_weights()\n",
    "        self.fc = nn.Sequential(\n",
    "            nn.LeakyReLU(0.1),\n",
    "            nn.BatchNorm1d(hidden_size),\n",
    "            nn.Linear(hidden_size, num_class),\n",
    "            nn.LogSoftmax(dim = -1)\n",
    "        )\n",
    "\n",
    "        \n",
    "        self.sequenceclassifier = nn.LSTM(\n",
    "            input_size = embed_dim,\n",
    "            hidden_size = hidden_size,\n",
    "            num_layers = num_layers,\n",
    "            batch_first = True,\n",
    "            dropout = dropout_p\n",
    "        )\n",
    "        \n",
    "    def init_weights(self):\n",
    "        nn.init.xavier_uniform_(self.embedding.weight.data)\n",
    "        \n",
    "    def forward(self,text):\n",
    "        embedded = self.embedding(text)\n",
    "        output, _ = self.sequenceclassifier(embedded)\n",
    "\n",
    "        output = output[:,-1]# many to one.\n",
    "\n",
    "        return self.fc(output)\n",
    "        "
   ]
  },
  {
   "cell_type": "code",
   "execution_count": 27,
   "metadata": {},
   "outputs": [],
   "source": [
    "vocab_size = tokenizer_1.num_words\n",
    "embed_dim = 32\n",
    "num_class = len(np.unique(train_dataset['author']))\n",
    "hidden_size = 128\n",
    "num_layers = 4\n",
    "dropout_p = 0.3\n",
    "model = TextClassificationModel(vocab_size, embed_dim,hidden_size,num_layers, dropout_p,num_class).to(device)"
   ]
  },
  {
   "cell_type": "code",
   "execution_count": 28,
   "metadata": {},
   "outputs": [],
   "source": [
    "loss_func = nn.NLLLoss()\n",
    "optimizer = torch.optim.Adam(model.parameters())"
   ]
  },
  {
   "cell_type": "markdown",
   "metadata": {},
   "source": [
    "## Training 및 Validation"
   ]
  },
  {
   "cell_type": "code",
   "execution_count": 29,
   "metadata": {
    "scrolled": true
   },
   "outputs": [
    {
     "name": "stdout",
     "output_type": "stream",
     "text": [
      "train_losses : 1.584468582071676, valid_loss : 1.5708959387696309, lowest_loss : 1.5708959387696309, lowest_epoch : 0, epoch :0\n",
      "Train_accuracy: 9019 / 35122 (25.68 %)\n",
      "Valid_accuracy: 2410 / 8781 (27.45 %)\n",
      "\n",
      "train_losses : 1.569600185409921, valid_loss : 1.8189306138218313, lowest_loss : 1.5708959387696309, lowest_epoch : 0, epoch :1\n",
      "Train_accuracy: 9514 / 35122 (27.09 %)\n",
      "Valid_accuracy: 2377 / 8781 (27.07 %)\n",
      "\n",
      "train_losses : 1.3359499025431705, valid_loss : 1.7819581662399182, lowest_loss : 1.5708959387696309, lowest_epoch : 0, epoch :2\n",
      "Train_accuracy: 14363 / 35122 (40.89 %)\n",
      "Valid_accuracy: 2965 / 8781 (33.77 %)\n",
      "\n",
      "train_losses : 1.0352720388080687, valid_loss : 1.1018030431823453, lowest_loss : 1.1018030431823453, lowest_epoch : 3, epoch :3\n",
      "Train_accuracy: 20354 / 35122 (57.95 %)\n",
      "Valid_accuracy: 5046 / 8781 (57.46 %)\n",
      "\n",
      "train_losses : 0.8678435337999479, valid_loss : 1.4414758215779844, lowest_loss : 1.1018030431823453, lowest_epoch : 3, epoch :4\n",
      "Train_accuracy: 23264 / 35122 (66.24 %)\n",
      "Valid_accuracy: 4387 / 8781 (49.96 %)\n",
      "\n",
      "train_losses : 0.8094904964521717, valid_loss : 1.2732498248418171, lowest_loss : 1.1018030431823453, lowest_epoch : 3, epoch :5\n",
      "Train_accuracy: 24094 / 35122 (68.60 %)\n",
      "Valid_accuracy: 4662 / 8781 (53.09 %)\n",
      "\n",
      "train_losses : 0.7661145613384595, valid_loss : 1.2279169589713, lowest_loss : 1.1018030431823453, lowest_epoch : 3, epoch :6\n",
      "Train_accuracy: 24835 / 35122 (70.71 %)\n",
      "Valid_accuracy: 4768 / 8781 (54.30 %)\n",
      "\n",
      "train_losses : 0.6856612731415934, valid_loss : 0.8685424716576285, lowest_loss : 0.8685424716576285, lowest_epoch : 7, epoch :7\n",
      "Train_accuracy: 25910 / 35122 (73.77 %)\n",
      "Valid_accuracy: 5987 / 8781 (68.18 %)\n",
      "\n",
      "train_losses : 0.6265322190382008, valid_loss : 0.8666277774002241, lowest_loss : 0.8666277774002241, lowest_epoch : 8, epoch :8\n",
      "Train_accuracy: 26933 / 35122 (76.68 %)\n",
      "Valid_accuracy: 6060 / 8781 (69.01 %)\n",
      "\n",
      "train_losses : 0.5743058112149682, valid_loss : 0.8866084986838741, lowest_loss : 0.8666277774002241, lowest_epoch : 8, epoch :9\n",
      "Train_accuracy: 27652 / 35122 (78.73 %)\n",
      "Valid_accuracy: 6034 / 8781 (68.72 %)\n",
      "\n",
      "train_losses : 0.5311039876471018, valid_loss : 0.8994538930879123, lowest_loss : 0.8666277774002241, lowest_epoch : 8, epoch :10\n",
      "Train_accuracy: 28201 / 35122 (80.29 %)\n",
      "Valid_accuracy: 5943 / 8781 (67.68 %)\n",
      "\n",
      "train_losses : 0.4995901464927392, valid_loss : 0.913141189817933, lowest_loss : 0.8666277774002241, lowest_epoch : 8, epoch :11\n",
      "Train_accuracy: 28696 / 35122 (81.70 %)\n",
      "Valid_accuracy: 6041 / 8781 (68.80 %)\n",
      "\n",
      "train_losses : 0.4662557855547017, valid_loss : 0.9110850229643394, lowest_loss : 0.8666277774002241, lowest_epoch : 8, epoch :12\n",
      "Train_accuracy: 29228 / 35122 (83.22 %)\n",
      "Valid_accuracy: 6146 / 8781 (69.99 %)\n",
      "\n",
      "train_losses : 0.4409289736782484, valid_loss : 0.9339999953905741, lowest_loss : 0.8666277774002241, lowest_epoch : 8, epoch :13\n",
      "Train_accuracy: 29557 / 35122 (84.16 %)\n",
      "Valid_accuracy: 6112 / 8781 (69.60 %)\n",
      "\n",
      "train_losses : 0.4145192167906596, valid_loss : 0.9624677633029827, lowest_loss : 0.8666277774002241, lowest_epoch : 8, epoch :14\n",
      "Train_accuracy: 29901 / 35122 (85.13 %)\n",
      "Valid_accuracy: 6015 / 8781 (68.50 %)\n",
      "\n",
      "train_losses : 0.3940132909568064, valid_loss : 0.9692096416501031, lowest_loss : 0.8666277774002241, lowest_epoch : 8, epoch :15\n",
      "Train_accuracy: 30185 / 35122 (85.94 %)\n",
      "Valid_accuracy: 6120 / 8781 (69.70 %)\n",
      "\n",
      "train_losses : 0.3776046072416184, valid_loss : 1.1656534883423129, lowest_loss : 0.8666277774002241, lowest_epoch : 8, epoch :16\n",
      "Train_accuracy: 30319 / 35122 (86.32 %)\n",
      "Valid_accuracy: 5817 / 8781 (66.25 %)\n",
      "\n",
      "train_losses : 0.36314820450728924, valid_loss : 1.0699347968118778, lowest_loss : 0.8666277774002241, lowest_epoch : 8, epoch :17\n",
      "Train_accuracy: 30566 / 35122 (87.03 %)\n",
      "Valid_accuracy: 6003 / 8781 (68.36 %)\n",
      "\n",
      "train_losses : 0.34026208019158877, valid_loss : 1.0933512095092, lowest_loss : 0.8666277774002241, lowest_epoch : 8, epoch :18\n",
      "Train_accuracy: 30828 / 35122 (87.77 %)\n",
      "Valid_accuracy: 6014 / 8781 (68.49 %)\n",
      "\n",
      "train_losses : 0.3245577409809187, valid_loss : 1.117446590160978, lowest_loss : 0.8666277774002241, lowest_epoch : 8, epoch :19\n",
      "Train_accuracy: 31066 / 35122 (88.45 %)\n",
      "Valid_accuracy: 6004 / 8781 (68.37 %)\n",
      "\n",
      "train_losses : 0.31416627870557085, valid_loss : 1.1878909015137216, lowest_loss : 0.8666277774002241, lowest_epoch : 8, epoch :20\n",
      "Train_accuracy: 31202 / 35122 (88.84 %)\n",
      "Valid_accuracy: 5986 / 8781 (68.17 %)\n",
      "\n",
      "train_losses : 0.30285875488391556, valid_loss : 1.191624561081762, lowest_loss : 0.8666277774002241, lowest_epoch : 8, epoch :21\n",
      "Train_accuracy: 31345 / 35122 (89.25 %)\n",
      "Valid_accuracy: 6027 / 8781 (68.64 %)\n",
      "\n",
      "train_losses : 0.2884508686611778, valid_loss : 1.2323860038017882, lowest_loss : 0.8666277774002241, lowest_epoch : 8, epoch :22\n",
      "Train_accuracy: 31551 / 35122 (89.83 %)\n",
      "Valid_accuracy: 5961 / 8781 (67.89 %)\n",
      "\n",
      "train_losses : 0.2761551267815201, valid_loss : 1.2942590812842052, lowest_loss : 0.8666277774002241, lowest_epoch : 8, epoch :23\n",
      "Train_accuracy: 31696 / 35122 (90.25 %)\n",
      "Valid_accuracy: 5935 / 8781 (67.59 %)\n",
      "\n",
      "train_losses : 0.26247024183282003, valid_loss : 1.2226517787878064, lowest_loss : 0.8666277774002241, lowest_epoch : 8, epoch :24\n",
      "Train_accuracy: 31863 / 35122 (90.72 %)\n",
      "Valid_accuracy: 5968 / 8781 (67.96 %)\n",
      "\n",
      "train_losses : 0.25217179062425116, valid_loss : 1.3227149209250575, lowest_loss : 0.8666277774002241, lowest_epoch : 8, epoch :25\n",
      "Train_accuracy: 32009 / 35122 (91.14 %)\n",
      "Valid_accuracy: 5915 / 8781 (67.36 %)\n",
      "\n",
      "train_losses : 0.2451347611193123, valid_loss : 1.467096501502438, lowest_loss : 0.8666277774002241, lowest_epoch : 8, epoch :26\n",
      "Train_accuracy: 32101 / 35122 (91.40 %)\n",
      "Valid_accuracy: 5879 / 8781 (66.95 %)\n",
      "\n",
      "train_losses : 0.23432625684283254, valid_loss : 1.386993812478107, lowest_loss : 0.8666277774002241, lowest_epoch : 8, epoch :27\n",
      "Train_accuracy: 32190 / 35122 (91.65 %)\n",
      "Valid_accuracy: 5942 / 8781 (67.67 %)\n",
      "\n",
      "train_losses : 0.22695938097431795, valid_loss : 1.3277102134365966, lowest_loss : 0.8666277774002241, lowest_epoch : 8, epoch :28\n",
      "Train_accuracy: 32312 / 35122 (92.00 %)\n",
      "Valid_accuracy: 5903 / 8781 (67.22 %)\n",
      "\n",
      "train_losses : 0.21342506750278134, valid_loss : 1.352338848338611, lowest_loss : 0.8666277774002241, lowest_epoch : 8, epoch :29\n",
      "Train_accuracy: 32469 / 35122 (92.45 %)\n",
      "Valid_accuracy: 5866 / 8781 (66.80 %)\n",
      "\n",
      "train_losses : 0.20768299001949297, valid_loss : 1.5012777214464934, lowest_loss : 0.8666277774002241, lowest_epoch : 8, epoch :30\n",
      "Train_accuracy: 32560 / 35122 (92.71 %)\n",
      "Valid_accuracy: 5903 / 8781 (67.22 %)\n",
      "\n",
      "train_losses : 0.2023033947804315, valid_loss : 1.4270973840485448, lowest_loss : 0.8666277774002241, lowest_epoch : 8, epoch :31\n",
      "Train_accuracy: 32637 / 35122 (92.92 %)\n",
      "Valid_accuracy: 5856 / 8781 (66.69 %)\n",
      "\n",
      "train_losses : 0.19478927587306566, valid_loss : 1.4589228681896045, lowest_loss : 0.8666277774002241, lowest_epoch : 8, epoch :32\n",
      "Train_accuracy: 32751 / 35122 (93.25 %)\n",
      "Valid_accuracy: 5889 / 8781 (67.07 %)\n",
      "\n",
      "train_losses : 0.18689306865434394, valid_loss : 1.5513113296550254, lowest_loss : 0.8666277774002241, lowest_epoch : 8, epoch :33\n",
      "Train_accuracy: 32809 / 35122 (93.41 %)\n",
      "Valid_accuracy: 5888 / 8781 (67.05 %)\n",
      "\n",
      "train_losses : 0.18205534370246262, valid_loss : 1.5484508841797926, lowest_loss : 0.8666277774002241, lowest_epoch : 8, epoch :34\n",
      "Train_accuracy: 32912 / 35122 (93.71 %)\n",
      "Valid_accuracy: 5834 / 8781 (66.44 %)\n",
      "\n",
      "train_losses : 0.1737786735219708, valid_loss : 1.5952089139516803, lowest_loss : 0.8666277774002241, lowest_epoch : 8, epoch :35\n",
      "Train_accuracy: 32961 / 35122 (93.85 %)\n",
      "Valid_accuracy: 5829 / 8781 (66.38 %)\n",
      "\n",
      "train_losses : 0.16343836535874395, valid_loss : 1.643474846214488, lowest_loss : 0.8666277774002241, lowest_epoch : 8, epoch :36\n",
      "Train_accuracy: 33155 / 35122 (94.40 %)\n",
      "Valid_accuracy: 5783 / 8781 (65.86 %)\n",
      "\n",
      "train_losses : 0.16074143135021077, valid_loss : 1.6743705048077349, lowest_loss : 0.8666277774002241, lowest_epoch : 8, epoch :37\n",
      "Train_accuracy: 33169 / 35122 (94.44 %)\n",
      "Valid_accuracy: 5860 / 8781 (66.73 %)\n",
      "\n",
      "train_losses : 0.15435635925818553, valid_loss : 1.6540633401145106, lowest_loss : 0.8666277774002241, lowest_epoch : 8, epoch :38\n",
      "Train_accuracy: 33187 / 35122 (94.49 %)\n",
      "Valid_accuracy: 5850 / 8781 (66.62 %)\n",
      "\n",
      "train_losses : 0.1523799964672935, valid_loss : 1.665968263062878, lowest_loss : 0.8666277774002241, lowest_epoch : 8, epoch :39\n",
      "Train_accuracy: 33280 / 35122 (94.76 %)\n",
      "Valid_accuracy: 5836 / 8781 (66.46 %)\n",
      "\n"
     ]
    },
    {
     "name": "stdout",
     "output_type": "stream",
     "text": [
      "train_losses : 0.14569084760894108, valid_loss : 1.650560616583064, lowest_loss : 0.8666277774002241, lowest_epoch : 8, epoch :40\n",
      "Train_accuracy: 33317 / 35122 (94.86 %)\n",
      "Valid_accuracy: 5854 / 8781 (66.67 %)\n",
      "\n",
      "train_losses : 0.1455909546841282, valid_loss : 1.705187598000402, lowest_loss : 0.8666277774002241, lowest_epoch : 8, epoch :41\n",
      "Train_accuracy: 33284 / 35122 (94.77 %)\n",
      "Valid_accuracy: 5869 / 8781 (66.84 %)\n",
      "\n",
      "train_losses : 0.13281531577661823, valid_loss : 1.6519838722719662, lowest_loss : 0.8666277774002241, lowest_epoch : 8, epoch :42\n",
      "Train_accuracy: 33498 / 35122 (95.38 %)\n",
      "Valid_accuracy: 5859 / 8781 (66.72 %)\n",
      "\n",
      "train_losses : 0.1322173572913871, valid_loss : 1.7721319094948147, lowest_loss : 0.8666277774002241, lowest_epoch : 8, epoch :43\n",
      "Train_accuracy: 33478 / 35122 (95.32 %)\n",
      "Valid_accuracy: 5819 / 8781 (66.27 %)\n",
      "\n",
      "train_losses : 0.1306715109478852, valid_loss : 1.7336155681506447, lowest_loss : 0.8666277774002241, lowest_epoch : 8, epoch :44\n",
      "Train_accuracy: 33548 / 35122 (95.52 %)\n",
      "Valid_accuracy: 5874 / 8781 (66.89 %)\n",
      "\n",
      "train_losses : 0.11900233927832574, valid_loss : 1.7872365363266156, lowest_loss : 0.8666277774002241, lowest_epoch : 8, epoch :45\n",
      "Train_accuracy: 33675 / 35122 (95.88 %)\n",
      "Valid_accuracy: 5842 / 8781 (66.53 %)\n",
      "\n",
      "train_losses : 0.12139500974115995, valid_loss : 1.8004283965497776, lowest_loss : 0.8666277774002241, lowest_epoch : 8, epoch :46\n",
      "Train_accuracy: 33665 / 35122 (95.85 %)\n",
      "Valid_accuracy: 5831 / 8781 (66.40 %)\n",
      "\n",
      "train_losses : 0.23696616956987884, valid_loss : 1.539339853801589, lowest_loss : 0.8666277774002241, lowest_epoch : 8, epoch :47\n",
      "Train_accuracy: 32355 / 35122 (92.12 %)\n",
      "Valid_accuracy: 5862 / 8781 (66.76 %)\n",
      "\n",
      "train_losses : 0.12420834504654851, valid_loss : 1.8031173629173334, lowest_loss : 0.8666277774002241, lowest_epoch : 8, epoch :48\n",
      "Train_accuracy: 33607 / 35122 (95.69 %)\n",
      "Valid_accuracy: 5842 / 8781 (66.53 %)\n",
      "\n",
      "Early Stopped 49 epochs\n"
     ]
    }
   ],
   "source": [
    "nb_epochs = 1000 \n",
    "progress_interval = 1\n",
    "early_stop = 40\n",
    "\n",
    "\n",
    "\n",
    "model, lowest_loss, train_losses, valid_losses = train_model(model, early_stop, nb_epochs, progress_interval)"
   ]
  },
  {
   "cell_type": "markdown",
   "metadata": {},
   "source": [
    "# Testing\n",
    "\n",
    "- 결과 값이 Overfitting이 나옴"
   ]
  },
  {
   "cell_type": "code",
   "execution_count": 30,
   "metadata": {},
   "outputs": [
    {
     "name": "stdout",
     "output_type": "stream",
     "text": [
      "Average Tess Loss 0.0136\n",
      "Accuracy: 7562 / 10976 (68.90 %)\n"
     ]
    }
   ],
   "source": [
    "test_loss = 0 \n",
    "correct = 0\n",
    "wrong_samples, wrong_preds, actual_preds = list(), list(), list()\n",
    "\n",
    "model.to('cpu')\n",
    "\n",
    "model.eval()\n",
    "with torch.no_grad(): # gradient 추적 끝\n",
    "    for x_minibatch, y_minibatch in test_loader:\n",
    "        y_test_pred = model(x_minibatch.view(x_minibatch.size(0), -1))\n",
    "        test_loss += loss_func(y_test_pred, y_minibatch)\n",
    "        pred = torch.argmax(y_test_pred, dim = 1)\n",
    "        correct += pred.eq(y_minibatch).sum().item()\n",
    "        # 똑같은 것의 idx (pred 와 y값이)\n",
    "        \n",
    "        wrong_idx = pred.ne(y_minibatch).nonzero()[:, 0].numpy().tolist()\n",
    "        # 다른 것의 idx \n",
    "    \n",
    "        for index in wrong_idx:\n",
    "            wrong_samples.append(x_minibatch[index])\n",
    "            wrong_preds.append(pred[index])\n",
    "            actual_preds.append(y_minibatch[index])\n",
    "            \n",
    "test_loss /= len(test_loader.dataset)\n",
    "print('Average Tess Loss {:.4f}'.format(test_loss))\n",
    "print('Accuracy: {} / {} ({:.2f} %)'.format(correct, len(test_loader.dataset),100 * correct / len(test_loader.dataset))) \n",
    "      # 맞는 것과 전체 비율 계산\n",
    "        "
   ]
  },
  {
   "cell_type": "code",
   "execution_count": null,
   "metadata": {},
   "outputs": [],
   "source": []
  },
  {
   "cell_type": "code",
   "execution_count": null,
   "metadata": {},
   "outputs": [],
   "source": []
  },
  {
   "cell_type": "code",
   "execution_count": null,
   "metadata": {},
   "outputs": [],
   "source": []
  },
  {
   "cell_type": "code",
   "execution_count": null,
   "metadata": {},
   "outputs": [],
   "source": []
  },
  {
   "cell_type": "code",
   "execution_count": null,
   "metadata": {},
   "outputs": [],
   "source": []
  },
  {
   "cell_type": "code",
   "execution_count": null,
   "metadata": {},
   "outputs": [],
   "source": []
  },
  {
   "cell_type": "code",
   "execution_count": null,
   "metadata": {},
   "outputs": [],
   "source": []
  },
  {
   "cell_type": "code",
   "execution_count": null,
   "metadata": {},
   "outputs": [],
   "source": []
  },
  {
   "cell_type": "code",
   "execution_count": null,
   "metadata": {},
   "outputs": [],
   "source": []
  },
  {
   "cell_type": "code",
   "execution_count": null,
   "metadata": {},
   "outputs": [],
   "source": []
  },
  {
   "cell_type": "code",
   "execution_count": null,
   "metadata": {},
   "outputs": [],
   "source": []
  }
 ],
 "metadata": {
  "hide_input": false,
  "kernelspec": {
   "display_name": "Python 3 (ipykernel)",
   "language": "python",
   "name": "python3"
  },
  "language_info": {
   "codemirror_mode": {
    "name": "ipython",
    "version": 3
   },
   "file_extension": ".py",
   "mimetype": "text/x-python",
   "name": "python",
   "nbconvert_exporter": "python",
   "pygments_lexer": "ipython3",
   "version": "3.9.13"
  },
  "toc": {
   "base_numbering": 1,
   "nav_menu": {},
   "number_sections": true,
   "sideBar": true,
   "skip_h1_title": false,
   "title_cell": "Table of Contents",
   "title_sidebar": "Contents",
   "toc_cell": false,
   "toc_position": {
    "height": "calc(100% - 180px)",
    "left": "10px",
    "top": "150px",
    "width": "205.4px"
   },
   "toc_section_display": true,
   "toc_window_display": true
  },
  "varInspector": {
   "cols": {
    "lenName": 16,
    "lenType": 16,
    "lenVar": 40
   },
   "kernels_config": {
    "python": {
     "delete_cmd_postfix": "",
     "delete_cmd_prefix": "del ",
     "library": "var_list.py",
     "varRefreshCmd": "print(var_dic_list())"
    },
    "r": {
     "delete_cmd_postfix": ") ",
     "delete_cmd_prefix": "rm(",
     "library": "var_list.r",
     "varRefreshCmd": "cat(var_dic_list()) "
    }
   },
   "types_to_exclude": [
    "module",
    "function",
    "builtin_function_or_method",
    "instance",
    "_Feature"
   ],
   "window_display": false
  }
 },
 "nbformat": 4,
 "nbformat_minor": 2
}
